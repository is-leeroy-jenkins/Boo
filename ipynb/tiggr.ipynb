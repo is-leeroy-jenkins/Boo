{
 "cells": [
  {
   "metadata": {},
   "cell_type": "markdown",
   "source": [
    "# NLTK\n",
    "___\n"
   ],
   "id": "700c6019c3802579"
  },
  {
   "metadata": {},
   "cell_type": "markdown",
   "source": "#### 📦 One-Time Setup (NLTK Resources)",
   "id": "17b64a5a35525229"
  },
  {
   "metadata": {
    "ExecuteTime": {
     "end_time": "2025-06-12T11:48:20.383651Z",
     "start_time": "2025-06-12T11:48:02.708730Z"
    }
   },
   "cell_type": "code",
   "source": [
    "import io\n",
    "import nltk\n",
    "from nltk.corpus import words\n",
    "from isort.format import remove_whitespace\n",
    "\n",
    "nltk.download( 'punkt' )\n",
    "nltk.download( 'punkt_tab' )\n",
    "nltk.download( 'stopwords' )\n",
    "nltk.download( 'wordnet' )\n",
    "nltk.download( 'omw-1.4' )\n",
    "nltk.download( 'words' )"
   ],
   "id": "ea993d341972b4d9",
   "outputs": [
    {
     "name": "stderr",
     "output_type": "stream",
     "text": [
      "[nltk_data] Downloading package punkt to\n",
      "[nltk_data]     C:\\Users\\terry\\AppData\\Roaming\\nltk_data...\n",
      "[nltk_data]   Package punkt is already up-to-date!\n",
      "[nltk_data] Downloading package punkt_tab to\n",
      "[nltk_data]     C:\\Users\\terry\\AppData\\Roaming\\nltk_data...\n",
      "[nltk_data]   Package punkt_tab is already up-to-date!\n",
      "[nltk_data] Downloading package stopwords to\n",
      "[nltk_data]     C:\\Users\\terry\\AppData\\Roaming\\nltk_data...\n",
      "[nltk_data]   Package stopwords is already up-to-date!\n",
      "[nltk_data] Downloading package wordnet to\n",
      "[nltk_data]     C:\\Users\\terry\\AppData\\Roaming\\nltk_data...\n",
      "[nltk_data]   Package wordnet is already up-to-date!\n",
      "[nltk_data] Downloading package omw-1.4 to\n",
      "[nltk_data]     C:\\Users\\terry\\AppData\\Roaming\\nltk_data...\n",
      "[nltk_data]   Package omw-1.4 is already up-to-date!\n",
      "[nltk_data] Downloading package words to\n",
      "[nltk_data]     C:\\Users\\terry\\AppData\\Roaming\\nltk_data...\n",
      "[nltk_data]   Package words is already up-to-date!\n"
     ]
    },
    {
     "data": {
      "text/plain": [
       "True"
      ]
     },
     "execution_count": 1,
     "metadata": {},
     "output_type": "execute_result"
    }
   ],
   "execution_count": 1
  },
  {
   "metadata": {},
   "cell_type": "markdown",
   "source": "##### Load Dependencies",
   "id": "3957678e92123d8f"
  },
  {
   "metadata": {
    "ExecuteTime": {
     "end_time": "2025-06-12T12:01:25.514267Z",
     "start_time": "2025-06-12T12:01:20.458720Z"
    }
   },
   "cell_type": "code",
   "source": [
    "from bs4 import BeautifulSoup\n",
    "from collections import Counter\n",
    "from gensim.models import Word2Vec, KeyedVectors\n",
    "import ipywidgets as widgets, IPython, platform, ipywidgets, jupyterlab\n",
    "from importlib import reload\n",
    "from langchain.text_splitter import RecursiveCharacterTextSplitter\n",
    "import numpy as np\n",
    "import nltk\n",
    "from nltk import sent_tokenize, word_tokenize\n",
    "from nltk.corpus import stopwords\n",
    "from nltk.stem import WordNetLemmatizer, SnowballStemmer\n",
    "import os\n",
    "import openai as OpenAI\n",
    "import pickle\n",
    "import pandas as pd\n",
    "from pathlib import Path\n",
    "import re\n",
    "import sqlite3\n",
    "from sklearn.feature_extraction.text import CountVectorizer, TfidfVectorizer\n",
    "import string\n",
    "import time\n",
    "from textblob import Word\n",
    "from typing import Any, List, Tuple, Optional, Union, Dict\n",
    "import unicodedata\n"
   ],
   "id": "9a5c2c52dd74d494",
   "outputs": [],
   "execution_count": 3
  },
  {
   "metadata": {
    "ExecuteTime": {
     "end_time": "2025-06-11T13:43:22.397928Z",
     "start_time": "2025-06-11T13:43:22.391332Z"
    }
   },
   "cell_type": "code",
   "source": "",
   "id": "4c4a3094edae0ea",
   "outputs": [],
   "execution_count": 189
  },
  {
   "metadata": {},
   "cell_type": "markdown",
   "source": "# Text Processing Methods\n",
   "id": "ee23478183ced671"
  },
  {
   "metadata": {},
   "cell_type": "markdown",
   "source": [
    "#### ✅ Checklist\n",
    "\n",
    "| Step | Task                     | Function/Library               |\n",
    "|------|--------------------------|--------------------------------|\n",
    "| 1    | Load Text                | `open()`, `pandas.read_csv()` |\n",
    "| 2    | Convert to Lowercase     | `.lower()`                     |\n",
    "| 3    | Remove Punctuation       | `string.punctuation`           |\n",
    "| 4    | Remove Numbers           | `re.sub()`                     |\n",
    "| 5    | Trim Whitespaces         | `' '.join()`                   |\n",
    "| 6    | Tokenization             | `nltk.word_tokenize()`         |\n",
    "| 7    | Remove Stopwords         | `nltk.corpus.stopwords`        |\n",
    "| 8    | Lemmatization/Stemming   | `WordNetLemmatizer`, `PorterStemmer` |\n",
    "| 9    | Reconstruct Clean Text   | `' '.join()`                   |\n",
    "| 10   | (Optional) Spellcheck    | `TextBlob.correct()`           |\n",
    "| 11   | Vectorization for ML     | `TfidfVectorizer`, `CountVectorizer`, Word Embeddings |\n",
    "\n",
    "\n",
    "___"
   ],
   "id": "947b8eb1368fe0c4"
  },
  {
   "metadata": {},
   "cell_type": "markdown",
   "source": "### 1.  Load File",
   "id": "36fbc578426999c8"
  },
  {
   "metadata": {
    "ExecuteTime": {
     "end_time": "2025-06-12T12:01:34.112674Z",
     "start_time": "2025-06-12T12:01:34.093936Z"
    }
   },
   "cell_type": "code",
   "source": [
    "# === Load Raw Text ===\n",
    "file_path = '<url to file>'\n",
    "_rawtext = ''\n",
    "\n",
    "\n",
    "def load_text( file_path ):\n",
    "\twith open( file_path, 'r', encoding='utf-8' ) as f:\n",
    "\t\t_rawtext = f.read( )\n",
    "\t\treturn _rawtext\n"
   ],
   "id": "e3d5cc42b6dd4e3b",
   "outputs": [],
   "execution_count": 4
  },
  {
   "metadata": {},
   "cell_type": "markdown",
   "source": [
    "### 2.  Clean Space\n",
    "- Consecutive whitespace reduced to a single space\n",
    "- Leading/trailing spaces removed\n",
    "- Blank lines removed"
   ],
   "id": "ea7db4bf069f99e1"
  },
  {
   "metadata": {
    "ExecuteTime": {
     "end_time": "2025-06-12T12:01:37.057996Z",
     "start_time": "2025-06-12T12:01:37.008983Z"
    }
   },
   "cell_type": "code",
   "source": [
    "def clean_space( text: str ) -> str:\n",
    "\t\"\"\"\n",
    "\n",
    "\t\tThis function:\n",
    "\t\t_____________\n",
    "        Removes extra spaces and blank words from the path pages.\n",
    "\n",
    "        Parameters:\n",
    "        -----------\n",
    "        pages : str\n",
    "            The raw path pages path to be cleaned_lines.\n",
    "\n",
    "        Returns:\n",
    "        --------\n",
    "        str\n",
    "            A cleaned_lines pages path with:\n",
    "                - Consecutive whitespace reduced to a single space\n",
    "                - Leading/trailing spaces removed\n",
    "                - Blank words removed\n",
    "\n",
    "    \"\"\"\n",
    "\t# Replace multiple spaces or tabs with a single space\n",
    "\ttext = re.sub( r'[\\r\\n\\t]+', ' ', text )  # Newlines, tabs\n",
    "\ttext = re.sub( r'\\s+', ' ', text )  # Collapse multiple spaces\n",
    "\treturn text"
   ],
   "id": "14c5765f6bf2af38",
   "outputs": [],
   "execution_count": 5
  },
  {
   "metadata": {},
   "cell_type": "markdown",
   "source": "### 3. Normalize",
   "id": "63bd713fbba95faa"
  },
  {
   "metadata": {
    "ExecuteTime": {
     "end_time": "2025-06-12T12:01:39.463997Z",
     "start_time": "2025-06-12T12:01:39.456840Z"
    }
   },
   "cell_type": "code",
   "source": [
    "def normalize( text: str ) -> str:\n",
    "\t\"\"\"\n",
    "\n",
    "        This function: Normalizes the path pages path.\n",
    "          - Converts pages to lowercase\n",
    "          - Removes accented characters (e.g., é -> e)\n",
    "          - Removes leading/trailing spaces\n",
    "          - Collapses multiple whitespace characters into a single space\n",
    "\n",
    "        Parameters:\n",
    "        -----------\n",
    "        pages : str\n",
    "            The raw path pages path to be normalized.\n",
    "\n",
    "        Returns:\n",
    "        --------\n",
    "        str\n",
    "            A normalized, cleaned_lines version of the path path.\n",
    "\n",
    "    \"\"\"\n",
    "\treturn unicodedata.normalize( 'NFKD', text ).encode( 'ascii', 'ignore' ).decode( 'utf-8' )"
   ],
   "id": "82515d328d466a74",
   "outputs": [],
   "execution_count": 6
  },
  {
   "metadata": {},
   "cell_type": "markdown",
   "source": "### 4. Remove Punctuation",
   "id": "5e0ee21b82c3c43"
  },
  {
   "metadata": {
    "ExecuteTime": {
     "end_time": "2025-06-12T12:01:48.558924Z",
     "start_time": "2025-06-12T12:01:48.547276Z"
    }
   },
   "cell_type": "code",
   "source": [
    "def remove_punctuation( text: str ) -> str:\n",
    "    \"\"\"\n",
    "\n",
    "\t\tRemove non-alphanumeric characters\n",
    "\t\tand extra whitespace from text.\n",
    "\n",
    "\t\tArgs:\n",
    "\t\t\ttext (str): The text text string.\n",
    "\n",
    "\t\tReturns:\n",
    "\t\t\tstr: Cleaned text string with only alphanumeric characters and spaces.\n",
    "\n",
    "    \"\"\"\n",
    "    text = re.sub( r'[^a-zA-Z0-9\\s]', ' ', text )\n",
    "    text = re.sub( r'\\s+', ' ', text ).strip( )\n",
    "    return text"
   ],
   "id": "3ec4704593ac2991",
   "outputs": [],
   "execution_count": 8
  },
  {
   "metadata": {},
   "cell_type": "markdown",
   "source": [
    "### 5. Trim Whitespace\n",
    "\n",
    "- Removes leading and trailing whitespace\n",
    "- Replaces multiple internal spaces with a single space"
   ],
   "id": "5234418835bd42fa"
  },
  {
   "metadata": {
    "ExecuteTime": {
     "end_time": "2025-06-12T12:02:46.609920Z",
     "start_time": "2025-06-12T12:02:46.597925Z"
    }
   },
   "cell_type": "code",
   "source": [
    "def trim_whitespace( text: str ) -> str:\n",
    "\t\"\"\"\n",
    "\n",
    "\t\tPurpose:\n",
    "\t\t---------\n",
    "        This function:\n",
    "          - Removes leading and trailing whitespace\n",
    "          - Replaces multiple internal spaces with a single space\n",
    "\n",
    "        Parameters:\n",
    "        -----------\n",
    "        pages : str\n",
    "            The raw path path with potential extra whitespace.\n",
    "\n",
    "        Returns:\n",
    "        --------\n",
    "        str\n",
    "            The cleaned_lines path with trimmed and normalized whitespace.\n",
    "\n",
    "    \"\"\"\n",
    "\t# Replace multiple whitespace characters (spaces, tabs, etc.) with a single space\n",
    "\tcleaned_text = re.sub( r'\\s+', ' ', text )\n",
    "\treturn cleaned_text"
   ],
   "id": "37ade6f5b1d34922",
   "outputs": [],
   "execution_count": 19
  },
  {
   "metadata": {},
   "cell_type": "markdown",
   "source": [
    "### 6. Lemmatize\n",
    "- Reduces words to their base or root form.\n",
    "- Converts text to lowercase\n",
    "- Tokenizes the text into words\n",
    "- Lemmatizes each token using WordNetLemmatizer\n",
    "- Reconstructs the lemmatized tokens into a single string"
   ],
   "id": "5f4db8f82f926ae"
  },
  {
   "metadata": {
    "ExecuteTime": {
     "end_time": "2025-06-12T12:02:43.419599Z",
     "start_time": "2025-06-12T12:02:43.407046Z"
    }
   },
   "cell_type": "code",
   "source": [
    "def lemmatize( text: str ) -> str:\n",
    "\t\"\"\"\n",
    "\n",
    "        Performs lemmatization on the path pages path.\n",
    "\n",
    "        This function:\n",
    "          - Converts pages to lowercase\n",
    "          - Tokenizes the pages into words\n",
    "          - Lemmatizes each token using WordNetLemmatizer\n",
    "          - Reconstructs the lemmatized words into a single path\n",
    "\n",
    "        Parameters:\n",
    "        -----------\n",
    "        pages : str\n",
    "            The path pages path to be lemmatized.\n",
    "\n",
    "        Returns:\n",
    "        --------\n",
    "        str\n",
    "            A path with all words lemmatized.\n",
    "\n",
    "    \"\"\"\n",
    "\t# Initialize lemmatizer\n",
    "\tlemmatizer = WordNetLemmatizer( )\n",
    "\n",
    "\tlower_case = text.lower( )\n",
    "\t# Convert to lowercase and tokenize_text\n",
    "\ttokens = word_tokenize( lower_case )\n",
    "\n",
    "\t# Lemmatize each token\n",
    "\tlemmatized_tokens = [ lemmatizer.lemmatize( token ) for token in tokens ]\n",
    "\n",
    "\t# Join words back to a path\n",
    "\tlemmatized_text = ' '.join( lemmatized_tokens )\n",
    "\n",
    "\treturn lemmatized_text"
   ],
   "id": "93dcb509d45e16f5",
   "outputs": [],
   "execution_count": 18
  },
  {
   "metadata": {},
   "cell_type": "code",
   "outputs": [],
   "execution_count": null,
   "source": [
    "\n",
    "def lemmatize_tokens( tokens: list[ str ] ) -> List[ str ]:\n",
    "    \"\"\"\n",
    "\n",
    "\t\tPurpose:\n",
    "\t\t--------\n",
    "\t\tLemmatize each token using WordNetLemmatizer.\n",
    "\n",
    "\t\tParameters:\n",
    "\t\t--------\n",
    "\t\twords (list): List of word words.\n",
    "\n",
    "\t\tReturns:\n",
    "\t\t-------\n",
    "\t\tlist: Lemmatized words.\n",
    "\n",
    "    \"\"\"\n",
    "    return [ lemmatizer.lemmatize( t ) for t in tokens ]"
   ],
   "id": "5b27f35ac9bb6730"
  },
  {
   "metadata": {},
   "cell_type": "markdown",
   "source": [
    "### 7. Tokenize Words\n",
    "\n",
    "- Converts text to lowercase\n",
    "- Uses NLTK's word_tokenize to split the text into words and punctuation tokens"
   ],
   "id": "76b7a3f02f7d210"
  },
  {
   "metadata": {
    "ExecuteTime": {
     "end_time": "2025-06-11T12:39:27.166707Z",
     "start_time": "2025-06-11T12:39:27.159948Z"
    }
   },
   "cell_type": "code",
   "source": [
    "def tokenize_words( words: List[ str ] ) -> List[ str ]:\n",
    "\t\"\"\"\n",
    "\n",
    "\t\tPurpose:\n",
    "\t\t-------\n",
    "        This function:\n",
    "          - Tokenizes the path pages path into individual word words.\n",
    "          - Converts pages to lowercase\n",
    "          - Uses NLTK's word_tokenize to split the pages into words and punctuation words\n",
    "\n",
    "        Parameters:\n",
    "        -----------\n",
    "        words : List[ str ]\n",
    "            A list of strings to be tokenized.\n",
    "\n",
    "        Returns:\n",
    "        --------\n",
    "            A list of token strings (words and punctuation) extracted from the pages.\n",
    "\n",
    "    \"\"\"\n",
    "\t# Convert to lowercase\n",
    "\ttokens = [ ]\n",
    "\tfor w in words:\n",
    "\t\t_token = nltk.word_tokenize( w )\n",
    "\t\ttokens.append( _token )\n",
    "\treturn tokens\n"
   ],
   "id": "3e56143f4b97ab1f",
   "outputs": [],
   "execution_count": 133
  },
  {
   "metadata": {},
   "cell_type": "markdown",
   "source": [
    "### 8. Remove Special\n",
    "- Retains only alphanumeric characters and whitespace\n",
    "- Removes symbols like @, #, $, %, &, etc.\n",
    "- Preserves letters, numbers, and spaces"
   ],
   "id": "1ffdd326d8a48815"
  },
  {
   "metadata": {
    "ExecuteTime": {
     "end_time": "2025-06-12T12:03:04.423377Z",
     "start_time": "2025-06-12T12:03:04.405281Z"
    }
   },
   "cell_type": "code",
   "source": [
    "def remove_special( text: str ) -> str:\n",
    "\t\"\"\"\n",
    "\n",
    "        Remove all special characters\n",
    "        from the text string, keeping only letters, digits, and whitespace.\n",
    "\n",
    "        Args:\n",
    "            text (str): The text string to process.\n",
    "\n",
    "        Returns:\n",
    "            str: The processed string with special characters removed.\n",
    "\n",
    "    \"\"\"\n",
    "\tcleaned = [ ]\n",
    "\tkeepers = [ '$', 'in', '(', ')', '', 'the', '. ', ': ',\n",
    "\t            '; ', 'and', 'but', 'be', 'was', 'what', 'for' ]\n",
    "\tfor char in text:\n",
    "\t\tif char in keepers:\n",
    "\t\t\tcleaned.append( char )\n",
    "\t\telif char.isalnum( ) or char == ' ':\n",
    "\t\t\tcleaned.append( char )\n",
    "\n",
    "\treturn ''.join( cleaned )"
   ],
   "id": "d915bd40a8960596",
   "outputs": [],
   "execution_count": 20
  },
  {
   "metadata": {},
   "cell_type": "markdown",
   "source": "### 9. Remove Fragments",
   "id": "f10bd76ecce2c24c"
  },
  {
   "metadata": {
    "ExecuteTime": {
     "end_time": "2025-06-12T12:03:06.997026Z",
     "start_time": "2025-06-12T12:03:06.977850Z"
    }
   },
   "cell_type": "code",
   "source": [
    "def remove_fragments( chunks: List[ str ] ) -> List[ str ]:\n",
    "\t\"\"\"\n",
    "\n",
    "        Remove all special characters\n",
    "        from the text string, keeping only letters, digits, and whitespace.\n",
    "\n",
    "        Args:\n",
    "            text (str): The text string to process.\n",
    "\n",
    "        Returns:\n",
    "            str: The processed string with special characters removed.\n",
    "\n",
    "    \"\"\"\n",
    "\tcleaned = [ ]\n",
    "\tfor text in chunks:\n",
    "\t\tif len( text) > 3:\n",
    "\t\t\tcleaned.append( text )\n",
    "\t\telse:\n",
    "\t\t\tcontinue\n",
    "\n",
    "\treturn cleaned"
   ],
   "id": "1b1f126c114550db",
   "outputs": [],
   "execution_count": 21
  },
  {
   "metadata": {},
   "cell_type": "markdown",
   "source": "### 10. Remove Special Characters",
   "id": "db077fc923ecabcf"
  },
  {
   "metadata": {
    "ExecuteTime": {
     "end_time": "2025-06-12T12:03:10.673424Z",
     "start_time": "2025-06-12T12:03:10.659065Z"
    }
   },
   "cell_type": "code",
   "source": [
    "def remove_special_characters( text: str, keep_spaces: bool=True ) -> str:\n",
    "\t\"\"\"\n",
    "\n",
    "\t\tPurpose:\n",
    "\t\t_______\n",
    "\t\tRemove special characters from the text.\n",
    "\n",
    "\t\tArgs:\n",
    "\t\t\ttext (str): Input string to clean.\n",
    "\t\t\tkeep_spaces (bool): If True, preserves spaces; otherwise removes all non-alphanumerics.\n",
    "\n",
    "\t\tReturns:\n",
    "\t\t\tstr: Cleaned text with only alphanumeric characters (and optionally spaces).\n",
    "\t\"\"\"\n",
    "\tif keep_spaces:\n",
    "\t\treturn re.sub( r'[^a-zA-Z0-9\\s]', ' ', text )\n",
    "\telse:\n",
    "\t\treturn re.sub( r'[^a-zA-Z0-9]', ' ', text )"
   ],
   "id": "56565e0606ba12",
   "outputs": [],
   "execution_count": 22
  },
  {
   "metadata": {},
   "cell_type": "markdown",
   "source": [
    "### 11. Remove HTML\n",
    "- Parses the text as HTML\n",
    "- Extracts and returns only the visible content without tags"
   ],
   "id": "3e5583a42894f537"
  },
  {
   "metadata": {
    "ExecuteTime": {
     "end_time": "2025-06-12T12:03:12.750820Z",
     "start_time": "2025-06-12T12:03:12.740916Z"
    }
   },
   "cell_type": "code",
   "source": [
    "def remove_html_tags( text: str ) -> str:\n",
    "\t\"\"\"\n",
    "\n",
    "\t\tPurpose:\n",
    "\t\t-------\n",
    "        This function:\n",
    "        Removes HTML tags from the path pages path.\n",
    "          - Parses the pages as HTML\n",
    "          - Extracts and returns only the visible content without tags\n",
    "\n",
    "        Parameters:\n",
    "        -----------\n",
    "        pages : str\n",
    "            The path pages containing HTML tags.\n",
    "\n",
    "        Returns:\n",
    "        --------\n",
    "        str\n",
    "            A cleaned_lines path with all HTML tags removed.\n",
    "\n",
    "    \"\"\"\n",
    "\t# Parse HTML and extract pages\n",
    "\tsoup = BeautifulSoup( text, \"raw_html.parser\" )\n",
    "\tcleaned_text = soup.get_text( separator=' ', strip=True )\n",
    "\treturn cleaned_text"
   ],
   "id": "d5e9b16f93ccfed8",
   "outputs": [],
   "execution_count": 23
  },
  {
   "metadata": {},
   "cell_type": "markdown",
   "source": [
    "### 12. Chunk Words\n",
    "- Tokenizes the text into words\n",
    "- Groups them into consecutive word chunks\n",
    "- Returns a list of strings (each chunk_words)"
   ],
   "id": "b9e77cd71f1df62e"
  },
  {
   "metadata": {
    "ExecuteTime": {
     "end_time": "2025-06-12T12:03:16.655022Z",
     "start_time": "2025-06-12T12:03:16.637121Z"
    }
   },
   "cell_type": "code",
   "source": [
    "def chunk_words( text: List[ str ], chunk_size: int=50 ) -> List[ List[ str ] ]:\n",
    "\t\"\"\"\n",
    "\n",
    "\t\tPurpose:\n",
    "\t\t--------\n",
    "        Breaks a list of cleaned_lines,\n",
    "        tokenized strings into chunks of a specified num of words.\n",
    "\n",
    "        This function:\n",
    "          - Flattens the path get_list of tokenized strings (i.e., get_list of lists)\n",
    "          - Groups words into chunks of min `chunk_size`\n",
    "          - Returns a list of lists of words\n",
    "\n",
    "        Parameters:\n",
    "        -----------\n",
    "        pages : get_list of tokenizd words\n",
    "            The path get_list where each element is a get_list of words (words).\n",
    "\n",
    "        chunk_size : int, optional (default=250)\n",
    "            Number of words per chunk_words.\n",
    "\n",
    "        Returns:\n",
    "        --------\n",
    "        List[ List[ str ] ]\n",
    "            A list of a list of token chunks. Each chunk is a list of words.\n",
    "\n",
    "    \"\"\"\n",
    "\t# Flatten the get_list of token lists into a single list; create chunks of words\n",
    "\tall_tokens = [ token for sublist in text for token in sublist ]\n",
    "\tchunks = [ all_tokens[ i : i + chunk_size ] for i in range( 0, len( all_tokens ), chunk_size ) ]\n",
    "\treturn chunks"
   ],
   "id": "a6edbb0eb8fa5720",
   "outputs": [],
   "execution_count": 24
  },
  {
   "metadata": {},
   "cell_type": "markdown",
   "source": "### 13. Chunk Pages",
   "id": "c454ec12bc8bd6e3"
  },
  {
   "metadata": {
    "ExecuteTime": {
     "end_time": "2025-06-12T12:03:19.772780Z",
     "start_time": "2025-06-12T12:03:19.750023Z"
    }
   },
   "cell_type": "code",
   "source": [
    "def chunk_pages( text: List[ str ], chunk_size: int=300 ) -> List[ List[ str ] ]:\n",
    "\t\"\"\"\n",
    "\n",
    "        Breaks a list of cleaned_lines,\n",
    "        tokenized strings into\n",
    "        chunks of a specified num of words.\n",
    "\n",
    "        This function:\n",
    "          - Flattens the path get_list of tokenized strings (i.e., get_list of lists)\n",
    "          - Groups words into chunks of min `chunk_size`\n",
    "          - Returns a list of lists of words\n",
    "\n",
    "        Parameters:\n",
    "        -----------\n",
    "        pages : get_list of tokenizd words\n",
    "            The path get_list where each element is a get_list of words (words).\n",
    "\n",
    "        chunk_size : int, optional (default=250)\n",
    "            Number of words per chunk_words.\n",
    "\n",
    "        Returns:\n",
    "        --------\n",
    "        List[ List[ str ] ]\n",
    "            A list of a list of token chunks. Each chunk is a list of words.\n",
    "\n",
    "    \"\"\"\n",
    "\t# Flatten the get_list of token lists into a single list; Create chunks of words\n",
    "\tall_tokens = [ token for sublist in text for token in sublist ]\n",
    "\ttoken_chunks = [ all_tokens[ i : i + chunk_size ] for i in range( 0, len( all_tokens ), chunk_size ) ]\n",
    "\treturn [ chunk for chunk in token_chunks ]"
   ],
   "id": "449f84f48132bc08",
   "outputs": [],
   "execution_count": 25
  },
  {
   "metadata": {},
   "cell_type": "markdown",
   "source": "",
   "id": "c2b879393b1660a"
  },
  {
   "metadata": {},
   "cell_type": "markdown",
   "source": [
    "### 14. Chunk Text\n",
    "\n",
    "- Converts text to lowercase\n",
    "- Tokenizes text using NLTK's word_tokenize\n",
    "- Breaks tokens into chunks of a specified size\n",
    "- Optionally joins tokens into strings (for transformer models)"
   ],
   "id": "e93a4c6067321b6d"
  },
  {
   "metadata": {
    "ExecuteTime": {
     "end_time": "2025-06-12T12:03:23.974069Z",
     "start_time": "2025-06-12T12:03:23.949255Z"
    }
   },
   "cell_type": "code",
   "source": [
    "def chunk_text( text: str, chunk_size: int=50, return_as_string: bool=True ) -> List[ str ]:\n",
    "\t\"\"\"\n",
    "\n",
    "\t\tPurpose:\n",
    "\t\t--------\n",
    "        This function:\n",
    "        Tokenizes cleaned_lines pages and breaks it into chunks for downstream vectors.\n",
    "          - Converts pages to lowercase\n",
    "          - Tokenizes pages using NLTK's word_tokenize\n",
    "          - Breaks words into chunks of a specified size\n",
    "          - Optionally joins words into strings (for transformer models)\n",
    "\n",
    "        Parameters:\n",
    "        -----------\n",
    "        pages : str\n",
    "            The cleaned_lines path pages to be tokenized and chunked.\n",
    "\n",
    "        chunk_size : int, optional (default=50)\n",
    "            Number of words per chunk_words.\n",
    "\n",
    "        return_string : bool, optional (default=True)\n",
    "            If True, returns each chunk_words as a path; otherwise, returns a get_list of words.\n",
    "\n",
    "        Returns:\n",
    "        --------\n",
    "        get_list\n",
    "            A get_list of token chunks. Each chunk_words is either a get_list of words or a path.\n",
    "\n",
    "    \"\"\"\n",
    "\t# Download tokenizer models (only once)\n",
    "\ttokens = nltk.word_tokenize( text )\n",
    "\ttoken_chunks = [ tokens[ i : i + chunk_size ] for i in range( 0, len( tokens ), chunk_size ) ]\n",
    "\treturn [ ' '.join( c ) for c in token_chunks ]"
   ],
   "id": "f6b1ee045b318fd5",
   "outputs": [],
   "execution_count": 26
  },
  {
   "metadata": {},
   "cell_type": "markdown",
   "source": [
    "### 15. Remove Errors\n",
    "- Converts text to lowercase\n",
    "- Tokenizes the text into words\n",
    "- Filters out words not recognized as valid English using TextBlob\n",
    "- Returns a string with only correctly spelled words"
   ],
   "id": "b1e7c36fc4666c45"
  },
  {
   "metadata": {
    "ExecuteTime": {
     "end_time": "2025-06-12T12:03:28.005278Z",
     "start_time": "2025-06-12T12:03:27.983840Z"
    }
   },
   "cell_type": "code",
   "source": [
    "def remove_errors( text: str ) -> str:\n",
    "    \"\"\"\n",
    "\n",
    "\t\tPurpose:\n",
    "\t\t________\n",
    "\t\tRemove all non-English\n",
    "\t\twords but preserve valid numbers\n",
    "\t\tusing the NLTK English vocabulary.\n",
    "\n",
    "\t\tArgs:\n",
    "\t\t\ttext (str): The text text string.\n",
    "\n",
    "\t\tReturns:\n",
    "\t\t\tstr: The cleaned string with only English words and numbers.\n",
    "\n",
    "    \"\"\"\n",
    "    vocabulary = set( w.lower() for w in words.words() )\n",
    "    keepers = [ '(', ')', '$', '.', ';', ':', ' - '  ]\n",
    "\n",
    "    # Tokenize: includes words and numbers\n",
    "    tokens = re.findall(r'\\b[\\w.]+\\b', text.lower( ))\n",
    "\n",
    "    # Keep words in vocab or numbers\n",
    "    def is_valid_token( tok: str ) -> bool:\n",
    "        return ( tok in vocabulary\n",
    "                or tok.isdigit( )\n",
    "                or tok in keepers )\n",
    "\n",
    "    valid_tokens = [ tok for tok in tokens if is_valid_token( tok ) ]\n",
    "    return ' '.join( valid_tokens )"
   ],
   "id": "818357851dd8bf54",
   "outputs": [],
   "execution_count": 27
  },
  {
   "metadata": {},
   "cell_type": "markdown",
   "source": [
    "### 16. Correct Errors\n",
    "- Converts text to lowercase\n",
    "- Tokenizes the text into words\n",
    "- Applies spelling correction using TextBlob\n",
    "- Reconstructs and returns the corrected text"
   ],
   "id": "5c6cdef587829c"
  },
  {
   "metadata": {
    "ExecuteTime": {
     "end_time": "2025-06-12T12:03:31.981645Z",
     "start_time": "2025-06-12T12:03:31.941362Z"
    }
   },
   "cell_type": "code",
   "source": [
    "def correct_errors( text: str ) -> str:\n",
    "\t\"\"\"\n",
    "\n",
    "        Corrects misspelled words in the path pages path.\n",
    "\n",
    "        This function:\n",
    "          - Converts pages to lowercase\n",
    "          - Tokenizes the pages into words\n",
    "          - Applies spelling correction using TextBlob\n",
    "          - Reconstructs and returns the corrected pages\n",
    "\n",
    "        Parameters:\n",
    "        -----------\n",
    "        pages : str\n",
    "            The path pages path with potential spelling mistakes.\n",
    "\n",
    "        Returns:\n",
    "        --------\n",
    "        str\n",
    "            A corrected version of the path path with proper English words.\n",
    "\n",
    "    \"\"\"\n",
    "\t# Convert to lowercase and tokenize_text\n",
    "\ttokens = word_tokenize( text.lower( ) )\n",
    "\n",
    "\t# Apply spelling correction to each token\n",
    "\tcorrected_tokens = [ str( Word( word ).correct( ) ) for word in tokens ]\n",
    "\n",
    "\t# Join the corrected words into a single path\n",
    "\tcorrected_text = ' '.join( corrected_tokens )\n",
    "\n",
    "\treturn corrected_text"
   ],
   "id": "c7d8dfb08dfbf717",
   "outputs": [],
   "execution_count": 28
  },
  {
   "metadata": {},
   "cell_type": "markdown",
   "source": [
    "### 17.  Remove Headers\n",
    "- Assumes repeated lines at the top or bottom (like titles, page numbers)\n",
    "- Removes lines that are common across multiple pages (heuristic)\n",
    "- Returns cleaned text with main body content only"
   ],
   "id": "d8489c8d8d9d0af4"
  },
  {
   "metadata": {
    "ExecuteTime": {
     "end_time": "2025-06-12T12:03:37.416395Z",
     "start_time": "2025-06-12T12:03:37.398478Z"
    }
   },
   "cell_type": "code",
   "source": [
    "def remove_headers_footers( text: str ) -> str:\n",
    "\t\"\"\"\n",
    "\n",
    "\t\tRemoves common headers and footers from a pages document.\n",
    "\n",
    "\t\tThis function:\n",
    "\t\t  - Assumes repeated words at the top or bottom (like titles, page numbers)\n",
    "\t\t  - Removes words that are common across multiple pages (heuristic)\n",
    "\t\t  - Returns cleaned_lines pages with main body content only\n",
    "\n",
    "\t\tParameters:\n",
    "\t\t-----------\n",
    "\t\tpages : str\n",
    "\t\t\tThe path pages potentially containing headers/footers.\n",
    "\n",
    "\t\tReturns:\n",
    "\t\t--------\n",
    "\t\tstr\n",
    "\t\t\tThe cleaned_lines pages with headers and footers removed.\n",
    "\n",
    "    \"\"\"\n",
    "\t# Split the pages into words\n",
    "\tlines = text.splitlines( )\n",
    "\n",
    "\t# Remove empty words and trim whitespace\n",
    "\tlines = [ line.strip( ) for line in lines if line.strip( ) ]\n",
    "\n",
    "\t# Count line frequencies to identify repeated headers/footers\n",
    "\tline_counts = Counter( lines )\n",
    "\n",
    "\t# Identify frequent words (appear in >1% of total words)\n",
    "\tthreshold = max( 1, int( len( lines ) * 0.01 ) )\n",
    "\trepeated_lines = { line for line, count in line_counts.items( ) if count > threshold }\n",
    "\n",
    "\t# Remove words that are likely headers or footers\n",
    "\tbody_lines = [ line for line in lines if line not in repeated_lines ]\n",
    "\n",
    "\t# Reconstruct the cleaned_lines pages\n",
    "\tcleaned_text = '\\n'.join( body_lines )\n",
    "\n",
    "\treturn cleaned_text\n"
   ],
   "id": "f9c1ba26ea66c445",
   "outputs": [],
   "execution_count": 30
  },
  {
   "metadata": {},
   "cell_type": "markdown",
   "source": [
    "### 18.  Remove Formatting\n",
    "- Strips HTML tags\n",
    "- Removes Markdown syntax (e.g., *, #, [], etc.)\n",
    "- Collapses whitespace (newlines, tabs)\n",
    "- Optionally removes special characters for clean unformatted text"
   ],
   "id": "76f3936ac0e24e17"
  },
  {
   "metadata": {
    "ExecuteTime": {
     "end_time": "2025-06-12T12:03:41.665532Z",
     "start_time": "2025-06-12T12:03:41.640604Z"
    }
   },
   "cell_type": "code",
   "source": [
    "def remove_formatting( text: str ) -> str:\n",
    "\t\"\"\"\n",
    "\n",
    "        Removes formatting artifacts (Markdown, HTML, control characters) from pages.\n",
    "\n",
    "        This function:\n",
    "          - Strips HTML tags\n",
    "          - Removes Markdown syntax (e.g., *, #, [], etc.)\n",
    "          - Collapses whitespace (newlines, tabs)\n",
    "          - Optionally removes special characters for clean unformatted pages\n",
    "\n",
    "        Parameters:\n",
    "        -----------\n",
    "        pages : str\n",
    "            The formatted path pages.\n",
    "\n",
    "        Returns:\n",
    "        --------\n",
    "        str\n",
    "            A cleaned_lines version of the pages with formatting removed.\n",
    "\n",
    "    \"\"\"\n",
    "\t# Remove HTML tags\n",
    "\ttext = BeautifulSoup( text, \"raw_html.parser\" ).get_text( separator=' ', strip=True )\n",
    "\n",
    "\t# Remove Markdown syntax\n",
    "\ttext = re.sub( r'\\[.*?\\]\\(.*?\\)', '', text )  # Markdown links\n",
    "\ttext = re.sub( r'[`_*#~>-]', '', text )  # Markdown chars\n",
    "\ttext = re.sub( r'!\\[.*?\\]\\(.*?\\)', '', text )  # Markdown images\n",
    "\n",
    "\t# Remove and normalize whitespace\n",
    "\ttext = re.sub( r'[\\r\\n\\t]+', ' ', text )  # Newlines, tabs\n",
    "\ttext = re.sub( r'\\s+', ' ', text ).strip( )  # Collapse multiple spaces\n",
    "\n",
    "\treturn text"
   ],
   "id": "be4039da12904496",
   "outputs": [],
   "execution_count": 31
  },
  {
   "metadata": {},
   "cell_type": "markdown",
   "source": [
    "### 19. Remove Stopwords\n",
    "- Tokenizes the input text\n",
    "- Removes common stopwords (e.g., \"the\", \"is\", \"and\", etc.)\n",
    "- Returns the text with only meaningful words"
   ],
   "id": "1c75687f6c08c2c5"
  },
  {
   "metadata": {
    "ExecuteTime": {
     "end_time": "2025-06-12T12:03:45.660784Z",
     "start_time": "2025-06-12T12:03:45.638229Z"
    }
   },
   "cell_type": "code",
   "source": [
    "def remove_stopwords( tokens: List[ str ] ) -> List[ str ]:\n",
    "    \"\"\"\n",
    "\n",
    "\t\tPurpose:\n",
    "\t\t-------\n",
    "\t\tRemove English stopwords from a list of words.\n",
    "\n",
    "\t\tParameters:\n",
    "\t\t----------\n",
    "\t\twords (list): Word words.\n",
    "\n",
    "\t\tReturns:\n",
    "\t\t--------\n",
    "\t\tlist: Filtered list of words with stopwords removed.\n",
    "\n",
    "    \"\"\"\n",
    "    return [ word for word in tokens if word.lower( ) not in stop_words ]"
   ],
   "id": "342dd22bcdd49aaf",
   "outputs": [],
   "execution_count": 32
  },
  {
   "metadata": {},
   "cell_type": "markdown",
   "source": "### 20. Split Sentences",
   "id": "66e071eacb3377be"
  },
  {
   "metadata": {
    "ExecuteTime": {
     "end_time": "2025-06-12T12:03:49.631076Z",
     "start_time": "2025-06-12T12:03:49.619812Z"
    }
   },
   "cell_type": "code",
   "source": [
    "def split_sentences( text: str ) -> List[ str] :\n",
    "    \"\"\"\n",
    "\n",
    "\t\tPurpose:\n",
    "\t\t________\n",
    "\t\tSplits the text text string into a list of\n",
    "\t\tindividual sentences using NLTK's Punkt sentence tokenizer.\n",
    "\t\tThis function is useful for preparing text for further linguistic processing,\n",
    "\t\tsuch as tokenization, parsing, or named entity recognition.\n",
    "\n",
    "\t\tParameters\n",
    "\t\t----------\n",
    "\t\ttext : str\n",
    "\t\t\tThe raw text string to be segmented into sentences.\n",
    "\n",
    "\t\tReturns\n",
    "\t\t-------\n",
    "\t\tList[str]\n",
    "\t\t\tA list of sentence strings, each corresponding to a single sentence detected\n",
    "\t\t\tin the text text.\n",
    "\n",
    "    \"\"\"\n",
    "    return  sent_tokenize( text )"
   ],
   "id": "9667d83b7478ae0d",
   "outputs": [],
   "execution_count": 33
  },
  {
   "metadata": {},
   "cell_type": "markdown",
   "source": "### 🔍 Clean Text",
   "id": "f4c860851a941aeb"
  },
  {
   "metadata": {
    "ExecuteTime": {
     "end_time": "2025-06-12T12:03:55.251009Z",
     "start_time": "2025-06-12T12:03:55.223257Z"
    }
   },
   "cell_type": "code",
   "source": [
    "def clean_text( text: str ) -> str:\n",
    "\t_first = text.replace( '\\r\\n', '\\n' ).replace( '\\r', '\\n' )\n",
    "\t_second = re.sub( r'\\n\\s*\\d+\\s*\\n', '\\n', _first )\n",
    "\t_third = re.sub( r'(\\w+)\\n(\\w+)', r'\\1\\2', _second )\n",
    "\t_fouth = re.sub( r'(?<!\\n)\\n(?![\\n])', ' ', _third )\n",
    "\t_retval = re.sub( r'\\s+', ' ', _fouth )\n",
    "\treturn _retval"
   ],
   "id": "6ffc1b387c68d803",
   "outputs": [],
   "execution_count": 34
  },
  {
   "metadata": {},
   "cell_type": "markdown",
   "source": "### 🔍 Pipeline",
   "id": "f9435a341c128b29"
  },
  {
   "metadata": {
    "ExecuteTime": {
     "end_time": "2025-06-12T12:04:09.061868Z",
     "start_time": "2025-06-12T12:04:09.017981Z"
    }
   },
   "cell_type": "code",
   "source": [
    "# === Preprocessing Configuration ===\n",
    "EN_STOPWORDS = set( stopwords.words( 'english' ) )\n",
    "LEMMATIZER = WordNetLemmatizer( )\n",
    "STEMMER = SnowballStemmer( 'english' )\n",
    "\n",
    "\n",
    "def preprocess_line( line, lower=True, punctuation=True,\n",
    "                     stopwords=False, lemmatize=True, stem=False ):\n",
    "\t'''\n",
    "\t\tProcess a single line of documents with optional steps:\n",
    "\t\t- lower\n",
    "\t\t- punctuation removal\n",
    "\t\t- stopword removal\n",
    "\t\t- lemmatization\n",
    "\t\t- stemming (optional)\n",
    "\t\tReturns the cleaned_lines line as a path.\n",
    "    '''\n",
    "\ttokens = word_tokenize( line )\n",
    "\tprocessed = [ ]\n",
    "\tfor token in tokens:\n",
    "\t\tif lower:\n",
    "\t\t\ttoken = token.lower( )\n",
    "\n",
    "\t\tif punctuation and token in string.punctuation:\n",
    "\t\t\tcontinue\n",
    "\n",
    "\t\tif stopwords and token in EN_STOPWORDS:\n",
    "\t\t\tcontinue\n",
    "\n",
    "\t\tif lemmatize:\n",
    "\t\t\ttoken = LEMMATIZER.lemmatize( token )\n",
    "\n",
    "\t\tif stem:\n",
    "\t\t\ttoken = STEMMER.stem( token )\n",
    "\n",
    "\t\tprocessed.append( token )\n",
    "\n",
    "\treturn ' '.join( processed )\n",
    "\n",
    "\n",
    "def process_file( file_path, **preprocess_kwargs ):\n",
    "\t'''\n",
    "        Read a documents file line-by-line, apply preprocessing pipeline to each line,\n",
    "        and return a get_list of cleaned_lines words (original order preserved).\n",
    "        Pass any keyword args supported by `preprocess_line`.\n",
    "    '''\n",
    "\tcleaned_lines = [ ]\n",
    "\twith open( file_path, 'r', encoding='utf-8' ) as file:\n",
    "\t\tfor line in file:\n",
    "\t\t\tcleaned = preprocess_line( line, **preprocess_kwargs )\n",
    "\t\t\tcleaned_lines.append( cleaned )\n",
    "\treturn cleaned_lines\n"
   ],
   "id": "af7f3fd7b2990387",
   "outputs": [],
   "execution_count": 35
  },
  {
   "metadata": {},
   "cell_type": "markdown",
   "source": [
    "#  Vectorization (Preparation for ML Models)\n",
    "___\n",
    "\n",
    "\n",
    "\n"
   ],
   "id": "ba0f01ba423430f4"
  },
  {
   "metadata": {},
   "cell_type": "markdown",
   "source": "##### Load Dependencies",
   "id": "d3e02f4dbedcc22e"
  },
  {
   "metadata": {
    "ExecuteTime": {
     "end_time": "2025-05-14T22:56:53.926365Z",
     "start_time": "2025-05-14T22:56:53.918962Z"
    }
   },
   "cell_type": "code",
   "source": "",
   "id": "6ea810a20c6020f2",
   "outputs": [],
   "execution_count": 26
  },
  {
   "metadata": {
    "ExecuteTime": {
     "end_time": "2025-06-11T00:35:19.384248Z",
     "start_time": "2025-06-11T00:35:19.375121Z"
    }
   },
   "cell_type": "code",
   "source": [
    "# === Load Raw Text ===\n",
    "file_path = '<url to file>'\n",
    "_rawtext = ''\n",
    "\n",
    "\n",
    "def load_text( file_path ):\n",
    "\twith open( file_path, 'r', encoding='utf-8' ) as f:\n",
    "\t\t_rawtext = f.read( )\n",
    "\t\treturn _rawtext"
   ],
   "id": "f930499beb91e45f",
   "outputs": [],
   "execution_count": 25
  },
  {
   "metadata": {},
   "cell_type": "code",
   "outputs": [],
   "execution_count": null,
   "source": "",
   "id": "4cd82d1886e5243"
  },
  {
   "metadata": {},
   "cell_type": "markdown",
   "source": "### 🧮 1. Bag of Words (BoW) using CountVectorizer",
   "id": "93554b0db878266a"
  },
  {
   "metadata": {
    "ExecuteTime": {
     "end_time": "2025-06-11T00:35:23.896722Z",
     "start_time": "2025-06-11T00:35:23.879682Z"
    }
   },
   "cell_type": "code",
   "source": [
    "corpus = [ 'Bro loves clean code.', 'Code is life.' ]\n",
    "vectorizer = CountVectorizer( )\n",
    "X = vectorizer.fit_transform( corpus )\n",
    "\n",
    "print( vectorizer.get_feature_names_out( ) )\n",
    "print( X.toarray( ) )\n"
   ],
   "id": "df2a01ee327d57d6",
   "outputs": [
    {
     "name": "stdout",
     "output_type": "stream",
     "text": [
      "['bro' 'clean' 'code' 'is' 'life' 'loves']\n",
      "[[1 1 1 0 0 1]\n",
      " [0 0 1 1 1 0]]\n"
     ]
    }
   ],
   "execution_count": 26
  },
  {
   "metadata": {},
   "cell_type": "markdown",
   "source": "### 📊 2. TF-IDF using TfidfVectorizer",
   "id": "606ca62c6f083d04"
  },
  {
   "metadata": {
    "ExecuteTime": {
     "end_time": "2025-06-11T00:28:35.511309Z",
     "start_time": "2025-06-11T00:28:35.477416Z"
    }
   },
   "cell_type": "code",
   "source": [
    "corpus = [ 'Bro writes awesome code.', 'Code must be clean and clear.' ]\n",
    "vectorizer = TfidfVectorizer( )\n",
    "X = vectorizer.fit_transform( corpus )\n",
    "\n",
    "print( vectorizer.get_feature_names_out( ) )\n",
    "print( X.toarray( ) )\n"
   ],
   "id": "58a4cf4ec025e261",
   "outputs": [
    {
     "name": "stdout",
     "output_type": "stream",
     "text": [
      "['and' 'awesome' 'be' 'bro' 'clean' 'clear' 'code' 'must' 'writes']\n",
      "[[0.         0.53404633 0.         0.53404633 0.         0.\n",
      "  0.37997836 0.         0.53404633]\n",
      " [0.4261596  0.         0.4261596  0.         0.4261596  0.4261596\n",
      "  0.30321606 0.4261596  0.        ]]\n"
     ]
    }
   ],
   "execution_count": 28
  },
  {
   "metadata": {},
   "cell_type": "markdown",
   "source": "### 🧠 3. Word2Vec using gensim",
   "id": "cd392a973450c93a"
  },
  {
   "metadata": {
    "ExecuteTime": {
     "end_time": "2025-06-11T00:35:28.918311Z",
     "start_time": "2025-06-11T00:35:28.831467Z"
    }
   },
   "cell_type": "code",
   "source": [
    "sentences = [ [ 'bro', 'loves', 'python' ], [ 'clean', 'code', 'rocks' ] ]\n",
    "model = Word2Vec( sentences, vector_size=100, window=5, min_count=1, workers=4 )\n",
    "\n",
    "# VectorStore for the word 'bro'\n",
    "vector = model.wv[ 'bro' ]\n",
    "print( vector )\n"
   ],
   "id": "a20f65018fd9c119",
   "outputs": [
    {
     "name": "stdout",
     "output_type": "stream",
     "text": [
      "[-8.7274825e-03  2.1301615e-03 -8.7354420e-04 -9.3190884e-03\n",
      " -9.4281426e-03 -1.4107180e-03  4.4324086e-03  3.7040710e-03\n",
      " -6.4986930e-03 -6.8730675e-03 -4.9994122e-03 -2.2868442e-03\n",
      " -7.2502876e-03 -9.6033178e-03 -2.7436293e-03 -8.3628409e-03\n",
      " -6.0388758e-03 -5.6709289e-03 -2.3441375e-03 -1.7069972e-03\n",
      " -8.9569986e-03 -7.3519943e-04  8.1525063e-03  7.6904297e-03\n",
      " -7.2061159e-03 -3.6668312e-03  3.1185520e-03 -9.5707225e-03\n",
      "  1.4764392e-03  6.5244664e-03  5.7464195e-03 -8.7630618e-03\n",
      " -4.5171441e-03 -8.1401607e-03  4.5956374e-05  9.2636338e-03\n",
      "  5.9733056e-03  5.0673080e-03  5.0610625e-03 -3.2429171e-03\n",
      "  9.5521836e-03 -7.3564244e-03 -7.2703874e-03 -2.2653891e-03\n",
      " -7.7856064e-04 -3.2161034e-03 -5.9258583e-04  7.4888230e-03\n",
      " -6.9751858e-04 -1.6249407e-03  2.7443992e-03 -8.3591007e-03\n",
      "  7.8558037e-03  8.5361041e-03 -9.5840869e-03  2.4462664e-03\n",
      "  9.9049713e-03 -7.6658037e-03 -6.9669187e-03 -7.7365171e-03\n",
      "  8.3959233e-03 -6.8133592e-04  9.1444086e-03 -8.1582209e-03\n",
      "  3.7430846e-03  2.6350426e-03  7.4271322e-04  2.3276759e-03\n",
      " -7.4690939e-03 -9.3583735e-03  2.3545765e-03  6.1484552e-03\n",
      "  7.9856887e-03  5.7358947e-03 -7.7733636e-04  8.3061643e-03\n",
      " -9.3363142e-03  3.4061326e-03  2.6675343e-04  3.8572443e-03\n",
      "  7.3857834e-03 -6.7251669e-03  5.5844807e-03 -9.5222248e-03\n",
      " -8.0445886e-04 -8.6887367e-03 -5.0986730e-03  9.2892265e-03\n",
      " -1.8582619e-03  2.9144264e-03  9.0712793e-03  8.9381328e-03\n",
      " -8.2084350e-03 -3.0123137e-03  9.8866057e-03  5.1044310e-03\n",
      " -1.5880871e-03 -8.6920215e-03  2.9615164e-03 -6.6758976e-03]\n"
     ]
    }
   ],
   "execution_count": 27
  },
  {
   "metadata": {},
   "cell_type": "markdown",
   "source": "### 🌍 4. GloVe using gensim (with pre-trained vectors)\n",
   "id": "a920cc11594a37ac"
  },
  {
   "metadata": {},
   "cell_type": "code",
   "source": [
    "# Load GloVe vec (convert .txt to .word2vec format beforehand if needed)\n",
    "glove_file = r'C:\\Users\\terry\\source\\llm\\glove\\glove.6B.100d.txt'\n",
    "model = KeyedVectors.load_word2vec_format( glove_file, unicode_errors='ignore' )\n",
    "\n",
    "# VectorStore for the word 'code'\n",
    "vector = model[ 'code' ]\n",
    "print( vector )\n"
   ],
   "id": "95c58a17aeefed99",
   "outputs": [],
   "execution_count": null
  },
  {
   "metadata": {},
   "cell_type": "markdown",
   "source": "### 🤖 5. BERT / Transformer-based Embeddings using transformers + torch\n",
   "id": "8117a17e891dc4c0"
  },
  {
   "metadata": {
    "ExecuteTime": {
     "end_time": "2025-05-14T22:58:22.666037Z",
     "start_time": "2025-05-14T22:58:21.482437Z"
    }
   },
   "cell_type": "code",
   "source": [
    "tokenizer = BertTokenizer.from_pretrained( 'bert-base-uncased' )\n",
    "model = BertModel.from_pretrained( 'bert-base-uncased' )\n",
    "\n",
    "sentence = \"Bro's code always works.\"\n",
    "inputs = tokenizer( sentence, return_tensors='pt' )\n",
    "outputs = model( **inputs )\n",
    "\n",
    "# Get the vector for [CLS] token (sentence embedding)\n",
    "sentence_embedding = outputs.last_hidden_state[ :, 0, : ]\n",
    "print( sentence_embedding.shape )\n"
   ],
   "id": "8a9d362295bf0536",
   "outputs": [
    {
     "name": "stdout",
     "output_type": "stream",
     "text": [
      "torch.Size([1, 768])\n"
     ]
    }
   ],
   "execution_count": 33
  },
  {
   "metadata": {},
   "cell_type": "markdown",
   "source": "#### Clean Document",
   "id": "5e61d59191d25e5c"
  },
  {
   "metadata": {
    "ExecuteTime": {
     "end_time": "2025-06-11T00:29:24.670609Z",
     "start_time": "2025-06-11T00:29:24.661222Z"
    }
   },
   "cell_type": "code",
   "source": [
    "def clean_text( text: str ) -> str:\n",
    "\ttext = text.replace( '\\r\\n', '\\n' ).replace( '\\r', '\\n' )\n",
    "\ttext = re.sub( r'\\n\\s*\\d+\\s*\\n', '\\n', text )\n",
    "\ttext = re.sub( r'(\\w+)-\\n(\\w+)', r'\\1\\2', text )\n",
    "\ttext = re.sub( r'(?<!\\n)\\n(?![\\n])', ' ', text )\n",
    "\ttext = re.sub( r'\\s+', ' ', text )\n",
    "\treturn text.strip( )\n"
   ],
   "id": "42c34418a1218398",
   "outputs": [],
   "execution_count": 29
  },
  {
   "metadata": {},
   "cell_type": "markdown",
   "source": "",
   "id": "fc9d08f36dde47ba"
  },
  {
   "metadata": {},
   "cell_type": "markdown",
   "source": [
    "\n",
    "\n",
    "#  OpenAI Embedding\n",
    "___"
   ],
   "id": "9f097164e0f1b335"
  },
  {
   "metadata": {},
   "cell_type": "markdown",
   "source": "##### API key",
   "id": "10f8b0039c619d8"
  },
  {
   "metadata": {},
   "cell_type": "code",
   "source": [
    "# Create client\n",
    "client = OpenAI( )\n",
    "client.api_key = os.getenv( 'OPENAI_API_KEY' )"
   ],
   "id": "6f7c70b192899b4b",
   "outputs": [],
   "execution_count": null
  },
  {
   "metadata": {},
   "cell_type": "markdown",
   "source": "#### 1. Define embedding function",
   "id": "e1c76c3548b771af"
  },
  {
   "metadata": {
    "ExecuteTime": {
     "end_time": "2025-05-14T14:30:51.638210Z",
     "start_time": "2025-05-14T14:30:51.622433Z"
    }
   },
   "cell_type": "code",
   "source": [
    "def embed_texts( texts, model='text-embedding-3-small', batch_size=10, sleep=1 ):\n",
    "\tembeddings = [ ]\n",
    "\tfor i in range( 0, len( texts ), batch_size ):\n",
    "\t\tbatch = texts[ i:i + batch_size ]\n",
    "\t\ttry:\n",
    "\t\t\tresponse = openai.embeddings.create( input=batch, model=model )\n",
    "\t\t\tbatch_embeddings = [ e.embedding for e in response.data ]\n",
    "\t\t\tembeddings.extend( batch_embeddings )\n",
    "\t\texcept Exception as e:\n",
    "\t\t\tprint( f'Error at batch {i}: {e}' )\n",
    "\t\t\t# Retry or sleep to avoid rate limits\n",
    "\t\t\ttime.sleep( sleep )\n",
    "\t\t\tcontinue\n",
    "\n",
    "\treturn embeddings\n"
   ],
   "id": "3d19dce1b72312ca",
   "outputs": [],
   "execution_count": 32
  },
  {
   "metadata": {},
   "cell_type": "markdown",
   "source": "#### 2. Embed chunks",
   "id": "7a1cbc3787a81ed2"
  },
  {
   "metadata": {},
   "cell_type": "code",
   "outputs": [],
   "execution_count": null,
   "source": [
    "# 2. Embed chunks\n",
    "embeddings = embed_texts( chunks )"
   ],
   "id": "2e8dd3b9c7453b0c"
  },
  {
   "metadata": {},
   "cell_type": "markdown",
   "source": "#### 3.  Create DataFrame",
   "id": "7b29c98e70fdc973"
  },
  {
   "metadata": {},
   "cell_type": "code",
   "outputs": [],
   "execution_count": null,
   "source": [
    "# 3. Create DataFrame\n",
    "df_embeddings = pd.DataFrame( { chunks, embeddings } )\n"
   ],
   "id": "998cc4a4eb1c122f"
  },
  {
   "metadata": {},
   "cell_type": "markdown",
   "source": "#### 3. Save\n",
   "id": "ca13ccc289f545b4"
  },
  {
   "metadata": {},
   "cell_type": "code",
   "outputs": [],
   "execution_count": null,
   "source": [
    "# 3. Save\n",
    "df_embeddings.to_parquet( 'public_law_118_32_embeddings.parquet', index=False )\n"
   ],
   "id": "eac78df8b7b91593"
  },
  {
   "metadata": {},
   "cell_type": "markdown",
   "source": "#### 4. Preview",
   "id": "ae06c79ed3506313"
  },
  {
   "metadata": {},
   "cell_type": "code",
   "outputs": [],
   "execution_count": null,
   "source": [
    "# 4. Preview\n",
    "df_embeddings.head( 2 )\n"
   ],
   "id": "e9935e9a89b6aac5"
  },
  {
   "metadata": {},
   "cell_type": "markdown",
   "source": [
    "### 3. Generate Embeddings\n",
    "- Use a language model (e.g., OpenAI, HuggingFace) to create vector representations of each chunk_words."
   ],
   "id": "f62aab776049a508"
  },
  {
   "metadata": {},
   "cell_type": "code",
   "outputs": [],
   "execution_count": null,
   "source": [
    "model = SentenceTransformer( 'all-MiniLM-L6-v2' )\n",
    "embeddings = model.encode( chunks, show_progress_bar=True )\n"
   ],
   "id": "a67fd85d25aafd1c"
  },
  {
   "metadata": {},
   "cell_type": "markdown",
   "source": "### 4. Create SQLite Database",
   "id": "d76b8831817cd4d9"
  },
  {
   "metadata": {},
   "cell_type": "markdown",
   "source": "- Design a table that links text chunks to their embeddings.",
   "id": "f06349ccd853f770"
  },
  {
   "metadata": {},
   "cell_type": "code",
   "outputs": [],
   "execution_count": null,
   "source": [
    "conn = sqlite3.connect( 'vectors.target_values' )\n",
    "cursor = conn.cursor( )\n",
    "sql_create = '''\n",
    "CREATE TABLE IF NOT EXISTS Law_Embeddings\n",
    "(\n",
    "    Id INTEGER PRIMARY KEY AUTOINCREMENT,\n",
    "    Chunk_Tokens TEXT NOT NULL,\n",
    "    Embedding BLOB NOT NULL\n",
    ")\n",
    "'''\n",
    "\n",
    "cursor.execute( sql_create )\n",
    "\n",
    "for chunk, vector in zip( chunks, embeddings ):\n",
    "\tblob = pickle.dumps( vector )\n",
    "\tcursor.execute( 'INSERT INTO Law_Embeddings ( Chunk_Tokens, Embedding ) VALUES (?, ?)',\n",
    "\t\t(chunk, blob) )\n",
    "\n",
    "conn.commit( )\n",
    "conn.close( )\n"
   ],
   "id": "28ca2f108b874b20"
  },
  {
   "metadata": {},
   "cell_type": "markdown",
   "source": "###  Retrieval (Vector Search in SQLite)",
   "id": "ca5ad81f911f7250"
  },
  {
   "metadata": {},
   "cell_type": "markdown",
   "source": "- You can perform semantic search by encoding a query and comparing via cosine similarity\n",
   "id": "12113e4d3566bd2f"
  },
  {
   "metadata": {},
   "cell_type": "code",
   "outputs": [],
   "execution_count": null,
   "source": [
    "def cosine_similarity( a, b ):\n",
    "\treturn np.dot( a, b ) / (np.linalg.norm( a ) * np.linalg.norm( b ))"
   ],
   "id": "70665fe56a643b3"
  },
  {
   "metadata": {},
   "cell_type": "code",
   "outputs": [],
   "execution_count": null,
   "source": [
    "query = 'Appropriations for Department of Defense'\n",
    "query_vec = model.encode( [ query ] )[ 0 ]\n",
    "\n",
    "conn = sqlite3.connect( 'vectors.target_values' )\n",
    "cursor = conn.cursor( )\n",
    "cursor.execute( 'SELECT Id, Chunk_Tokens, Embedding FROM Law_Embeddings' )\n",
    "\n",
    "results = [ ]\n",
    "for row in cursor.fetchall( ):\n",
    "\tchunk_id, chunk_text, blob = row\n",
    "\tstored_vec = pickle.loads( blob )\n",
    "\tsim = cosine_similarity( query_vec, stored_vec )\n",
    "\tresults.append( (sim, chunk_text) )\n",
    "\n",
    "# Sort and get top N\n",
    "top_matches = sorted( results, key=lambda x: x[ 0 ], reverse=True )[ :5 ]\n"
   ],
   "id": "675d18dac5bd124d"
  },
  {
   "metadata": {},
   "cell_type": "markdown",
   "source": [
    "#   Embedding-Pipeline Script\n",
    "___"
   ],
   "id": "3a7f735556cd0d3f"
  },
  {
   "metadata": {},
   "cell_type": "markdown",
   "source": [
    "##### Load Dependencies\n",
    "\n"
   ],
   "id": "e593513dcb937f5f"
  },
  {
   "metadata": {
    "ExecuteTime": {
     "end_time": "2025-05-14T12:08:03.310828Z",
     "start_time": "2025-05-14T12:08:03.304763Z"
    }
   },
   "cell_type": "code",
   "source": [
    "import re\n",
    "import sqlite3\n",
    "import numpy as np\n",
    "from tqdm import tqdm\n",
    "import openai\n",
    "from langchain.text_splitter import RecursiveCharacterTextSplitter\n"
   ],
   "id": "cf12b8bc356c9181",
   "outputs": [],
   "execution_count": 33
  },
  {
   "metadata": {},
   "cell_type": "markdown",
   "source": "#### Configuration",
   "id": "99ef339bdfea1fd8"
  },
  {
   "metadata": {},
   "cell_type": "markdown",
   "source": "",
   "id": "a764c56d86acecd"
  },
  {
   "metadata": {},
   "cell_type": "code",
   "outputs": [],
   "execution_count": null,
   "source": [
    "# Define paths\n",
    "TEXT_FILE = 'PublicLaw_118-42.txt'\n",
    "DB_FILE = 'law_embeddings.target_values'\n",
    "EMBEDDING_MODEL = 'all-MiniLM-L6-v2'\n",
    "CHUNK_SIZE = 1000\n",
    "CHUNK_OVERLAP = 200\n"
   ],
   "id": "e8ee553da46c407c"
  },
  {
   "metadata": {},
   "cell_type": "markdown",
   "source": "#### Load and Clean Raw Text",
   "id": "842a900a1b80cde5"
  },
  {
   "metadata": {},
   "cell_type": "code",
   "outputs": [],
   "execution_count": null,
   "source": [
    "def load_and_clean_text( filepath ):\n",
    "\twith open( filepath, 'r', encoding='utf-8', errors='ignore' ) as file:\n",
    "\t\traw_text = file.read( )\n",
    "\n",
    "\t# Basic normalization\n",
    "\ttext = re.sub( r'\\f+', ' ', raw_text )\n",
    "\ttext = re.sub( r'\\n+', ' ', text )\n",
    "\ttext = re.sub( r'\\s{2,}', ' ', text )\n",
    "\treturn text.strip( )\n"
   ],
   "id": "c202cc689865f32"
  },
  {
   "metadata": {},
   "cell_type": "markdown",
   "source": "#### Generate Embeddings",
   "id": "ae3ddba5e85404c6"
  },
  {
   "metadata": {},
   "cell_type": "code",
   "outputs": [],
   "execution_count": null,
   "source": [
    "def get_embedding( text, model=OPENAI_MODEL ):\n",
    "\tresponse = openai.Embedding.generate_text( input=text, model=model )\n",
    "\treturn response[ 'target_values'[ 0 ][ 'embedding' ] ]\n",
    "\n",
    "\n",
    "def embed_chunks( chunks ):\n",
    "\tembeddings = [ ]\n",
    "\tfor chunk in tqdm( chunks, desc='EmbeddingRequest chunks via OpenAI' ):\n",
    "\t\ttry:\n",
    "\t\t\tembedding = get_embedding( chunk )\n",
    "\t\t\tembeddings.append( embedding )\n",
    "\t\texcept Exception as e:\n",
    "\t\t\tprint( f'Error embedding chunk_words: {e}' )\n",
    "\t\t\tembeddings.append( [ 0.0 ] * 1536 )  # Placeholder for failed requests\n",
    "\treturn embeddings\n"
   ],
   "id": "8fa7587e7a3094be"
  },
  {
   "metadata": {},
   "cell_type": "markdown",
   "source": [
    "##### Create SQLite DB\n",
    "\n"
   ],
   "id": "3c985e6d3ecd5e8f"
  },
  {
   "metadata": {},
   "cell_type": "code",
   "outputs": [],
   "execution_count": null,
   "source": [
    "def create_and_populate_db( chunks, embeddings, db_path ):\n",
    "\tconn = sqlite3.connect( db_path )\n",
    "\tcursor = conn.cursor( )\n",
    "\tsql_create = '''\n",
    "    CREATE TABLE IF NOT EXISTS Law_Embeddings\n",
    "    (\n",
    "        Id INTEGER PRIMARY KEY AUTOINCREMENT,\n",
    "        Chunk_Tokens TEXT NOT NULL,\n",
    "        Embedding BLOB NOT NULL\n",
    "    )\n",
    "    '''\n",
    "\n",
    "\tcursor.execute( sql_create )\n",
    "\tfor chunk, vector in zip( chunks, embeddings ):\n",
    "\t\tblob = pickle.dumps( vector )\n",
    "\t\tsql_insert = 'INSERT INTO Law_Embeddings ( Chunk_Tokens, Embedding ) VALUES ( ?, ? )'\n",
    "\t\tcursor.execute( sql_insert, (chunk, blob) )\n",
    "\n",
    "\tconn.commit( )\n",
    "\tconn.close( )\n"
   ],
   "id": "ea15943e543e0d70"
  },
  {
   "metadata": {},
   "cell_type": "markdown",
   "source": "#### Script",
   "id": "e82751929d4fd563"
  },
  {
   "metadata": {},
   "cell_type": "code",
   "outputs": [],
   "execution_count": null,
   "source": [
    "# === MAIN ===\n",
    "def main( ):\n",
    "\tprint( 'Step 1: Load and clean documents' )\n",
    "\tcleaned_text = load_and_clean_text( TEXT_FILE )\n",
    "\n",
    "\tprint( 'Step 2: Chunking documents' )\n",
    "\tchunks = chunk_text( cleaned_text )\n",
    "\tprint( f'Total chunks: {len( chunks )}' )\n",
    "\n",
    "\tprint( 'Step 3: EmbeddingRequest with OpenAI API' )\n",
    "\tembeddings = embed_chunks( chunks )\n",
    "\n",
    "\tprint( 'Step 4: Saving to SQLite' )\n",
    "\tcreate_and_populate_db( chunks, embeddings, DB_FILE )\n",
    "\n",
    "\tprint( f'Pipeline complete. Embeddings stored in: {DB_FILE}' )\n",
    "\n",
    "\n",
    "if __name__ == '__main__':\n",
    "\tmain( )"
   ],
   "id": "5f2d269aaa88212b"
  },
  {
   "metadata": {},
   "cell_type": "markdown",
   "source": "#### Embeddings",
   "id": "de305bd9c7ccbd96"
  },
  {
   "metadata": {},
   "cell_type": "code",
   "source": [
    "from sentence_transformers import SentenceTransformer\n",
    "import numpy as np\n",
    "import pandas as pd\n",
    "\n",
    "\n",
    "# === 1. Load Model ===\n",
    "# You can try other models like 'all-MiniLM-L6-v2', 'all-mpnet-base-v2', or 'multi-qa-MiniLM-L6-cos-v1'\n",
    "model = SentenceTransformer( 'all-MiniLM-L6-v2' )\n",
    "\n",
    "\n",
    "# === 2. Embed Chunks ===\n",
    "def embed_with_sentence_transformers( texts, model ):\n",
    "\treturn model.encode( texts, show_progress_bar=True, convert_to_numpy=True )\n",
    "\n",
    "\n",
    "local_embeddings = embed_with_sentence_transformers( chunks, model )\n",
    "\n",
    "# === 3. Save in a DataFrame ===\n",
    "df_local = pd.DataFrame(\n",
    "{\n",
    "\t'chunk_words': chunks,\n",
    "\t'embedding': list( local_embeddings )  # numpy arrays to a list for DataFrame compatibility\n",
    "} )\n",
    "\n",
    "# === 4. Save to Disk ===\n",
    "df_local.to_parquet( 'public_law_118_32_local_embeddings.parquet', index=False )\n",
    "\n",
    "# === 5. Preview ===\n",
    "df_local.head( 2 )\n",
    "\n"
   ],
   "id": "47df028a12155604",
   "outputs": [],
   "execution_count": null
  },
  {
   "metadata": {},
   "cell_type": "markdown",
   "source": "## Fine-Tuning",
   "id": "e1efd28f65f33d39"
  },
  {
   "metadata": {
    "ExecuteTime": {
     "end_time": "2025-06-10T21:24:07.983237Z",
     "start_time": "2025-06-10T21:24:07.972222Z"
    }
   },
   "cell_type": "code",
   "source": [
    "import json\n",
    "import openai\n",
    "import os\n",
    "import pandas as pd\n",
    "from pprint import pprint\n"
   ],
   "id": "51f033fc98145091",
   "outputs": [],
   "execution_count": 24
  },
  {
   "metadata": {},
   "cell_type": "code",
   "outputs": [],
   "execution_count": null,
   "source": [
    "\n",
    "client = openai.OpenAI(\n",
    "\tapi_key=os.environ.get( 'OPENAI_API_KEY' ),\n",
    "\torganization='<org id>',\n",
    "\tproject='<project id>',\n",
    ")"
   ],
   "id": "b11d00974dbaa480"
  },
  {
   "metadata": {
    "ExecuteTime": {
     "end_time": "2025-05-14T23:14:01.451194Z",
     "start_time": "2025-05-14T23:14:01.270150Z"
    }
   },
   "cell_type": "code",
   "source": [
    "# Read in the dataset we'll use for this task.\n",
    "# This will be the RecipesNLG dataset, which we've cleaned_lines to only contain documents from www.cookbooks.com\n",
    "recipe_df = pd.read_csv( r'C:\\Users\\terry\\Desktop\\cookbook_recipes_nlg_10k.csv' )\n",
    "recipe_df.head( )"
   ],
   "id": "aa84f0c255158f4f",
   "outputs": [
    {
     "data": {
      "text/plain": [
       "                   title                                        ingredients  \\\n",
       "0    No-Bake Nut Cookies  [\"1 c. firmly packed brown sugar\", \"1/2 c. eva...   \n",
       "1  Jewell Ball'S Chicken  [\"1 small jar chipped beef, cut up\", \"4 boned ...   \n",
       "2            Creamy Corn  [\"2 (16 oz.) pkg. frozen corn\", \"1 (8 oz.) pkg...   \n",
       "3          Chicken Funny  [\"1 large whole chicken\", \"2 (10 1/2 oz.) cans...   \n",
       "4   Reeses Cups(Candy)    [\"1 c. peanut butter\", \"3/4 c. graham cracker ...   \n",
       "\n",
       "                                          directions  \\\n",
       "0  [\"In a heavy 2-quart saucepan, mix brown sugar...   \n",
       "1  [\"Place chipped beef on bottom of baking dish....   \n",
       "2  [\"In a slow cooker, combine all ingredients. C...   \n",
       "3  [\"Boil and debone chicken.\", \"Put bite size pi...   \n",
       "4  [\"Combine first four ingredients and press in ...   \n",
       "\n",
       "                                              link             source  \\\n",
       "0   www.cookbooks.com/Recipe-Details.aspx?id=44874  www.cookbooks.com   \n",
       "1  www.cookbooks.com/Recipe-Details.aspx?id=699419  www.cookbooks.com   \n",
       "2   www.cookbooks.com/Recipe-Details.aspx?id=10570  www.cookbooks.com   \n",
       "3  www.cookbooks.com/Recipe-Details.aspx?id=897570  www.cookbooks.com   \n",
       "4  www.cookbooks.com/Recipe-Details.aspx?id=659239  www.cookbooks.com   \n",
       "\n",
       "                                                 NER  \n",
       "0  [\"brown sugar\", \"milk\", \"vanilla\", \"nuts\", \"bu...  \n",
       "1  [\"beef\", \"chicken breasts\", \"cream of mushroom...  \n",
       "2  [\"frozen corn\", \"cream cheese\", \"butter\", \"gar...  \n",
       "3  [\"chicken\", \"chicken gravy\", \"cream of mushroo...  \n",
       "4  [\"peanut butter\", \"graham cracker crumbs\", \"bu...  "
      ],
      "text/html": [
       "<div>\n",
       "<style scoped>\n",
       "    .dataframe tbody tr th:only-of-type {\n",
       "        vertical-align: middle;\n",
       "    }\n",
       "\n",
       "    .dataframe tbody tr th {\n",
       "        vertical-align: top;\n",
       "    }\n",
       "\n",
       "    .dataframe thead th {\n",
       "        text-align: right;\n",
       "    }\n",
       "</style>\n",
       "<table border=\"1\" class=\"dataframe\">\n",
       "  <thead>\n",
       "    <tr style=\"text-align: right;\">\n",
       "      <th></th>\n",
       "      <th>title</th>\n",
       "      <th>ingredients</th>\n",
       "      <th>directions</th>\n",
       "      <th>link</th>\n",
       "      <th>source</th>\n",
       "      <th>NER</th>\n",
       "    </tr>\n",
       "  </thead>\n",
       "  <tbody>\n",
       "    <tr>\n",
       "      <th>0</th>\n",
       "      <td>No-Bake Nut Cookies</td>\n",
       "      <td>[\"1 c. firmly packed brown sugar\", \"1/2 c. eva...</td>\n",
       "      <td>[\"In a heavy 2-quart saucepan, mix brown sugar...</td>\n",
       "      <td>www.cookbooks.com/Recipe-Details.aspx?id=44874</td>\n",
       "      <td>www.cookbooks.com</td>\n",
       "      <td>[\"brown sugar\", \"milk\", \"vanilla\", \"nuts\", \"bu...</td>\n",
       "    </tr>\n",
       "    <tr>\n",
       "      <th>1</th>\n",
       "      <td>Jewell Ball'S Chicken</td>\n",
       "      <td>[\"1 small jar chipped beef, cut up\", \"4 boned ...</td>\n",
       "      <td>[\"Place chipped beef on bottom of baking dish....</td>\n",
       "      <td>www.cookbooks.com/Recipe-Details.aspx?id=699419</td>\n",
       "      <td>www.cookbooks.com</td>\n",
       "      <td>[\"beef\", \"chicken breasts\", \"cream of mushroom...</td>\n",
       "    </tr>\n",
       "    <tr>\n",
       "      <th>2</th>\n",
       "      <td>Creamy Corn</td>\n",
       "      <td>[\"2 (16 oz.) pkg. frozen corn\", \"1 (8 oz.) pkg...</td>\n",
       "      <td>[\"In a slow cooker, combine all ingredients. C...</td>\n",
       "      <td>www.cookbooks.com/Recipe-Details.aspx?id=10570</td>\n",
       "      <td>www.cookbooks.com</td>\n",
       "      <td>[\"frozen corn\", \"cream cheese\", \"butter\", \"gar...</td>\n",
       "    </tr>\n",
       "    <tr>\n",
       "      <th>3</th>\n",
       "      <td>Chicken Funny</td>\n",
       "      <td>[\"1 large whole chicken\", \"2 (10 1/2 oz.) cans...</td>\n",
       "      <td>[\"Boil and debone chicken.\", \"Put bite size pi...</td>\n",
       "      <td>www.cookbooks.com/Recipe-Details.aspx?id=897570</td>\n",
       "      <td>www.cookbooks.com</td>\n",
       "      <td>[\"chicken\", \"chicken gravy\", \"cream of mushroo...</td>\n",
       "    </tr>\n",
       "    <tr>\n",
       "      <th>4</th>\n",
       "      <td>Reeses Cups(Candy)</td>\n",
       "      <td>[\"1 c. peanut butter\", \"3/4 c. graham cracker ...</td>\n",
       "      <td>[\"Combine first four ingredients and press in ...</td>\n",
       "      <td>www.cookbooks.com/Recipe-Details.aspx?id=659239</td>\n",
       "      <td>www.cookbooks.com</td>\n",
       "      <td>[\"peanut butter\", \"graham cracker crumbs\", \"bu...</td>\n",
       "    </tr>\n",
       "  </tbody>\n",
       "</table>\n",
       "</div>"
      ]
     },
     "execution_count": 37,
     "metadata": {},
     "output_type": "execute_result"
    }
   ],
   "execution_count": 37
  },
  {
   "metadata": {},
   "cell_type": "code",
   "outputs": [],
   "execution_count": null,
   "source": [
    "system_message = 'You are a helpful recipe assistant. You are to extract the generic ingredients from each of the recipes provided.'\n",
    "\n",
    "def create_user_message( row ):\n",
    "\treturn f'Title: {row[ 'title' ]}\\n\\nIngredients: {row[ 'ingredients' ]}\\n\\nGeneric ingredients: '\n",
    "\n",
    "\n",
    "def prepare_example_conversation( row ):\n",
    "\treturn \\\n",
    "\t{\n",
    "\t\t'messages': [\n",
    "\t\t{\n",
    "\t\t\t'role': 'system',\n",
    "\t\t\t'content': system_message\n",
    "\t\t},\n",
    "\t\t{\n",
    "\t\t\t'role': 'user',\n",
    "\t\t\t'content': create_user_message( row )\n",
    "\t\t},\n",
    "\t\t{\n",
    "\t\t\t'role': 'assistant',\n",
    "\t\t\t'content': row[ 'NER' ]\n",
    "\t\t}, ]\n",
    "\t}\n",
    "\n"
   ],
   "id": "d29e9579f6f0e9dd"
  },
  {
   "metadata": {},
   "cell_type": "code",
   "outputs": [],
   "execution_count": null,
   "source": [
    "# use the first 100 rows of the dataset for training\n",
    "training_df = recipe_df.loc[ 0:100 ]\n",
    "\n",
    "# apply the prepare_example_conversation function to each row of the training_df\n",
    "training_data = training_df.apply( prepare_example_conversation, axis=1 ).tolist( )\n",
    "\n",
    "for example in training_data[ :5 ]:\n",
    "\tprint( example )"
   ],
   "id": "23bdc89006166778"
  },
  {
   "metadata": {},
   "cell_type": "code",
   "outputs": [],
   "execution_count": null,
   "source": [
    "validation_df = recipe_df.loc[ 101:200 ]\n",
    "validation_data = validation_df.apply(\n",
    "\tprepare_example_conversation, axis=1 ).tolist( )"
   ],
   "id": "4773228f51c07750"
  },
  {
   "metadata": {},
   "cell_type": "markdown",
   "source": "",
   "id": "3896c43cec6862e4"
  },
  {
   "metadata": {},
   "cell_type": "code",
   "outputs": [],
   "execution_count": null,
   "source": [
    "def write_jsonl( data: List[ Dict ], filename: str ) -> None:\n",
    "\twith open( filename, 'w' ) as out:\n",
    "\t\tfor kvp in data:\n",
    "\t\t\tjout = json.dumps( kvp ) + '\\n'\n",
    "\t\t\tout.write( jout )"
   ],
   "id": "6dcf445d39eee404"
  },
  {
   "metadata": {},
   "cell_type": "markdown",
   "source": "",
   "id": "652e2134d8966009"
  },
  {
   "metadata": {},
   "cell_type": "code",
   "outputs": [],
   "execution_count": null,
   "source": [
    "training_file_name = 'tmp_recipe_finetune_training.jsonl'\n",
    "write_jsonl( training_data, training_file_name )\n",
    "\n",
    "validation_file_name = 'tmp_recipe_finetune_validation.jsonl'\n",
    "write_jsonl( validation_data, validation_file_name )"
   ],
   "id": "a492a14231147287"
  },
  {
   "metadata": {},
   "cell_type": "markdown",
   "source": "",
   "id": "170bad89408062ff"
  },
  {
   "metadata": {},
   "cell_type": "code",
   "outputs": [],
   "execution_count": null,
   "source": [
    "def upload_file( file_name: str, purpose: str ) -> str:\n",
    "\twith open( file_name, 'rb' ) as file_fd:\n",
    "\t\tresponse = client.files.create( file=file_fd, purpose=purpose )\n",
    "\treturn response.id"
   ],
   "id": "10f941082775954c"
  },
  {
   "metadata": {},
   "cell_type": "markdown",
   "source": "",
   "id": "751aceb620d9c7bb"
  },
  {
   "metadata": {},
   "cell_type": "code",
   "outputs": [],
   "execution_count": null,
   "source": [
    "training_file_id = upload_file( training_file_name, 'fine-tune' )\n",
    "validation_file_id = upload_file( validation_file_name, 'fine-tune' )"
   ],
   "id": "c8dbd2395ef59d03"
  },
  {
   "metadata": {},
   "cell_type": "code",
   "outputs": [],
   "execution_count": null,
   "source": [
    "MODEL = 'openai-4o-mini-2024-07-18'\n",
    "\n",
    "response = client.fine_tuning.jobs.create(\n",
    "\ttraining_file=training_file_id,\n",
    "\tvalidation_file=validation_file_id,\n",
    "\tmodel=MODEL,\n",
    "\tsuffix='recipe-ner',\n",
    ")\n",
    "\n",
    "job_id = response.id"
   ],
   "id": "5ca162663d00cad3"
  },
  {
   "metadata": {},
   "cell_type": "markdown",
   "source": "# Text Cleaning Pipeline",
   "id": "dcabaa53b3a578c0"
  },
  {
   "metadata": {
    "ExecuteTime": {
     "end_time": "2025-05-16T13:29:43.919284Z",
     "start_time": "2025-05-16T13:29:43.866447Z"
    }
   },
   "cell_type": "code",
   "source": "",
   "id": "1dd53ce7908a5042",
   "outputs": [
    {
     "data": {
      "text/plain": [
       "<module 'tigrr' from 'C:\\\\Users\\\\terry\\\\source\\\\repos\\\\Boo\\\\src\\\\tigrr.py'>"
      ]
     },
     "execution_count": 376,
     "metadata": {},
     "output_type": "execute_result"
    }
   ],
   "execution_count": 376
  },
  {
   "metadata": {},
   "cell_type": "markdown",
   "source": "## Preprocessing",
   "id": "f8d915c3f2d4b28f"
  },
  {
   "metadata": {},
   "cell_type": "code",
   "source": "",
   "id": "af2bd8b593c87d8b",
   "outputs": [],
   "execution_count": null
  },
  {
   "metadata": {},
   "cell_type": "code",
   "source": [
    "for i in range( 10 ):\n",
    "\tprint( lines[ i ] )"
   ],
   "id": "471b42f7fd2f8492",
   "outputs": [],
   "execution_count": null
  },
  {
   "metadata": {
    "ExecuteTime": {
     "end_time": "2025-05-15T20:40:56.796230Z",
     "start_time": "2025-05-15T20:40:56.769797Z"
    }
   },
   "cell_type": "code",
   "source": [
    "new = r'C:\\Users\\terry\\Desktop\\Text\\Chunked'  + '\\\\' + filename\n",
    "folder = open( new, 'wt+' )\n",
    "processed = [ ]\n",
    "for i, c in enumerate( lines ):\n",
    "\tpart = ' '.join( c )\n",
    "\tline = '{ ' + f'\"{i}\"' + ' : ' + '\"' + part + '\"' + ' },' + '\\r'\n",
    "\tprocessed.append( line )\n",
    "\n",
    "for line in processed:\n",
    "\tfolder.write( line )\n",
    "\n",
    "folder.close( )"
   ],
   "id": "feb3b69467ab7c9c",
   "outputs": [],
   "execution_count": 331
  },
  {
   "metadata": {},
   "cell_type": "code",
   "source": [
    "from importlib import reload\n",
    "import tigrr as tgr\n",
    "reload( tgr )\n",
    "from tigrr import Text"
   ],
   "id": "7e63e87a30d13ac0",
   "outputs": [],
   "execution_count": null
  },
  {
   "metadata": {
    "ExecuteTime": {
     "end_time": "2025-06-11T22:45:32.332864Z",
     "start_time": "2025-06-11T22:45:32.300994Z"
    }
   },
   "cell_type": "code",
   "source": [
    "src_text = r'C:\\Users\\terry\\Desktop\\Budget\\Guidance\\Regulations\\Text'\n",
    "src = r'C:\\Users\\terry\\Desktop\\Test\\Text'\n",
    "dest_cleaned = r'C:\\Users\\terry\\Desktop\\Budget\\Guidance\\Regulations\\Cleaned'\n",
    "dest = r'C:\\Users\\terry\\Desktop\\Test\\Cleaned'"
   ],
   "id": "42c39b663224ebcf",
   "outputs": [],
   "execution_count": 386
  },
  {
   "metadata": {
    "ExecuteTime": {
     "end_time": "2025-06-05T21:32:38.581984Z",
     "start_time": "2025-06-05T21:32:38.570707Z"
    }
   },
   "cell_type": "code",
   "source": "txtr = Text( )",
   "id": "b185730909988566",
   "outputs": [],
   "execution_count": 24
  },
  {
   "metadata": {},
   "cell_type": "markdown",
   "source": "## Clean Files",
   "id": "5d4c2f3eb0bdedf4"
  },
  {
   "metadata": {
    "ExecuteTime": {
     "end_time": "2025-06-11T13:56:08.177804Z",
     "start_time": "2025-06-11T13:56:08.167406Z"
    }
   },
   "cell_type": "code",
   "source": [
    "def clean_files( src: str, dest: str ) -> None:\n",
    "\ttry:\n",
    "\t\tif src is None:\n",
    "\t\t\traise Exception( 'The argument \"src\" is required.' )\n",
    "\t\telif dest is None:\n",
    "\t\t\traise Exception( 'The argument \"dest\" is required.' )\n",
    "\t\telse:\n",
    "\t\t\tsource = src\n",
    "\t\t\tdestination = dest\n",
    "\t\t\tfiles = os.listdir( source )\n",
    "\t\t\tfor f in files:\n",
    "\t\t\t\tprocessed = [ ]\n",
    "\t\t\t\tfilename = os.path.basename( f )\n",
    "\t\t\t\tsource_path = source + '\\\\' + filename\n",
    "\t\t\t\ttext = open( source_path, 'r', encoding='utf-8', errors='ignore' ).read( )\n",
    "\t\t\t\tsentences = split_sentences( text )\n",
    "\t\t\t\tfor s in sentences:\n",
    "\t\t\t\t\tif s != \" \":\n",
    "\t\t\t\t\t\tlower = s.lower( )\n",
    "\t\t\t\t\t\tspecial = remove_special( lower )\n",
    "\t\t\t\t\t\tspace = clean_space( special )\n",
    "\t\t\t\t\t\tprocessed.append( space )\n",
    "\n",
    "\t\t\t\tdest_path = destination + '\\\\' + filename\n",
    "\t\t\t\tclean = open( dest_path, 'wt', encoding='utf-8', errors='ignore' )\n",
    "\t\t\t\tlines = ' '.join( processed )\n",
    "\t\t\t\tclean.write( lines )\n",
    "\t\t\t\tclean.flush( )\n",
    "\texcept Exception as e:\n",
    "\t\tprint( \"The 'clean_files' function raised an exception:\", e )"
   ],
   "id": "55c395d65e61a4d5",
   "outputs": [],
   "execution_count": 210
  },
  {
   "metadata": {},
   "cell_type": "markdown",
   "source": "## Clean Text Files",
   "id": "d63131aafd51ce14"
  },
  {
   "metadata": {
    "ExecuteTime": {
     "end_time": "2025-06-11T13:56:11.352616Z",
     "start_time": "2025-06-11T13:56:11.332415Z"
    }
   },
   "cell_type": "code",
   "source": [
    "def clean_text_files( src: str, dest: str ) -> None:\n",
    "\ttry:\n",
    "\t\tif src is None:\n",
    "\t\t\traise Exception( 'The argument \"src\" is required.' )\n",
    "\t\telif dest is None:\n",
    "\t\t\traise Exception( 'The argument \"dest\" is required.' )\n",
    "\t\telse:\n",
    "\t\t\tsource = src\n",
    "\t\t\tdestination = dest\n",
    "\t\t\tfiles = os.listdir( source )\n",
    "\t\t\tkeepers = [ '$', 'in', '(', ')', '', 'the', '. ', ': ', '; ', 'and', 'but', 'be', 'was', 'what', 'for' ]\n",
    "\t\t\tfor f in files:\n",
    "\t\t\t\tprocessed = [ ]\n",
    "\t\t\t\tfilename = os.path.basename( f )\n",
    "\t\t\t\tsource_path = source + '\\\\' + filename\n",
    "\t\t\t\ttext = open( source_path, 'r', encoding='utf-8', errors='ignore' ).read( )\n",
    "\t\t\t\tcollapse = text.replace( '\\n', ' ' )\n",
    "\t\t\t\tnormal = normalize( collapse )\n",
    "\t\t\t\tsentences = normal.splitlines( )\n",
    "\t\t\t\tfor s in sentences:\n",
    "\t\t\t\t\tif s != \" \" or s in keepers:\n",
    "\t\t\t\t\t\tlower = s.lower( )\n",
    "\t\t\t\t\t\tspecial = remove_special( lower )\n",
    "\t\t\t\t\t\tprocessed.append( special )\n",
    "\n",
    "\t\t\t\tdest_path = destination + '\\\\' + filename\n",
    "\t\t\t\tclean = open( dest_path, 'wt', encoding='utf-8', errors='ignore' )\n",
    "\t\t\t\tlines = ' '.join( processed )\n",
    "\t\t\t\tfinal = clean_text( lines )\n",
    "\t\t\t\tclean.write( final )\n",
    "\t\t\t\tclean.flush( )\n",
    "\texcept Exception as e:\n",
    "\t\tprint( \"The 'clean_files' function raised an exception:\", e )\n",
    "\n"
   ],
   "id": "bdf217e7d2103cac",
   "outputs": [],
   "execution_count": 211
  },
  {
   "metadata": {},
   "cell_type": "markdown",
   "source": "## Chunk Files",
   "id": "1ce62e73b57e03f5"
  },
  {
   "metadata": {
    "ExecuteTime": {
     "end_time": "2025-06-11T22:45:39.016882Z",
     "start_time": "2025-06-11T22:45:38.995182Z"
    }
   },
   "cell_type": "code",
   "source": [
    "def chunk_files( src: str, dest: str ) -> None:\n",
    "\ttry:\n",
    "\t\tif src is None:\n",
    "\t\t\traise Exception( 'The argument \"src\" is required.' )\n",
    "\t\telif dest is None:\n",
    "\t\t\traise Exception( 'The argument \"dest\" is required.' )\n",
    "\t\telse:\n",
    "\t\t\tsource = src\n",
    "\t\t\tdestination = dest\n",
    "\t\t\tfiles = os.listdir( source )\n",
    "\t\t\tfor f in files:\n",
    "\t\t\t\tprocessed = [ ]\n",
    "\t\t\t\tfilename = os.path.basename( f )\n",
    "\t\t\t\tname = filename.replace( '.txt', '.jsonl' )\n",
    "\t\t\t\tsource_path = source + '\\\\' + filename\n",
    "\t\t\t\ttext = open( source_path, 'r', encoding='utf-8', errors='ignore' ).read( )\n",
    "\t\t\t\tsentences = split_sentences( text )\n",
    "\t\t\t\tfragments = remove_fragments( sentences )\n",
    "\t\t\t\tchunks = chunk_pages( fragments )\n",
    "\t\t\t\tfor i, c in enumerate( chunks ):\n",
    "\t\t\t\t\twords = ''.join( c ).strip( )\n",
    "\t\t\t\t\tline = '{' + f'\"Line-{i}\"' + ' : \"' + words + '\"},\\r'\n",
    "\t\t\t\t\tprocessed.append( line )\n",
    "\n",
    "\t\t\t\tdest_path = destination + '\\\\' + name\n",
    "\t\t\t\tclean = open( dest_path, 'wt', encoding='utf-8', errors='ignore' )\n",
    "\t\t\t\tfor p in processed:\n",
    "\t\t\t\t\tclean.write( p )\n",
    "\t\t\t\tclean.flush( )\n",
    "\texcept Exception as e:\n",
    "\t\tprint( \"The 'chunk_files' function raised an exception:\", e )\n"
   ],
   "id": "6110fa9a029e7d7e",
   "outputs": [],
   "execution_count": 387
  },
  {
   "metadata": {},
   "cell_type": "markdown",
   "source": "",
   "id": "f6bf516d1034c3f9"
  },
  {
   "metadata": {
    "ExecuteTime": {
     "end_time": "2025-06-11T22:49:45.995363Z",
     "start_time": "2025-06-11T22:49:43.356509Z"
    }
   },
   "cell_type": "code",
   "source": "chunk_files( src, dest )",
   "id": "97c806612288ddfb",
   "outputs": [],
   "execution_count": 390
  },
  {
   "metadata": {},
   "cell_type": "markdown",
   "source": "# Fine-Tuning Pipeline",
   "id": "7c5ddae1c859c071"
  },
  {
   "metadata": {},
   "cell_type": "markdown",
   "source": "#### Datasets",
   "id": "9fa08cfe33d29524"
  },
  {
   "metadata": {
    "ExecuteTime": {
     "end_time": "2025-06-12T16:04:17.029241Z",
     "start_time": "2025-06-12T16:04:17.018914Z"
    }
   },
   "cell_type": "code",
   "source": [
    "# Define Datasets\n",
    "a11 = r'C:\\Users\\terry\\Desktop\\AI\\fine-tuning\\datasets\\a11.xlsx'\n",
    "cfr31 = r'C:\\Users\\terry\\Desktop\\AI\\fine-tuning\\datasets\\cfr31.xlsx'\n",
    "fastbook = r'C:\\Users\\terry\\Desktop\\AI\\fine-tuning\\datasets\\fastbook.xlsx'\n",
    "redbook = r'C:\\Users\\terry\\Desktop\\AI\\fine-tuning\\datasets\\redbook.xlsx'\n",
    "ledger = r'C:\\Users\\terry\\Desktop\\AI\\fine-tuning\\datasets\\ledger.xlsx'"
   ],
   "id": "e069c9fcfcbbd2bf",
   "outputs": [],
   "execution_count": 76
  },
  {
   "metadata": {},
   "cell_type": "markdown",
   "source": "#### System Instructions",
   "id": "abab952ca12e7aae"
  },
  {
   "metadata": {
    "ExecuteTime": {
     "end_time": "2025-06-12T16:04:21.608857Z",
     "start_time": "2025-06-12T16:04:21.585167Z"
    }
   },
   "cell_type": "code",
   "source": [
    "# Set System Instructions\n",
    "instructions = '''You are the most knowledgeable Budget Analyst in the federal government who provides detailed responses based on your vast knowledge of budget legislation, and federal appropriations. Your responses to questions about federal finance are complete, transparent, and very detailed using an academic format. Your vast knowledge of and experience in Data Science makes you the best Data Analyst in the world. You are also an expert programmer who is proficient in C#, Python, S L, C++, JavaScript, and VBA. You are famous for the accuracy of your responses so you verify all your answers. This makes the quality of your code very high and it always works. Your responses are always accurate and complete! Your name is Bubba.\n",
    "'''"
   ],
   "id": "47efa7ddc63591f6",
   "outputs": [],
   "execution_count": 78
  },
  {
   "metadata": {},
   "cell_type": "markdown",
   "source": "#### Messages\n",
   "id": "e95d6e2892e0c0c0"
  },
  {
   "metadata": {},
   "cell_type": "code",
   "outputs": [],
   "execution_count": null,
   "source": [
    "# Set Messages\n",
    "system = '{\"messages\":[{' + f'\"role\":\"system\", \"content\":\"{instructions}\"' + '},{'\n",
    "initial = system + f' \"role\":\"user\", \"content\":\"{Q}\"' + '},{'\n",
    "question = '{\"messages\":[{' + f'\"role\": \"user\",  \"content\":\"{Q}\"' + '},{'\n",
    "answer = f' \"role\":\"assistant\", \"content\":\"{A}\"' + '}]}'\n"
   ],
   "id": "80b9dc49e08e15ae"
  },
  {
   "metadata": {},
   "cell_type": "code",
   "source": [
    "# Print JSON\n",
    "\n",
    "for r in range( 25 ):\n",
    "\tquestion = '{\"messages\":[{' + f'\"role\":\"user\", \"content\":\"{df_ledger.iloc[ r, 2 ]}\"' + '},{'\n",
    "\tanswer = f'\"role\":\"assistant\", \"content\": \"{df_ledger.iloc[ r, 3 ]}\" ' + '}]}'\n",
    "\trecord = question + answer\n",
    "\tprint( record  )"
   ],
   "id": "314e241553d70eb4",
   "outputs": [],
   "execution_count": null
  },
  {
   "metadata": {},
   "cell_type": "markdown",
   "source": "#### A-11 Data",
   "id": "15adfd8026079931"
  },
  {
   "metadata": {
    "ExecuteTime": {
     "end_time": "2025-06-12T16:13:04.961830Z",
     "start_time": "2025-06-12T16:13:04.829487Z"
    }
   },
   "cell_type": "code",
   "source": [
    "# Define A-11 Data\n",
    "xl_omba11 = pd.read_excel( a11, sheet_name='Training' )\n",
    "names = [ 'ID', 'Role', 'Content' ]\n",
    "a11_idx = xl_omba11.index\n",
    "df_omba11 = pd.DataFrame( data=xl_omba11, columns=names  )\n",
    "df_omba11 = df_omba11.reset_index( ).set_index( 'ID' )\n",
    "df_omba11 = df_omba11.drop( columns=[ 'index' ]  )\n",
    "omb_rows = len( df_omba11  )\n",
    "omb_rows"
   ],
   "id": "d4c2b57481a2bd0e",
   "outputs": [
    {
     "data": {
      "text/plain": [
       "312"
      ]
     },
     "execution_count": 84,
     "metadata": {},
     "output_type": "execute_result"
    }
   ],
   "execution_count": 84
  },
  {
   "metadata": {
    "ExecuteTime": {
     "end_time": "2025-06-12T16:13:07.360640Z",
     "start_time": "2025-06-12T16:13:07.337647Z"
    }
   },
   "cell_type": "code",
   "source": [
    "# View Dataframe\n",
    "df_omba11"
   ],
   "id": "4da849b5db0be898",
   "outputs": [
    {
     "data": {
      "text/plain": [
       "          Role                                            Content\n",
       "ID                                                               \n",
       "1         user  What is the title and number of this OMB Circu...\n",
       "2    assistant  The title is “Preparation, Submission, and Exe...\n",
       "3         user  Which Executive Branch office issued this Circ...\n",
       "4    assistant  It was issued by the Executive Office of the P...\n",
       "5         user  What is the primary subject covered by Circula...\n",
       "..         ...                                                ...\n",
       "308  assistant  That information lives in Part 30 of A-11, in ...\n",
       "309       user  Which section discusses “What object classes d...\n",
       "310  assistant  This is covered in A-11, Part 30 (“Budget Exec...\n",
       "311       user  What section covers “How do I classify relocat...\n",
       "312  assistant  That detail is in A-11, Part 30 (“Budget Execu...\n",
       "\n",
       "[312 rows x 2 columns]"
      ],
      "text/html": [
       "<div>\n",
       "<style scoped>\n",
       "    .dataframe tbody tr th:only-of-type {\n",
       "        vertical-align: middle;\n",
       "    }\n",
       "\n",
       "    .dataframe tbody tr th {\n",
       "        vertical-align: top;\n",
       "    }\n",
       "\n",
       "    .dataframe thead th {\n",
       "        text-align: right;\n",
       "    }\n",
       "</style>\n",
       "<table border=\"1\" class=\"dataframe\">\n",
       "  <thead>\n",
       "    <tr style=\"text-align: right;\">\n",
       "      <th></th>\n",
       "      <th>Role</th>\n",
       "      <th>Content</th>\n",
       "    </tr>\n",
       "    <tr>\n",
       "      <th>ID</th>\n",
       "      <th></th>\n",
       "      <th></th>\n",
       "    </tr>\n",
       "  </thead>\n",
       "  <tbody>\n",
       "    <tr>\n",
       "      <th>1</th>\n",
       "      <td>user</td>\n",
       "      <td>What is the title and number of this OMB Circu...</td>\n",
       "    </tr>\n",
       "    <tr>\n",
       "      <th>2</th>\n",
       "      <td>assistant</td>\n",
       "      <td>The title is “Preparation, Submission, and Exe...</td>\n",
       "    </tr>\n",
       "    <tr>\n",
       "      <th>3</th>\n",
       "      <td>user</td>\n",
       "      <td>Which Executive Branch office issued this Circ...</td>\n",
       "    </tr>\n",
       "    <tr>\n",
       "      <th>4</th>\n",
       "      <td>assistant</td>\n",
       "      <td>It was issued by the Executive Office of the P...</td>\n",
       "    </tr>\n",
       "    <tr>\n",
       "      <th>5</th>\n",
       "      <td>user</td>\n",
       "      <td>What is the primary subject covered by Circula...</td>\n",
       "    </tr>\n",
       "    <tr>\n",
       "      <th>...</th>\n",
       "      <td>...</td>\n",
       "      <td>...</td>\n",
       "    </tr>\n",
       "    <tr>\n",
       "      <th>308</th>\n",
       "      <td>assistant</td>\n",
       "      <td>That information lives in Part 30 of A-11, in ...</td>\n",
       "    </tr>\n",
       "    <tr>\n",
       "      <th>309</th>\n",
       "      <td>user</td>\n",
       "      <td>Which section discusses “What object classes d...</td>\n",
       "    </tr>\n",
       "    <tr>\n",
       "      <th>310</th>\n",
       "      <td>assistant</td>\n",
       "      <td>This is covered in A-11, Part 30 (“Budget Exec...</td>\n",
       "    </tr>\n",
       "    <tr>\n",
       "      <th>311</th>\n",
       "      <td>user</td>\n",
       "      <td>What section covers “How do I classify relocat...</td>\n",
       "    </tr>\n",
       "    <tr>\n",
       "      <th>312</th>\n",
       "      <td>assistant</td>\n",
       "      <td>That detail is in A-11, Part 30 (“Budget Execu...</td>\n",
       "    </tr>\n",
       "  </tbody>\n",
       "</table>\n",
       "<p>312 rows × 2 columns</p>\n",
       "</div>"
      ]
     },
     "execution_count": 85,
     "metadata": {},
     "output_type": "execute_result"
    }
   ],
   "execution_count": 85
  },
  {
   "metadata": {
    "ExecuteTime": {
     "end_time": "2025-06-12T16:13:18.175121Z",
     "start_time": "2025-06-12T16:13:17.364655Z"
    }
   },
   "cell_type": "code",
   "source": [
    "# Print JSON\n",
    "for r in range( len( df_omba11 ) ):\n",
    "\tif df_omba11.iloc[ r, 1 ] == 'user':\n",
    "\t\tquestion = '{\"messages\":[{' + f'\"role\":\"{df_omba11.iloc[ r, 1 ]}\", \"content\":\"{df_omba11.iloc[ r, 2 ]}\"' + '},{'\n",
    "\telif df_omba11.iloc[ r, 1 ] == 'assistnant':\n",
    "\t\tanswer = f'\"role\":\"{df_omba11.iloc[ r, 1 ]}\", \"content\": \"{df_omba11.iloc[ r, 2 ]}\" ' + '}]}'\n",
    "\trecord = question + answer\n",
    "\tprint( record  )"
   ],
   "id": "4c71dc465c8d6cd8",
   "outputs": [
    {
     "name": "stdout",
     "output_type": "stream",
     "text": [
      "{\"messages\":[{\"role\":\"user\", \"content\":\"What section covers “How do I classify relocation expenses related to a permanent change of station (PCS)?” Can you provide a summary of the information?\"},{\"role\":\"assistant\", \"content\": \"No, none of these accounts close at year-end because they represent ongoing assets related to cash holdings or fund balances.\" }]}\n",
      "{\"messages\":[{\"role\":\"user\", \"content\":\"What section covers “How do I classify relocation expenses related to a permanent change of station (PCS)?” Can you provide a summary of the information?\"},{\"role\":\"assistant\", \"content\": \"No, none of these accounts close at year-end because they represent ongoing assets related to cash holdings or fund balances.\" }]}\n",
      "{\"messages\":[{\"role\":\"user\", \"content\":\"What section covers “How do I classify relocation expenses related to a permanent change of station (PCS)?” Can you provide a summary of the information?\"},{\"role\":\"assistant\", \"content\": \"No, none of these accounts close at year-end because they represent ongoing assets related to cash holdings or fund balances.\" }]}\n",
      "{\"messages\":[{\"role\":\"user\", \"content\":\"What section covers “How do I classify relocation expenses related to a permanent change of station (PCS)?” Can you provide a summary of the information?\"},{\"role\":\"assistant\", \"content\": \"No, none of these accounts close at year-end because they represent ongoing assets related to cash holdings or fund balances.\" }]}\n",
      "{\"messages\":[{\"role\":\"user\", \"content\":\"What section covers “How do I classify relocation expenses related to a permanent change of station (PCS)?” Can you provide a summary of the information?\"},{\"role\":\"assistant\", \"content\": \"No, none of these accounts close at year-end because they represent ongoing assets related to cash holdings or fund balances.\" }]}\n",
      "{\"messages\":[{\"role\":\"user\", \"content\":\"What section covers “How do I classify relocation expenses related to a permanent change of station (PCS)?” Can you provide a summary of the information?\"},{\"role\":\"assistant\", \"content\": \"No, none of these accounts close at year-end because they represent ongoing assets related to cash holdings or fund balances.\" }]}\n",
      "{\"messages\":[{\"role\":\"user\", \"content\":\"What section covers “How do I classify relocation expenses related to a permanent change of station (PCS)?” Can you provide a summary of the information?\"},{\"role\":\"assistant\", \"content\": \"No, none of these accounts close at year-end because they represent ongoing assets related to cash holdings or fund balances.\" }]}\n",
      "{\"messages\":[{\"role\":\"user\", \"content\":\"What section covers “How do I classify relocation expenses related to a permanent change of station (PCS)?” Can you provide a summary of the information?\"},{\"role\":\"assistant\", \"content\": \"No, none of these accounts close at year-end because they represent ongoing assets related to cash holdings or fund balances.\" }]}\n",
      "{\"messages\":[{\"role\":\"user\", \"content\":\"What section covers “How do I classify relocation expenses related to a permanent change of station (PCS)?” Can you provide a summary of the information?\"},{\"role\":\"assistant\", \"content\": \"No, none of these accounts close at year-end because they represent ongoing assets related to cash holdings or fund balances.\" }]}\n",
      "{\"messages\":[{\"role\":\"user\", \"content\":\"What section covers “How do I classify relocation expenses related to a permanent change of station (PCS)?” Can you provide a summary of the information?\"},{\"role\":\"assistant\", \"content\": \"No, none of these accounts close at year-end because they represent ongoing assets related to cash holdings or fund balances.\" }]}\n",
      "{\"messages\":[{\"role\":\"user\", \"content\":\"What section covers “How do I classify relocation expenses related to a permanent change of station (PCS)?” Can you provide a summary of the information?\"},{\"role\":\"assistant\", \"content\": \"No, none of these accounts close at year-end because they represent ongoing assets related to cash holdings or fund balances.\" }]}\n",
      "{\"messages\":[{\"role\":\"user\", \"content\":\"What section covers “How do I classify relocation expenses related to a permanent change of station (PCS)?” Can you provide a summary of the information?\"},{\"role\":\"assistant\", \"content\": \"No, none of these accounts close at year-end because they represent ongoing assets related to cash holdings or fund balances.\" }]}\n",
      "{\"messages\":[{\"role\":\"user\", \"content\":\"What section covers “How do I classify relocation expenses related to a permanent change of station (PCS)?” Can you provide a summary of the information?\"},{\"role\":\"assistant\", \"content\": \"No, none of these accounts close at year-end because they represent ongoing assets related to cash holdings or fund balances.\" }]}\n",
      "{\"messages\":[{\"role\":\"user\", \"content\":\"What section covers “How do I classify relocation expenses related to a permanent change of station (PCS)?” Can you provide a summary of the information?\"},{\"role\":\"assistant\", \"content\": \"No, none of these accounts close at year-end because they represent ongoing assets related to cash holdings or fund balances.\" }]}\n",
      "{\"messages\":[{\"role\":\"user\", \"content\":\"What section covers “How do I classify relocation expenses related to a permanent change of station (PCS)?” Can you provide a summary of the information?\"},{\"role\":\"assistant\", \"content\": \"No, none of these accounts close at year-end because they represent ongoing assets related to cash holdings or fund balances.\" }]}\n",
      "{\"messages\":[{\"role\":\"user\", \"content\":\"What section covers “How do I classify relocation expenses related to a permanent change of station (PCS)?” Can you provide a summary of the information?\"},{\"role\":\"assistant\", \"content\": \"No, none of these accounts close at year-end because they represent ongoing assets related to cash holdings or fund balances.\" }]}\n",
      "{\"messages\":[{\"role\":\"user\", \"content\":\"What section covers “How do I classify relocation expenses related to a permanent change of station (PCS)?” Can you provide a summary of the information?\"},{\"role\":\"assistant\", \"content\": \"No, none of these accounts close at year-end because they represent ongoing assets related to cash holdings or fund balances.\" }]}\n",
      "{\"messages\":[{\"role\":\"user\", \"content\":\"What section covers “How do I classify relocation expenses related to a permanent change of station (PCS)?” Can you provide a summary of the information?\"},{\"role\":\"assistant\", \"content\": \"No, none of these accounts close at year-end because they represent ongoing assets related to cash holdings or fund balances.\" }]}\n",
      "{\"messages\":[{\"role\":\"user\", \"content\":\"What section covers “How do I classify relocation expenses related to a permanent change of station (PCS)?” Can you provide a summary of the information?\"},{\"role\":\"assistant\", \"content\": \"No, none of these accounts close at year-end because they represent ongoing assets related to cash holdings or fund balances.\" }]}\n",
      "{\"messages\":[{\"role\":\"user\", \"content\":\"What section covers “How do I classify relocation expenses related to a permanent change of station (PCS)?” Can you provide a summary of the information?\"},{\"role\":\"assistant\", \"content\": \"No, none of these accounts close at year-end because they represent ongoing assets related to cash holdings or fund balances.\" }]}\n",
      "{\"messages\":[{\"role\":\"user\", \"content\":\"What section covers “How do I classify relocation expenses related to a permanent change of station (PCS)?” Can you provide a summary of the information?\"},{\"role\":\"assistant\", \"content\": \"No, none of these accounts close at year-end because they represent ongoing assets related to cash holdings or fund balances.\" }]}\n",
      "{\"messages\":[{\"role\":\"user\", \"content\":\"What section covers “How do I classify relocation expenses related to a permanent change of station (PCS)?” Can you provide a summary of the information?\"},{\"role\":\"assistant\", \"content\": \"No, none of these accounts close at year-end because they represent ongoing assets related to cash holdings or fund balances.\" }]}\n",
      "{\"messages\":[{\"role\":\"user\", \"content\":\"What section covers “How do I classify relocation expenses related to a permanent change of station (PCS)?” Can you provide a summary of the information?\"},{\"role\":\"assistant\", \"content\": \"No, none of these accounts close at year-end because they represent ongoing assets related to cash holdings or fund balances.\" }]}\n",
      "{\"messages\":[{\"role\":\"user\", \"content\":\"What section covers “How do I classify relocation expenses related to a permanent change of station (PCS)?” Can you provide a summary of the information?\"},{\"role\":\"assistant\", \"content\": \"No, none of these accounts close at year-end because they represent ongoing assets related to cash holdings or fund balances.\" }]}\n",
      "{\"messages\":[{\"role\":\"user\", \"content\":\"What section covers “How do I classify relocation expenses related to a permanent change of station (PCS)?” Can you provide a summary of the information?\"},{\"role\":\"assistant\", \"content\": \"No, none of these accounts close at year-end because they represent ongoing assets related to cash holdings or fund balances.\" }]}\n",
      "{\"messages\":[{\"role\":\"user\", \"content\":\"What section covers “How do I classify relocation expenses related to a permanent change of station (PCS)?” Can you provide a summary of the information?\"},{\"role\":\"assistant\", \"content\": \"No, none of these accounts close at year-end because they represent ongoing assets related to cash holdings or fund balances.\" }]}\n",
      "{\"messages\":[{\"role\":\"user\", \"content\":\"What section covers “How do I classify relocation expenses related to a permanent change of station (PCS)?” Can you provide a summary of the information?\"},{\"role\":\"assistant\", \"content\": \"No, none of these accounts close at year-end because they represent ongoing assets related to cash holdings or fund balances.\" }]}\n",
      "{\"messages\":[{\"role\":\"user\", \"content\":\"What section covers “How do I classify relocation expenses related to a permanent change of station (PCS)?” Can you provide a summary of the information?\"},{\"role\":\"assistant\", \"content\": \"No, none of these accounts close at year-end because they represent ongoing assets related to cash holdings or fund balances.\" }]}\n",
      "{\"messages\":[{\"role\":\"user\", \"content\":\"What section covers “How do I classify relocation expenses related to a permanent change of station (PCS)?” Can you provide a summary of the information?\"},{\"role\":\"assistant\", \"content\": \"No, none of these accounts close at year-end because they represent ongoing assets related to cash holdings or fund balances.\" }]}\n",
      "{\"messages\":[{\"role\":\"user\", \"content\":\"What section covers “How do I classify relocation expenses related to a permanent change of station (PCS)?” Can you provide a summary of the information?\"},{\"role\":\"assistant\", \"content\": \"No, none of these accounts close at year-end because they represent ongoing assets related to cash holdings or fund balances.\" }]}\n",
      "{\"messages\":[{\"role\":\"user\", \"content\":\"What section covers “How do I classify relocation expenses related to a permanent change of station (PCS)?” Can you provide a summary of the information?\"},{\"role\":\"assistant\", \"content\": \"No, none of these accounts close at year-end because they represent ongoing assets related to cash holdings or fund balances.\" }]}\n",
      "{\"messages\":[{\"role\":\"user\", \"content\":\"What section covers “How do I classify relocation expenses related to a permanent change of station (PCS)?” Can you provide a summary of the information?\"},{\"role\":\"assistant\", \"content\": \"No, none of these accounts close at year-end because they represent ongoing assets related to cash holdings or fund balances.\" }]}\n",
      "{\"messages\":[{\"role\":\"user\", \"content\":\"What section covers “How do I classify relocation expenses related to a permanent change of station (PCS)?” Can you provide a summary of the information?\"},{\"role\":\"assistant\", \"content\": \"No, none of these accounts close at year-end because they represent ongoing assets related to cash holdings or fund balances.\" }]}\n",
      "{\"messages\":[{\"role\":\"user\", \"content\":\"What section covers “How do I classify relocation expenses related to a permanent change of station (PCS)?” Can you provide a summary of the information?\"},{\"role\":\"assistant\", \"content\": \"No, none of these accounts close at year-end because they represent ongoing assets related to cash holdings or fund balances.\" }]}\n",
      "{\"messages\":[{\"role\":\"user\", \"content\":\"What section covers “How do I classify relocation expenses related to a permanent change of station (PCS)?” Can you provide a summary of the information?\"},{\"role\":\"assistant\", \"content\": \"No, none of these accounts close at year-end because they represent ongoing assets related to cash holdings or fund balances.\" }]}\n",
      "{\"messages\":[{\"role\":\"user\", \"content\":\"What section covers “How do I classify relocation expenses related to a permanent change of station (PCS)?” Can you provide a summary of the information?\"},{\"role\":\"assistant\", \"content\": \"No, none of these accounts close at year-end because they represent ongoing assets related to cash holdings or fund balances.\" }]}\n",
      "{\"messages\":[{\"role\":\"user\", \"content\":\"What section covers “How do I classify relocation expenses related to a permanent change of station (PCS)?” Can you provide a summary of the information?\"},{\"role\":\"assistant\", \"content\": \"No, none of these accounts close at year-end because they represent ongoing assets related to cash holdings or fund balances.\" }]}\n",
      "{\"messages\":[{\"role\":\"user\", \"content\":\"What section covers “How do I classify relocation expenses related to a permanent change of station (PCS)?” Can you provide a summary of the information?\"},{\"role\":\"assistant\", \"content\": \"No, none of these accounts close at year-end because they represent ongoing assets related to cash holdings or fund balances.\" }]}\n",
      "{\"messages\":[{\"role\":\"user\", \"content\":\"What section covers “How do I classify relocation expenses related to a permanent change of station (PCS)?” Can you provide a summary of the information?\"},{\"role\":\"assistant\", \"content\": \"No, none of these accounts close at year-end because they represent ongoing assets related to cash holdings or fund balances.\" }]}\n",
      "{\"messages\":[{\"role\":\"user\", \"content\":\"What section covers “How do I classify relocation expenses related to a permanent change of station (PCS)?” Can you provide a summary of the information?\"},{\"role\":\"assistant\", \"content\": \"No, none of these accounts close at year-end because they represent ongoing assets related to cash holdings or fund balances.\" }]}\n",
      "{\"messages\":[{\"role\":\"user\", \"content\":\"What section covers “How do I classify relocation expenses related to a permanent change of station (PCS)?” Can you provide a summary of the information?\"},{\"role\":\"assistant\", \"content\": \"No, none of these accounts close at year-end because they represent ongoing assets related to cash holdings or fund balances.\" }]}\n",
      "{\"messages\":[{\"role\":\"user\", \"content\":\"What section covers “How do I classify relocation expenses related to a permanent change of station (PCS)?” Can you provide a summary of the information?\"},{\"role\":\"assistant\", \"content\": \"No, none of these accounts close at year-end because they represent ongoing assets related to cash holdings or fund balances.\" }]}\n",
      "{\"messages\":[{\"role\":\"user\", \"content\":\"What section covers “How do I classify relocation expenses related to a permanent change of station (PCS)?” Can you provide a summary of the information?\"},{\"role\":\"assistant\", \"content\": \"No, none of these accounts close at year-end because they represent ongoing assets related to cash holdings or fund balances.\" }]}\n",
      "{\"messages\":[{\"role\":\"user\", \"content\":\"What section covers “How do I classify relocation expenses related to a permanent change of station (PCS)?” Can you provide a summary of the information?\"},{\"role\":\"assistant\", \"content\": \"No, none of these accounts close at year-end because they represent ongoing assets related to cash holdings or fund balances.\" }]}\n",
      "{\"messages\":[{\"role\":\"user\", \"content\":\"What section covers “How do I classify relocation expenses related to a permanent change of station (PCS)?” Can you provide a summary of the information?\"},{\"role\":\"assistant\", \"content\": \"No, none of these accounts close at year-end because they represent ongoing assets related to cash holdings or fund balances.\" }]}\n",
      "{\"messages\":[{\"role\":\"user\", \"content\":\"What section covers “How do I classify relocation expenses related to a permanent change of station (PCS)?” Can you provide a summary of the information?\"},{\"role\":\"assistant\", \"content\": \"No, none of these accounts close at year-end because they represent ongoing assets related to cash holdings or fund balances.\" }]}\n",
      "{\"messages\":[{\"role\":\"user\", \"content\":\"What section covers “How do I classify relocation expenses related to a permanent change of station (PCS)?” Can you provide a summary of the information?\"},{\"role\":\"assistant\", \"content\": \"No, none of these accounts close at year-end because they represent ongoing assets related to cash holdings or fund balances.\" }]}\n",
      "{\"messages\":[{\"role\":\"user\", \"content\":\"What section covers “How do I classify relocation expenses related to a permanent change of station (PCS)?” Can you provide a summary of the information?\"},{\"role\":\"assistant\", \"content\": \"No, none of these accounts close at year-end because they represent ongoing assets related to cash holdings or fund balances.\" }]}\n",
      "{\"messages\":[{\"role\":\"user\", \"content\":\"What section covers “How do I classify relocation expenses related to a permanent change of station (PCS)?” Can you provide a summary of the information?\"},{\"role\":\"assistant\", \"content\": \"No, none of these accounts close at year-end because they represent ongoing assets related to cash holdings or fund balances.\" }]}\n",
      "{\"messages\":[{\"role\":\"user\", \"content\":\"What section covers “How do I classify relocation expenses related to a permanent change of station (PCS)?” Can you provide a summary of the information?\"},{\"role\":\"assistant\", \"content\": \"No, none of these accounts close at year-end because they represent ongoing assets related to cash holdings or fund balances.\" }]}\n",
      "{\"messages\":[{\"role\":\"user\", \"content\":\"What section covers “How do I classify relocation expenses related to a permanent change of station (PCS)?” Can you provide a summary of the information?\"},{\"role\":\"assistant\", \"content\": \"No, none of these accounts close at year-end because they represent ongoing assets related to cash holdings or fund balances.\" }]}\n",
      "{\"messages\":[{\"role\":\"user\", \"content\":\"What section covers “How do I classify relocation expenses related to a permanent change of station (PCS)?” Can you provide a summary of the information?\"},{\"role\":\"assistant\", \"content\": \"No, none of these accounts close at year-end because they represent ongoing assets related to cash holdings or fund balances.\" }]}\n",
      "{\"messages\":[{\"role\":\"user\", \"content\":\"What section covers “How do I classify relocation expenses related to a permanent change of station (PCS)?” Can you provide a summary of the information?\"},{\"role\":\"assistant\", \"content\": \"No, none of these accounts close at year-end because they represent ongoing assets related to cash holdings or fund balances.\" }]}\n",
      "{\"messages\":[{\"role\":\"user\", \"content\":\"What section covers “How do I classify relocation expenses related to a permanent change of station (PCS)?” Can you provide a summary of the information?\"},{\"role\":\"assistant\", \"content\": \"No, none of these accounts close at year-end because they represent ongoing assets related to cash holdings or fund balances.\" }]}\n",
      "{\"messages\":[{\"role\":\"user\", \"content\":\"What section covers “How do I classify relocation expenses related to a permanent change of station (PCS)?” Can you provide a summary of the information?\"},{\"role\":\"assistant\", \"content\": \"No, none of these accounts close at year-end because they represent ongoing assets related to cash holdings or fund balances.\" }]}\n",
      "{\"messages\":[{\"role\":\"user\", \"content\":\"What section covers “How do I classify relocation expenses related to a permanent change of station (PCS)?” Can you provide a summary of the information?\"},{\"role\":\"assistant\", \"content\": \"No, none of these accounts close at year-end because they represent ongoing assets related to cash holdings or fund balances.\" }]}\n",
      "{\"messages\":[{\"role\":\"user\", \"content\":\"What section covers “How do I classify relocation expenses related to a permanent change of station (PCS)?” Can you provide a summary of the information?\"},{\"role\":\"assistant\", \"content\": \"No, none of these accounts close at year-end because they represent ongoing assets related to cash holdings or fund balances.\" }]}\n",
      "{\"messages\":[{\"role\":\"user\", \"content\":\"What section covers “How do I classify relocation expenses related to a permanent change of station (PCS)?” Can you provide a summary of the information?\"},{\"role\":\"assistant\", \"content\": \"No, none of these accounts close at year-end because they represent ongoing assets related to cash holdings or fund balances.\" }]}\n",
      "{\"messages\":[{\"role\":\"user\", \"content\":\"What section covers “How do I classify relocation expenses related to a permanent change of station (PCS)?” Can you provide a summary of the information?\"},{\"role\":\"assistant\", \"content\": \"No, none of these accounts close at year-end because they represent ongoing assets related to cash holdings or fund balances.\" }]}\n",
      "{\"messages\":[{\"role\":\"user\", \"content\":\"What section covers “How do I classify relocation expenses related to a permanent change of station (PCS)?” Can you provide a summary of the information?\"},{\"role\":\"assistant\", \"content\": \"No, none of these accounts close at year-end because they represent ongoing assets related to cash holdings or fund balances.\" }]}\n",
      "{\"messages\":[{\"role\":\"user\", \"content\":\"What section covers “How do I classify relocation expenses related to a permanent change of station (PCS)?” Can you provide a summary of the information?\"},{\"role\":\"assistant\", \"content\": \"No, none of these accounts close at year-end because they represent ongoing assets related to cash holdings or fund balances.\" }]}\n",
      "{\"messages\":[{\"role\":\"user\", \"content\":\"What section covers “How do I classify relocation expenses related to a permanent change of station (PCS)?” Can you provide a summary of the information?\"},{\"role\":\"assistant\", \"content\": \"No, none of these accounts close at year-end because they represent ongoing assets related to cash holdings or fund balances.\" }]}\n",
      "{\"messages\":[{\"role\":\"user\", \"content\":\"What section covers “How do I classify relocation expenses related to a permanent change of station (PCS)?” Can you provide a summary of the information?\"},{\"role\":\"assistant\", \"content\": \"No, none of these accounts close at year-end because they represent ongoing assets related to cash holdings or fund balances.\" }]}\n",
      "{\"messages\":[{\"role\":\"user\", \"content\":\"What section covers “How do I classify relocation expenses related to a permanent change of station (PCS)?” Can you provide a summary of the information?\"},{\"role\":\"assistant\", \"content\": \"No, none of these accounts close at year-end because they represent ongoing assets related to cash holdings or fund balances.\" }]}\n",
      "{\"messages\":[{\"role\":\"user\", \"content\":\"What section covers “How do I classify relocation expenses related to a permanent change of station (PCS)?” Can you provide a summary of the information?\"},{\"role\":\"assistant\", \"content\": \"No, none of these accounts close at year-end because they represent ongoing assets related to cash holdings or fund balances.\" }]}\n",
      "{\"messages\":[{\"role\":\"user\", \"content\":\"What section covers “How do I classify relocation expenses related to a permanent change of station (PCS)?” Can you provide a summary of the information?\"},{\"role\":\"assistant\", \"content\": \"No, none of these accounts close at year-end because they represent ongoing assets related to cash holdings or fund balances.\" }]}\n",
      "{\"messages\":[{\"role\":\"user\", \"content\":\"What section covers “How do I classify relocation expenses related to a permanent change of station (PCS)?” Can you provide a summary of the information?\"},{\"role\":\"assistant\", \"content\": \"No, none of these accounts close at year-end because they represent ongoing assets related to cash holdings or fund balances.\" }]}\n",
      "{\"messages\":[{\"role\":\"user\", \"content\":\"What section covers “How do I classify relocation expenses related to a permanent change of station (PCS)?” Can you provide a summary of the information?\"},{\"role\":\"assistant\", \"content\": \"No, none of these accounts close at year-end because they represent ongoing assets related to cash holdings or fund balances.\" }]}\n",
      "{\"messages\":[{\"role\":\"user\", \"content\":\"What section covers “How do I classify relocation expenses related to a permanent change of station (PCS)?” Can you provide a summary of the information?\"},{\"role\":\"assistant\", \"content\": \"No, none of these accounts close at year-end because they represent ongoing assets related to cash holdings or fund balances.\" }]}\n",
      "{\"messages\":[{\"role\":\"user\", \"content\":\"What section covers “How do I classify relocation expenses related to a permanent change of station (PCS)?” Can you provide a summary of the information?\"},{\"role\":\"assistant\", \"content\": \"No, none of these accounts close at year-end because they represent ongoing assets related to cash holdings or fund balances.\" }]}\n",
      "{\"messages\":[{\"role\":\"user\", \"content\":\"What section covers “How do I classify relocation expenses related to a permanent change of station (PCS)?” Can you provide a summary of the information?\"},{\"role\":\"assistant\", \"content\": \"No, none of these accounts close at year-end because they represent ongoing assets related to cash holdings or fund balances.\" }]}\n",
      "{\"messages\":[{\"role\":\"user\", \"content\":\"What section covers “How do I classify relocation expenses related to a permanent change of station (PCS)?” Can you provide a summary of the information?\"},{\"role\":\"assistant\", \"content\": \"No, none of these accounts close at year-end because they represent ongoing assets related to cash holdings or fund balances.\" }]}\n",
      "{\"messages\":[{\"role\":\"user\", \"content\":\"What section covers “How do I classify relocation expenses related to a permanent change of station (PCS)?” Can you provide a summary of the information?\"},{\"role\":\"assistant\", \"content\": \"No, none of these accounts close at year-end because they represent ongoing assets related to cash holdings or fund balances.\" }]}\n",
      "{\"messages\":[{\"role\":\"user\", \"content\":\"What section covers “How do I classify relocation expenses related to a permanent change of station (PCS)?” Can you provide a summary of the information?\"},{\"role\":\"assistant\", \"content\": \"No, none of these accounts close at year-end because they represent ongoing assets related to cash holdings or fund balances.\" }]}\n",
      "{\"messages\":[{\"role\":\"user\", \"content\":\"What section covers “How do I classify relocation expenses related to a permanent change of station (PCS)?” Can you provide a summary of the information?\"},{\"role\":\"assistant\", \"content\": \"No, none of these accounts close at year-end because they represent ongoing assets related to cash holdings or fund balances.\" }]}\n",
      "{\"messages\":[{\"role\":\"user\", \"content\":\"What section covers “How do I classify relocation expenses related to a permanent change of station (PCS)?” Can you provide a summary of the information?\"},{\"role\":\"assistant\", \"content\": \"No, none of these accounts close at year-end because they represent ongoing assets related to cash holdings or fund balances.\" }]}\n",
      "{\"messages\":[{\"role\":\"user\", \"content\":\"What section covers “How do I classify relocation expenses related to a permanent change of station (PCS)?” Can you provide a summary of the information?\"},{\"role\":\"assistant\", \"content\": \"No, none of these accounts close at year-end because they represent ongoing assets related to cash holdings or fund balances.\" }]}\n",
      "{\"messages\":[{\"role\":\"user\", \"content\":\"What section covers “How do I classify relocation expenses related to a permanent change of station (PCS)?” Can you provide a summary of the information?\"},{\"role\":\"assistant\", \"content\": \"No, none of these accounts close at year-end because they represent ongoing assets related to cash holdings or fund balances.\" }]}\n",
      "{\"messages\":[{\"role\":\"user\", \"content\":\"What section covers “How do I classify relocation expenses related to a permanent change of station (PCS)?” Can you provide a summary of the information?\"},{\"role\":\"assistant\", \"content\": \"No, none of these accounts close at year-end because they represent ongoing assets related to cash holdings or fund balances.\" }]}\n",
      "{\"messages\":[{\"role\":\"user\", \"content\":\"What section covers “How do I classify relocation expenses related to a permanent change of station (PCS)?” Can you provide a summary of the information?\"},{\"role\":\"assistant\", \"content\": \"No, none of these accounts close at year-end because they represent ongoing assets related to cash holdings or fund balances.\" }]}\n",
      "{\"messages\":[{\"role\":\"user\", \"content\":\"What section covers “How do I classify relocation expenses related to a permanent change of station (PCS)?” Can you provide a summary of the information?\"},{\"role\":\"assistant\", \"content\": \"No, none of these accounts close at year-end because they represent ongoing assets related to cash holdings or fund balances.\" }]}\n",
      "{\"messages\":[{\"role\":\"user\", \"content\":\"What section covers “How do I classify relocation expenses related to a permanent change of station (PCS)?” Can you provide a summary of the information?\"},{\"role\":\"assistant\", \"content\": \"No, none of these accounts close at year-end because they represent ongoing assets related to cash holdings or fund balances.\" }]}\n",
      "{\"messages\":[{\"role\":\"user\", \"content\":\"What section covers “How do I classify relocation expenses related to a permanent change of station (PCS)?” Can you provide a summary of the information?\"},{\"role\":\"assistant\", \"content\": \"No, none of these accounts close at year-end because they represent ongoing assets related to cash holdings or fund balances.\" }]}\n",
      "{\"messages\":[{\"role\":\"user\", \"content\":\"What section covers “How do I classify relocation expenses related to a permanent change of station (PCS)?” Can you provide a summary of the information?\"},{\"role\":\"assistant\", \"content\": \"No, none of these accounts close at year-end because they represent ongoing assets related to cash holdings or fund balances.\" }]}\n",
      "{\"messages\":[{\"role\":\"user\", \"content\":\"What section covers “How do I classify relocation expenses related to a permanent change of station (PCS)?” Can you provide a summary of the information?\"},{\"role\":\"assistant\", \"content\": \"No, none of these accounts close at year-end because they represent ongoing assets related to cash holdings or fund balances.\" }]}\n",
      "{\"messages\":[{\"role\":\"user\", \"content\":\"What section covers “How do I classify relocation expenses related to a permanent change of station (PCS)?” Can you provide a summary of the information?\"},{\"role\":\"assistant\", \"content\": \"No, none of these accounts close at year-end because they represent ongoing assets related to cash holdings or fund balances.\" }]}\n",
      "{\"messages\":[{\"role\":\"user\", \"content\":\"What section covers “How do I classify relocation expenses related to a permanent change of station (PCS)?” Can you provide a summary of the information?\"},{\"role\":\"assistant\", \"content\": \"No, none of these accounts close at year-end because they represent ongoing assets related to cash holdings or fund balances.\" }]}\n",
      "{\"messages\":[{\"role\":\"user\", \"content\":\"What section covers “How do I classify relocation expenses related to a permanent change of station (PCS)?” Can you provide a summary of the information?\"},{\"role\":\"assistant\", \"content\": \"No, none of these accounts close at year-end because they represent ongoing assets related to cash holdings or fund balances.\" }]}\n",
      "{\"messages\":[{\"role\":\"user\", \"content\":\"What section covers “How do I classify relocation expenses related to a permanent change of station (PCS)?” Can you provide a summary of the information?\"},{\"role\":\"assistant\", \"content\": \"No, none of these accounts close at year-end because they represent ongoing assets related to cash holdings or fund balances.\" }]}\n",
      "{\"messages\":[{\"role\":\"user\", \"content\":\"What section covers “How do I classify relocation expenses related to a permanent change of station (PCS)?” Can you provide a summary of the information?\"},{\"role\":\"assistant\", \"content\": \"No, none of these accounts close at year-end because they represent ongoing assets related to cash holdings or fund balances.\" }]}\n",
      "{\"messages\":[{\"role\":\"user\", \"content\":\"What section covers “How do I classify relocation expenses related to a permanent change of station (PCS)?” Can you provide a summary of the information?\"},{\"role\":\"assistant\", \"content\": \"No, none of these accounts close at year-end because they represent ongoing assets related to cash holdings or fund balances.\" }]}\n",
      "{\"messages\":[{\"role\":\"user\", \"content\":\"What section covers “How do I classify relocation expenses related to a permanent change of station (PCS)?” Can you provide a summary of the information?\"},{\"role\":\"assistant\", \"content\": \"No, none of these accounts close at year-end because they represent ongoing assets related to cash holdings or fund balances.\" }]}\n",
      "{\"messages\":[{\"role\":\"user\", \"content\":\"What section covers “How do I classify relocation expenses related to a permanent change of station (PCS)?” Can you provide a summary of the information?\"},{\"role\":\"assistant\", \"content\": \"No, none of these accounts close at year-end because they represent ongoing assets related to cash holdings or fund balances.\" }]}\n",
      "{\"messages\":[{\"role\":\"user\", \"content\":\"What section covers “How do I classify relocation expenses related to a permanent change of station (PCS)?” Can you provide a summary of the information?\"},{\"role\":\"assistant\", \"content\": \"No, none of these accounts close at year-end because they represent ongoing assets related to cash holdings or fund balances.\" }]}\n",
      "{\"messages\":[{\"role\":\"user\", \"content\":\"What section covers “How do I classify relocation expenses related to a permanent change of station (PCS)?” Can you provide a summary of the information?\"},{\"role\":\"assistant\", \"content\": \"No, none of these accounts close at year-end because they represent ongoing assets related to cash holdings or fund balances.\" }]}\n",
      "{\"messages\":[{\"role\":\"user\", \"content\":\"What section covers “How do I classify relocation expenses related to a permanent change of station (PCS)?” Can you provide a summary of the information?\"},{\"role\":\"assistant\", \"content\": \"No, none of these accounts close at year-end because they represent ongoing assets related to cash holdings or fund balances.\" }]}\n",
      "{\"messages\":[{\"role\":\"user\", \"content\":\"What section covers “How do I classify relocation expenses related to a permanent change of station (PCS)?” Can you provide a summary of the information?\"},{\"role\":\"assistant\", \"content\": \"No, none of these accounts close at year-end because they represent ongoing assets related to cash holdings or fund balances.\" }]}\n",
      "{\"messages\":[{\"role\":\"user\", \"content\":\"What section covers “How do I classify relocation expenses related to a permanent change of station (PCS)?” Can you provide a summary of the information?\"},{\"role\":\"assistant\", \"content\": \"No, none of these accounts close at year-end because they represent ongoing assets related to cash holdings or fund balances.\" }]}\n",
      "{\"messages\":[{\"role\":\"user\", \"content\":\"What section covers “How do I classify relocation expenses related to a permanent change of station (PCS)?” Can you provide a summary of the information?\"},{\"role\":\"assistant\", \"content\": \"No, none of these accounts close at year-end because they represent ongoing assets related to cash holdings or fund balances.\" }]}\n",
      "{\"messages\":[{\"role\":\"user\", \"content\":\"What section covers “How do I classify relocation expenses related to a permanent change of station (PCS)?” Can you provide a summary of the information?\"},{\"role\":\"assistant\", \"content\": \"No, none of these accounts close at year-end because they represent ongoing assets related to cash holdings or fund balances.\" }]}\n",
      "{\"messages\":[{\"role\":\"user\", \"content\":\"What section covers “How do I classify relocation expenses related to a permanent change of station (PCS)?” Can you provide a summary of the information?\"},{\"role\":\"assistant\", \"content\": \"No, none of these accounts close at year-end because they represent ongoing assets related to cash holdings or fund balances.\" }]}\n",
      "{\"messages\":[{\"role\":\"user\", \"content\":\"What section covers “How do I classify relocation expenses related to a permanent change of station (PCS)?” Can you provide a summary of the information?\"},{\"role\":\"assistant\", \"content\": \"No, none of these accounts close at year-end because they represent ongoing assets related to cash holdings or fund balances.\" }]}\n",
      "{\"messages\":[{\"role\":\"user\", \"content\":\"What section covers “How do I classify relocation expenses related to a permanent change of station (PCS)?” Can you provide a summary of the information?\"},{\"role\":\"assistant\", \"content\": \"No, none of these accounts close at year-end because they represent ongoing assets related to cash holdings or fund balances.\" }]}\n",
      "{\"messages\":[{\"role\":\"user\", \"content\":\"What section covers “How do I classify relocation expenses related to a permanent change of station (PCS)?” Can you provide a summary of the information?\"},{\"role\":\"assistant\", \"content\": \"No, none of these accounts close at year-end because they represent ongoing assets related to cash holdings or fund balances.\" }]}\n",
      "{\"messages\":[{\"role\":\"user\", \"content\":\"What section covers “How do I classify relocation expenses related to a permanent change of station (PCS)?” Can you provide a summary of the information?\"},{\"role\":\"assistant\", \"content\": \"No, none of these accounts close at year-end because they represent ongoing assets related to cash holdings or fund balances.\" }]}\n",
      "{\"messages\":[{\"role\":\"user\", \"content\":\"What section covers “How do I classify relocation expenses related to a permanent change of station (PCS)?” Can you provide a summary of the information?\"},{\"role\":\"assistant\", \"content\": \"No, none of these accounts close at year-end because they represent ongoing assets related to cash holdings or fund balances.\" }]}\n",
      "{\"messages\":[{\"role\":\"user\", \"content\":\"What section covers “How do I classify relocation expenses related to a permanent change of station (PCS)?” Can you provide a summary of the information?\"},{\"role\":\"assistant\", \"content\": \"No, none of these accounts close at year-end because they represent ongoing assets related to cash holdings or fund balances.\" }]}\n",
      "{\"messages\":[{\"role\":\"user\", \"content\":\"What section covers “How do I classify relocation expenses related to a permanent change of station (PCS)?” Can you provide a summary of the information?\"},{\"role\":\"assistant\", \"content\": \"No, none of these accounts close at year-end because they represent ongoing assets related to cash holdings or fund balances.\" }]}\n",
      "{\"messages\":[{\"role\":\"user\", \"content\":\"What section covers “How do I classify relocation expenses related to a permanent change of station (PCS)?” Can you provide a summary of the information?\"},{\"role\":\"assistant\", \"content\": \"No, none of these accounts close at year-end because they represent ongoing assets related to cash holdings or fund balances.\" }]}\n",
      "{\"messages\":[{\"role\":\"user\", \"content\":\"What section covers “How do I classify relocation expenses related to a permanent change of station (PCS)?” Can you provide a summary of the information?\"},{\"role\":\"assistant\", \"content\": \"No, none of these accounts close at year-end because they represent ongoing assets related to cash holdings or fund balances.\" }]}\n",
      "{\"messages\":[{\"role\":\"user\", \"content\":\"What section covers “How do I classify relocation expenses related to a permanent change of station (PCS)?” Can you provide a summary of the information?\"},{\"role\":\"assistant\", \"content\": \"No, none of these accounts close at year-end because they represent ongoing assets related to cash holdings or fund balances.\" }]}\n",
      "{\"messages\":[{\"role\":\"user\", \"content\":\"What section covers “How do I classify relocation expenses related to a permanent change of station (PCS)?” Can you provide a summary of the information?\"},{\"role\":\"assistant\", \"content\": \"No, none of these accounts close at year-end because they represent ongoing assets related to cash holdings or fund balances.\" }]}\n",
      "{\"messages\":[{\"role\":\"user\", \"content\":\"What section covers “How do I classify relocation expenses related to a permanent change of station (PCS)?” Can you provide a summary of the information?\"},{\"role\":\"assistant\", \"content\": \"No, none of these accounts close at year-end because they represent ongoing assets related to cash holdings or fund balances.\" }]}\n",
      "{\"messages\":[{\"role\":\"user\", \"content\":\"What section covers “How do I classify relocation expenses related to a permanent change of station (PCS)?” Can you provide a summary of the information?\"},{\"role\":\"assistant\", \"content\": \"No, none of these accounts close at year-end because they represent ongoing assets related to cash holdings or fund balances.\" }]}\n",
      "{\"messages\":[{\"role\":\"user\", \"content\":\"What section covers “How do I classify relocation expenses related to a permanent change of station (PCS)?” Can you provide a summary of the information?\"},{\"role\":\"assistant\", \"content\": \"No, none of these accounts close at year-end because they represent ongoing assets related to cash holdings or fund balances.\" }]}\n",
      "{\"messages\":[{\"role\":\"user\", \"content\":\"What section covers “How do I classify relocation expenses related to a permanent change of station (PCS)?” Can you provide a summary of the information?\"},{\"role\":\"assistant\", \"content\": \"No, none of these accounts close at year-end because they represent ongoing assets related to cash holdings or fund balances.\" }]}\n",
      "{\"messages\":[{\"role\":\"user\", \"content\":\"What section covers “How do I classify relocation expenses related to a permanent change of station (PCS)?” Can you provide a summary of the information?\"},{\"role\":\"assistant\", \"content\": \"No, none of these accounts close at year-end because they represent ongoing assets related to cash holdings or fund balances.\" }]}\n",
      "{\"messages\":[{\"role\":\"user\", \"content\":\"What section covers “How do I classify relocation expenses related to a permanent change of station (PCS)?” Can you provide a summary of the information?\"},{\"role\":\"assistant\", \"content\": \"No, none of these accounts close at year-end because they represent ongoing assets related to cash holdings or fund balances.\" }]}\n",
      "{\"messages\":[{\"role\":\"user\", \"content\":\"What section covers “How do I classify relocation expenses related to a permanent change of station (PCS)?” Can you provide a summary of the information?\"},{\"role\":\"assistant\", \"content\": \"No, none of these accounts close at year-end because they represent ongoing assets related to cash holdings or fund balances.\" }]}\n",
      "{\"messages\":[{\"role\":\"user\", \"content\":\"What section covers “How do I classify relocation expenses related to a permanent change of station (PCS)?” Can you provide a summary of the information?\"},{\"role\":\"assistant\", \"content\": \"No, none of these accounts close at year-end because they represent ongoing assets related to cash holdings or fund balances.\" }]}\n",
      "{\"messages\":[{\"role\":\"user\", \"content\":\"What section covers “How do I classify relocation expenses related to a permanent change of station (PCS)?” Can you provide a summary of the information?\"},{\"role\":\"assistant\", \"content\": \"No, none of these accounts close at year-end because they represent ongoing assets related to cash holdings or fund balances.\" }]}\n",
      "{\"messages\":[{\"role\":\"user\", \"content\":\"What section covers “How do I classify relocation expenses related to a permanent change of station (PCS)?” Can you provide a summary of the information?\"},{\"role\":\"assistant\", \"content\": \"No, none of these accounts close at year-end because they represent ongoing assets related to cash holdings or fund balances.\" }]}\n",
      "{\"messages\":[{\"role\":\"user\", \"content\":\"What section covers “How do I classify relocation expenses related to a permanent change of station (PCS)?” Can you provide a summary of the information?\"},{\"role\":\"assistant\", \"content\": \"No, none of these accounts close at year-end because they represent ongoing assets related to cash holdings or fund balances.\" }]}\n",
      "{\"messages\":[{\"role\":\"user\", \"content\":\"What section covers “How do I classify relocation expenses related to a permanent change of station (PCS)?” Can you provide a summary of the information?\"},{\"role\":\"assistant\", \"content\": \"No, none of these accounts close at year-end because they represent ongoing assets related to cash holdings or fund balances.\" }]}\n",
      "{\"messages\":[{\"role\":\"user\", \"content\":\"What section covers “How do I classify relocation expenses related to a permanent change of station (PCS)?” Can you provide a summary of the information?\"},{\"role\":\"assistant\", \"content\": \"No, none of these accounts close at year-end because they represent ongoing assets related to cash holdings or fund balances.\" }]}\n",
      "{\"messages\":[{\"role\":\"user\", \"content\":\"What section covers “How do I classify relocation expenses related to a permanent change of station (PCS)?” Can you provide a summary of the information?\"},{\"role\":\"assistant\", \"content\": \"No, none of these accounts close at year-end because they represent ongoing assets related to cash holdings or fund balances.\" }]}\n",
      "{\"messages\":[{\"role\":\"user\", \"content\":\"What section covers “How do I classify relocation expenses related to a permanent change of station (PCS)?” Can you provide a summary of the information?\"},{\"role\":\"assistant\", \"content\": \"No, none of these accounts close at year-end because they represent ongoing assets related to cash holdings or fund balances.\" }]}\n",
      "{\"messages\":[{\"role\":\"user\", \"content\":\"What section covers “How do I classify relocation expenses related to a permanent change of station (PCS)?” Can you provide a summary of the information?\"},{\"role\":\"assistant\", \"content\": \"No, none of these accounts close at year-end because they represent ongoing assets related to cash holdings or fund balances.\" }]}\n",
      "{\"messages\":[{\"role\":\"user\", \"content\":\"What section covers “How do I classify relocation expenses related to a permanent change of station (PCS)?” Can you provide a summary of the information?\"},{\"role\":\"assistant\", \"content\": \"No, none of these accounts close at year-end because they represent ongoing assets related to cash holdings or fund balances.\" }]}\n",
      "{\"messages\":[{\"role\":\"user\", \"content\":\"What section covers “How do I classify relocation expenses related to a permanent change of station (PCS)?” Can you provide a summary of the information?\"},{\"role\":\"assistant\", \"content\": \"No, none of these accounts close at year-end because they represent ongoing assets related to cash holdings or fund balances.\" }]}\n",
      "{\"messages\":[{\"role\":\"user\", \"content\":\"What section covers “How do I classify relocation expenses related to a permanent change of station (PCS)?” Can you provide a summary of the information?\"},{\"role\":\"assistant\", \"content\": \"No, none of these accounts close at year-end because they represent ongoing assets related to cash holdings or fund balances.\" }]}\n",
      "{\"messages\":[{\"role\":\"user\", \"content\":\"What section covers “How do I classify relocation expenses related to a permanent change of station (PCS)?” Can you provide a summary of the information?\"},{\"role\":\"assistant\", \"content\": \"No, none of these accounts close at year-end because they represent ongoing assets related to cash holdings or fund balances.\" }]}\n",
      "{\"messages\":[{\"role\":\"user\", \"content\":\"What section covers “How do I classify relocation expenses related to a permanent change of station (PCS)?” Can you provide a summary of the information?\"},{\"role\":\"assistant\", \"content\": \"No, none of these accounts close at year-end because they represent ongoing assets related to cash holdings or fund balances.\" }]}\n",
      "{\"messages\":[{\"role\":\"user\", \"content\":\"What section covers “How do I classify relocation expenses related to a permanent change of station (PCS)?” Can you provide a summary of the information?\"},{\"role\":\"assistant\", \"content\": \"No, none of these accounts close at year-end because they represent ongoing assets related to cash holdings or fund balances.\" }]}\n",
      "{\"messages\":[{\"role\":\"user\", \"content\":\"What section covers “How do I classify relocation expenses related to a permanent change of station (PCS)?” Can you provide a summary of the information?\"},{\"role\":\"assistant\", \"content\": \"No, none of these accounts close at year-end because they represent ongoing assets related to cash holdings or fund balances.\" }]}\n",
      "{\"messages\":[{\"role\":\"user\", \"content\":\"What section covers “How do I classify relocation expenses related to a permanent change of station (PCS)?” Can you provide a summary of the information?\"},{\"role\":\"assistant\", \"content\": \"No, none of these accounts close at year-end because they represent ongoing assets related to cash holdings or fund balances.\" }]}\n",
      "{\"messages\":[{\"role\":\"user\", \"content\":\"What section covers “How do I classify relocation expenses related to a permanent change of station (PCS)?” Can you provide a summary of the information?\"},{\"role\":\"assistant\", \"content\": \"No, none of these accounts close at year-end because they represent ongoing assets related to cash holdings or fund balances.\" }]}\n",
      "{\"messages\":[{\"role\":\"user\", \"content\":\"What section covers “How do I classify relocation expenses related to a permanent change of station (PCS)?” Can you provide a summary of the information?\"},{\"role\":\"assistant\", \"content\": \"No, none of these accounts close at year-end because they represent ongoing assets related to cash holdings or fund balances.\" }]}\n",
      "{\"messages\":[{\"role\":\"user\", \"content\":\"What section covers “How do I classify relocation expenses related to a permanent change of station (PCS)?” Can you provide a summary of the information?\"},{\"role\":\"assistant\", \"content\": \"No, none of these accounts close at year-end because they represent ongoing assets related to cash holdings or fund balances.\" }]}\n",
      "{\"messages\":[{\"role\":\"user\", \"content\":\"What section covers “How do I classify relocation expenses related to a permanent change of station (PCS)?” Can you provide a summary of the information?\"},{\"role\":\"assistant\", \"content\": \"No, none of these accounts close at year-end because they represent ongoing assets related to cash holdings or fund balances.\" }]}\n",
      "{\"messages\":[{\"role\":\"user\", \"content\":\"What section covers “How do I classify relocation expenses related to a permanent change of station (PCS)?” Can you provide a summary of the information?\"},{\"role\":\"assistant\", \"content\": \"No, none of these accounts close at year-end because they represent ongoing assets related to cash holdings or fund balances.\" }]}\n",
      "{\"messages\":[{\"role\":\"user\", \"content\":\"What section covers “How do I classify relocation expenses related to a permanent change of station (PCS)?” Can you provide a summary of the information?\"},{\"role\":\"assistant\", \"content\": \"No, none of these accounts close at year-end because they represent ongoing assets related to cash holdings or fund balances.\" }]}\n",
      "{\"messages\":[{\"role\":\"user\", \"content\":\"What section covers “How do I classify relocation expenses related to a permanent change of station (PCS)?” Can you provide a summary of the information?\"},{\"role\":\"assistant\", \"content\": \"No, none of these accounts close at year-end because they represent ongoing assets related to cash holdings or fund balances.\" }]}\n",
      "{\"messages\":[{\"role\":\"user\", \"content\":\"What section covers “How do I classify relocation expenses related to a permanent change of station (PCS)?” Can you provide a summary of the information?\"},{\"role\":\"assistant\", \"content\": \"No, none of these accounts close at year-end because they represent ongoing assets related to cash holdings or fund balances.\" }]}\n",
      "{\"messages\":[{\"role\":\"user\", \"content\":\"What section covers “How do I classify relocation expenses related to a permanent change of station (PCS)?” Can you provide a summary of the information?\"},{\"role\":\"assistant\", \"content\": \"No, none of these accounts close at year-end because they represent ongoing assets related to cash holdings or fund balances.\" }]}\n",
      "{\"messages\":[{\"role\":\"user\", \"content\":\"What section covers “How do I classify relocation expenses related to a permanent change of station (PCS)?” Can you provide a summary of the information?\"},{\"role\":\"assistant\", \"content\": \"No, none of these accounts close at year-end because they represent ongoing assets related to cash holdings or fund balances.\" }]}\n",
      "{\"messages\":[{\"role\":\"user\", \"content\":\"What section covers “How do I classify relocation expenses related to a permanent change of station (PCS)?” Can you provide a summary of the information?\"},{\"role\":\"assistant\", \"content\": \"No, none of these accounts close at year-end because they represent ongoing assets related to cash holdings or fund balances.\" }]}\n",
      "{\"messages\":[{\"role\":\"user\", \"content\":\"What section covers “How do I classify relocation expenses related to a permanent change of station (PCS)?” Can you provide a summary of the information?\"},{\"role\":\"assistant\", \"content\": \"No, none of these accounts close at year-end because they represent ongoing assets related to cash holdings or fund balances.\" }]}\n",
      "{\"messages\":[{\"role\":\"user\", \"content\":\"What section covers “How do I classify relocation expenses related to a permanent change of station (PCS)?” Can you provide a summary of the information?\"},{\"role\":\"assistant\", \"content\": \"No, none of these accounts close at year-end because they represent ongoing assets related to cash holdings or fund balances.\" }]}\n",
      "{\"messages\":[{\"role\":\"user\", \"content\":\"What section covers “How do I classify relocation expenses related to a permanent change of station (PCS)?” Can you provide a summary of the information?\"},{\"role\":\"assistant\", \"content\": \"No, none of these accounts close at year-end because they represent ongoing assets related to cash holdings or fund balances.\" }]}\n",
      "{\"messages\":[{\"role\":\"user\", \"content\":\"What section covers “How do I classify relocation expenses related to a permanent change of station (PCS)?” Can you provide a summary of the information?\"},{\"role\":\"assistant\", \"content\": \"No, none of these accounts close at year-end because they represent ongoing assets related to cash holdings or fund balances.\" }]}\n",
      "{\"messages\":[{\"role\":\"user\", \"content\":\"What section covers “How do I classify relocation expenses related to a permanent change of station (PCS)?” Can you provide a summary of the information?\"},{\"role\":\"assistant\", \"content\": \"No, none of these accounts close at year-end because they represent ongoing assets related to cash holdings or fund balances.\" }]}\n",
      "{\"messages\":[{\"role\":\"user\", \"content\":\"What section covers “How do I classify relocation expenses related to a permanent change of station (PCS)?” Can you provide a summary of the information?\"},{\"role\":\"assistant\", \"content\": \"No, none of these accounts close at year-end because they represent ongoing assets related to cash holdings or fund balances.\" }]}\n",
      "{\"messages\":[{\"role\":\"user\", \"content\":\"What section covers “How do I classify relocation expenses related to a permanent change of station (PCS)?” Can you provide a summary of the information?\"},{\"role\":\"assistant\", \"content\": \"No, none of these accounts close at year-end because they represent ongoing assets related to cash holdings or fund balances.\" }]}\n",
      "{\"messages\":[{\"role\":\"user\", \"content\":\"What section covers “How do I classify relocation expenses related to a permanent change of station (PCS)?” Can you provide a summary of the information?\"},{\"role\":\"assistant\", \"content\": \"No, none of these accounts close at year-end because they represent ongoing assets related to cash holdings or fund balances.\" }]}\n",
      "{\"messages\":[{\"role\":\"user\", \"content\":\"What section covers “How do I classify relocation expenses related to a permanent change of station (PCS)?” Can you provide a summary of the information?\"},{\"role\":\"assistant\", \"content\": \"No, none of these accounts close at year-end because they represent ongoing assets related to cash holdings or fund balances.\" }]}\n",
      "{\"messages\":[{\"role\":\"user\", \"content\":\"What section covers “How do I classify relocation expenses related to a permanent change of station (PCS)?” Can you provide a summary of the information?\"},{\"role\":\"assistant\", \"content\": \"No, none of these accounts close at year-end because they represent ongoing assets related to cash holdings or fund balances.\" }]}\n",
      "{\"messages\":[{\"role\":\"user\", \"content\":\"What section covers “How do I classify relocation expenses related to a permanent change of station (PCS)?” Can you provide a summary of the information?\"},{\"role\":\"assistant\", \"content\": \"No, none of these accounts close at year-end because they represent ongoing assets related to cash holdings or fund balances.\" }]}\n",
      "{\"messages\":[{\"role\":\"user\", \"content\":\"What section covers “How do I classify relocation expenses related to a permanent change of station (PCS)?” Can you provide a summary of the information?\"},{\"role\":\"assistant\", \"content\": \"No, none of these accounts close at year-end because they represent ongoing assets related to cash holdings or fund balances.\" }]}\n",
      "{\"messages\":[{\"role\":\"user\", \"content\":\"What section covers “How do I classify relocation expenses related to a permanent change of station (PCS)?” Can you provide a summary of the information?\"},{\"role\":\"assistant\", \"content\": \"No, none of these accounts close at year-end because they represent ongoing assets related to cash holdings or fund balances.\" }]}\n",
      "{\"messages\":[{\"role\":\"user\", \"content\":\"What section covers “How do I classify relocation expenses related to a permanent change of station (PCS)?” Can you provide a summary of the information?\"},{\"role\":\"assistant\", \"content\": \"No, none of these accounts close at year-end because they represent ongoing assets related to cash holdings or fund balances.\" }]}\n",
      "{\"messages\":[{\"role\":\"user\", \"content\":\"What section covers “How do I classify relocation expenses related to a permanent change of station (PCS)?” Can you provide a summary of the information?\"},{\"role\":\"assistant\", \"content\": \"No, none of these accounts close at year-end because they represent ongoing assets related to cash holdings or fund balances.\" }]}\n",
      "{\"messages\":[{\"role\":\"user\", \"content\":\"What section covers “How do I classify relocation expenses related to a permanent change of station (PCS)?” Can you provide a summary of the information?\"},{\"role\":\"assistant\", \"content\": \"No, none of these accounts close at year-end because they represent ongoing assets related to cash holdings or fund balances.\" }]}\n",
      "{\"messages\":[{\"role\":\"user\", \"content\":\"What section covers “How do I classify relocation expenses related to a permanent change of station (PCS)?” Can you provide a summary of the information?\"},{\"role\":\"assistant\", \"content\": \"No, none of these accounts close at year-end because they represent ongoing assets related to cash holdings or fund balances.\" }]}\n",
      "{\"messages\":[{\"role\":\"user\", \"content\":\"What section covers “How do I classify relocation expenses related to a permanent change of station (PCS)?” Can you provide a summary of the information?\"},{\"role\":\"assistant\", \"content\": \"No, none of these accounts close at year-end because they represent ongoing assets related to cash holdings or fund balances.\" }]}\n",
      "{\"messages\":[{\"role\":\"user\", \"content\":\"What section covers “How do I classify relocation expenses related to a permanent change of station (PCS)?” Can you provide a summary of the information?\"},{\"role\":\"assistant\", \"content\": \"No, none of these accounts close at year-end because they represent ongoing assets related to cash holdings or fund balances.\" }]}\n",
      "{\"messages\":[{\"role\":\"user\", \"content\":\"What section covers “How do I classify relocation expenses related to a permanent change of station (PCS)?” Can you provide a summary of the information?\"},{\"role\":\"assistant\", \"content\": \"No, none of these accounts close at year-end because they represent ongoing assets related to cash holdings or fund balances.\" }]}\n",
      "{\"messages\":[{\"role\":\"user\", \"content\":\"What section covers “How do I classify relocation expenses related to a permanent change of station (PCS)?” Can you provide a summary of the information?\"},{\"role\":\"assistant\", \"content\": \"No, none of these accounts close at year-end because they represent ongoing assets related to cash holdings or fund balances.\" }]}\n",
      "{\"messages\":[{\"role\":\"user\", \"content\":\"What section covers “How do I classify relocation expenses related to a permanent change of station (PCS)?” Can you provide a summary of the information?\"},{\"role\":\"assistant\", \"content\": \"No, none of these accounts close at year-end because they represent ongoing assets related to cash holdings or fund balances.\" }]}\n",
      "{\"messages\":[{\"role\":\"user\", \"content\":\"What section covers “How do I classify relocation expenses related to a permanent change of station (PCS)?” Can you provide a summary of the information?\"},{\"role\":\"assistant\", \"content\": \"No, none of these accounts close at year-end because they represent ongoing assets related to cash holdings or fund balances.\" }]}\n",
      "{\"messages\":[{\"role\":\"user\", \"content\":\"What section covers “How do I classify relocation expenses related to a permanent change of station (PCS)?” Can you provide a summary of the information?\"},{\"role\":\"assistant\", \"content\": \"No, none of these accounts close at year-end because they represent ongoing assets related to cash holdings or fund balances.\" }]}\n",
      "{\"messages\":[{\"role\":\"user\", \"content\":\"What section covers “How do I classify relocation expenses related to a permanent change of station (PCS)?” Can you provide a summary of the information?\"},{\"role\":\"assistant\", \"content\": \"No, none of these accounts close at year-end because they represent ongoing assets related to cash holdings or fund balances.\" }]}\n",
      "{\"messages\":[{\"role\":\"user\", \"content\":\"What section covers “How do I classify relocation expenses related to a permanent change of station (PCS)?” Can you provide a summary of the information?\"},{\"role\":\"assistant\", \"content\": \"No, none of these accounts close at year-end because they represent ongoing assets related to cash holdings or fund balances.\" }]}\n",
      "{\"messages\":[{\"role\":\"user\", \"content\":\"What section covers “How do I classify relocation expenses related to a permanent change of station (PCS)?” Can you provide a summary of the information?\"},{\"role\":\"assistant\", \"content\": \"No, none of these accounts close at year-end because they represent ongoing assets related to cash holdings or fund balances.\" }]}\n",
      "{\"messages\":[{\"role\":\"user\", \"content\":\"What section covers “How do I classify relocation expenses related to a permanent change of station (PCS)?” Can you provide a summary of the information?\"},{\"role\":\"assistant\", \"content\": \"No, none of these accounts close at year-end because they represent ongoing assets related to cash holdings or fund balances.\" }]}\n",
      "{\"messages\":[{\"role\":\"user\", \"content\":\"What section covers “How do I classify relocation expenses related to a permanent change of station (PCS)?” Can you provide a summary of the information?\"},{\"role\":\"assistant\", \"content\": \"No, none of these accounts close at year-end because they represent ongoing assets related to cash holdings or fund balances.\" }]}\n",
      "{\"messages\":[{\"role\":\"user\", \"content\":\"What section covers “How do I classify relocation expenses related to a permanent change of station (PCS)?” Can you provide a summary of the information?\"},{\"role\":\"assistant\", \"content\": \"No, none of these accounts close at year-end because they represent ongoing assets related to cash holdings or fund balances.\" }]}\n",
      "{\"messages\":[{\"role\":\"user\", \"content\":\"What section covers “How do I classify relocation expenses related to a permanent change of station (PCS)?” Can you provide a summary of the information?\"},{\"role\":\"assistant\", \"content\": \"No, none of these accounts close at year-end because they represent ongoing assets related to cash holdings or fund balances.\" }]}\n",
      "{\"messages\":[{\"role\":\"user\", \"content\":\"What section covers “How do I classify relocation expenses related to a permanent change of station (PCS)?” Can you provide a summary of the information?\"},{\"role\":\"assistant\", \"content\": \"No, none of these accounts close at year-end because they represent ongoing assets related to cash holdings or fund balances.\" }]}\n",
      "{\"messages\":[{\"role\":\"user\", \"content\":\"What section covers “How do I classify relocation expenses related to a permanent change of station (PCS)?” Can you provide a summary of the information?\"},{\"role\":\"assistant\", \"content\": \"No, none of these accounts close at year-end because they represent ongoing assets related to cash holdings or fund balances.\" }]}\n",
      "{\"messages\":[{\"role\":\"user\", \"content\":\"What section covers “How do I classify relocation expenses related to a permanent change of station (PCS)?” Can you provide a summary of the information?\"},{\"role\":\"assistant\", \"content\": \"No, none of these accounts close at year-end because they represent ongoing assets related to cash holdings or fund balances.\" }]}\n",
      "{\"messages\":[{\"role\":\"user\", \"content\":\"What section covers “How do I classify relocation expenses related to a permanent change of station (PCS)?” Can you provide a summary of the information?\"},{\"role\":\"assistant\", \"content\": \"No, none of these accounts close at year-end because they represent ongoing assets related to cash holdings or fund balances.\" }]}\n",
      "{\"messages\":[{\"role\":\"user\", \"content\":\"What section covers “How do I classify relocation expenses related to a permanent change of station (PCS)?” Can you provide a summary of the information?\"},{\"role\":\"assistant\", \"content\": \"No, none of these accounts close at year-end because they represent ongoing assets related to cash holdings or fund balances.\" }]}\n",
      "{\"messages\":[{\"role\":\"user\", \"content\":\"What section covers “How do I classify relocation expenses related to a permanent change of station (PCS)?” Can you provide a summary of the information?\"},{\"role\":\"assistant\", \"content\": \"No, none of these accounts close at year-end because they represent ongoing assets related to cash holdings or fund balances.\" }]}\n",
      "{\"messages\":[{\"role\":\"user\", \"content\":\"What section covers “How do I classify relocation expenses related to a permanent change of station (PCS)?” Can you provide a summary of the information?\"},{\"role\":\"assistant\", \"content\": \"No, none of these accounts close at year-end because they represent ongoing assets related to cash holdings or fund balances.\" }]}\n",
      "{\"messages\":[{\"role\":\"user\", \"content\":\"What section covers “How do I classify relocation expenses related to a permanent change of station (PCS)?” Can you provide a summary of the information?\"},{\"role\":\"assistant\", \"content\": \"No, none of these accounts close at year-end because they represent ongoing assets related to cash holdings or fund balances.\" }]}\n",
      "{\"messages\":[{\"role\":\"user\", \"content\":\"What section covers “How do I classify relocation expenses related to a permanent change of station (PCS)?” Can you provide a summary of the information?\"},{\"role\":\"assistant\", \"content\": \"No, none of these accounts close at year-end because they represent ongoing assets related to cash holdings or fund balances.\" }]}\n",
      "{\"messages\":[{\"role\":\"user\", \"content\":\"What section covers “How do I classify relocation expenses related to a permanent change of station (PCS)?” Can you provide a summary of the information?\"},{\"role\":\"assistant\", \"content\": \"No, none of these accounts close at year-end because they represent ongoing assets related to cash holdings or fund balances.\" }]}\n",
      "{\"messages\":[{\"role\":\"user\", \"content\":\"What section covers “How do I classify relocation expenses related to a permanent change of station (PCS)?” Can you provide a summary of the information?\"},{\"role\":\"assistant\", \"content\": \"No, none of these accounts close at year-end because they represent ongoing assets related to cash holdings or fund balances.\" }]}\n",
      "{\"messages\":[{\"role\":\"user\", \"content\":\"What section covers “How do I classify relocation expenses related to a permanent change of station (PCS)?” Can you provide a summary of the information?\"},{\"role\":\"assistant\", \"content\": \"No, none of these accounts close at year-end because they represent ongoing assets related to cash holdings or fund balances.\" }]}\n",
      "{\"messages\":[{\"role\":\"user\", \"content\":\"What section covers “How do I classify relocation expenses related to a permanent change of station (PCS)?” Can you provide a summary of the information?\"},{\"role\":\"assistant\", \"content\": \"No, none of these accounts close at year-end because they represent ongoing assets related to cash holdings or fund balances.\" }]}\n",
      "{\"messages\":[{\"role\":\"user\", \"content\":\"What section covers “How do I classify relocation expenses related to a permanent change of station (PCS)?” Can you provide a summary of the information?\"},{\"role\":\"assistant\", \"content\": \"No, none of these accounts close at year-end because they represent ongoing assets related to cash holdings or fund balances.\" }]}\n",
      "{\"messages\":[{\"role\":\"user\", \"content\":\"What section covers “How do I classify relocation expenses related to a permanent change of station (PCS)?” Can you provide a summary of the information?\"},{\"role\":\"assistant\", \"content\": \"No, none of these accounts close at year-end because they represent ongoing assets related to cash holdings or fund balances.\" }]}\n",
      "{\"messages\":[{\"role\":\"user\", \"content\":\"What section covers “How do I classify relocation expenses related to a permanent change of station (PCS)?” Can you provide a summary of the information?\"},{\"role\":\"assistant\", \"content\": \"No, none of these accounts close at year-end because they represent ongoing assets related to cash holdings or fund balances.\" }]}\n",
      "{\"messages\":[{\"role\":\"user\", \"content\":\"What section covers “How do I classify relocation expenses related to a permanent change of station (PCS)?” Can you provide a summary of the information?\"},{\"role\":\"assistant\", \"content\": \"No, none of these accounts close at year-end because they represent ongoing assets related to cash holdings or fund balances.\" }]}\n",
      "{\"messages\":[{\"role\":\"user\", \"content\":\"What section covers “How do I classify relocation expenses related to a permanent change of station (PCS)?” Can you provide a summary of the information?\"},{\"role\":\"assistant\", \"content\": \"No, none of these accounts close at year-end because they represent ongoing assets related to cash holdings or fund balances.\" }]}\n",
      "{\"messages\":[{\"role\":\"user\", \"content\":\"What section covers “How do I classify relocation expenses related to a permanent change of station (PCS)?” Can you provide a summary of the information?\"},{\"role\":\"assistant\", \"content\": \"No, none of these accounts close at year-end because they represent ongoing assets related to cash holdings or fund balances.\" }]}\n",
      "{\"messages\":[{\"role\":\"user\", \"content\":\"What section covers “How do I classify relocation expenses related to a permanent change of station (PCS)?” Can you provide a summary of the information?\"},{\"role\":\"assistant\", \"content\": \"No, none of these accounts close at year-end because they represent ongoing assets related to cash holdings or fund balances.\" }]}\n",
      "{\"messages\":[{\"role\":\"user\", \"content\":\"What section covers “How do I classify relocation expenses related to a permanent change of station (PCS)?” Can you provide a summary of the information?\"},{\"role\":\"assistant\", \"content\": \"No, none of these accounts close at year-end because they represent ongoing assets related to cash holdings or fund balances.\" }]}\n",
      "{\"messages\":[{\"role\":\"user\", \"content\":\"What section covers “How do I classify relocation expenses related to a permanent change of station (PCS)?” Can you provide a summary of the information?\"},{\"role\":\"assistant\", \"content\": \"No, none of these accounts close at year-end because they represent ongoing assets related to cash holdings or fund balances.\" }]}\n",
      "{\"messages\":[{\"role\":\"user\", \"content\":\"What section covers “How do I classify relocation expenses related to a permanent change of station (PCS)?” Can you provide a summary of the information?\"},{\"role\":\"assistant\", \"content\": \"No, none of these accounts close at year-end because they represent ongoing assets related to cash holdings or fund balances.\" }]}\n",
      "{\"messages\":[{\"role\":\"user\", \"content\":\"What section covers “How do I classify relocation expenses related to a permanent change of station (PCS)?” Can you provide a summary of the information?\"},{\"role\":\"assistant\", \"content\": \"No, none of these accounts close at year-end because they represent ongoing assets related to cash holdings or fund balances.\" }]}\n",
      "{\"messages\":[{\"role\":\"user\", \"content\":\"What section covers “How do I classify relocation expenses related to a permanent change of station (PCS)?” Can you provide a summary of the information?\"},{\"role\":\"assistant\", \"content\": \"No, none of these accounts close at year-end because they represent ongoing assets related to cash holdings or fund balances.\" }]}\n",
      "{\"messages\":[{\"role\":\"user\", \"content\":\"What section covers “How do I classify relocation expenses related to a permanent change of station (PCS)?” Can you provide a summary of the information?\"},{\"role\":\"assistant\", \"content\": \"No, none of these accounts close at year-end because they represent ongoing assets related to cash holdings or fund balances.\" }]}\n",
      "{\"messages\":[{\"role\":\"user\", \"content\":\"What section covers “How do I classify relocation expenses related to a permanent change of station (PCS)?” Can you provide a summary of the information?\"},{\"role\":\"assistant\", \"content\": \"No, none of these accounts close at year-end because they represent ongoing assets related to cash holdings or fund balances.\" }]}\n",
      "{\"messages\":[{\"role\":\"user\", \"content\":\"What section covers “How do I classify relocation expenses related to a permanent change of station (PCS)?” Can you provide a summary of the information?\"},{\"role\":\"assistant\", \"content\": \"No, none of these accounts close at year-end because they represent ongoing assets related to cash holdings or fund balances.\" }]}\n",
      "{\"messages\":[{\"role\":\"user\", \"content\":\"What section covers “How do I classify relocation expenses related to a permanent change of station (PCS)?” Can you provide a summary of the information?\"},{\"role\":\"assistant\", \"content\": \"No, none of these accounts close at year-end because they represent ongoing assets related to cash holdings or fund balances.\" }]}\n",
      "{\"messages\":[{\"role\":\"user\", \"content\":\"What section covers “How do I classify relocation expenses related to a permanent change of station (PCS)?” Can you provide a summary of the information?\"},{\"role\":\"assistant\", \"content\": \"No, none of these accounts close at year-end because they represent ongoing assets related to cash holdings or fund balances.\" }]}\n",
      "{\"messages\":[{\"role\":\"user\", \"content\":\"What section covers “How do I classify relocation expenses related to a permanent change of station (PCS)?” Can you provide a summary of the information?\"},{\"role\":\"assistant\", \"content\": \"No, none of these accounts close at year-end because they represent ongoing assets related to cash holdings or fund balances.\" }]}\n",
      "{\"messages\":[{\"role\":\"user\", \"content\":\"What section covers “How do I classify relocation expenses related to a permanent change of station (PCS)?” Can you provide a summary of the information?\"},{\"role\":\"assistant\", \"content\": \"No, none of these accounts close at year-end because they represent ongoing assets related to cash holdings or fund balances.\" }]}\n",
      "{\"messages\":[{\"role\":\"user\", \"content\":\"What section covers “How do I classify relocation expenses related to a permanent change of station (PCS)?” Can you provide a summary of the information?\"},{\"role\":\"assistant\", \"content\": \"No, none of these accounts close at year-end because they represent ongoing assets related to cash holdings or fund balances.\" }]}\n",
      "{\"messages\":[{\"role\":\"user\", \"content\":\"What section covers “How do I classify relocation expenses related to a permanent change of station (PCS)?” Can you provide a summary of the information?\"},{\"role\":\"assistant\", \"content\": \"No, none of these accounts close at year-end because they represent ongoing assets related to cash holdings or fund balances.\" }]}\n",
      "{\"messages\":[{\"role\":\"user\", \"content\":\"What section covers “How do I classify relocation expenses related to a permanent change of station (PCS)?” Can you provide a summary of the information?\"},{\"role\":\"assistant\", \"content\": \"No, none of these accounts close at year-end because they represent ongoing assets related to cash holdings or fund balances.\" }]}\n",
      "{\"messages\":[{\"role\":\"user\", \"content\":\"What section covers “How do I classify relocation expenses related to a permanent change of station (PCS)?” Can you provide a summary of the information?\"},{\"role\":\"assistant\", \"content\": \"No, none of these accounts close at year-end because they represent ongoing assets related to cash holdings or fund balances.\" }]}\n",
      "{\"messages\":[{\"role\":\"user\", \"content\":\"What section covers “How do I classify relocation expenses related to a permanent change of station (PCS)?” Can you provide a summary of the information?\"},{\"role\":\"assistant\", \"content\": \"No, none of these accounts close at year-end because they represent ongoing assets related to cash holdings or fund balances.\" }]}\n",
      "{\"messages\":[{\"role\":\"user\", \"content\":\"What section covers “How do I classify relocation expenses related to a permanent change of station (PCS)?” Can you provide a summary of the information?\"},{\"role\":\"assistant\", \"content\": \"No, none of these accounts close at year-end because they represent ongoing assets related to cash holdings or fund balances.\" }]}\n",
      "{\"messages\":[{\"role\":\"user\", \"content\":\"What section covers “How do I classify relocation expenses related to a permanent change of station (PCS)?” Can you provide a summary of the information?\"},{\"role\":\"assistant\", \"content\": \"No, none of these accounts close at year-end because they represent ongoing assets related to cash holdings or fund balances.\" }]}\n",
      "{\"messages\":[{\"role\":\"user\", \"content\":\"What section covers “How do I classify relocation expenses related to a permanent change of station (PCS)?” Can you provide a summary of the information?\"},{\"role\":\"assistant\", \"content\": \"No, none of these accounts close at year-end because they represent ongoing assets related to cash holdings or fund balances.\" }]}\n",
      "{\"messages\":[{\"role\":\"user\", \"content\":\"What section covers “How do I classify relocation expenses related to a permanent change of station (PCS)?” Can you provide a summary of the information?\"},{\"role\":\"assistant\", \"content\": \"No, none of these accounts close at year-end because they represent ongoing assets related to cash holdings or fund balances.\" }]}\n",
      "{\"messages\":[{\"role\":\"user\", \"content\":\"What section covers “How do I classify relocation expenses related to a permanent change of station (PCS)?” Can you provide a summary of the information?\"},{\"role\":\"assistant\", \"content\": \"No, none of these accounts close at year-end because they represent ongoing assets related to cash holdings or fund balances.\" }]}\n",
      "{\"messages\":[{\"role\":\"user\", \"content\":\"What section covers “How do I classify relocation expenses related to a permanent change of station (PCS)?” Can you provide a summary of the information?\"},{\"role\":\"assistant\", \"content\": \"No, none of these accounts close at year-end because they represent ongoing assets related to cash holdings or fund balances.\" }]}\n",
      "{\"messages\":[{\"role\":\"user\", \"content\":\"What section covers “How do I classify relocation expenses related to a permanent change of station (PCS)?” Can you provide a summary of the information?\"},{\"role\":\"assistant\", \"content\": \"No, none of these accounts close at year-end because they represent ongoing assets related to cash holdings or fund balances.\" }]}\n",
      "{\"messages\":[{\"role\":\"user\", \"content\":\"What section covers “How do I classify relocation expenses related to a permanent change of station (PCS)?” Can you provide a summary of the information?\"},{\"role\":\"assistant\", \"content\": \"No, none of these accounts close at year-end because they represent ongoing assets related to cash holdings or fund balances.\" }]}\n",
      "{\"messages\":[{\"role\":\"user\", \"content\":\"What section covers “How do I classify relocation expenses related to a permanent change of station (PCS)?” Can you provide a summary of the information?\"},{\"role\":\"assistant\", \"content\": \"No, none of these accounts close at year-end because they represent ongoing assets related to cash holdings or fund balances.\" }]}\n",
      "{\"messages\":[{\"role\":\"user\", \"content\":\"What section covers “How do I classify relocation expenses related to a permanent change of station (PCS)?” Can you provide a summary of the information?\"},{\"role\":\"assistant\", \"content\": \"No, none of these accounts close at year-end because they represent ongoing assets related to cash holdings or fund balances.\" }]}\n",
      "{\"messages\":[{\"role\":\"user\", \"content\":\"What section covers “How do I classify relocation expenses related to a permanent change of station (PCS)?” Can you provide a summary of the information?\"},{\"role\":\"assistant\", \"content\": \"No, none of these accounts close at year-end because they represent ongoing assets related to cash holdings or fund balances.\" }]}\n",
      "{\"messages\":[{\"role\":\"user\", \"content\":\"What section covers “How do I classify relocation expenses related to a permanent change of station (PCS)?” Can you provide a summary of the information?\"},{\"role\":\"assistant\", \"content\": \"No, none of these accounts close at year-end because they represent ongoing assets related to cash holdings or fund balances.\" }]}\n",
      "{\"messages\":[{\"role\":\"user\", \"content\":\"What section covers “How do I classify relocation expenses related to a permanent change of station (PCS)?” Can you provide a summary of the information?\"},{\"role\":\"assistant\", \"content\": \"No, none of these accounts close at year-end because they represent ongoing assets related to cash holdings or fund balances.\" }]}\n",
      "{\"messages\":[{\"role\":\"user\", \"content\":\"What section covers “How do I classify relocation expenses related to a permanent change of station (PCS)?” Can you provide a summary of the information?\"},{\"role\":\"assistant\", \"content\": \"No, none of these accounts close at year-end because they represent ongoing assets related to cash holdings or fund balances.\" }]}\n",
      "{\"messages\":[{\"role\":\"user\", \"content\":\"What section covers “How do I classify relocation expenses related to a permanent change of station (PCS)?” Can you provide a summary of the information?\"},{\"role\":\"assistant\", \"content\": \"No, none of these accounts close at year-end because they represent ongoing assets related to cash holdings or fund balances.\" }]}\n",
      "{\"messages\":[{\"role\":\"user\", \"content\":\"What section covers “How do I classify relocation expenses related to a permanent change of station (PCS)?” Can you provide a summary of the information?\"},{\"role\":\"assistant\", \"content\": \"No, none of these accounts close at year-end because they represent ongoing assets related to cash holdings or fund balances.\" }]}\n",
      "{\"messages\":[{\"role\":\"user\", \"content\":\"What section covers “How do I classify relocation expenses related to a permanent change of station (PCS)?” Can you provide a summary of the information?\"},{\"role\":\"assistant\", \"content\": \"No, none of these accounts close at year-end because they represent ongoing assets related to cash holdings or fund balances.\" }]}\n",
      "{\"messages\":[{\"role\":\"user\", \"content\":\"What section covers “How do I classify relocation expenses related to a permanent change of station (PCS)?” Can you provide a summary of the information?\"},{\"role\":\"assistant\", \"content\": \"No, none of these accounts close at year-end because they represent ongoing assets related to cash holdings or fund balances.\" }]}\n",
      "{\"messages\":[{\"role\":\"user\", \"content\":\"What section covers “How do I classify relocation expenses related to a permanent change of station (PCS)?” Can you provide a summary of the information?\"},{\"role\":\"assistant\", \"content\": \"No, none of these accounts close at year-end because they represent ongoing assets related to cash holdings or fund balances.\" }]}\n",
      "{\"messages\":[{\"role\":\"user\", \"content\":\"What section covers “How do I classify relocation expenses related to a permanent change of station (PCS)?” Can you provide a summary of the information?\"},{\"role\":\"assistant\", \"content\": \"No, none of these accounts close at year-end because they represent ongoing assets related to cash holdings or fund balances.\" }]}\n",
      "{\"messages\":[{\"role\":\"user\", \"content\":\"What section covers “How do I classify relocation expenses related to a permanent change of station (PCS)?” Can you provide a summary of the information?\"},{\"role\":\"assistant\", \"content\": \"No, none of these accounts close at year-end because they represent ongoing assets related to cash holdings or fund balances.\" }]}\n",
      "{\"messages\":[{\"role\":\"user\", \"content\":\"What section covers “How do I classify relocation expenses related to a permanent change of station (PCS)?” Can you provide a summary of the information?\"},{\"role\":\"assistant\", \"content\": \"No, none of these accounts close at year-end because they represent ongoing assets related to cash holdings or fund balances.\" }]}\n",
      "{\"messages\":[{\"role\":\"user\", \"content\":\"What section covers “How do I classify relocation expenses related to a permanent change of station (PCS)?” Can you provide a summary of the information?\"},{\"role\":\"assistant\", \"content\": \"No, none of these accounts close at year-end because they represent ongoing assets related to cash holdings or fund balances.\" }]}\n",
      "{\"messages\":[{\"role\":\"user\", \"content\":\"What section covers “How do I classify relocation expenses related to a permanent change of station (PCS)?” Can you provide a summary of the information?\"},{\"role\":\"assistant\", \"content\": \"No, none of these accounts close at year-end because they represent ongoing assets related to cash holdings or fund balances.\" }]}\n",
      "{\"messages\":[{\"role\":\"user\", \"content\":\"What section covers “How do I classify relocation expenses related to a permanent change of station (PCS)?” Can you provide a summary of the information?\"},{\"role\":\"assistant\", \"content\": \"No, none of these accounts close at year-end because they represent ongoing assets related to cash holdings or fund balances.\" }]}\n",
      "{\"messages\":[{\"role\":\"user\", \"content\":\"What section covers “How do I classify relocation expenses related to a permanent change of station (PCS)?” Can you provide a summary of the information?\"},{\"role\":\"assistant\", \"content\": \"No, none of these accounts close at year-end because they represent ongoing assets related to cash holdings or fund balances.\" }]}\n",
      "{\"messages\":[{\"role\":\"user\", \"content\":\"What section covers “How do I classify relocation expenses related to a permanent change of station (PCS)?” Can you provide a summary of the information?\"},{\"role\":\"assistant\", \"content\": \"No, none of these accounts close at year-end because they represent ongoing assets related to cash holdings or fund balances.\" }]}\n",
      "{\"messages\":[{\"role\":\"user\", \"content\":\"What section covers “How do I classify relocation expenses related to a permanent change of station (PCS)?” Can you provide a summary of the information?\"},{\"role\":\"assistant\", \"content\": \"No, none of these accounts close at year-end because they represent ongoing assets related to cash holdings or fund balances.\" }]}\n",
      "{\"messages\":[{\"role\":\"user\", \"content\":\"What section covers “How do I classify relocation expenses related to a permanent change of station (PCS)?” Can you provide a summary of the information?\"},{\"role\":\"assistant\", \"content\": \"No, none of these accounts close at year-end because they represent ongoing assets related to cash holdings or fund balances.\" }]}\n",
      "{\"messages\":[{\"role\":\"user\", \"content\":\"What section covers “How do I classify relocation expenses related to a permanent change of station (PCS)?” Can you provide a summary of the information?\"},{\"role\":\"assistant\", \"content\": \"No, none of these accounts close at year-end because they represent ongoing assets related to cash holdings or fund balances.\" }]}\n",
      "{\"messages\":[{\"role\":\"user\", \"content\":\"What section covers “How do I classify relocation expenses related to a permanent change of station (PCS)?” Can you provide a summary of the information?\"},{\"role\":\"assistant\", \"content\": \"No, none of these accounts close at year-end because they represent ongoing assets related to cash holdings or fund balances.\" }]}\n",
      "{\"messages\":[{\"role\":\"user\", \"content\":\"What section covers “How do I classify relocation expenses related to a permanent change of station (PCS)?” Can you provide a summary of the information?\"},{\"role\":\"assistant\", \"content\": \"No, none of these accounts close at year-end because they represent ongoing assets related to cash holdings or fund balances.\" }]}\n",
      "{\"messages\":[{\"role\":\"user\", \"content\":\"What section covers “How do I classify relocation expenses related to a permanent change of station (PCS)?” Can you provide a summary of the information?\"},{\"role\":\"assistant\", \"content\": \"No, none of these accounts close at year-end because they represent ongoing assets related to cash holdings or fund balances.\" }]}\n",
      "{\"messages\":[{\"role\":\"user\", \"content\":\"What section covers “How do I classify relocation expenses related to a permanent change of station (PCS)?” Can you provide a summary of the information?\"},{\"role\":\"assistant\", \"content\": \"No, none of these accounts close at year-end because they represent ongoing assets related to cash holdings or fund balances.\" }]}\n",
      "{\"messages\":[{\"role\":\"user\", \"content\":\"What section covers “How do I classify relocation expenses related to a permanent change of station (PCS)?” Can you provide a summary of the information?\"},{\"role\":\"assistant\", \"content\": \"No, none of these accounts close at year-end because they represent ongoing assets related to cash holdings or fund balances.\" }]}\n",
      "{\"messages\":[{\"role\":\"user\", \"content\":\"What section covers “How do I classify relocation expenses related to a permanent change of station (PCS)?” Can you provide a summary of the information?\"},{\"role\":\"assistant\", \"content\": \"No, none of these accounts close at year-end because they represent ongoing assets related to cash holdings or fund balances.\" }]}\n",
      "{\"messages\":[{\"role\":\"user\", \"content\":\"What section covers “How do I classify relocation expenses related to a permanent change of station (PCS)?” Can you provide a summary of the information?\"},{\"role\":\"assistant\", \"content\": \"No, none of these accounts close at year-end because they represent ongoing assets related to cash holdings or fund balances.\" }]}\n",
      "{\"messages\":[{\"role\":\"user\", \"content\":\"What section covers “How do I classify relocation expenses related to a permanent change of station (PCS)?” Can you provide a summary of the information?\"},{\"role\":\"assistant\", \"content\": \"No, none of these accounts close at year-end because they represent ongoing assets related to cash holdings or fund balances.\" }]}\n",
      "{\"messages\":[{\"role\":\"user\", \"content\":\"What section covers “How do I classify relocation expenses related to a permanent change of station (PCS)?” Can you provide a summary of the information?\"},{\"role\":\"assistant\", \"content\": \"No, none of these accounts close at year-end because they represent ongoing assets related to cash holdings or fund balances.\" }]}\n",
      "{\"messages\":[{\"role\":\"user\", \"content\":\"What section covers “How do I classify relocation expenses related to a permanent change of station (PCS)?” Can you provide a summary of the information?\"},{\"role\":\"assistant\", \"content\": \"No, none of these accounts close at year-end because they represent ongoing assets related to cash holdings or fund balances.\" }]}\n",
      "{\"messages\":[{\"role\":\"user\", \"content\":\"What section covers “How do I classify relocation expenses related to a permanent change of station (PCS)?” Can you provide a summary of the information?\"},{\"role\":\"assistant\", \"content\": \"No, none of these accounts close at year-end because they represent ongoing assets related to cash holdings or fund balances.\" }]}\n",
      "{\"messages\":[{\"role\":\"user\", \"content\":\"What section covers “How do I classify relocation expenses related to a permanent change of station (PCS)?” Can you provide a summary of the information?\"},{\"role\":\"assistant\", \"content\": \"No, none of these accounts close at year-end because they represent ongoing assets related to cash holdings or fund balances.\" }]}\n",
      "{\"messages\":[{\"role\":\"user\", \"content\":\"What section covers “How do I classify relocation expenses related to a permanent change of station (PCS)?” Can you provide a summary of the information?\"},{\"role\":\"assistant\", \"content\": \"No, none of these accounts close at year-end because they represent ongoing assets related to cash holdings or fund balances.\" }]}\n",
      "{\"messages\":[{\"role\":\"user\", \"content\":\"What section covers “How do I classify relocation expenses related to a permanent change of station (PCS)?” Can you provide a summary of the information?\"},{\"role\":\"assistant\", \"content\": \"No, none of these accounts close at year-end because they represent ongoing assets related to cash holdings or fund balances.\" }]}\n",
      "{\"messages\":[{\"role\":\"user\", \"content\":\"What section covers “How do I classify relocation expenses related to a permanent change of station (PCS)?” Can you provide a summary of the information?\"},{\"role\":\"assistant\", \"content\": \"No, none of these accounts close at year-end because they represent ongoing assets related to cash holdings or fund balances.\" }]}\n",
      "{\"messages\":[{\"role\":\"user\", \"content\":\"What section covers “How do I classify relocation expenses related to a permanent change of station (PCS)?” Can you provide a summary of the information?\"},{\"role\":\"assistant\", \"content\": \"No, none of these accounts close at year-end because they represent ongoing assets related to cash holdings or fund balances.\" }]}\n",
      "{\"messages\":[{\"role\":\"user\", \"content\":\"What section covers “How do I classify relocation expenses related to a permanent change of station (PCS)?” Can you provide a summary of the information?\"},{\"role\":\"assistant\", \"content\": \"No, none of these accounts close at year-end because they represent ongoing assets related to cash holdings or fund balances.\" }]}\n",
      "{\"messages\":[{\"role\":\"user\", \"content\":\"What section covers “How do I classify relocation expenses related to a permanent change of station (PCS)?” Can you provide a summary of the information?\"},{\"role\":\"assistant\", \"content\": \"No, none of these accounts close at year-end because they represent ongoing assets related to cash holdings or fund balances.\" }]}\n",
      "{\"messages\":[{\"role\":\"user\", \"content\":\"What section covers “How do I classify relocation expenses related to a permanent change of station (PCS)?” Can you provide a summary of the information?\"},{\"role\":\"assistant\", \"content\": \"No, none of these accounts close at year-end because they represent ongoing assets related to cash holdings or fund balances.\" }]}\n",
      "{\"messages\":[{\"role\":\"user\", \"content\":\"What section covers “How do I classify relocation expenses related to a permanent change of station (PCS)?” Can you provide a summary of the information?\"},{\"role\":\"assistant\", \"content\": \"No, none of these accounts close at year-end because they represent ongoing assets related to cash holdings or fund balances.\" }]}\n",
      "{\"messages\":[{\"role\":\"user\", \"content\":\"What section covers “How do I classify relocation expenses related to a permanent change of station (PCS)?” Can you provide a summary of the information?\"},{\"role\":\"assistant\", \"content\": \"No, none of these accounts close at year-end because they represent ongoing assets related to cash holdings or fund balances.\" }]}\n",
      "{\"messages\":[{\"role\":\"user\", \"content\":\"What section covers “How do I classify relocation expenses related to a permanent change of station (PCS)?” Can you provide a summary of the information?\"},{\"role\":\"assistant\", \"content\": \"No, none of these accounts close at year-end because they represent ongoing assets related to cash holdings or fund balances.\" }]}\n",
      "{\"messages\":[{\"role\":\"user\", \"content\":\"What section covers “How do I classify relocation expenses related to a permanent change of station (PCS)?” Can you provide a summary of the information?\"},{\"role\":\"assistant\", \"content\": \"No, none of these accounts close at year-end because they represent ongoing assets related to cash holdings or fund balances.\" }]}\n",
      "{\"messages\":[{\"role\":\"user\", \"content\":\"What section covers “How do I classify relocation expenses related to a permanent change of station (PCS)?” Can you provide a summary of the information?\"},{\"role\":\"assistant\", \"content\": \"No, none of these accounts close at year-end because they represent ongoing assets related to cash holdings or fund balances.\" }]}\n",
      "{\"messages\":[{\"role\":\"user\", \"content\":\"What section covers “How do I classify relocation expenses related to a permanent change of station (PCS)?” Can you provide a summary of the information?\"},{\"role\":\"assistant\", \"content\": \"No, none of these accounts close at year-end because they represent ongoing assets related to cash holdings or fund balances.\" }]}\n",
      "{\"messages\":[{\"role\":\"user\", \"content\":\"What section covers “How do I classify relocation expenses related to a permanent change of station (PCS)?” Can you provide a summary of the information?\"},{\"role\":\"assistant\", \"content\": \"No, none of these accounts close at year-end because they represent ongoing assets related to cash holdings or fund balances.\" }]}\n",
      "{\"messages\":[{\"role\":\"user\", \"content\":\"What section covers “How do I classify relocation expenses related to a permanent change of station (PCS)?” Can you provide a summary of the information?\"},{\"role\":\"assistant\", \"content\": \"No, none of these accounts close at year-end because they represent ongoing assets related to cash holdings or fund balances.\" }]}\n",
      "{\"messages\":[{\"role\":\"user\", \"content\":\"What section covers “How do I classify relocation expenses related to a permanent change of station (PCS)?” Can you provide a summary of the information?\"},{\"role\":\"assistant\", \"content\": \"No, none of these accounts close at year-end because they represent ongoing assets related to cash holdings or fund balances.\" }]}\n",
      "{\"messages\":[{\"role\":\"user\", \"content\":\"What section covers “How do I classify relocation expenses related to a permanent change of station (PCS)?” Can you provide a summary of the information?\"},{\"role\":\"assistant\", \"content\": \"No, none of these accounts close at year-end because they represent ongoing assets related to cash holdings or fund balances.\" }]}\n",
      "{\"messages\":[{\"role\":\"user\", \"content\":\"What section covers “How do I classify relocation expenses related to a permanent change of station (PCS)?” Can you provide a summary of the information?\"},{\"role\":\"assistant\", \"content\": \"No, none of these accounts close at year-end because they represent ongoing assets related to cash holdings or fund balances.\" }]}\n",
      "{\"messages\":[{\"role\":\"user\", \"content\":\"What section covers “How do I classify relocation expenses related to a permanent change of station (PCS)?” Can you provide a summary of the information?\"},{\"role\":\"assistant\", \"content\": \"No, none of these accounts close at year-end because they represent ongoing assets related to cash holdings or fund balances.\" }]}\n",
      "{\"messages\":[{\"role\":\"user\", \"content\":\"What section covers “How do I classify relocation expenses related to a permanent change of station (PCS)?” Can you provide a summary of the information?\"},{\"role\":\"assistant\", \"content\": \"No, none of these accounts close at year-end because they represent ongoing assets related to cash holdings or fund balances.\" }]}\n",
      "{\"messages\":[{\"role\":\"user\", \"content\":\"What section covers “How do I classify relocation expenses related to a permanent change of station (PCS)?” Can you provide a summary of the information?\"},{\"role\":\"assistant\", \"content\": \"No, none of these accounts close at year-end because they represent ongoing assets related to cash holdings or fund balances.\" }]}\n",
      "{\"messages\":[{\"role\":\"user\", \"content\":\"What section covers “How do I classify relocation expenses related to a permanent change of station (PCS)?” Can you provide a summary of the information?\"},{\"role\":\"assistant\", \"content\": \"No, none of these accounts close at year-end because they represent ongoing assets related to cash holdings or fund balances.\" }]}\n",
      "{\"messages\":[{\"role\":\"user\", \"content\":\"What section covers “How do I classify relocation expenses related to a permanent change of station (PCS)?” Can you provide a summary of the information?\"},{\"role\":\"assistant\", \"content\": \"No, none of these accounts close at year-end because they represent ongoing assets related to cash holdings or fund balances.\" }]}\n",
      "{\"messages\":[{\"role\":\"user\", \"content\":\"What section covers “How do I classify relocation expenses related to a permanent change of station (PCS)?” Can you provide a summary of the information?\"},{\"role\":\"assistant\", \"content\": \"No, none of these accounts close at year-end because they represent ongoing assets related to cash holdings or fund balances.\" }]}\n",
      "{\"messages\":[{\"role\":\"user\", \"content\":\"What section covers “How do I classify relocation expenses related to a permanent change of station (PCS)?” Can you provide a summary of the information?\"},{\"role\":\"assistant\", \"content\": \"No, none of these accounts close at year-end because they represent ongoing assets related to cash holdings or fund balances.\" }]}\n",
      "{\"messages\":[{\"role\":\"user\", \"content\":\"What section covers “How do I classify relocation expenses related to a permanent change of station (PCS)?” Can you provide a summary of the information?\"},{\"role\":\"assistant\", \"content\": \"No, none of these accounts close at year-end because they represent ongoing assets related to cash holdings or fund balances.\" }]}\n",
      "{\"messages\":[{\"role\":\"user\", \"content\":\"What section covers “How do I classify relocation expenses related to a permanent change of station (PCS)?” Can you provide a summary of the information?\"},{\"role\":\"assistant\", \"content\": \"No, none of these accounts close at year-end because they represent ongoing assets related to cash holdings or fund balances.\" }]}\n",
      "{\"messages\":[{\"role\":\"user\", \"content\":\"What section covers “How do I classify relocation expenses related to a permanent change of station (PCS)?” Can you provide a summary of the information?\"},{\"role\":\"assistant\", \"content\": \"No, none of these accounts close at year-end because they represent ongoing assets related to cash holdings or fund balances.\" }]}\n",
      "{\"messages\":[{\"role\":\"user\", \"content\":\"What section covers “How do I classify relocation expenses related to a permanent change of station (PCS)?” Can you provide a summary of the information?\"},{\"role\":\"assistant\", \"content\": \"No, none of these accounts close at year-end because they represent ongoing assets related to cash holdings or fund balances.\" }]}\n",
      "{\"messages\":[{\"role\":\"user\", \"content\":\"What section covers “How do I classify relocation expenses related to a permanent change of station (PCS)?” Can you provide a summary of the information?\"},{\"role\":\"assistant\", \"content\": \"No, none of these accounts close at year-end because they represent ongoing assets related to cash holdings or fund balances.\" }]}\n",
      "{\"messages\":[{\"role\":\"user\", \"content\":\"What section covers “How do I classify relocation expenses related to a permanent change of station (PCS)?” Can you provide a summary of the information?\"},{\"role\":\"assistant\", \"content\": \"No, none of these accounts close at year-end because they represent ongoing assets related to cash holdings or fund balances.\" }]}\n",
      "{\"messages\":[{\"role\":\"user\", \"content\":\"What section covers “How do I classify relocation expenses related to a permanent change of station (PCS)?” Can you provide a summary of the information?\"},{\"role\":\"assistant\", \"content\": \"No, none of these accounts close at year-end because they represent ongoing assets related to cash holdings or fund balances.\" }]}\n",
      "{\"messages\":[{\"role\":\"user\", \"content\":\"What section covers “How do I classify relocation expenses related to a permanent change of station (PCS)?” Can you provide a summary of the information?\"},{\"role\":\"assistant\", \"content\": \"No, none of these accounts close at year-end because they represent ongoing assets related to cash holdings or fund balances.\" }]}\n",
      "{\"messages\":[{\"role\":\"user\", \"content\":\"What section covers “How do I classify relocation expenses related to a permanent change of station (PCS)?” Can you provide a summary of the information?\"},{\"role\":\"assistant\", \"content\": \"No, none of these accounts close at year-end because they represent ongoing assets related to cash holdings or fund balances.\" }]}\n",
      "{\"messages\":[{\"role\":\"user\", \"content\":\"What section covers “How do I classify relocation expenses related to a permanent change of station (PCS)?” Can you provide a summary of the information?\"},{\"role\":\"assistant\", \"content\": \"No, none of these accounts close at year-end because they represent ongoing assets related to cash holdings or fund balances.\" }]}\n",
      "{\"messages\":[{\"role\":\"user\", \"content\":\"What section covers “How do I classify relocation expenses related to a permanent change of station (PCS)?” Can you provide a summary of the information?\"},{\"role\":\"assistant\", \"content\": \"No, none of these accounts close at year-end because they represent ongoing assets related to cash holdings or fund balances.\" }]}\n",
      "{\"messages\":[{\"role\":\"user\", \"content\":\"What section covers “How do I classify relocation expenses related to a permanent change of station (PCS)?” Can you provide a summary of the information?\"},{\"role\":\"assistant\", \"content\": \"No, none of these accounts close at year-end because they represent ongoing assets related to cash holdings or fund balances.\" }]}\n",
      "{\"messages\":[{\"role\":\"user\", \"content\":\"What section covers “How do I classify relocation expenses related to a permanent change of station (PCS)?” Can you provide a summary of the information?\"},{\"role\":\"assistant\", \"content\": \"No, none of these accounts close at year-end because they represent ongoing assets related to cash holdings or fund balances.\" }]}\n",
      "{\"messages\":[{\"role\":\"user\", \"content\":\"What section covers “How do I classify relocation expenses related to a permanent change of station (PCS)?” Can you provide a summary of the information?\"},{\"role\":\"assistant\", \"content\": \"No, none of these accounts close at year-end because they represent ongoing assets related to cash holdings or fund balances.\" }]}\n",
      "{\"messages\":[{\"role\":\"user\", \"content\":\"What section covers “How do I classify relocation expenses related to a permanent change of station (PCS)?” Can you provide a summary of the information?\"},{\"role\":\"assistant\", \"content\": \"No, none of these accounts close at year-end because they represent ongoing assets related to cash holdings or fund balances.\" }]}\n",
      "{\"messages\":[{\"role\":\"user\", \"content\":\"What section covers “How do I classify relocation expenses related to a permanent change of station (PCS)?” Can you provide a summary of the information?\"},{\"role\":\"assistant\", \"content\": \"No, none of these accounts close at year-end because they represent ongoing assets related to cash holdings or fund balances.\" }]}\n",
      "{\"messages\":[{\"role\":\"user\", \"content\":\"What section covers “How do I classify relocation expenses related to a permanent change of station (PCS)?” Can you provide a summary of the information?\"},{\"role\":\"assistant\", \"content\": \"No, none of these accounts close at year-end because they represent ongoing assets related to cash holdings or fund balances.\" }]}\n",
      "{\"messages\":[{\"role\":\"user\", \"content\":\"What section covers “How do I classify relocation expenses related to a permanent change of station (PCS)?” Can you provide a summary of the information?\"},{\"role\":\"assistant\", \"content\": \"No, none of these accounts close at year-end because they represent ongoing assets related to cash holdings or fund balances.\" }]}\n",
      "{\"messages\":[{\"role\":\"user\", \"content\":\"What section covers “How do I classify relocation expenses related to a permanent change of station (PCS)?” Can you provide a summary of the information?\"},{\"role\":\"assistant\", \"content\": \"No, none of these accounts close at year-end because they represent ongoing assets related to cash holdings or fund balances.\" }]}\n",
      "{\"messages\":[{\"role\":\"user\", \"content\":\"What section covers “How do I classify relocation expenses related to a permanent change of station (PCS)?” Can you provide a summary of the information?\"},{\"role\":\"assistant\", \"content\": \"No, none of these accounts close at year-end because they represent ongoing assets related to cash holdings or fund balances.\" }]}\n",
      "{\"messages\":[{\"role\":\"user\", \"content\":\"What section covers “How do I classify relocation expenses related to a permanent change of station (PCS)?” Can you provide a summary of the information?\"},{\"role\":\"assistant\", \"content\": \"No, none of these accounts close at year-end because they represent ongoing assets related to cash holdings or fund balances.\" }]}\n",
      "{\"messages\":[{\"role\":\"user\", \"content\":\"What section covers “How do I classify relocation expenses related to a permanent change of station (PCS)?” Can you provide a summary of the information?\"},{\"role\":\"assistant\", \"content\": \"No, none of these accounts close at year-end because they represent ongoing assets related to cash holdings or fund balances.\" }]}\n",
      "{\"messages\":[{\"role\":\"user\", \"content\":\"What section covers “How do I classify relocation expenses related to a permanent change of station (PCS)?” Can you provide a summary of the information?\"},{\"role\":\"assistant\", \"content\": \"No, none of these accounts close at year-end because they represent ongoing assets related to cash holdings or fund balances.\" }]}\n",
      "{\"messages\":[{\"role\":\"user\", \"content\":\"What section covers “How do I classify relocation expenses related to a permanent change of station (PCS)?” Can you provide a summary of the information?\"},{\"role\":\"assistant\", \"content\": \"No, none of these accounts close at year-end because they represent ongoing assets related to cash holdings or fund balances.\" }]}\n",
      "{\"messages\":[{\"role\":\"user\", \"content\":\"What section covers “How do I classify relocation expenses related to a permanent change of station (PCS)?” Can you provide a summary of the information?\"},{\"role\":\"assistant\", \"content\": \"No, none of these accounts close at year-end because they represent ongoing assets related to cash holdings or fund balances.\" }]}\n",
      "{\"messages\":[{\"role\":\"user\", \"content\":\"What section covers “How do I classify relocation expenses related to a permanent change of station (PCS)?” Can you provide a summary of the information?\"},{\"role\":\"assistant\", \"content\": \"No, none of these accounts close at year-end because they represent ongoing assets related to cash holdings or fund balances.\" }]}\n",
      "{\"messages\":[{\"role\":\"user\", \"content\":\"What section covers “How do I classify relocation expenses related to a permanent change of station (PCS)?” Can you provide a summary of the information?\"},{\"role\":\"assistant\", \"content\": \"No, none of these accounts close at year-end because they represent ongoing assets related to cash holdings or fund balances.\" }]}\n",
      "{\"messages\":[{\"role\":\"user\", \"content\":\"What section covers “How do I classify relocation expenses related to a permanent change of station (PCS)?” Can you provide a summary of the information?\"},{\"role\":\"assistant\", \"content\": \"No, none of these accounts close at year-end because they represent ongoing assets related to cash holdings or fund balances.\" }]}\n",
      "{\"messages\":[{\"role\":\"user\", \"content\":\"What section covers “How do I classify relocation expenses related to a permanent change of station (PCS)?” Can you provide a summary of the information?\"},{\"role\":\"assistant\", \"content\": \"No, none of these accounts close at year-end because they represent ongoing assets related to cash holdings or fund balances.\" }]}\n",
      "{\"messages\":[{\"role\":\"user\", \"content\":\"What section covers “How do I classify relocation expenses related to a permanent change of station (PCS)?” Can you provide a summary of the information?\"},{\"role\":\"assistant\", \"content\": \"No, none of these accounts close at year-end because they represent ongoing assets related to cash holdings or fund balances.\" }]}\n"
     ]
    }
   ],
   "execution_count": 86
  },
  {
   "metadata": {},
   "cell_type": "markdown",
   "source": "#### CFR Data",
   "id": "91397e6e2f827a75"
  },
  {
   "metadata": {
    "ExecuteTime": {
     "end_time": "2025-06-12T13:19:55.677073Z",
     "start_time": "2025-06-12T13:19:55.580560Z"
    }
   },
   "cell_type": "code",
   "source": [
    "# Define CFR Data\n",
    "xl_cfr31 = pd.read_excel( cfr31, sheet_name='Training' )\n",
    "names = [ 'ID', 'Item', 'Role', 'Content' ]\n",
    "cfr_index = xl_cfr31.index\n",
    "df_cfr31 = pd.DataFrame( data=xl_cfr31, columns=names  )\n",
    "df_cfr31 = df_cfr31.reset_index( ).set_index( 'ID' )\n",
    "df_cfr31 = df_cfr31.drop( columns=[ 'index' ] )\n",
    "cfr_rows = len( df_cfr31 )\n",
    "cfr_rows"
   ],
   "id": "b84b674d7baf6715",
   "outputs": [
    {
     "data": {
      "text/plain": [
       "214"
      ]
     },
     "execution_count": 63,
     "metadata": {},
     "output_type": "execute_result"
    }
   ],
   "execution_count": 63
  },
  {
   "metadata": {
    "ExecuteTime": {
     "end_time": "2025-06-12T13:19:57.869257Z",
     "start_time": "2025-06-12T13:19:57.849510Z"
    }
   },
   "cell_type": "code",
   "source": [
    "# View Dataframe\n",
    "df_cfr31"
   ],
   "id": "e1945d3078cd47cc",
   "outputs": [
    {
     "data": {
      "text/plain": [
       "    Item       Role                                            Content\n",
       "ID                                                                    \n",
       "1     Q1       user  What is the overall purpose of Part 1 of Title...\n",
       "2     A1  assistant  Part 1 establishes the Department of the Treas...\n",
       "3     Q2       user  If a requester is not sure which Treasury bure...\n",
       "4     A2  assistant  A requester who cannot identify the correct bu...\n",
       "5     Q3       user  Under Subpart A, what conditions allow an indi...\n",
       "..   ...        ...                                                ...\n",
       "210  A29  assistant  Part 2 mandates periodic accountability invent...\n",
       "211  Q30       user  Under Part 2, what happens if a classification...\n",
       "212  A30  assistant  When a cleared individual formally challenges ...\n",
       "213  Q31       user  What emergency measures are allowed under Part...\n",
       "214  A31  assistant  Part 2 provides procedures for “emergency clas...\n",
       "\n",
       "[214 rows x 3 columns]"
      ],
      "text/html": [
       "<div>\n",
       "<style scoped>\n",
       "    .dataframe tbody tr th:only-of-type {\n",
       "        vertical-align: middle;\n",
       "    }\n",
       "\n",
       "    .dataframe tbody tr th {\n",
       "        vertical-align: top;\n",
       "    }\n",
       "\n",
       "    .dataframe thead th {\n",
       "        text-align: right;\n",
       "    }\n",
       "</style>\n",
       "<table border=\"1\" class=\"dataframe\">\n",
       "  <thead>\n",
       "    <tr style=\"text-align: right;\">\n",
       "      <th></th>\n",
       "      <th>Item</th>\n",
       "      <th>Role</th>\n",
       "      <th>Content</th>\n",
       "    </tr>\n",
       "    <tr>\n",
       "      <th>ID</th>\n",
       "      <th></th>\n",
       "      <th></th>\n",
       "      <th></th>\n",
       "    </tr>\n",
       "  </thead>\n",
       "  <tbody>\n",
       "    <tr>\n",
       "      <th>1</th>\n",
       "      <td>Q1</td>\n",
       "      <td>user</td>\n",
       "      <td>What is the overall purpose of Part 1 of Title...</td>\n",
       "    </tr>\n",
       "    <tr>\n",
       "      <th>2</th>\n",
       "      <td>A1</td>\n",
       "      <td>assistant</td>\n",
       "      <td>Part 1 establishes the Department of the Treas...</td>\n",
       "    </tr>\n",
       "    <tr>\n",
       "      <th>3</th>\n",
       "      <td>Q2</td>\n",
       "      <td>user</td>\n",
       "      <td>If a requester is not sure which Treasury bure...</td>\n",
       "    </tr>\n",
       "    <tr>\n",
       "      <th>4</th>\n",
       "      <td>A2</td>\n",
       "      <td>assistant</td>\n",
       "      <td>A requester who cannot identify the correct bu...</td>\n",
       "    </tr>\n",
       "    <tr>\n",
       "      <th>5</th>\n",
       "      <td>Q3</td>\n",
       "      <td>user</td>\n",
       "      <td>Under Subpart A, what conditions allow an indi...</td>\n",
       "    </tr>\n",
       "    <tr>\n",
       "      <th>...</th>\n",
       "      <td>...</td>\n",
       "      <td>...</td>\n",
       "      <td>...</td>\n",
       "    </tr>\n",
       "    <tr>\n",
       "      <th>210</th>\n",
       "      <td>A29</td>\n",
       "      <td>assistant</td>\n",
       "      <td>Part 2 mandates periodic accountability invent...</td>\n",
       "    </tr>\n",
       "    <tr>\n",
       "      <th>211</th>\n",
       "      <td>Q30</td>\n",
       "      <td>user</td>\n",
       "      <td>Under Part 2, what happens if a classification...</td>\n",
       "    </tr>\n",
       "    <tr>\n",
       "      <th>212</th>\n",
       "      <td>A30</td>\n",
       "      <td>assistant</td>\n",
       "      <td>When a cleared individual formally challenges ...</td>\n",
       "    </tr>\n",
       "    <tr>\n",
       "      <th>213</th>\n",
       "      <td>Q31</td>\n",
       "      <td>user</td>\n",
       "      <td>What emergency measures are allowed under Part...</td>\n",
       "    </tr>\n",
       "    <tr>\n",
       "      <th>214</th>\n",
       "      <td>A31</td>\n",
       "      <td>assistant</td>\n",
       "      <td>Part 2 provides procedures for “emergency clas...</td>\n",
       "    </tr>\n",
       "  </tbody>\n",
       "</table>\n",
       "<p>214 rows × 3 columns</p>\n",
       "</div>"
      ]
     },
     "execution_count": 64,
     "metadata": {},
     "output_type": "execute_result"
    }
   ],
   "execution_count": 64
  },
  {
   "metadata": {
    "ExecuteTime": {
     "end_time": "2025-06-12T13:20:05.303544Z",
     "start_time": "2025-06-12T13:20:04.699598Z"
    }
   },
   "cell_type": "code",
   "source": [
    "# Print JSON\n",
    "for r in range( len( df_cfr31 ) ):\n",
    "\tif df_cfr31.iloc[ r, 1 ] == 'user':\n",
    "\t\tquestion = '{\"messages\":[{' + f'\"role\":\"{df_cfr31.iloc[ r, 1 ]}\", \"content\":\"{df_cfr31.iloc[ r, 2 ]}\"' + '},{'\n",
    "\telif df_cfr31.iloc[ r, 1 ] == 'assistnant':\n",
    "\t\tanswer = f'\"role\":\"{df_cfr31.iloc[ r, 1 ]}\", \"content\": \"{df_cfr31.iloc[ r, 2 ]}\" ' + '}]}'\n",
    "\trecord = question + answer\n",
    "\tprint( record  )\n",
    "\n"
   ],
   "id": "8c98f202b7b842be",
   "outputs": [
    {
     "name": "stdout",
     "output_type": "stream",
     "text": [
      "{\"messages\":[{\"role\":\"user\", \"content\":\"What is the overall purpose of Part 1 of Title 31 CFR, and which subparts does it contain?\"},{\"role\":\"assistant\", \"content\": \"No, none of these accounts close at year-end because they represent ongoing assets related to cash holdings or fund balances.\" }]}\n",
      "{\"messages\":[{\"role\":\"user\", \"content\":\"What is the overall purpose of Part 1 of Title 31 CFR, and which subparts does it contain?\"},{\"role\":\"assistant\", \"content\": \"No, none of these accounts close at year-end because they represent ongoing assets related to cash holdings or fund balances.\" }]}\n",
      "{\"messages\":[{\"role\":\"user\", \"content\":\"If a requester is not sure which Treasury bureau holds the records they want, what procedure must they follow under Subpart A?\"},{\"role\":\"assistant\", \"content\": \"No, none of these accounts close at year-end because they represent ongoing assets related to cash holdings or fund balances.\" }]}\n",
      "{\"messages\":[{\"role\":\"user\", \"content\":\"If a requester is not sure which Treasury bureau holds the records they want, what procedure must they follow under Subpart A?\"},{\"role\":\"assistant\", \"content\": \"No, none of these accounts close at year-end because they represent ongoing assets related to cash holdings or fund balances.\" }]}\n",
      "{\"messages\":[{\"role\":\"user\", \"content\":\"Under Subpart A, what conditions allow an individual to request expedited processing of a FOIA request?\"},{\"role\":\"assistant\", \"content\": \"No, none of these accounts close at year-end because they represent ongoing assets related to cash holdings or fund balances.\" }]}\n",
      "{\"messages\":[{\"role\":\"user\", \"content\":\"Under Subpart A, what conditions allow an individual to request expedited processing of a FOIA request?\"},{\"role\":\"assistant\", \"content\": \"No, none of these accounts close at year-end because they represent ongoing assets related to cash holdings or fund balances.\" }]}\n",
      "{\"messages\":[{\"role\":\"user\", \"content\":\"When does the 30-day FOIA response clock start under Part 1?\"},{\"role\":\"assistant\", \"content\": \"No, none of these accounts close at year-end because they represent ongoing assets related to cash holdings or fund balances.\" }]}\n",
      "{\"messages\":[{\"role\":\"user\", \"content\":\"When does the 30-day FOIA response clock start under Part 1?\"},{\"role\":\"assistant\", \"content\": \"No, none of these accounts close at year-end because they represent ongoing assets related to cash holdings or fund balances.\" }]}\n",
      "{\"messages\":[{\"role\":\"user\", \"content\":\"What fees may be charged for processing a FOIA request, and how are they determined?\"},{\"role\":\"assistant\", \"content\": \"No, none of these accounts close at year-end because they represent ongoing assets related to cash holdings or fund balances.\" }]}\n",
      "{\"messages\":[{\"role\":\"user\", \"content\":\"What fees may be charged for processing a FOIA request, and how are they determined?\"},{\"role\":\"assistant\", \"content\": \"No, none of these accounts close at year-end because they represent ongoing assets related to cash holdings or fund balances.\" }]}\n",
      "{\"messages\":[{\"role\":\"user\", \"content\":\"If a requester demonstrates public-interest use, how does Part 1 handle fee waivers?\"},{\"role\":\"assistant\", \"content\": \"No, none of these accounts close at year-end because they represent ongoing assets related to cash holdings or fund balances.\" }]}\n",
      "{\"messages\":[{\"role\":\"user\", \"content\":\"If a requester demonstrates public-interest use, how does Part 1 handle fee waivers?\"},{\"role\":\"assistant\", \"content\": \"No, none of these accounts close at year-end because they represent ongoing assets related to cash holdings or fund balances.\" }]}\n",
      "{\"messages\":[{\"role\":\"user\", \"content\":\"Under Subpart B, when may Treasury disclose a record about an individual without that person’s consent?\"},{\"role\":\"assistant\", \"content\": \"No, none of these accounts close at year-end because they represent ongoing assets related to cash holdings or fund balances.\" }]}\n",
      "{\"messages\":[{\"role\":\"user\", \"content\":\"Under Subpart B, when may Treasury disclose a record about an individual without that person’s consent?\"},{\"role\":\"assistant\", \"content\": \"No, none of these accounts close at year-end because they represent ongoing assets related to cash holdings or fund balances.\" }]}\n",
      "{\"messages\":[{\"role\":\"user\", \"content\":\"How long must a component retain its accounting of disclosures made out of a Privacy Act system of records?\"},{\"role\":\"assistant\", \"content\": \"No, none of these accounts close at year-end because they represent ongoing assets related to cash holdings or fund balances.\" }]}\n",
      "{\"messages\":[{\"role\":\"user\", \"content\":\"How long must a component retain its accounting of disclosures made out of a Privacy Act system of records?\"},{\"role\":\"assistant\", \"content\": \"No, none of these accounts close at year-end because they represent ongoing assets related to cash holdings or fund balances.\" }]}\n",
      "{\"messages\":[{\"role\":\"user\", \"content\":\"What steps must a component follow when an individual requests to know whether Treasury maintains a record about them?\"},{\"role\":\"assistant\", \"content\": \"No, none of these accounts close at year-end because they represent ongoing assets related to cash holdings or fund balances.\" }]}\n",
      "{\"messages\":[{\"role\":\"user\", \"content\":\"What steps must a component follow when an individual requests to know whether Treasury maintains a record about them?\"},{\"role\":\"assistant\", \"content\": \"No, none of these accounts close at year-end because they represent ongoing assets related to cash holdings or fund balances.\" }]}\n",
      "{\"messages\":[{\"role\":\"user\", \"content\":\"If the component’s final decision denies amendment of a Privacy Act record, what recourse does the individual have?\"},{\"role\":\"assistant\", \"content\": \"No, none of these accounts close at year-end because they represent ongoing assets related to cash holdings or fund balances.\" }]}\n",
      "{\"messages\":[{\"role\":\"user\", \"content\":\"If the component’s final decision denies amendment of a Privacy Act record, what recourse does the individual have?\"},{\"role\":\"assistant\", \"content\": \"No, none of these accounts close at year-end because they represent ongoing assets related to cash holdings or fund balances.\" }]}\n",
      "{\"messages\":[{\"role\":\"user\", \"content\":\"In what circumstances is a Treasury system of records exempt from the Privacy Act’s access and amendment requirements?\"},{\"role\":\"assistant\", \"content\": \"No, none of these accounts close at year-end because they represent ongoing assets related to cash holdings or fund balances.\" }]}\n",
      "{\"messages\":[{\"role\":\"user\", \"content\":\"In what circumstances is a Treasury system of records exempt from the Privacy Act’s access and amendment requirements?\"},{\"role\":\"assistant\", \"content\": \"No, none of these accounts close at year-end because they represent ongoing assets related to cash holdings or fund balances.\" }]}\n",
      "{\"messages\":[{\"role\":\"user\", \"content\":\"What essential information must appear on any Treasury form that collects an individual’s Social Security number?\"},{\"role\":\"assistant\", \"content\": \"No, none of these accounts close at year-end because they represent ongoing assets related to cash holdings or fund balances.\" }]}\n",
      "{\"messages\":[{\"role\":\"user\", \"content\":\"What essential information must appear on any Treasury form that collects an individual’s Social Security number?\"},{\"role\":\"assistant\", \"content\": \"No, none of these accounts close at year-end because they represent ongoing assets related to cash holdings or fund balances.\" }]}\n",
      "{\"messages\":[{\"role\":\"user\", \"content\":\"What training and conduct rules are imposed on Treasury employees who handle Privacy Act systems?\"},{\"role\":\"assistant\", \"content\": \"No, none of these accounts close at year-end because they represent ongoing assets related to cash holdings or fund balances.\" }]}\n",
      "{\"messages\":[{\"role\":\"user\", \"content\":\"What training and conduct rules are imposed on Treasury employees who handle Privacy Act systems?\"},{\"role\":\"assistant\", \"content\": \"No, none of these accounts close at year-end because they represent ongoing assets related to cash holdings or fund balances.\" }]}\n",
      "{\"messages\":[{\"role\":\"user\", \"content\":\"How does a person request an accounting of disclosures of their Privacy Act records?\"},{\"role\":\"assistant\", \"content\": \"No, none of these accounts close at year-end because they represent ongoing assets related to cash holdings or fund balances.\" }]}\n",
      "{\"messages\":[{\"role\":\"user\", \"content\":\"How does a person request an accounting of disclosures of their Privacy Act records?\"},{\"role\":\"assistant\", \"content\": \"No, none of these accounts close at year-end because they represent ongoing assets related to cash holdings or fund balances.\" }]}\n",
      "{\"messages\":[{\"role\":\"user\", \"content\":\"Where can one find published notices of the Treasury’s Privacy Act systems of records?\"},{\"role\":\"assistant\", \"content\": \"No, none of these accounts close at year-end because they represent ongoing assets related to cash holdings or fund balances.\" }]}\n",
      "{\"messages\":[{\"role\":\"user\", \"content\":\"Where can one find published notices of the Treasury’s Privacy Act systems of records?\"},{\"role\":\"assistant\", \"content\": \"No, none of these accounts close at year-end because they represent ongoing assets related to cash holdings or fund balances.\" }]}\n",
      "{\"messages\":[{\"role\":\"user\", \"content\":\"Under § 1.1(a), what are Treasury components required to do to “proactively” disclose records, and how can the public access them?\"},{\"role\":\"assistant\", \"content\": \"No, none of these accounts close at year-end because they represent ongoing assets related to cash holdings or fund balances.\" }]}\n",
      "{\"messages\":[{\"role\":\"user\", \"content\":\"Under § 1.1(a), what are Treasury components required to do to “proactively” disclose records, and how can the public access them?\"},{\"role\":\"assistant\", \"content\": \"No, none of these accounts close at year-end because they represent ongoing assets related to cash holdings or fund balances.\" }]}\n",
      "{\"messages\":[{\"role\":\"user\", \"content\":\"According to § 1.1(b), what level of detail must a requester provide when describing the records sought, and what happens if the description is too vague?\"},{\"role\":\"assistant\", \"content\": \"No, none of these accounts close at year-end because they represent ongoing assets related to cash holdings or fund balances.\" }]}\n",
      "{\"messages\":[{\"role\":\"user\", \"content\":\"According to § 1.1(b), what level of detail must a requester provide when describing the records sought, and what happens if the description is too vague?\"},{\"role\":\"assistant\", \"content\": \"No, none of these accounts close at year-end because they represent ongoing assets related to cash holdings or fund balances.\" }]}\n",
      "{\"messages\":[{\"role\":\"user\", \"content\":\"What submission channels are acceptable under § 1.2(a)(1) for filing a FOIA request, and where can one find component-specific instructions?\"},{\"role\":\"assistant\", \"content\": \"No, none of these accounts close at year-end because they represent ongoing assets related to cash holdings or fund balances.\" }]}\n",
      "{\"messages\":[{\"role\":\"user\", \"content\":\"What submission channels are acceptable under § 1.2(a)(1) for filing a FOIA request, and where can one find component-specific instructions?\"},{\"role\":\"assistant\", \"content\": \"No, none of these accounts close at year-end because they represent ongoing assets related to cash holdings or fund balances.\" }]}\n",
      "{\"messages\":[{\"role\":\"user\", \"content\":\"Under § 1.2(a)(2), if a requester is unable to determine the correct Treasury component, what should they do, and how is the request handled?\"},{\"role\":\"assistant\", \"content\": \"No, none of these accounts close at year-end because they represent ongoing assets related to cash holdings or fund balances.\" }]}\n",
      "{\"messages\":[{\"role\":\"user\", \"content\":\"Under § 1.2(a)(2), if a requester is unable to determine the correct Treasury component, what should they do, and how is the request handled?\"},{\"role\":\"assistant\", \"content\": \"No, none of these accounts close at year-end because they represent ongoing assets related to cash holdings or fund balances.\" }]}\n",
      "{\"messages\":[{\"role\":\"user\", \"content\":\"How does § 1.3(a) define which component is responsible for responding to a given FOIA request, and how are “responsive” records determined?\"},{\"role\":\"assistant\", \"content\": \"No, none of these accounts close at year-end because they represent ongoing assets related to cash holdings or fund balances.\" }]}\n",
      "{\"messages\":[{\"role\":\"user\", \"content\":\"How does § 1.3(a) define which component is responsible for responding to a given FOIA request, and how are “responsive” records determined?\"},{\"role\":\"assistant\", \"content\": \"No, none of these accounts close at year-end because they represent ongoing assets related to cash holdings or fund balances.\" }]}\n",
      "{\"messages\":[{\"role\":\"user\", \"content\":\"Describe the rerouting procedure for misdirected FOIA requests under § 1.3(c). What must the original component do once it realizes a request is misdirected?\"},{\"role\":\"assistant\", \"content\": \"No, none of these accounts close at year-end because they represent ongoing assets related to cash holdings or fund balances.\" }]}\n",
      "{\"messages\":[{\"role\":\"user\", \"content\":\"Describe the rerouting procedure for misdirected FOIA requests under § 1.3(c). What must the original component do once it realizes a request is misdirected?\"},{\"role\":\"assistant\", \"content\": \"No, none of these accounts close at year-end because they represent ongoing assets related to cash holdings or fund balances.\" }]}\n",
      "{\"messages\":[{\"role\":\"user\", \"content\":\"Under § 1.4(d), when may Treasury “aggregate” multiple FOIA requests, and for what purpose?\"},{\"role\":\"assistant\", \"content\": \"No, none of these accounts close at year-end because they represent ongoing assets related to cash holdings or fund balances.\" }]}\n",
      "{\"messages\":[{\"role\":\"user\", \"content\":\"Under § 1.4(d), when may Treasury “aggregate” multiple FOIA requests, and for what purpose?\"},{\"role\":\"assistant\", \"content\": \"No, none of these accounts close at year-end because they represent ongoing assets related to cash holdings or fund balances.\" }]}\n",
      "{\"messages\":[{\"role\":\"user\", \"content\":\"What details must a component’s acknowledgment include when, under § 1.4(f), the anticipated processing time is longer than ten working days?\"},{\"role\":\"assistant\", \"content\": \"No, none of these accounts close at year-end because they represent ongoing assets related to cash holdings or fund balances.\" }]}\n",
      "{\"messages\":[{\"role\":\"user\", \"content\":\"What details must a component’s acknowledgment include when, under § 1.4(f), the anticipated processing time is longer than ten working days?\"},{\"role\":\"assistant\", \"content\": \"No, none of these accounts close at year-end because they represent ongoing assets related to cash holdings or fund balances.\" }]}\n",
      "{\"messages\":[{\"role\":\"user\", \"content\":\"According to § 1.4(h), what constitutes an “adverse determination,” and what are some examples?\"},{\"role\":\"assistant\", \"content\": \"No, none of these accounts close at year-end because they represent ongoing assets related to cash holdings or fund balances.\" }]}\n",
      "{\"messages\":[{\"role\":\"user\", \"content\":\"According to § 1.4(h), what constitutes an “adverse determination,” and what are some examples?\"},{\"role\":\"assistant\", \"content\": \"No, none of these accounts close at year-end because they represent ongoing assets related to cash holdings or fund balances.\" }]}\n",
      "{\"messages\":[{\"role\":\"user\", \"content\":\"Under § 1.5(a), how does Treasury define “confidential commercial information,” and who qualifies as a “submitter”?\"},{\"role\":\"assistant\", \"content\": \"No, none of these accounts close at year-end because they represent ongoing assets related to cash holdings or fund balances.\" }]}\n",
      "{\"messages\":[{\"role\":\"user\", \"content\":\"Under § 1.5(a), how does Treasury define “confidential commercial information,” and who qualifies as a “submitter”?\"},{\"role\":\"assistant\", \"content\": \"No, none of these accounts close at year-end because they represent ongoing assets related to cash holdings or fund balances.\" }]}\n",
      "{\"messages\":[{\"role\":\"user\", \"content\":\"What must Treasury’s notice to a submitter include when it considers releasing information designated as “confidential commercial information” under § 1.5(b)?\"},{\"role\":\"assistant\", \"content\": \"No, none of these accounts close at year-end because they represent ongoing assets related to cash holdings or fund balances.\" }]}\n",
      "{\"messages\":[{\"role\":\"user\", \"content\":\"What must Treasury’s notice to a submitter include when it considers releasing information designated as “confidential commercial information” under § 1.5(b)?\"},{\"role\":\"assistant\", \"content\": \"No, none of these accounts close at year-end because they represent ongoing assets related to cash holdings or fund balances.\" }]}\n",
      "{\"messages\":[{\"role\":\"user\", \"content\":\"Under § 1.5(c), what three circumstances allow Treasury to disclose information designated as confidential commercial information without the submitter’s objection?\"},{\"role\":\"assistant\", \"content\": \"No, none of these accounts close at year-end because they represent ongoing assets related to cash holdings or fund balances.\" }]}\n",
      "{\"messages\":[{\"role\":\"user\", \"content\":\"Under § 1.5(c), what three circumstances allow Treasury to disclose information designated as confidential commercial information without the submitter’s objection?\"},{\"role\":\"assistant\", \"content\": \"No, none of these accounts close at year-end because they represent ongoing assets related to cash holdings or fund balances.\" }]}\n",
      "{\"messages\":[{\"role\":\"user\", \"content\":\"According to § 1.6(a), what procedural steps must a requester take to file a timely administrative appeal of an adverse FOIA determination?\"},{\"role\":\"assistant\", \"content\": \"No, none of these accounts close at year-end because they represent ongoing assets related to cash holdings or fund balances.\" }]}\n",
      "{\"messages\":[{\"role\":\"user\", \"content\":\"According to § 1.6(a), what procedural steps must a requester take to file a timely administrative appeal of an adverse FOIA determination?\"},{\"role\":\"assistant\", \"content\": \"No, none of these accounts close at year-end because they represent ongoing assets related to cash holdings or fund balances.\" }]}\n",
      "{\"messages\":[{\"role\":\"user\", \"content\":\"How does § 1.6(d) describe Treasury’s participation in Office of Government Information Services (OGIS) mediation?\"},{\"role\":\"assistant\", \"content\": \"No, none of these accounts close at year-end because they represent ongoing assets related to cash holdings or fund balances.\" }]}\n",
      "{\"messages\":[{\"role\":\"user\", \"content\":\"How does § 1.6(d) describe Treasury’s participation in Office of Government Information Services (OGIS) mediation?\"},{\"role\":\"assistant\", \"content\": \"No, none of these accounts close at year-end because they represent ongoing assets related to cash holdings or fund balances.\" }]}\n",
      "{\"messages\":[{\"role\":\"user\", \"content\":\"As specified in § 1.7(e), what must a component do when it estimates that fees for a FOIA request will exceed $25?\"},{\"role\":\"assistant\", \"content\": \"No, none of these accounts close at year-end because they represent ongoing assets related to cash holdings or fund balances.\" }]}\n",
      "{\"messages\":[{\"role\":\"user\", \"content\":\"As specified in § 1.7(e), what must a component do when it estimates that fees for a FOIA request will exceed $25?\"},{\"role\":\"assistant\", \"content\": \"No, none of these accounts close at year-end because they represent ongoing assets related to cash holdings or fund balances.\" }]}\n",
      "{\"messages\":[{\"role\":\"user\", \"content\":\"Under § 1.7(f), what steps must a component take when a requester seeks a fee waiver or reduction, and how long may the component take to respond?\"},{\"role\":\"assistant\", \"content\": \"No, none of these accounts close at year-end because they represent ongoing assets related to cash holdings or fund balances.\" }]}\n",
      "{\"messages\":[{\"role\":\"user\", \"content\":\"Under § 1.7(f), what steps must a component take when a requester seeks a fee waiver or reduction, and how long may the component take to respond?\"},{\"role\":\"assistant\", \"content\": \"No, none of these accounts close at year-end because they represent ongoing assets related to cash holdings or fund balances.\" }]}\n",
      "{\"messages\":[{\"role\":\"user\", \"content\":\"According to § 1.7(j), what methods of payment are authorized for fees assessed under FOIA?\"},{\"role\":\"assistant\", \"content\": \"No, none of these accounts close at year-end because they represent ongoing assets related to cash holdings or fund balances.\" }]}\n",
      "{\"messages\":[{\"role\":\"user\", \"content\":\"According to § 1.7(j), what methods of payment are authorized for fees assessed under FOIA?\"},{\"role\":\"assistant\", \"content\": \"No, none of these accounts close at year-end because they represent ongoing assets related to cash holdings or fund balances.\" }]}\n",
      "{\"messages\":[{\"role\":\"user\", \"content\":\"What does § 1.7(l) state about refunds when actual costs are lower than estimated fees for processing?\"},{\"role\":\"assistant\", \"content\": \"No, none of these accounts close at year-end because they represent ongoing assets related to cash holdings or fund balances.\" }]}\n",
      "{\"messages\":[{\"role\":\"user\", \"content\":\"What does § 1.7(l) state about refunds when actual costs are lower than estimated fees for processing?\"},{\"role\":\"assistant\", \"content\": \"No, none of these accounts close at year-end because they represent ongoing assets related to cash holdings or fund balances.\" }]}\n",
      "{\"messages\":[{\"role\":\"user\", \"content\":\"In § 1.7(m), what criteria must a requester meet to qualify as a “news media requester” for fee-category purposes, and what fees are assessed?\"},{\"role\":\"assistant\", \"content\": \"No, none of these accounts close at year-end because they represent ongoing assets related to cash holdings or fund balances.\" }]}\n",
      "{\"messages\":[{\"role\":\"user\", \"content\":\"In § 1.7(m), what criteria must a requester meet to qualify as a “news media requester” for fee-category purposes, and what fees are assessed?\"},{\"role\":\"assistant\", \"content\": \"No, none of these accounts close at year-end because they represent ongoing assets related to cash holdings or fund balances.\" }]}\n",
      "{\"messages\":[{\"role\":\"user\", \"content\":\"Under § 1.8, what authority does Treasury reserve regarding withheld records, and how must such determinations be communicated?\"},{\"role\":\"assistant\", \"content\": \"No, none of these accounts close at year-end because they represent ongoing assets related to cash holdings or fund balances.\" }]}\n",
      "{\"messages\":[{\"role\":\"user\", \"content\":\"Under § 1.8, what authority does Treasury reserve regarding withheld records, and how must such determinations be communicated?\"},{\"role\":\"assistant\", \"content\": \"No, none of these accounts close at year-end because they represent ongoing assets related to cash holdings or fund balances.\" }]}\n",
      "{\"messages\":[{\"role\":\"user\", \"content\":\"What is the scope of “all reasonably segregable” as described in § 1.8(b), and what must a component do if it cannot locate any responsive records?\"},{\"role\":\"assistant\", \"content\": \"No, none of these accounts close at year-end because they represent ongoing assets related to cash holdings or fund balances.\" }]}\n",
      "{\"messages\":[{\"role\":\"user\", \"content\":\"What is the scope of “all reasonably segregable” as described in § 1.8(b), and what must a component do if it cannot locate any responsive records?\"},{\"role\":\"assistant\", \"content\": \"No, none of these accounts close at year-end because they represent ongoing assets related to cash holdings or fund balances.\" }]}\n",
      "{\"messages\":[{\"role\":\"user\", \"content\":\"According to § 1.9, who may seek expedited processing, and what evidentiary standard must they meet?\"},{\"role\":\"assistant\", \"content\": \"No, none of these accounts close at year-end because they represent ongoing assets related to cash holdings or fund balances.\" }]}\n",
      "{\"messages\":[{\"role\":\"user\", \"content\":\"According to § 1.9, who may seek expedited processing, and what evidentiary standard must they meet?\"},{\"role\":\"assistant\", \"content\": \"No, none of these accounts close at year-end because they represent ongoing assets related to cash holdings or fund balances.\" }]}\n",
      "{\"messages\":[{\"role\":\"user\", \"content\":\"Under § 1.10, what is the process for appealing a component’s denial of expedited processing?\"},{\"role\":\"assistant\", \"content\": \"No, none of these accounts close at year-end because they represent ongoing assets related to cash holdings or fund balances.\" }]}\n",
      "{\"messages\":[{\"role\":\"user\", \"content\":\"Under § 1.10, what is the process for appealing a component’s denial of expedited processing?\"},{\"role\":\"assistant\", \"content\": \"No, none of these accounts close at year-end because they represent ongoing assets related to cash holdings or fund balances.\" }]}\n",
      "{\"messages\":[{\"role\":\"user\", \"content\":\"Section 1.11(a) addresses FOIA request referrals to other agencies. What steps must Treasury take if it determines another agency holds all or part of the responsive records?\"},{\"role\":\"assistant\", \"content\": \"No, none of these accounts close at year-end because they represent ongoing assets related to cash holdings or fund balances.\" }]}\n",
      "{\"messages\":[{\"role\":\"user\", \"content\":\"Section 1.11(a) addresses FOIA request referrals to other agencies. What steps must Treasury take if it determines another agency holds all or part of the responsive records?\"},{\"role\":\"assistant\", \"content\": \"No, none of these accounts close at year-end because they represent ongoing assets related to cash holdings or fund balances.\" }]}\n",
      "{\"messages\":[{\"role\":\"user\", \"content\":\"Explain the “two-level” disclosure review for Privacy Act requests under § 1.24(b) when a record is exempt under 5 U.S.C. 552a(k)(1) (investigatory material).\"},{\"role\":\"assistant\", \"content\": \"No, none of these accounts close at year-end because they represent ongoing assets related to cash holdings or fund balances.\" }]}\n",
      "{\"messages\":[{\"role\":\"user\", \"content\":\"Explain the “two-level” disclosure review for Privacy Act requests under § 1.24(b) when a record is exempt under 5 U.S.C. 552a(k)(1) (investigatory material).\"},{\"role\":\"assistant\", \"content\": \"No, none of these accounts close at year-end because they represent ongoing assets related to cash holdings or fund balances.\" }]}\n",
      "{\"messages\":[{\"role\":\"user\", \"content\":\"Under § 1.30, how are Privacy Act requirements applied to systems of records managed by government contractors?\"},{\"role\":\"assistant\", \"content\": \"No, none of these accounts close at year-end because they represent ongoing assets related to cash holdings or fund balances.\" }]}\n",
      "{\"messages\":[{\"role\":\"user\", \"content\":\"Under § 1.30, how are Privacy Act requirements applied to systems of records managed by government contractors?\"},{\"role\":\"assistant\", \"content\": \"No, none of these accounts close at year-end because they represent ongoing assets related to cash holdings or fund balances.\" }]}\n",
      "{\"messages\":[{\"role\":\"user\", \"content\":\"What are the labeling and publication requirements in § 1.31 concerning sale or rental of mailing lists derived from Privacy Act records?\"},{\"role\":\"assistant\", \"content\": \"No, none of these accounts close at year-end because they represent ongoing assets related to cash holdings or fund balances.\" }]}\n",
      "{\"messages\":[{\"role\":\"user\", \"content\":\"What are the labeling and publication requirements in § 1.31 concerning sale or rental of mailing lists derived from Privacy Act records?\"},{\"role\":\"assistant\", \"content\": \"No, none of these accounts close at year-end because they represent ongoing assets related to cash holdings or fund balances.\" }]}\n",
      "{\"messages\":[{\"role\":\"user\", \"content\":\"According to § 1.32(a), in which circumstances may Treasury collect full Social Security Numbers (SSNs)?\"},{\"role\":\"assistant\", \"content\": \"No, none of these accounts close at year-end because they represent ongoing assets related to cash holdings or fund balances.\" }]}\n",
      "{\"messages\":[{\"role\":\"user\", \"content\":\"According to § 1.32(a), in which circumstances may Treasury collect full Social Security Numbers (SSNs)?\"},{\"role\":\"assistant\", \"content\": \"No, none of these accounts close at year-end because they represent ongoing assets related to cash holdings or fund balances.\" }]}\n",
      "{\"messages\":[{\"role\":\"user\", \"content\":\"What does § 1.32(b) require regarding the use, disclosure, and protection of SSNs once collected?\"},{\"role\":\"assistant\", \"content\": \"No, none of these accounts close at year-end because they represent ongoing assets related to cash holdings or fund balances.\" }]}\n",
      "{\"messages\":[{\"role\":\"user\", \"content\":\"What does § 1.32(b) require regarding the use, disclosure, and protection of SSNs once collected?\"},{\"role\":\"assistant\", \"content\": \"No, none of these accounts close at year-end because they represent ongoing assets related to cash holdings or fund balances.\" }]}\n",
      "{\"messages\":[{\"role\":\"user\", \"content\":\"How does § 1.32(c) address the retention and disposition of SSNs when they are no longer needed?\"},{\"role\":\"assistant\", \"content\": \"No, none of these accounts close at year-end because they represent ongoing assets related to cash holdings or fund balances.\" }]}\n",
      "{\"messages\":[{\"role\":\"user\", \"content\":\"How does § 1.32(c) address the retention and disposition of SSNs when they are no longer needed?\"},{\"role\":\"assistant\", \"content\": \"No, none of these accounts close at year-end because they represent ongoing assets related to cash holdings or fund balances.\" }]}\n",
      "{\"messages\":[{\"role\":\"user\", \"content\":\"According to Title 31 CFR Part 2, what is the overarching purpose of these regulations, and which higher executive order and statutes do they implement?\"},{\"role\":\"assistant\", \"content\": \"No, none of these accounts close at year-end because they represent ongoing assets related to cash holdings or fund balances.\" }]}\n",
      "{\"messages\":[{\"role\":\"user\", \"content\":\"According to Title 31 CFR Part 2, what is the overarching purpose of these regulations, and which higher executive order and statutes do they implement?\"},{\"role\":\"assistant\", \"content\": \"No, none of these accounts close at year-end because they represent ongoing assets related to cash holdings or fund balances.\" }]}\n",
      "{\"messages\":[{\"role\":\"user\", \"content\":\"To which Treasury entities, employees, and affiliates do the requirements of Part 2 apply, and why is this scope important?\"},{\"role\":\"assistant\", \"content\": \"No, none of these accounts close at year-end because they represent ongoing assets related to cash holdings or fund balances.\" }]}\n",
      "{\"messages\":[{\"role\":\"user\", \"content\":\"To which Treasury entities, employees, and affiliates do the requirements of Part 2 apply, and why is this scope important?\"},{\"role\":\"assistant\", \"content\": \"No, none of these accounts close at year-end because they represent ongoing assets related to cash holdings or fund balances.\" }]}\n",
      "{\"messages\":[{\"role\":\"user\", \"content\":\"How does Part 2 define “classified national security information” and “Original Classification Authority (OCA),” and what is the significance of these definitions?\"},{\"role\":\"assistant\", \"content\": \"No, none of these accounts close at year-end because they represent ongoing assets related to cash holdings or fund balances.\" }]}\n",
      "{\"messages\":[{\"role\":\"user\", \"content\":\"How does Part 2 define “classified national security information” and “Original Classification Authority (OCA),” and what is the significance of these definitions?\"},{\"role\":\"assistant\", \"content\": \"No, none of these accounts close at year-end because they represent ongoing assets related to cash holdings or fund balances.\" }]}\n",
      "{\"messages\":[{\"role\":\"user\", \"content\":\"What are the three levels of classification under Part 2 (“Top Secret,” “Secret,” and “Confidential”), what criteria distinguish them, and how often must each level be reviewed?\"},{\"role\":\"assistant\", \"content\": \"No, none of these accounts close at year-end because they represent ongoing assets related to cash holdings or fund balances.\" }]}\n",
      "{\"messages\":[{\"role\":\"user\", \"content\":\"What are the three levels of classification under Part 2 (“Top Secret,” “Secret,” and “Confidential”), what criteria distinguish them, and how often must each level be reviewed?\"},{\"role\":\"assistant\", \"content\": \"No, none of these accounts close at year-end because they represent ongoing assets related to cash holdings or fund balances.\" }]}\n",
      "{\"messages\":[{\"role\":\"user\", \"content\":\"What is “derivative classification,” who is authorized to perform it, and why might an individual need to use derivative classification procedures?\"},{\"role\":\"assistant\", \"content\": \"No, none of these accounts close at year-end because they represent ongoing assets related to cash holdings or fund balances.\" }]}\n",
      "{\"messages\":[{\"role\":\"user\", \"content\":\"What is “derivative classification,” who is authorized to perform it, and why might an individual need to use derivative classification procedures?\"},{\"role\":\"assistant\", \"content\": \"No, none of these accounts close at year-end because they represent ongoing assets related to cash holdings or fund balances.\" }]}\n",
      "{\"messages\":[{\"role\":\"user\", \"content\":\"Under what circumstances must classified information be downgraded to a lower classification level or declassified entirely, and how are these criteria applied?\"},{\"role\":\"assistant\", \"content\": \"No, none of these accounts close at year-end because they represent ongoing assets related to cash holdings or fund balances.\" }]}\n",
      "{\"messages\":[{\"role\":\"user\", \"content\":\"Under what circumstances must classified information be downgraded to a lower classification level or declassified entirely, and how are these criteria applied?\"},{\"role\":\"assistant\", \"content\": \"No, none of these accounts close at year-end because they represent ongoing assets related to cash holdings or fund balances.\" }]}\n",
      "{\"messages\":[{\"role\":\"user\", \"content\":\"Who bears responsibility for safeguarding classified material under Part 2, what specific protective measures are required for physical documents and electronic media, and why are these measures critical?\"},{\"role\":\"assistant\", \"content\": \"No, none of these accounts close at year-end because they represent ongoing assets related to cash holdings or fund balances.\" }]}\n",
      "{\"messages\":[{\"role\":\"user\", \"content\":\"Who bears responsibility for safeguarding classified material under Part 2, what specific protective measures are required for physical documents and electronic media, and why are these measures critical?\"},{\"role\":\"assistant\", \"content\": \"No, none of these accounts close at year-end because they represent ongoing assets related to cash holdings or fund balances.\" }]}\n",
      "{\"messages\":[{\"role\":\"user\", \"content\":\"How must classified documents be marked to comply with Part 2’s requirements, and what specific markings are required on each page and portion of a document?\"},{\"role\":\"assistant\", \"content\": \"No, none of these accounts close at year-end because they represent ongoing assets related to cash holdings or fund balances.\" }]}\n",
      "{\"messages\":[{\"role\":\"user\", \"content\":\"How must classified documents be marked to comply with Part 2’s requirements, and what specific markings are required on each page and portion of a document?\"},{\"role\":\"assistant\", \"content\": \"No, none of these accounts close at year-end because they represent ongoing assets related to cash holdings or fund balances.\" }]}\n",
      "{\"messages\":[{\"role\":\"user\", \"content\":\"What is the process of “sanitization” for classified materials, what steps must an authorized classifier take to approve sanitized releases, and when is sanitization permitted?\"},{\"role\":\"assistant\", \"content\": \"No, none of these accounts close at year-end because they represent ongoing assets related to cash holdings or fund balances.\" }]}\n",
      "{\"messages\":[{\"role\":\"user\", \"content\":\"What is the process of “sanitization” for classified materials, what steps must an authorized classifier take to approve sanitized releases, and when is sanitization permitted?\"},{\"role\":\"assistant\", \"content\": \"No, none of these accounts close at year-end because they represent ongoing assets related to cash holdings or fund balances.\" }]}\n",
      "{\"messages\":[{\"role\":\"user\", \"content\":\"What actions or failures to act are considered violations of Part 2’s requirements for national security information, and what administrative or criminal penalties can individuals face if they violate these rules?\"},{\"role\":\"assistant\", \"content\": \"No, none of these accounts close at year-end because they represent ongoing assets related to cash holdings or fund balances.\" }]}\n",
      "{\"messages\":[{\"role\":\"user\", \"content\":\"What actions or failures to act are considered violations of Part 2’s requirements for national security information, and what administrative or criminal penalties can individuals face if they violate these rules?\"},{\"role\":\"assistant\", \"content\": \"No, none of these accounts close at year-end because they represent ongoing assets related to cash holdings or fund balances.\" }]}\n",
      "{\"messages\":[{\"role\":\"user\", \"content\":\"How must a Treasury component process a FOIA request for classified national security information under Part 2, and what FOIA exemption typically applies when classification must be maintained?\"},{\"role\":\"assistant\", \"content\": \"No, none of these accounts close at year-end because they represent ongoing assets related to cash holdings or fund balances.\" }]}\n",
      "{\"messages\":[{\"role\":\"user\", \"content\":\"How must a Treasury component process a FOIA request for classified national security information under Part 2, and what FOIA exemption typically applies when classification must be maintained?\"},{\"role\":\"assistant\", \"content\": \"No, none of these accounts close at year-end because they represent ongoing assets related to cash holdings or fund balances.\" }]}\n",
      "{\"messages\":[{\"role\":\"user\", \"content\":\"What steps must Treasury components follow before disclosing classified information to foreign governments or entities, and what marking must be applied to such disclosures?\"},{\"role\":\"assistant\", \"content\": \"No, none of these accounts close at year-end because they represent ongoing assets related to cash holdings or fund balances.\" }]}\n",
      "{\"messages\":[{\"role\":\"user\", \"content\":\"What steps must Treasury components follow before disclosing classified information to foreign governments or entities, and what marking must be applied to such disclosures?\"},{\"role\":\"assistant\", \"content\": \"No, none of these accounts close at year-end because they represent ongoing assets related to cash holdings or fund balances.\" }]}\n",
      "{\"messages\":[{\"role\":\"user\", \"content\":\"What are the reporting requirements when an individual suspects or discovers an unauthorized disclosure or compromise of classified information under Part 2?\"},{\"role\":\"assistant\", \"content\": \"No, none of these accounts close at year-end because they represent ongoing assets related to cash holdings or fund balances.\" }]}\n",
      "{\"messages\":[{\"role\":\"user\", \"content\":\"What are the reporting requirements when an individual suspects or discovers an unauthorized disclosure or compromise of classified information under Part 2?\"},{\"role\":\"assistant\", \"content\": \"No, none of these accounts close at year-end because they represent ongoing assets related to cash holdings or fund balances.\" }]}\n",
      "{\"messages\":[{\"role\":\"user\", \"content\":\"How must electronic systems processing classified information be protected under Part 2, and what special requirements apply to portable electronic devices?\"},{\"role\":\"assistant\", \"content\": \"No, none of these accounts close at year-end because they represent ongoing assets related to cash holdings or fund balances.\" }]}\n",
      "{\"messages\":[{\"role\":\"user\", \"content\":\"How must electronic systems processing classified information be protected under Part 2, and what special requirements apply to portable electronic devices?\"},{\"role\":\"assistant\", \"content\": \"No, none of these accounts close at year-end because they represent ongoing assets related to cash holdings or fund balances.\" }]}\n",
      "{\"messages\":[{\"role\":\"user\", \"content\":\"What is the Security Education and Training (SET) program under Part 2, who must participate, and what topics are covered in the training?\"},{\"role\":\"assistant\", \"content\": \"No, none of these accounts close at year-end because they represent ongoing assets related to cash holdings or fund balances.\" }]}\n",
      "{\"messages\":[{\"role\":\"user\", \"content\":\"What is the Security Education and Training (SET) program under Part 2, who must participate, and what topics are covered in the training?\"},{\"role\":\"assistant\", \"content\": \"No, none of these accounts close at year-end because they represent ongoing assets related to cash holdings or fund balances.\" }]}\n",
      "{\"messages\":[{\"role\":\"user\", \"content\":\"What specific procedures and methods are required for the destruction of classified material under Part 2, and why must a destruction log be maintained?\"},{\"role\":\"assistant\", \"content\": \"No, none of these accounts close at year-end because they represent ongoing assets related to cash holdings or fund balances.\" }]}\n",
      "{\"messages\":[{\"role\":\"user\", \"content\":\"What specific procedures and methods are required for the destruction of classified material under Part 2, and why must a destruction log be maintained?\"},{\"role\":\"assistant\", \"content\": \"No, none of these accounts close at year-end because they represent ongoing assets related to cash holdings or fund balances.\" }]}\n",
      "{\"messages\":[{\"role\":\"user\", \"content\":\"What process does Part 2 prescribe for challenging the classification status of information, who may initiate a challenge, and what happens if the challenge is denied?\"},{\"role\":\"assistant\", \"content\": \"No, none of these accounts close at year-end because they represent ongoing assets related to cash holdings or fund balances.\" }]}\n",
      "{\"messages\":[{\"role\":\"user\", \"content\":\"What process does Part 2 prescribe for challenging the classification status of information, who may initiate a challenge, and what happens if the challenge is denied?\"},{\"role\":\"assistant\", \"content\": \"No, none of these accounts close at year-end because they represent ongoing assets related to cash holdings or fund balances.\" }]}\n",
      "{\"messages\":[{\"role\":\"user\", \"content\":\"How are historically valuable classified records identified and reviewed for declassification under Part 2, and what timeframes govern this process?\"},{\"role\":\"assistant\", \"content\": \"No, none of these accounts close at year-end because they represent ongoing assets related to cash holdings or fund balances.\" }]}\n",
      "{\"messages\":[{\"role\":\"user\", \"content\":\"How are historically valuable classified records identified and reviewed for declassification under Part 2, and what timeframes govern this process?\"},{\"role\":\"assistant\", \"content\": \"No, none of these accounts close at year-end because they represent ongoing assets related to cash holdings or fund balances.\" }]}\n",
      "{\"messages\":[{\"role\":\"user\", \"content\":\"Under Title 31 CFR Part 2, how is the term “Original Classification Authority” (OCA) defined, and why is this designation critical for protecting national security information?\"},{\"role\":\"assistant\", \"content\": \"No, none of these accounts close at year-end because they represent ongoing assets related to cash holdings or fund balances.\" }]}\n",
      "{\"messages\":[{\"role\":\"user\", \"content\":\"Under Title 31 CFR Part 2, how is the term “Original Classification Authority” (OCA) defined, and why is this designation critical for protecting national security information?\"},{\"role\":\"assistant\", \"content\": \"No, none of these accounts close at year-end because they represent ongoing assets related to cash holdings or fund balances.\" }]}\n",
      "{\"messages\":[{\"role\":\"user\", \"content\":\"What criteria must an OCA apply when determining that a particular item of information merits classification at the Top Secret, Secret, or Confidential level?\"},{\"role\":\"assistant\", \"content\": \"No, none of these accounts close at year-end because they represent ongoing assets related to cash holdings or fund balances.\" }]}\n",
      "{\"messages\":[{\"role\":\"user\", \"content\":\"What criteria must an OCA apply when determining that a particular item of information merits classification at the Top Secret, Secret, or Confidential level?\"},{\"role\":\"assistant\", \"content\": \"No, none of these accounts close at year-end because they represent ongoing assets related to cash holdings or fund balances.\" }]}\n",
      "{\"messages\":[{\"role\":\"user\", \"content\":\"Describe the process and authority by which derivative classification is performed under Part 2, including how newly generated materials must be marked.\"},{\"role\":\"assistant\", \"content\": \"No, none of these accounts close at year-end because they represent ongoing assets related to cash holdings or fund balances.\" }]}\n",
      "{\"messages\":[{\"role\":\"user\", \"content\":\"Describe the process and authority by which derivative classification is performed under Part 2, including how newly generated materials must be marked.\"},{\"role\":\"assistant\", \"content\": \"No, none of these accounts close at year-end because they represent ongoing assets related to cash holdings or fund balances.\" }]}\n",
      "{\"messages\":[{\"role\":\"user\", \"content\":\"How must Treasury components treat foreign disclosure of classified information under Part 2, and what marking must appear on any document shared with foreign nationals?\"},{\"role\":\"assistant\", \"content\": \"No, none of these accounts close at year-end because they represent ongoing assets related to cash holdings or fund balances.\" }]}\n",
      "{\"messages\":[{\"role\":\"user\", \"content\":\"How must Treasury components treat foreign disclosure of classified information under Part 2, and what marking must appear on any document shared with foreign nationals?\"},{\"role\":\"assistant\", \"content\": \"No, none of these accounts close at year-end because they represent ongoing assets related to cash holdings or fund balances.\" }]}\n",
      "{\"messages\":[{\"role\":\"user\", \"content\":\"Explain the mandatory review schedule for classified information under Part 2. How often must Top Secret, Secret, and Confidential materials be reviewed for possible downgrading or declassification?\"},{\"role\":\"assistant\", \"content\": \"No, none of these accounts close at year-end because they represent ongoing assets related to cash holdings or fund balances.\" }]}\n",
      "{\"messages\":[{\"role\":\"user\", \"content\":\"Explain the mandatory review schedule for classified information under Part 2. How often must Top Secret, Secret, and Confidential materials be reviewed for possible downgrading or declassification?\"},{\"role\":\"assistant\", \"content\": \"No, none of these accounts close at year-end because they represent ongoing assets related to cash holdings or fund balances.\" }]}\n",
      "{\"messages\":[{\"role\":\"user\", \"content\":\"What procedures must an authorized classifier follow to downgrade or declassify information, and how must those decisions be documented?\"},{\"role\":\"assistant\", \"content\": \"No, none of these accounts close at year-end because they represent ongoing assets related to cash holdings or fund balances.\" }]}\n",
      "{\"messages\":[{\"role\":\"user\", \"content\":\"What procedures must an authorized classifier follow to downgrade or declassify information, and how must those decisions be documented?\"},{\"role\":\"assistant\", \"content\": \"No, none of these accounts close at year-end because they represent ongoing assets related to cash holdings or fund balances.\" }]}\n",
      "{\"messages\":[{\"role\":\"user\", \"content\":\"Describe the protective measures required for storing and handling classified printed materials at Treasury facilities.\"},{\"role\":\"assistant\", \"content\": \"No, none of these accounts close at year-end because they represent ongoing assets related to cash holdings or fund balances.\" }]}\n",
      "{\"messages\":[{\"role\":\"user\", \"content\":\"Describe the protective measures required for storing and handling classified printed materials at Treasury facilities.\"},{\"role\":\"assistant\", \"content\": \"No, none of these accounts close at year-end because they represent ongoing assets related to cash holdings or fund balances.\" }]}\n",
      "{\"messages\":[{\"role\":\"user\", \"content\":\"What electronic safeguards must Treasury components implement to protect classified information on information systems, and what additional requirements apply to portable electronic devices?\"},{\"role\":\"assistant\", \"content\": \"No, none of these accounts close at year-end because they represent ongoing assets related to cash holdings or fund balances.\" }]}\n",
      "{\"messages\":[{\"role\":\"user\", \"content\":\"What electronic safeguards must Treasury components implement to protect classified information on information systems, and what additional requirements apply to portable electronic devices?\"},{\"role\":\"assistant\", \"content\": \"No, none of these accounts close at year-end because they represent ongoing assets related to cash holdings or fund balances.\" }]}\n",
      "{\"messages\":[{\"role\":\"user\", \"content\":\"Outline the mandatory procedures for reporting an actual or suspected compromise of classified information. What offices must be notified, and what information must be included in the initial report?\"},{\"role\":\"assistant\", \"content\": \"No, none of these accounts close at year-end because they represent ongoing assets related to cash holdings or fund balances.\" }]}\n",
      "{\"messages\":[{\"role\":\"user\", \"content\":\"Outline the mandatory procedures for reporting an actual or suspected compromise of classified information. What offices must be notified, and what information must be included in the initial report?\"},{\"role\":\"assistant\", \"content\": \"No, none of these accounts close at year-end because they represent ongoing assets related to cash holdings or fund balances.\" }]}\n",
      "{\"messages\":[{\"role\":\"user\", \"content\":\"What must each Treasury component include in its Security Education and Training (SET) program for personnel handling classified information?\"},{\"role\":\"assistant\", \"content\": \"No, none of these accounts close at year-end because they represent ongoing assets related to cash holdings or fund balances.\" }]}\n",
      "{\"messages\":[{\"role\":\"user\", \"content\":\"What must each Treasury component include in its Security Education and Training (SET) program for personnel handling classified information?\"},{\"role\":\"assistant\", \"content\": \"No, none of these accounts close at year-end because they represent ongoing assets related to cash holdings or fund balances.\" }]}\n",
      "{\"messages\":[{\"role\":\"user\", \"content\":\"How does Title 31 CFR Part 2 require Treasury components to conduct inventories of classified materials, and what are the minimum frequencies for different classification levels?\"},{\"role\":\"assistant\", \"content\": \"No, none of these accounts close at year-end because they represent ongoing assets related to cash holdings or fund balances.\" }]}\n",
      "{\"messages\":[{\"role\":\"user\", \"content\":\"How does Title 31 CFR Part 2 require Treasury components to conduct inventories of classified materials, and what are the minimum frequencies for different classification levels?\"},{\"role\":\"assistant\", \"content\": \"No, none of these accounts close at year-end because they represent ongoing assets related to cash holdings or fund balances.\" }]}\n",
      "{\"messages\":[{\"role\":\"user\", \"content\":\"Under Part 2, what happens if a classification challenge is upheld by the Origination Authority (OCA), and what appeal rights does the challenger have?\"},{\"role\":\"assistant\", \"content\": \"No, none of these accounts close at year-end because they represent ongoing assets related to cash holdings or fund balances.\" }]}\n",
      "{\"messages\":[{\"role\":\"user\", \"content\":\"Under Part 2, what happens if a classification challenge is upheld by the Origination Authority (OCA), and what appeal rights does the challenger have?\"},{\"role\":\"assistant\", \"content\": \"No, none of these accounts close at year-end because they represent ongoing assets related to cash holdings or fund balances.\" }]}\n",
      "{\"messages\":[{\"role\":\"user\", \"content\":\"What emergency measures are allowed under Part 2 for the classification or declassification of information when immediate action is needed to protect national security or respond to an urgent circumstance?\"},{\"role\":\"assistant\", \"content\": \"No, none of these accounts close at year-end because they represent ongoing assets related to cash holdings or fund balances.\" }]}\n",
      "{\"messages\":[{\"role\":\"user\", \"content\":\"What emergency measures are allowed under Part 2 for the classification or declassification of information when immediate action is needed to protect national security or respond to an urgent circumstance?\"},{\"role\":\"assistant\", \"content\": \"No, none of these accounts close at year-end because they represent ongoing assets related to cash holdings or fund balances.\" }]}\n",
      "{\"messages\":[{\"role\":\"user\", \"content\":\"According to Title 31 CFR Part 2, what is the overarching purpose of these regulations, and which higher executive order and statutes do they implement?\"},{\"role\":\"assistant\", \"content\": \"No, none of these accounts close at year-end because they represent ongoing assets related to cash holdings or fund balances.\" }]}\n",
      "{\"messages\":[{\"role\":\"user\", \"content\":\"According to Title 31 CFR Part 2, what is the overarching purpose of these regulations, and which higher executive order and statutes do they implement?\"},{\"role\":\"assistant\", \"content\": \"No, none of these accounts close at year-end because they represent ongoing assets related to cash holdings or fund balances.\" }]}\n",
      "{\"messages\":[{\"role\":\"user\", \"content\":\"To which Treasury entities, employees, and affiliates do the requirements of Part 2 apply, and why is this scope important?\"},{\"role\":\"assistant\", \"content\": \"No, none of these accounts close at year-end because they represent ongoing assets related to cash holdings or fund balances.\" }]}\n",
      "{\"messages\":[{\"role\":\"user\", \"content\":\"To which Treasury entities, employees, and affiliates do the requirements of Part 2 apply, and why is this scope important?\"},{\"role\":\"assistant\", \"content\": \"No, none of these accounts close at year-end because they represent ongoing assets related to cash holdings or fund balances.\" }]}\n",
      "{\"messages\":[{\"role\":\"user\", \"content\":\"How does Part 2 define “classified national security information” and “Original Classification Authority (OCA),” and what is the significance of these definitions?\"},{\"role\":\"assistant\", \"content\": \"No, none of these accounts close at year-end because they represent ongoing assets related to cash holdings or fund balances.\" }]}\n",
      "{\"messages\":[{\"role\":\"user\", \"content\":\"How does Part 2 define “classified national security information” and “Original Classification Authority (OCA),” and what is the significance of these definitions?\"},{\"role\":\"assistant\", \"content\": \"No, none of these accounts close at year-end because they represent ongoing assets related to cash holdings or fund balances.\" }]}\n",
      "{\"messages\":[{\"role\":\"user\", \"content\":\"What are the three levels of classification under Part 2 (“Top Secret,” “Secret,” and “Confidential”), what criteria distinguish them, and how often must each level be reviewed?\"},{\"role\":\"assistant\", \"content\": \"No, none of these accounts close at year-end because they represent ongoing assets related to cash holdings or fund balances.\" }]}\n",
      "{\"messages\":[{\"role\":\"user\", \"content\":\"What are the three levels of classification under Part 2 (“Top Secret,” “Secret,” and “Confidential”), what criteria distinguish them, and how often must each level be reviewed?\"},{\"role\":\"assistant\", \"content\": \"No, none of these accounts close at year-end because they represent ongoing assets related to cash holdings or fund balances.\" }]}\n",
      "{\"messages\":[{\"role\":\"user\", \"content\":\"What is “derivative classification,” who is authorized to perform it, and why might an individual need to use derivative classification procedures?\"},{\"role\":\"assistant\", \"content\": \"No, none of these accounts close at year-end because they represent ongoing assets related to cash holdings or fund balances.\" }]}\n",
      "{\"messages\":[{\"role\":\"user\", \"content\":\"What is “derivative classification,” who is authorized to perform it, and why might an individual need to use derivative classification procedures?\"},{\"role\":\"assistant\", \"content\": \"No, none of these accounts close at year-end because they represent ongoing assets related to cash holdings or fund balances.\" }]}\n",
      "{\"messages\":[{\"role\":\"user\", \"content\":\"Under what circumstances must classified information be downgraded to a lower classification level or declassified entirely, and how are these criteria applied?\"},{\"role\":\"assistant\", \"content\": \"No, none of these accounts close at year-end because they represent ongoing assets related to cash holdings or fund balances.\" }]}\n",
      "{\"messages\":[{\"role\":\"user\", \"content\":\"Under what circumstances must classified information be downgraded to a lower classification level or declassified entirely, and how are these criteria applied?\"},{\"role\":\"assistant\", \"content\": \"No, none of these accounts close at year-end because they represent ongoing assets related to cash holdings or fund balances.\" }]}\n",
      "{\"messages\":[{\"role\":\"user\", \"content\":\"Who bears responsibility for safeguarding classified material under Part 2, what specific protective measures are required for physical documents and electronic media, and why are these measures critical?\"},{\"role\":\"assistant\", \"content\": \"No, none of these accounts close at year-end because they represent ongoing assets related to cash holdings or fund balances.\" }]}\n",
      "{\"messages\":[{\"role\":\"user\", \"content\":\"Who bears responsibility for safeguarding classified material under Part 2, what specific protective measures are required for physical documents and electronic media, and why are these measures critical?\"},{\"role\":\"assistant\", \"content\": \"No, none of these accounts close at year-end because they represent ongoing assets related to cash holdings or fund balances.\" }]}\n",
      "{\"messages\":[{\"role\":\"user\", \"content\":\"How must classified documents be marked to comply with Part 2’s requirements, and what specific markings are required on each page and portion of a document?\"},{\"role\":\"assistant\", \"content\": \"No, none of these accounts close at year-end because they represent ongoing assets related to cash holdings or fund balances.\" }]}\n",
      "{\"messages\":[{\"role\":\"user\", \"content\":\"How must classified documents be marked to comply with Part 2’s requirements, and what specific markings are required on each page and portion of a document?\"},{\"role\":\"assistant\", \"content\": \"No, none of these accounts close at year-end because they represent ongoing assets related to cash holdings or fund balances.\" }]}\n",
      "{\"messages\":[{\"role\":\"user\", \"content\":\"What is the process of “sanitization” for classified materials, what steps must an authorized classifier take to approve sanitized releases, and when is sanitization permitted?\"},{\"role\":\"assistant\", \"content\": \"No, none of these accounts close at year-end because they represent ongoing assets related to cash holdings or fund balances.\" }]}\n",
      "{\"messages\":[{\"role\":\"user\", \"content\":\"What is the process of “sanitization” for classified materials, what steps must an authorized classifier take to approve sanitized releases, and when is sanitization permitted?\"},{\"role\":\"assistant\", \"content\": \"No, none of these accounts close at year-end because they represent ongoing assets related to cash holdings or fund balances.\" }]}\n",
      "{\"messages\":[{\"role\":\"user\", \"content\":\"What actions or failures to act are considered violations of Part 2’s requirements for national security information, and what administrative or criminal penalties can individuals face if they violate these rules?\"},{\"role\":\"assistant\", \"content\": \"No, none of these accounts close at year-end because they represent ongoing assets related to cash holdings or fund balances.\" }]}\n",
      "{\"messages\":[{\"role\":\"user\", \"content\":\"What actions or failures to act are considered violations of Part 2’s requirements for national security information, and what administrative or criminal penalties can individuals face if they violate these rules?\"},{\"role\":\"assistant\", \"content\": \"No, none of these accounts close at year-end because they represent ongoing assets related to cash holdings or fund balances.\" }]}\n",
      "{\"messages\":[{\"role\":\"user\", \"content\":\"How must a Treasury component process a FOIA request for classified national security information under Part 2, and what FOIA exemption typically applies when classification must be maintained?\"},{\"role\":\"assistant\", \"content\": \"No, none of these accounts close at year-end because they represent ongoing assets related to cash holdings or fund balances.\" }]}\n",
      "{\"messages\":[{\"role\":\"user\", \"content\":\"How must a Treasury component process a FOIA request for classified national security information under Part 2, and what FOIA exemption typically applies when classification must be maintained?\"},{\"role\":\"assistant\", \"content\": \"No, none of these accounts close at year-end because they represent ongoing assets related to cash holdings or fund balances.\" }]}\n",
      "{\"messages\":[{\"role\":\"user\", \"content\":\"What steps must Treasury components follow before disclosing classified information to foreign governments or entities, and what marking must be applied to such disclosures?\"},{\"role\":\"assistant\", \"content\": \"No, none of these accounts close at year-end because they represent ongoing assets related to cash holdings or fund balances.\" }]}\n",
      "{\"messages\":[{\"role\":\"user\", \"content\":\"What steps must Treasury components follow before disclosing classified information to foreign governments or entities, and what marking must be applied to such disclosures?\"},{\"role\":\"assistant\", \"content\": \"No, none of these accounts close at year-end because they represent ongoing assets related to cash holdings or fund balances.\" }]}\n",
      "{\"messages\":[{\"role\":\"user\", \"content\":\"What are the reporting requirements when an individual suspects or discovers an unauthorized disclosure or compromise of classified information under Part 2?\"},{\"role\":\"assistant\", \"content\": \"No, none of these accounts close at year-end because they represent ongoing assets related to cash holdings or fund balances.\" }]}\n",
      "{\"messages\":[{\"role\":\"user\", \"content\":\"What are the reporting requirements when an individual suspects or discovers an unauthorized disclosure or compromise of classified information under Part 2?\"},{\"role\":\"assistant\", \"content\": \"No, none of these accounts close at year-end because they represent ongoing assets related to cash holdings or fund balances.\" }]}\n",
      "{\"messages\":[{\"role\":\"user\", \"content\":\"How must electronic systems processing classified information be protected under Part 2, and what special requirements apply to portable electronic devices?\"},{\"role\":\"assistant\", \"content\": \"No, none of these accounts close at year-end because they represent ongoing assets related to cash holdings or fund balances.\" }]}\n",
      "{\"messages\":[{\"role\":\"user\", \"content\":\"How must electronic systems processing classified information be protected under Part 2, and what special requirements apply to portable electronic devices?\"},{\"role\":\"assistant\", \"content\": \"No, none of these accounts close at year-end because they represent ongoing assets related to cash holdings or fund balances.\" }]}\n",
      "{\"messages\":[{\"role\":\"user\", \"content\":\"What is the Security Education and Training (SET) program under Part 2, who must participate, and what topics are covered in the training?\"},{\"role\":\"assistant\", \"content\": \"No, none of these accounts close at year-end because they represent ongoing assets related to cash holdings or fund balances.\" }]}\n",
      "{\"messages\":[{\"role\":\"user\", \"content\":\"What is the Security Education and Training (SET) program under Part 2, who must participate, and what topics are covered in the training?\"},{\"role\":\"assistant\", \"content\": \"No, none of these accounts close at year-end because they represent ongoing assets related to cash holdings or fund balances.\" }]}\n",
      "{\"messages\":[{\"role\":\"user\", \"content\":\"What specific procedures and methods are required for the destruction of classified material under Part 2, and why must a destruction log be maintained?\"},{\"role\":\"assistant\", \"content\": \"No, none of these accounts close at year-end because they represent ongoing assets related to cash holdings or fund balances.\" }]}\n",
      "{\"messages\":[{\"role\":\"user\", \"content\":\"What specific procedures and methods are required for the destruction of classified material under Part 2, and why must a destruction log be maintained?\"},{\"role\":\"assistant\", \"content\": \"No, none of these accounts close at year-end because they represent ongoing assets related to cash holdings or fund balances.\" }]}\n",
      "{\"messages\":[{\"role\":\"user\", \"content\":\"What process does Part 2 prescribe for challenging the classification status of information, who may initiate a challenge, and what happens if the challenge is denied?\"},{\"role\":\"assistant\", \"content\": \"No, none of these accounts close at year-end because they represent ongoing assets related to cash holdings or fund balances.\" }]}\n",
      "{\"messages\":[{\"role\":\"user\", \"content\":\"What process does Part 2 prescribe for challenging the classification status of information, who may initiate a challenge, and what happens if the challenge is denied?\"},{\"role\":\"assistant\", \"content\": \"No, none of these accounts close at year-end because they represent ongoing assets related to cash holdings or fund balances.\" }]}\n",
      "{\"messages\":[{\"role\":\"user\", \"content\":\"How are historically valuable classified records identified and reviewed for declassification under Part 2, and what timeframes govern this process?\"},{\"role\":\"assistant\", \"content\": \"No, none of these accounts close at year-end because they represent ongoing assets related to cash holdings or fund balances.\" }]}\n",
      "{\"messages\":[{\"role\":\"user\", \"content\":\"How are historically valuable classified records identified and reviewed for declassification under Part 2, and what timeframes govern this process?\"},{\"role\":\"assistant\", \"content\": \"No, none of these accounts close at year-end because they represent ongoing assets related to cash holdings or fund balances.\" }]}\n",
      "{\"messages\":[{\"role\":\"user\", \"content\":\"Under Title 31 CFR Part 2, how is the term “Original Classification Authority” (OCA) defined, and why is this designation critical for protecting national security information?\"},{\"role\":\"assistant\", \"content\": \"No, none of these accounts close at year-end because they represent ongoing assets related to cash holdings or fund balances.\" }]}\n",
      "{\"messages\":[{\"role\":\"user\", \"content\":\"Under Title 31 CFR Part 2, how is the term “Original Classification Authority” (OCA) defined, and why is this designation critical for protecting national security information?\"},{\"role\":\"assistant\", \"content\": \"No, none of these accounts close at year-end because they represent ongoing assets related to cash holdings or fund balances.\" }]}\n",
      "{\"messages\":[{\"role\":\"user\", \"content\":\"What criteria must an OCA apply when determining that a particular item of information merits classification at the Top Secret, Secret, or Confidential level?\"},{\"role\":\"assistant\", \"content\": \"No, none of these accounts close at year-end because they represent ongoing assets related to cash holdings or fund balances.\" }]}\n",
      "{\"messages\":[{\"role\":\"user\", \"content\":\"What criteria must an OCA apply when determining that a particular item of information merits classification at the Top Secret, Secret, or Confidential level?\"},{\"role\":\"assistant\", \"content\": \"No, none of these accounts close at year-end because they represent ongoing assets related to cash holdings or fund balances.\" }]}\n",
      "{\"messages\":[{\"role\":\"user\", \"content\":\"Describe the process and authority by which derivative classification is performed under Part 2, including how newly generated materials must be marked.\"},{\"role\":\"assistant\", \"content\": \"No, none of these accounts close at year-end because they represent ongoing assets related to cash holdings or fund balances.\" }]}\n",
      "{\"messages\":[{\"role\":\"user\", \"content\":\"Describe the process and authority by which derivative classification is performed under Part 2, including how newly generated materials must be marked.\"},{\"role\":\"assistant\", \"content\": \"No, none of these accounts close at year-end because they represent ongoing assets related to cash holdings or fund balances.\" }]}\n",
      "{\"messages\":[{\"role\":\"user\", \"content\":\"How must Treasury components treat foreign disclosure of classified information under Part 2, and what marking must appear on any document shared with foreign nationals?\"},{\"role\":\"assistant\", \"content\": \"No, none of these accounts close at year-end because they represent ongoing assets related to cash holdings or fund balances.\" }]}\n",
      "{\"messages\":[{\"role\":\"user\", \"content\":\"How must Treasury components treat foreign disclosure of classified information under Part 2, and what marking must appear on any document shared with foreign nationals?\"},{\"role\":\"assistant\", \"content\": \"No, none of these accounts close at year-end because they represent ongoing assets related to cash holdings or fund balances.\" }]}\n",
      "{\"messages\":[{\"role\":\"user\", \"content\":\"Explain the mandatory review schedule for classified information under Part 2. How often must Top Secret, Secret, and Confidential materials be reviewed for possible downgrading or declassification?\"},{\"role\":\"assistant\", \"content\": \"No, none of these accounts close at year-end because they represent ongoing assets related to cash holdings or fund balances.\" }]}\n",
      "{\"messages\":[{\"role\":\"user\", \"content\":\"Explain the mandatory review schedule for classified information under Part 2. How often must Top Secret, Secret, and Confidential materials be reviewed for possible downgrading or declassification?\"},{\"role\":\"assistant\", \"content\": \"No, none of these accounts close at year-end because they represent ongoing assets related to cash holdings or fund balances.\" }]}\n",
      "{\"messages\":[{\"role\":\"user\", \"content\":\"What procedures must an authorized classifier follow to downgrade or declassify information, and how must those decisions be documented?\"},{\"role\":\"assistant\", \"content\": \"No, none of these accounts close at year-end because they represent ongoing assets related to cash holdings or fund balances.\" }]}\n",
      "{\"messages\":[{\"role\":\"user\", \"content\":\"What procedures must an authorized classifier follow to downgrade or declassify information, and how must those decisions be documented?\"},{\"role\":\"assistant\", \"content\": \"No, none of these accounts close at year-end because they represent ongoing assets related to cash holdings or fund balances.\" }]}\n",
      "{\"messages\":[{\"role\":\"user\", \"content\":\"Describe the protective measures required for storing and handling classified printed materials at Treasury facilities.\"},{\"role\":\"assistant\", \"content\": \"No, none of these accounts close at year-end because they represent ongoing assets related to cash holdings or fund balances.\" }]}\n",
      "{\"messages\":[{\"role\":\"user\", \"content\":\"Describe the protective measures required for storing and handling classified printed materials at Treasury facilities.\"},{\"role\":\"assistant\", \"content\": \"No, none of these accounts close at year-end because they represent ongoing assets related to cash holdings or fund balances.\" }]}\n",
      "{\"messages\":[{\"role\":\"user\", \"content\":\"What electronic safeguards must Treasury components implement to protect classified information on information systems, and what additional requirements apply to portable electronic devices?\"},{\"role\":\"assistant\", \"content\": \"No, none of these accounts close at year-end because they represent ongoing assets related to cash holdings or fund balances.\" }]}\n",
      "{\"messages\":[{\"role\":\"user\", \"content\":\"What electronic safeguards must Treasury components implement to protect classified information on information systems, and what additional requirements apply to portable electronic devices?\"},{\"role\":\"assistant\", \"content\": \"No, none of these accounts close at year-end because they represent ongoing assets related to cash holdings or fund balances.\" }]}\n",
      "{\"messages\":[{\"role\":\"user\", \"content\":\"Outline the mandatory procedures for reporting an actual or suspected compromise of classified information. What offices must be notified, and what information must be included in the initial report?\"},{\"role\":\"assistant\", \"content\": \"No, none of these accounts close at year-end because they represent ongoing assets related to cash holdings or fund balances.\" }]}\n",
      "{\"messages\":[{\"role\":\"user\", \"content\":\"Outline the mandatory procedures for reporting an actual or suspected compromise of classified information. What offices must be notified, and what information must be included in the initial report?\"},{\"role\":\"assistant\", \"content\": \"No, none of these accounts close at year-end because they represent ongoing assets related to cash holdings or fund balances.\" }]}\n",
      "{\"messages\":[{\"role\":\"user\", \"content\":\"What must each Treasury component include in its Security Education and Training (SET) program for personnel handling classified information?\"},{\"role\":\"assistant\", \"content\": \"No, none of these accounts close at year-end because they represent ongoing assets related to cash holdings or fund balances.\" }]}\n",
      "{\"messages\":[{\"role\":\"user\", \"content\":\"What must each Treasury component include in its Security Education and Training (SET) program for personnel handling classified information?\"},{\"role\":\"assistant\", \"content\": \"No, none of these accounts close at year-end because they represent ongoing assets related to cash holdings or fund balances.\" }]}\n",
      "{\"messages\":[{\"role\":\"user\", \"content\":\"How does Title 31 CFR Part 2 require Treasury components to conduct inventories of classified materials, and what are the minimum frequencies for different classification levels?\"},{\"role\":\"assistant\", \"content\": \"No, none of these accounts close at year-end because they represent ongoing assets related to cash holdings or fund balances.\" }]}\n",
      "{\"messages\":[{\"role\":\"user\", \"content\":\"How does Title 31 CFR Part 2 require Treasury components to conduct inventories of classified materials, and what are the minimum frequencies for different classification levels?\"},{\"role\":\"assistant\", \"content\": \"No, none of these accounts close at year-end because they represent ongoing assets related to cash holdings or fund balances.\" }]}\n",
      "{\"messages\":[{\"role\":\"user\", \"content\":\"Under Part 2, what happens if a classification challenge is upheld by the Origination Authority (OCA), and what appeal rights does the challenger have?\"},{\"role\":\"assistant\", \"content\": \"No, none of these accounts close at year-end because they represent ongoing assets related to cash holdings or fund balances.\" }]}\n",
      "{\"messages\":[{\"role\":\"user\", \"content\":\"Under Part 2, what happens if a classification challenge is upheld by the Origination Authority (OCA), and what appeal rights does the challenger have?\"},{\"role\":\"assistant\", \"content\": \"No, none of these accounts close at year-end because they represent ongoing assets related to cash holdings or fund balances.\" }]}\n",
      "{\"messages\":[{\"role\":\"user\", \"content\":\"What emergency measures are allowed under Part 2 for the classification or declassification of information when immediate action is needed to protect national security or respond to an urgent circumstance?\"},{\"role\":\"assistant\", \"content\": \"No, none of these accounts close at year-end because they represent ongoing assets related to cash holdings or fund balances.\" }]}\n",
      "{\"messages\":[{\"role\":\"user\", \"content\":\"What emergency measures are allowed under Part 2 for the classification or declassification of information when immediate action is needed to protect national security or respond to an urgent circumstance?\"},{\"role\":\"assistant\", \"content\": \"No, none of these accounts close at year-end because they represent ongoing assets related to cash holdings or fund balances.\" }]}\n"
     ]
    }
   ],
   "execution_count": 65
  },
  {
   "metadata": {},
   "cell_type": "markdown",
   "source": "#### Redbook Data",
   "id": "b3358b800bcaedbf"
  },
  {
   "metadata": {
    "ExecuteTime": {
     "end_time": "2025-06-12T13:21:29.647470Z",
     "start_time": "2025-06-12T13:21:29.503668Z"
    }
   },
   "cell_type": "code",
   "source": [
    "# Define Redbook Data\n",
    "xl_redbook = pd.read_excel( redbook, sheet_name='Training' )\n",
    "names = [ 'ID', 'Item', 'Role', 'Content' ]\n",
    "red_inx = xl_redbook.index\n",
    "df_redbook = pd.DataFrame( data=xl_redbook, columns=names )\n",
    "df_redbook = df_redbook.reset_index( ).set_index( 'ID' )\n",
    "df_redbook = df_redbook.drop( columns=[ 'index' ] )\n",
    "red_rows = len( df_redbook )\n",
    "red_rows"
   ],
   "id": "a9c71f5ebcb9cf7f",
   "outputs": [
    {
     "data": {
      "text/plain": [
       "300"
      ]
     },
     "execution_count": 66,
     "metadata": {},
     "output_type": "execute_result"
    }
   ],
   "execution_count": 66
  },
  {
   "metadata": {
    "ExecuteTime": {
     "end_time": "2025-06-12T13:21:32.850665Z",
     "start_time": "2025-06-12T13:21:32.818894Z"
    }
   },
   "cell_type": "code",
   "source": [
    "# View Dataframe\n",
    "df_redbook"
   ],
   "id": "c6fe2814e474853",
   "outputs": [
    {
     "data": {
      "text/plain": [
       "     Item       Role                                            Content\n",
       "ID                                                                     \n",
       "1      Q1       user  What constitutional authority underlies Congre...\n",
       "2      A1  assistant  Congress’s authority to control federal spendi...\n",
       "3      Q2       user  How did the modern budget and appropriations p...\n",
       "4      A2  assistant  Initially, in the early republic, Congress bot...\n",
       "5      Q3       user  What are the key stages of an appropriation’s ...\n",
       "..    ...        ...                                                ...\n",
       "296  A148  assistant  Agencies must report mandatory program outlays...\n",
       "297  Q149       user  How are insolvent trust fund covers and paymen...\n",
       "298  A149  assistant  When a trust fund becomes insolvent—meaning it...\n",
       "299  Q150       user  What are the consequences if Congress fails to...\n",
       "300  A150  assistant  If Congress fails to reauthorize a mandatory p...\n",
       "\n",
       "[300 rows x 3 columns]"
      ],
      "text/html": [
       "<div>\n",
       "<style scoped>\n",
       "    .dataframe tbody tr th:only-of-type {\n",
       "        vertical-align: middle;\n",
       "    }\n",
       "\n",
       "    .dataframe tbody tr th {\n",
       "        vertical-align: top;\n",
       "    }\n",
       "\n",
       "    .dataframe thead th {\n",
       "        text-align: right;\n",
       "    }\n",
       "</style>\n",
       "<table border=\"1\" class=\"dataframe\">\n",
       "  <thead>\n",
       "    <tr style=\"text-align: right;\">\n",
       "      <th></th>\n",
       "      <th>Item</th>\n",
       "      <th>Role</th>\n",
       "      <th>Content</th>\n",
       "    </tr>\n",
       "    <tr>\n",
       "      <th>ID</th>\n",
       "      <th></th>\n",
       "      <th></th>\n",
       "      <th></th>\n",
       "    </tr>\n",
       "  </thead>\n",
       "  <tbody>\n",
       "    <tr>\n",
       "      <th>1</th>\n",
       "      <td>Q1</td>\n",
       "      <td>user</td>\n",
       "      <td>What constitutional authority underlies Congre...</td>\n",
       "    </tr>\n",
       "    <tr>\n",
       "      <th>2</th>\n",
       "      <td>A1</td>\n",
       "      <td>assistant</td>\n",
       "      <td>Congress’s authority to control federal spendi...</td>\n",
       "    </tr>\n",
       "    <tr>\n",
       "      <th>3</th>\n",
       "      <td>Q2</td>\n",
       "      <td>user</td>\n",
       "      <td>How did the modern budget and appropriations p...</td>\n",
       "    </tr>\n",
       "    <tr>\n",
       "      <th>4</th>\n",
       "      <td>A2</td>\n",
       "      <td>assistant</td>\n",
       "      <td>Initially, in the early republic, Congress bot...</td>\n",
       "    </tr>\n",
       "    <tr>\n",
       "      <th>5</th>\n",
       "      <td>Q3</td>\n",
       "      <td>user</td>\n",
       "      <td>What are the key stages of an appropriation’s ...</td>\n",
       "    </tr>\n",
       "    <tr>\n",
       "      <th>...</th>\n",
       "      <td>...</td>\n",
       "      <td>...</td>\n",
       "      <td>...</td>\n",
       "    </tr>\n",
       "    <tr>\n",
       "      <th>296</th>\n",
       "      <td>A148</td>\n",
       "      <td>assistant</td>\n",
       "      <td>Agencies must report mandatory program outlays...</td>\n",
       "    </tr>\n",
       "    <tr>\n",
       "      <th>297</th>\n",
       "      <td>Q149</td>\n",
       "      <td>user</td>\n",
       "      <td>How are insolvent trust fund covers and paymen...</td>\n",
       "    </tr>\n",
       "    <tr>\n",
       "      <th>298</th>\n",
       "      <td>A149</td>\n",
       "      <td>assistant</td>\n",
       "      <td>When a trust fund becomes insolvent—meaning it...</td>\n",
       "    </tr>\n",
       "    <tr>\n",
       "      <th>299</th>\n",
       "      <td>Q150</td>\n",
       "      <td>user</td>\n",
       "      <td>What are the consequences if Congress fails to...</td>\n",
       "    </tr>\n",
       "    <tr>\n",
       "      <th>300</th>\n",
       "      <td>A150</td>\n",
       "      <td>assistant</td>\n",
       "      <td>If Congress fails to reauthorize a mandatory p...</td>\n",
       "    </tr>\n",
       "  </tbody>\n",
       "</table>\n",
       "<p>300 rows × 3 columns</p>\n",
       "</div>"
      ]
     },
     "execution_count": 67,
     "metadata": {},
     "output_type": "execute_result"
    }
   ],
   "execution_count": 67
  },
  {
   "metadata": {
    "ExecuteTime": {
     "end_time": "2025-06-12T13:23:05.614698Z",
     "start_time": "2025-06-12T13:23:04.639781Z"
    }
   },
   "cell_type": "code",
   "source": [
    "# Print JSON\n",
    "for r in range( len( df_redbook ) ):\n",
    "\tif df_redbook.iloc[ r, 1 ] == 'user':\n",
    "\t\tquestion = '{\"messages\":[{' + f'\"role\":\"{df_redbook.iloc[ r, 1 ]}\", \"content\":\"{df_redbook.iloc[ r, 2 ]}\"' + '},{'\n",
    "\telif df_redbook.iloc[ r, 1 ] == 'assistnant':\n",
    "\t\tanswer = f'\"role\":\"{df_redbook.iloc[ r, 1 ]}\", \"content\": \"{df_redbook.iloc[ r, 2 ]}\" ' + '}]}'\n",
    "\trecord = question + answer\n",
    "\tprint( record  )"
   ],
   "id": "2c4a931e40a9f48",
   "outputs": [
    {
     "name": "stdout",
     "output_type": "stream",
     "text": [
      "{\"messages\":[{\"role\":\"user\", \"content\":\"What constitutional authority underlies Congress’s power to control federal spending?\"},{\"role\":\"assistant\", \"content\": \"No, none of these accounts close at year-end because they represent ongoing assets related to cash holdings or fund balances.\" }]}\n",
      "{\"messages\":[{\"role\":\"user\", \"content\":\"What constitutional authority underlies Congress’s power to control federal spending?\"},{\"role\":\"assistant\", \"content\": \"No, none of these accounts close at year-end because they represent ongoing assets related to cash holdings or fund balances.\" }]}\n",
      "{\"messages\":[{\"role\":\"user\", \"content\":\"How did the modern budget and appropriations process evolve prior to twentieth-century reforms?\"},{\"role\":\"assistant\", \"content\": \"No, none of these accounts close at year-end because they represent ongoing assets related to cash holdings or fund balances.\" }]}\n",
      "{\"messages\":[{\"role\":\"user\", \"content\":\"How did the modern budget and appropriations process evolve prior to twentieth-century reforms?\"},{\"role\":\"assistant\", \"content\": \"No, none of these accounts close at year-end because they represent ongoing assets related to cash holdings or fund balances.\" }]}\n",
      "{\"messages\":[{\"role\":\"user\", \"content\":\"What are the key stages of an appropriation’s “life cycle” from enactment to closure?\"},{\"role\":\"assistant\", \"content\": \"No, none of these accounts close at year-end because they represent ongoing assets related to cash holdings or fund balances.\" }]}\n",
      "{\"messages\":[{\"role\":\"user\", \"content\":\"What are the key stages of an appropriation’s “life cycle” from enactment to closure?\"},{\"role\":\"assistant\", \"content\": \"No, none of these accounts close at year-end because they represent ongoing assets related to cash holdings or fund balances.\" }]}\n",
      "{\"messages\":[{\"role\":\"user\", \"content\":\"Which GAO decisions might guide a reader seeking further detail on appropriations precedents?\"},{\"role\":\"assistant\", \"content\": \"No, none of these accounts close at year-end because they represent ongoing assets related to cash holdings or fund balances.\" }]}\n",
      "{\"messages\":[{\"role\":\"user\", \"content\":\"Which GAO decisions might guide a reader seeking further detail on appropriations precedents?\"},{\"role\":\"assistant\", \"content\": \"No, none of these accounts close at year-end because they represent ongoing assets related to cash holdings or fund balances.\" }]}\n",
      "{\"messages\":[{\"role\":\"user\", \"content\":\"What forms of “budget authority” exist, and how do they differ from appropriations?\"},{\"role\":\"assistant\", \"content\": \"No, none of these accounts close at year-end because they represent ongoing assets related to cash holdings or fund balances.\" }]}\n",
      "{\"messages\":[{\"role\":\"user\", \"content\":\"What forms of “budget authority” exist, and how do they differ from appropriations?\"},{\"role\":\"assistant\", \"content\": \"No, none of these accounts close at year-end because they represent ongoing assets related to cash holdings or fund balances.\" }]}\n",
      "{\"messages\":[{\"role\":\"user\", \"content\":\"What distinguishes “lump‐sum” appropriations from “line‐item” appropriations?\"},{\"role\":\"assistant\", \"content\": \"No, none of these accounts close at year-end because they represent ongoing assets related to cash holdings or fund balances.\" }]}\n",
      "{\"messages\":[{\"role\":\"user\", \"content\":\"What distinguishes “lump‐sum” appropriations from “line‐item” appropriations?\"},{\"role\":\"assistant\", \"content\": \"No, none of these accounts close at year-end because they represent ongoing assets related to cash holdings or fund balances.\" }]}\n",
      "{\"messages\":[{\"role\":\"user\", \"content\":\"How does Congress use general provisions in appropriation statutes, and why do these have permanent effect?\"},{\"role\":\"assistant\", \"content\": \"No, none of these accounts close at year-end because they represent ongoing assets related to cash holdings or fund balances.\" }]}\n",
      "{\"messages\":[{\"role\":\"user\", \"content\":\"How does Congress use general provisions in appropriation statutes, and why do these have permanent effect?\"},{\"role\":\"assistant\", \"content\": \"No, none of these accounts close at year-end because they represent ongoing assets related to cash holdings or fund balances.\" }]}\n",
      "{\"messages\":[{\"role\":\"user\", \"content\":\"What is the difference between an authorization act and an appropriation act?\"},{\"role\":\"assistant\", \"content\": \"No, none of these accounts close at year-end because they represent ongoing assets related to cash holdings or fund balances.\" }]}\n",
      "{\"messages\":[{\"role\":\"user\", \"content\":\"What is the difference between an authorization act and an appropriation act?\"},{\"role\":\"assistant\", \"content\": \"No, none of these accounts close at year-end because they represent ongoing assets related to cash holdings or fund balances.\" }]}\n",
      "{\"messages\":[{\"role\":\"user\", \"content\":\"When interpreting ambiguous appropriation language, what steps should an agency take to ascertain congressional intent?\"},{\"role\":\"assistant\", \"content\": \"No, none of these accounts close at year-end because they represent ongoing assets related to cash holdings or fund balances.\" }]}\n",
      "{\"messages\":[{\"role\":\"user\", \"content\":\"When interpreting ambiguous appropriation language, what steps should an agency take to ascertain congressional intent?\"},{\"role\":\"assistant\", \"content\": \"No, none of these accounts close at year-end because they represent ongoing assets related to cash holdings or fund balances.\" }]}\n",
      "{\"messages\":[{\"role\":\"user\", \"content\":\"Under what circumstances does GAO allow an agency to incur “necessary expenses” not explicitly covered by appropriation language?\"},{\"role\":\"assistant\", \"content\": \"No, none of these accounts close at year-end because they represent ongoing assets related to cash holdings or fund balances.\" }]}\n",
      "{\"messages\":[{\"role\":\"user\", \"content\":\"Under what circumstances does GAO allow an agency to incur “necessary expenses” not explicitly covered by appropriation language?\"},{\"role\":\"assistant\", \"content\": \"No, none of these accounts close at year-end because they represent ongoing assets related to cash holdings or fund balances.\" }]}\n",
      "{\"messages\":[{\"role\":\"user\", \"content\":\"How and when may an agency use appropriation funds to pay expenses of its employees’ attendance at conferences and conventions?\"},{\"role\":\"assistant\", \"content\": \"No, none of these accounts close at year-end because they represent ongoing assets related to cash holdings or fund balances.\" }]}\n",
      "{\"messages\":[{\"role\":\"user\", \"content\":\"How and when may an agency use appropriation funds to pay expenses of its employees’ attendance at conferences and conventions?\"},{\"role\":\"assistant\", \"content\": \"No, none of these accounts close at year-end because they represent ongoing assets related to cash holdings or fund balances.\" }]}\n",
      "{\"messages\":[{\"role\":\"user\", \"content\":\"Under what conditions may an agency’s employees incur expenses that could be considered entitlements rather than discretionary payments?\"},{\"role\":\"assistant\", \"content\": \"No, none of these accounts close at year-end because they represent ongoing assets related to cash holdings or fund balances.\" }]}\n",
      "{\"messages\":[{\"role\":\"user\", \"content\":\"Under what conditions may an agency’s employees incur expenses that could be considered entitlements rather than discretionary payments?\"},{\"role\":\"assistant\", \"content\": \"No, none of these accounts close at year-end because they represent ongoing assets related to cash holdings or fund balances.\" }]}\n",
      "{\"messages\":[{\"role\":\"user\", \"content\":\"What legal standards govern an agency’s use of appropriated funds to provide awards or gifts?\"},{\"role\":\"assistant\", \"content\": \"No, none of these accounts close at year-end because they represent ongoing assets related to cash holdings or fund balances.\" }]}\n",
      "{\"messages\":[{\"role\":\"user\", \"content\":\"What legal standards govern an agency’s use of appropriated funds to provide awards or gifts?\"},{\"role\":\"assistant\", \"content\": \"No, none of these accounts close at year-end because they represent ongoing assets related to cash holdings or fund balances.\" }]}\n",
      "{\"messages\":[{\"role\":\"user\", \"content\":\"Under what circumstances can an agency retain “miscellaneous receipts” or must it deposit them to Treasury?\"},{\"role\":\"assistant\", \"content\": \"No, none of these accounts close at year-end because they represent ongoing assets related to cash holdings or fund balances.\" }]}\n",
      "{\"messages\":[{\"role\":\"user\", \"content\":\"Under what circumstances can an agency retain “miscellaneous receipts” or must it deposit them to Treasury?\"},{\"role\":\"assistant\", \"content\": \"No, none of these accounts close at year-end because they represent ongoing assets related to cash holdings or fund balances.\" }]}\n",
      "{\"messages\":[{\"role\":\"user\", \"content\":\"How should agencies treat refunds or rebates from disallowed expenditures?\"},{\"role\":\"assistant\", \"content\": \"No, none of these accounts close at year-end because they represent ongoing assets related to cash holdings or fund balances.\" }]}\n",
      "{\"messages\":[{\"role\":\"user\", \"content\":\"How should agencies treat refunds or rebates from disallowed expenditures?\"},{\"role\":\"assistant\", \"content\": \"No, none of these accounts close at year-end because they represent ongoing assets related to cash holdings or fund balances.\" }]}\n",
      "{\"messages\":[{\"role\":\"user\", \"content\":\"In what scenarios does GAO allow use of “contract authority” to incur obligations prior to appropriation enactment?\"},{\"role\":\"assistant\", \"content\": \"No, none of these accounts close at year-end because they represent ongoing assets related to cash holdings or fund balances.\" }]}\n",
      "{\"messages\":[{\"role\":\"user\", \"content\":\"In what scenarios does GAO allow use of “contract authority” to incur obligations prior to appropriation enactment?\"},{\"role\":\"assistant\", \"content\": \"No, none of these accounts close at year-end because they represent ongoing assets related to cash holdings or fund balances.\" }]}\n",
      "{\"messages\":[{\"role\":\"user\", \"content\":\"What factors determine when a multiyear contract constitutes an obligation in a single fiscal year versus multiple years?\"},{\"role\":\"assistant\", \"content\": \"No, none of these accounts close at year-end because they represent ongoing assets related to cash holdings or fund balances.\" }]}\n",
      "{\"messages\":[{\"role\":\"user\", \"content\":\"What factors determine when a multiyear contract constitutes an obligation in a single fiscal year versus multiple years?\"},{\"role\":\"assistant\", \"content\": \"No, none of these accounts close at year-end because they represent ongoing assets related to cash holdings or fund balances.\" }]}\n",
      "{\"messages\":[{\"role\":\"user\", \"content\":\"How does GAO define “binding agreement” for obligation purposes in interagency transactions?\"},{\"role\":\"assistant\", \"content\": \"No, none of these accounts close at year-end because they represent ongoing assets related to cash holdings or fund balances.\" }]}\n",
      "{\"messages\":[{\"role\":\"user\", \"content\":\"How does GAO define “binding agreement” for obligation purposes in interagency transactions?\"},{\"role\":\"assistant\", \"content\": \"No, none of these accounts close at year-end because they represent ongoing assets related to cash holdings or fund balances.\" }]}\n",
      "{\"messages\":[{\"role\":\"user\", \"content\":\"Under what circumstances may an agency record an obligation for a grant?\"},{\"role\":\"assistant\", \"content\": \"No, none of these accounts close at year-end because they represent ongoing assets related to cash holdings or fund balances.\" }]}\n",
      "{\"messages\":[{\"role\":\"user\", \"content\":\"Under what circumstances may an agency record an obligation for a grant?\"},{\"role\":\"assistant\", \"content\": \"No, none of these accounts close at year-end because they represent ongoing assets related to cash holdings or fund balances.\" }]}\n",
      "{\"messages\":[{\"role\":\"user\", \"content\":\"What steps should an agency take to ensure appropriations remain available for valid travel reimbursements?\"},{\"role\":\"assistant\", \"content\": \"No, none of these accounts close at year-end because they represent ongoing assets related to cash holdings or fund balances.\" }]}\n",
      "{\"messages\":[{\"role\":\"user\", \"content\":\"What steps should an agency take to ensure appropriations remain available for valid travel reimbursements?\"},{\"role\":\"assistant\", \"content\": \"No, none of these accounts close at year-end because they represent ongoing assets related to cash holdings or fund balances.\" }]}\n",
      "{\"messages\":[{\"role\":\"user\", \"content\":\"How does GAO view the obligations associated with federal civilian employees’ separation or severance pay?\"},{\"role\":\"assistant\", \"content\": \"No, none of these accounts close at year-end because they represent ongoing assets related to cash holdings or fund balances.\" }]}\n",
      "{\"messages\":[{\"role\":\"user\", \"content\":\"How does GAO view the obligations associated with federal civilian employees’ separation or severance pay?\"},{\"role\":\"assistant\", \"content\": \"No, none of these accounts close at year-end because they represent ongoing assets related to cash holdings or fund balances.\" }]}\n",
      "{\"messages\":[{\"role\":\"user\", \"content\":\"What are the GAO’s criteria for distinguishing a “lump‐sum” appropriation from one that prescribes specific funding categories?\"},{\"role\":\"assistant\", \"content\": \"No, none of these accounts close at year-end because they represent ongoing assets related to cash holdings or fund balances.\" }]}\n",
      "{\"messages\":[{\"role\":\"user\", \"content\":\"What are the GAO’s criteria for distinguishing a “lump‐sum” appropriation from one that prescribes specific funding categories?\"},{\"role\":\"assistant\", \"content\": \"No, none of these accounts close at year-end because they represent ongoing assets related to cash holdings or fund balances.\" }]}\n",
      "{\"messages\":[{\"role\":\"user\", \"content\":\"How does GAO interpret appropriation statutes that contain both a “lump‐sum” total and subordinate “for necessary expenses” clauses?\"},{\"role\":\"assistant\", \"content\": \"No, none of these accounts close at year-end because they represent ongoing assets related to cash holdings or fund balances.\" }]}\n",
      "{\"messages\":[{\"role\":\"user\", \"content\":\"How does GAO interpret appropriation statutes that contain both a “lump‐sum” total and subordinate “for necessary expenses” clauses?\"},{\"role\":\"assistant\", \"content\": \"No, none of these accounts close at year-end because they represent ongoing assets related to cash holdings or fund balances.\" }]}\n",
      "{\"messages\":[{\"role\":\"user\", \"content\":\"Under what conditions may an agency use appropriated funds to pay state and local taxes on site for government contractors?\"},{\"role\":\"assistant\", \"content\": \"No, none of these accounts close at year-end because they represent ongoing assets related to cash holdings or fund balances.\" }]}\n",
      "{\"messages\":[{\"role\":\"user\", \"content\":\"Under what conditions may an agency use appropriated funds to pay state and local taxes on site for government contractors?\"},{\"role\":\"assistant\", \"content\": \"No, none of these accounts close at year-end because they represent ongoing assets related to cash holdings or fund balances.\" }]}\n",
      "{\"messages\":[{\"role\":\"user\", \"content\":\"What is GAO’s guidance on using appropriated funds for testing or prototypes before formal program authorization?\"},{\"role\":\"assistant\", \"content\": \"No, none of these accounts close at year-end because they represent ongoing assets related to cash holdings or fund balances.\" }]}\n",
      "{\"messages\":[{\"role\":\"user\", \"content\":\"What is GAO’s guidance on using appropriated funds for testing or prototypes before formal program authorization?\"},{\"role\":\"assistant\", \"content\": \"No, none of these accounts close at year-end because they represent ongoing assets related to cash holdings or fund balances.\" }]}\n",
      "{\"messages\":[{\"role\":\"user\", \"content\":\"What is the statutory basis for the bona fide needs rule, and how does it limit the use of fixed‐term appropriations?\"},{\"role\":\"assistant\", \"content\": \"No, none of these accounts close at year-end because they represent ongoing assets related to cash holdings or fund balances.\" }]}\n",
      "{\"messages\":[{\"role\":\"user\", \"content\":\"What is the statutory basis for the bona fide needs rule, and how does it limit the use of fixed‐term appropriations?\"},{\"role\":\"assistant\", \"content\": \"No, none of these accounts close at year-end because they represent ongoing assets related to cash holdings or fund balances.\" }]}\n",
      "{\"messages\":[{\"role\":\"user\", \"content\":\"Under the bona fide needs rule, may an agency obligate its fiscal year appropriation for a contract that extends into the next fiscal year without specific statutory authority?\"},{\"role\":\"assistant\", \"content\": \"No, none of these accounts close at year-end because they represent ongoing assets related to cash holdings or fund balances.\" }]}\n",
      "{\"messages\":[{\"role\":\"user\", \"content\":\"Under the bona fide needs rule, may an agency obligate its fiscal year appropriation for a contract that extends into the next fiscal year without specific statutory authority?\"},{\"role\":\"assistant\", \"content\": \"No, none of these accounts close at year-end because they represent ongoing assets related to cash holdings or fund balances.\" }]}\n",
      "{\"messages\":[{\"role\":\"user\", \"content\":\"What general statutory authorities permit agencies to enter into severable services contracts that cross fiscal years, and how do they work?\"},{\"role\":\"assistant\", \"content\": \"No, none of these accounts close at year-end because they represent ongoing assets related to cash holdings or fund balances.\" }]}\n",
      "{\"messages\":[{\"role\":\"user\", \"content\":\"What general statutory authorities permit agencies to enter into severable services contracts that cross fiscal years, and how do they work?\"},{\"role\":\"assistant\", \"content\": \"No, none of these accounts close at year-end because they represent ongoing assets related to cash holdings or fund balances.\" }]}\n",
      "{\"messages\":[{\"role\":\"user\", \"content\":\"How do multiyear appropriations affect the application of the bona fide needs rule?\"},{\"role\":\"assistant\", \"content\": \"No, none of these accounts close at year-end because they represent ongoing assets related to cash holdings or fund balances.\" }]}\n",
      "{\"messages\":[{\"role\":\"user\", \"content\":\"How do multiyear appropriations affect the application of the bona fide needs rule?\"},{\"role\":\"assistant\", \"content\": \"No, none of these accounts close at year-end because they represent ongoing assets related to cash holdings or fund balances.\" }]}\n",
      "{\"messages\":[{\"role\":\"user\", \"content\":\"What is the treatment of no‐year appropriations under the bona fide needs rule?\"},{\"role\":\"assistant\", \"content\": \"No, none of these accounts close at year-end because they represent ongoing assets related to cash holdings or fund balances.\" }]}\n",
      "{\"messages\":[{\"role\":\"user\", \"content\":\"What is the treatment of no‐year appropriations under the bona fide needs rule?\"},{\"role\":\"assistant\", \"content\": \"No, none of these accounts close at year-end because they represent ongoing assets related to cash holdings or fund balances.\" }]}\n",
      "{\"messages\":[{\"role\":\"user\", \"content\":\"What constitutes a “continuing need” under the bona fide needs rule, and how does it affect chargeability of obligations?\"},{\"role\":\"assistant\", \"content\": \"No, none of these accounts close at year-end because they represent ongoing assets related to cash holdings or fund balances.\" }]}\n",
      "{\"messages\":[{\"role\":\"user\", \"content\":\"What constitutes a “continuing need” under the bona fide needs rule, and how does it affect chargeability of obligations?\"},{\"role\":\"assistant\", \"content\": \"No, none of these accounts close at year-end because they represent ongoing assets related to cash holdings or fund balances.\" }]}\n",
      "{\"messages\":[{\"role\":\"user\", \"content\":\"What is the “replacement contract rule,” and must an agency always resort to it when terminating a contract for convenience?\"},{\"role\":\"assistant\", \"content\": \"No, none of these accounts close at year-end because they represent ongoing assets related to cash holdings or fund balances.\" }]}\n",
      "{\"messages\":[{\"role\":\"user\", \"content\":\"What is the “replacement contract rule,” and must an agency always resort to it when terminating a contract for convenience?\"},{\"role\":\"assistant\", \"content\": \"No, none of these accounts close at year-end because they represent ongoing assets related to cash holdings or fund balances.\" }]}\n",
      "{\"messages\":[{\"role\":\"user\", \"content\":\"How should contract modifications that increase the contract price be charged under the bona fide needs rule?\"},{\"role\":\"assistant\", \"content\": \"No, none of these accounts close at year-end because they represent ongoing assets related to cash holdings or fund balances.\" }]}\n",
      "{\"messages\":[{\"role\":\"user\", \"content\":\"How should contract modifications that increase the contract price be charged under the bona fide needs rule?\"},{\"role\":\"assistant\", \"content\": \"No, none of these accounts close at year-end because they represent ongoing assets related to cash holdings or fund balances.\" }]}\n",
      "{\"messages\":[{\"role\":\"user\", \"content\":\"What limitations does 31 U.S.C. § 1512(c) impose on establishing reserves during apportionment?\"},{\"role\":\"assistant\", \"content\": \"No, none of these accounts close at year-end because they represent ongoing assets related to cash holdings or fund balances.\" }]}\n",
      "{\"messages\":[{\"role\":\"user\", \"content\":\"What limitations does 31 U.S.C. § 1512(c) impose on establishing reserves during apportionment?\"},{\"role\":\"assistant\", \"content\": \"No, none of these accounts close at year-end because they represent ongoing assets related to cash holdings or fund balances.\" }]}\n",
      "{\"messages\":[{\"role\":\"user\", \"content\":\"Under the Impoundment Control Act, when may OMB delay apportionment of funds due to a proposed rescission?\"},{\"role\":\"assistant\", \"content\": \"No, none of these accounts close at year-end because they represent ongoing assets related to cash holdings or fund balances.\" }]}\n",
      "{\"messages\":[{\"role\":\"user\", \"content\":\"Under the Impoundment Control Act, when may OMB delay apportionment of funds due to a proposed rescission?\"},{\"role\":\"assistant\", \"content\": \"No, none of these accounts close at year-end because they represent ongoing assets related to cash holdings or fund balances.\" }]}\n",
      "{\"messages\":[{\"role\":\"user\", \"content\":\"If the executive branch fails to make budget authority available for obligation after Congress does not approve a proposed rescission, what recourse exists under the Impoundment Control Act?\"},{\"role\":\"assistant\", \"content\": \"No, none of these accounts close at year-end because they represent ongoing assets related to cash holdings or fund balances.\" }]}\n",
      "{\"messages\":[{\"role\":\"user\", \"content\":\"If the executive branch fails to make budget authority available for obligation after Congress does not approve a proposed rescission, what recourse exists under the Impoundment Control Act?\"},{\"role\":\"assistant\", \"content\": \"No, none of these accounts close at year-end because they represent ongoing assets related to cash holdings or fund balances.\" }]}\n",
      "{\"messages\":[{\"role\":\"user\", \"content\":\"How does GAO define “impoundment”?\"},{\"role\":\"assistant\", \"content\": \"No, none of these accounts close at year-end because they represent ongoing assets related to cash holdings or fund balances.\" }]}\n",
      "{\"messages\":[{\"role\":\"user\", \"content\":\"How does GAO define “impoundment”?\"},{\"role\":\"assistant\", \"content\": \"No, none of these accounts close at year-end because they represent ongoing assets related to cash holdings or fund balances.\" }]}\n",
      "{\"messages\":[{\"role\":\"user\", \"content\":\"What factors differentiate a programmatic delay from an impoundment under the Impoundment Control Act?\"},{\"role\":\"assistant\", \"content\": \"No, none of these accounts close at year-end because they represent ongoing assets related to cash holdings or fund balances.\" }]}\n",
      "{\"messages\":[{\"role\":\"user\", \"content\":\"What factors differentiate a programmatic delay from an impoundment under the Impoundment Control Act?\"},{\"role\":\"assistant\", \"content\": \"No, none of these accounts close at year-end because they represent ongoing assets related to cash holdings or fund balances.\" }]}\n",
      "{\"messages\":[{\"role\":\"user\", \"content\":\"Once a partial rescission bill is enacted, what should OMB do with the remaining amounts originally proposed for rescission?\"},{\"role\":\"assistant\", \"content\": \"No, none of these accounts close at year-end because they represent ongoing assets related to cash holdings or fund balances.\" }]}\n",
      "{\"messages\":[{\"role\":\"user\", \"content\":\"Once a partial rescission bill is enacted, what should OMB do with the remaining amounts originally proposed for rescission?\"},{\"role\":\"assistant\", \"content\": \"No, none of these accounts close at year-end because they represent ongoing assets related to cash holdings or fund balances.\" }]}\n",
      "{\"messages\":[{\"role\":\"user\", \"content\":\"What is an “allotment,” and how does it relate to the apportionment process?\"},{\"role\":\"assistant\", \"content\": \"No, none of these accounts close at year-end because they represent ongoing assets related to cash holdings or fund balances.\" }]}\n",
      "{\"messages\":[{\"role\":\"user\", \"content\":\"What is an “allotment,” and how does it relate to the apportionment process?\"},{\"role\":\"assistant\", \"content\": \"No, none of these accounts close at year-end because they represent ongoing assets related to cash holdings or fund balances.\" }]}\n",
      "{\"messages\":[{\"role\":\"user\", \"content\":\"Under what conditions may an agency charge multiyear contract obligations against its first‐year appropriations?\"},{\"role\":\"assistant\", \"content\": \"No, none of these accounts close at year-end because they represent ongoing assets related to cash holdings or fund balances.\" }]}\n",
      "{\"messages\":[{\"role\":\"user\", \"content\":\"Under what conditions may an agency charge multiyear contract obligations against its first‐year appropriations?\"},{\"role\":\"assistant\", \"content\": \"No, none of these accounts close at year-end because they represent ongoing assets related to cash holdings or fund balances.\" }]}\n",
      "{\"messages\":[{\"role\":\"user\", \"content\":\"What is a “conditional contract,” and how does it avoid conflict with the Antideficiency Act and bona fide needs rule?\"},{\"role\":\"assistant\", \"content\": \"No, none of these accounts close at year-end because they represent ongoing assets related to cash holdings or fund balances.\" }]}\n",
      "{\"messages\":[{\"role\":\"user\", \"content\":\"What is a “conditional contract,” and how does it avoid conflict with the Antideficiency Act and bona fide needs rule?\"},{\"role\":\"assistant\", \"content\": \"No, none of these accounts close at year-end because they represent ongoing assets related to cash holdings or fund balances.\" }]}\n",
      "{\"messages\":[{\"role\":\"user\", \"content\":\"How do obligations for grants differ from obligations for contracts under the bona fide needs rule?\"},{\"role\":\"assistant\", \"content\": \"No, none of these accounts close at year-end because they represent ongoing assets related to cash holdings or fund balances.\" }]}\n",
      "{\"messages\":[{\"role\":\"user\", \"content\":\"How do obligations for grants differ from obligations for contracts under the bona fide needs rule?\"},{\"role\":\"assistant\", \"content\": \"No, none of these accounts close at year-end because they represent ongoing assets related to cash holdings or fund balances.\" }]}\n",
      "{\"messages\":[{\"role\":\"user\", \"content\":\"What is an unauthorized commitment, and how does the apportionment requirement relate to it?\"},{\"role\":\"assistant\", \"content\": \"No, none of these accounts close at year-end because they represent ongoing assets related to cash holdings or fund balances.\" }]}\n",
      "{\"messages\":[{\"role\":\"user\", \"content\":\"What is an unauthorized commitment, and how does the apportionment requirement relate to it?\"},{\"role\":\"assistant\", \"content\": \"No, none of these accounts close at year-end because they represent ongoing assets related to cash holdings or fund balances.\" }]}\n",
      "{\"messages\":[{\"role\":\"user\", \"content\":\"What role does 2 U.S.C. § 687 play in enforcing the Impoundment Control Act?\"},{\"role\":\"assistant\", \"content\": \"No, none of these accounts close at year-end because they represent ongoing assets related to cash holdings or fund balances.\" }]}\n",
      "{\"messages\":[{\"role\":\"user\", \"content\":\"What role does 2 U.S.C. § 687 play in enforcing the Impoundment Control Act?\"},{\"role\":\"assistant\", \"content\": \"No, none of these accounts close at year-end because they represent ongoing assets related to cash holdings or fund balances.\" }]}\n",
      "{\"messages\":[{\"role\":\"user\", \"content\":\"How is a “deferral” defined under the Impoundment Control Act, and how must an agency report it?\"},{\"role\":\"assistant\", \"content\": \"No, none of these accounts close at year-end because they represent ongoing assets related to cash holdings or fund balances.\" }]}\n",
      "{\"messages\":[{\"role\":\"user\", \"content\":\"How is a “deferral” defined under the Impoundment Control Act, and how must an agency report it?\"},{\"role\":\"assistant\", \"content\": \"No, none of these accounts close at year-end because they represent ongoing assets related to cash holdings or fund balances.\" }]}\n",
      "{\"messages\":[{\"role\":\"user\", \"content\":\"According to 31 U.S.C. § 1512(a), why must appropriations be apportioned, and how does this prevent Antideficiency Act violations?\"},{\"role\":\"assistant\", \"content\": \"No, none of these accounts close at year-end because they represent ongoing assets related to cash holdings or fund balances.\" }]}\n",
      "{\"messages\":[{\"role\":\"user\", \"content\":\"According to 31 U.S.C. § 1512(a), why must appropriations be apportioned, and how does this prevent Antideficiency Act violations?\"},{\"role\":\"assistant\", \"content\": \"No, none of these accounts close at year-end because they represent ongoing assets related to cash holdings or fund balances.\" }]}\n",
      "{\"messages\":[{\"role\":\"user\", \"content\":\"How often must an apportionment or reapportionment be reviewed under 31 U.S.C. § 1512(d)?\"},{\"role\":\"assistant\", \"content\": \"No, none of these accounts close at year-end because they represent ongoing assets related to cash holdings or fund balances.\" }]}\n",
      "{\"messages\":[{\"role\":\"user\", \"content\":\"How often must an apportionment or reapportionment be reviewed under 31 U.S.C. § 1512(d)?\"},{\"role\":\"assistant\", \"content\": \"No, none of these accounts close at year-end because they represent ongoing assets related to cash holdings or fund balances.\" }]}\n",
      "{\"messages\":[{\"role\":\"user\", \"content\":\"What are common reasons for deobligation of previously incurred obligations, and how may deobligated funds be reused?\"},{\"role\":\"assistant\", \"content\": \"No, none of these accounts close at year-end because they represent ongoing assets related to cash holdings or fund balances.\" }]}\n",
      "{\"messages\":[{\"role\":\"user\", \"content\":\"What are common reasons for deobligation of previously incurred obligations, and how may deobligated funds be reused?\"},{\"role\":\"assistant\", \"content\": \"No, none of these accounts close at year-end because they represent ongoing assets related to cash holdings or fund balances.\" }]}\n",
      "{\"messages\":[{\"role\":\"user\", \"content\":\"How does the Adequacy of Appropriations Act (41 U.S.C. § 11) complement the bona fide needs rule?\"},{\"role\":\"assistant\", \"content\": \"No, none of these accounts close at year-end because they represent ongoing assets related to cash holdings or fund balances.\" }]}\n",
      "{\"messages\":[{\"role\":\"user\", \"content\":\"How does the Adequacy of Appropriations Act (41 U.S.C. § 11) complement the bona fide needs rule?\"},{\"role\":\"assistant\", \"content\": \"No, none of these accounts close at year-end because they represent ongoing assets related to cash holdings or fund balances.\" }]}\n",
      "{\"messages\":[{\"role\":\"user\", \"content\":\"What are the rules governing the use of appropriated funds for recreational and welfare facilities for government personnel?\"},{\"role\":\"assistant\", \"content\": \"No, none of these accounts close at year-end because they represent ongoing assets related to cash holdings or fund balances.\" }]}\n",
      "{\"messages\":[{\"role\":\"user\", \"content\":\"What are the rules governing the use of appropriated funds for recreational and welfare facilities for government personnel?\"},{\"role\":\"assistant\", \"content\": \"No, none of these accounts close at year-end because they represent ongoing assets related to cash holdings or fund balances.\" }]}\n",
      "{\"messages\":[{\"role\":\"user\", \"content\":\"Under what conditions can an agency use appropriated funds to entertain nongovernment personnel?\"},{\"role\":\"assistant\", \"content\": \"No, none of these accounts close at year-end because they represent ongoing assets related to cash holdings or fund balances.\" }]}\n",
      "{\"messages\":[{\"role\":\"user\", \"content\":\"Under what conditions can an agency use appropriated funds to entertain nongovernment personnel?\"},{\"role\":\"assistant\", \"content\": \"No, none of these accounts close at year-end because they represent ongoing assets related to cash holdings or fund balances.\" }]}\n",
      "{\"messages\":[{\"role\":\"user\", \"content\":\"How does GAO define allowable “gifts” to agency employees, and what limitations apply?\"},{\"role\":\"assistant\", \"content\": \"No, none of these accounts close at year-end because they represent ongoing assets related to cash holdings or fund balances.\" }]}\n",
      "{\"messages\":[{\"role\":\"user\", \"content\":\"How does GAO define allowable “gifts” to agency employees, and what limitations apply?\"},{\"role\":\"assistant\", \"content\": \"No, none of these accounts close at year-end because they represent ongoing assets related to cash holdings or fund balances.\" }]}\n",
      "{\"messages\":[{\"role\":\"user\", \"content\":\"What guidance does GAO provide regarding firefighting and other municipal services that agencies might procure?\"},{\"role\":\"assistant\", \"content\": \"No, none of these accounts close at year-end because they represent ongoing assets related to cash holdings or fund balances.\" }]}\n",
      "{\"messages\":[{\"role\":\"user\", \"content\":\"What guidance does GAO provide regarding firefighting and other municipal services that agencies might procure?\"},{\"role\":\"assistant\", \"content\": \"No, none of these accounts close at year-end because they represent ongoing assets related to cash holdings or fund balances.\" }]}\n",
      "{\"messages\":[{\"role\":\"user\", \"content\":\"How are fines and penalties treated under appropriations law, and may agencies use funds to pay them?\"},{\"role\":\"assistant\", \"content\": \"No, none of these accounts close at year-end because they represent ongoing assets related to cash holdings or fund balances.\" }]}\n",
      "{\"messages\":[{\"role\":\"user\", \"content\":\"How are fines and penalties treated under appropriations law, and may agencies use funds to pay them?\"},{\"role\":\"assistant\", \"content\": \"No, none of these accounts close at year-end because they represent ongoing assets related to cash holdings or fund balances.\" }]}\n",
      "{\"messages\":[{\"role\":\"user\", \"content\":\"When agencies receive donations or gifts to the government, how must those funds be handled?\"},{\"role\":\"assistant\", \"content\": \"No, none of these accounts close at year-end because they represent ongoing assets related to cash holdings or fund balances.\" }]}\n",
      "{\"messages\":[{\"role\":\"user\", \"content\":\"When agencies receive donations or gifts to the government, how must those funds be handled?\"},{\"role\":\"assistant\", \"content\": \"No, none of these accounts close at year-end because they represent ongoing assets related to cash holdings or fund balances.\" }]}\n",
      "{\"messages\":[{\"role\":\"user\", \"content\":\"What are the rules for using appropriated funds to support contests or awards funded through third‐party contributions?\"},{\"role\":\"assistant\", \"content\": \"No, none of these accounts close at year-end because they represent ongoing assets related to cash holdings or fund balances.\" }]}\n",
      "{\"messages\":[{\"role\":\"user\", \"content\":\"What are the rules for using appropriated funds to support contests or awards funded through third‐party contributions?\"},{\"role\":\"assistant\", \"content\": \"No, none of these accounts close at year-end because they represent ongoing assets related to cash holdings or fund balances.\" }]}\n",
      "{\"messages\":[{\"role\":\"user\", \"content\":\"How does the “miscellaneous receipts” doctrine affect agency retention of collections?\"},{\"role\":\"assistant\", \"content\": \"No, none of these accounts close at year-end because they represent ongoing assets related to cash holdings or fund balances.\" }]}\n",
      "{\"messages\":[{\"role\":\"user\", \"content\":\"How does the “miscellaneous receipts” doctrine affect agency retention of collections?\"},{\"role\":\"assistant\", \"content\": \"No, none of these accounts close at year-end because they represent ongoing assets related to cash holdings or fund balances.\" }]}\n",
      "{\"messages\":[{\"role\":\"user\", \"content\":\"What is the effect of litigation (e.g., judgments or settlements) on the period of availability for an appropriation?\"},{\"role\":\"assistant\", \"content\": \"No, none of these accounts close at year-end because they represent ongoing assets related to cash holdings or fund balances.\" }]}\n",
      "{\"messages\":[{\"role\":\"user\", \"content\":\"What is the effect of litigation (e.g., judgments or settlements) on the period of availability for an appropriation?\"},{\"role\":\"assistant\", \"content\": \"No, none of these accounts close at year-end because they represent ongoing assets related to cash holdings or fund balances.\" }]}\n",
      "{\"messages\":[{\"role\":\"user\", \"content\":\"What distinctions exist between expired and closed appropriation accounts, and how do these affect obligations?\"},{\"role\":\"assistant\", \"content\": \"No, none of these accounts close at year-end because they represent ongoing assets related to cash holdings or fund balances.\" }]}\n",
      "{\"messages\":[{\"role\":\"user\", \"content\":\"What distinctions exist between expired and closed appropriation accounts, and how do these affect obligations?\"},{\"role\":\"assistant\", \"content\": \"No, none of these accounts close at year-end because they represent ongoing assets related to cash holdings or fund balances.\" }]}\n",
      "{\"messages\":[{\"role\":\"user\", \"content\":\"Under what circumstances may deobligated funds from an expired account be used?\"},{\"role\":\"assistant\", \"content\": \"No, none of these accounts close at year-end because they represent ongoing assets related to cash holdings or fund balances.\" }]}\n",
      "{\"messages\":[{\"role\":\"user\", \"content\":\"Under what circumstances may deobligated funds from an expired account be used?\"},{\"role\":\"assistant\", \"content\": \"No, none of these accounts close at year-end because they represent ongoing assets related to cash holdings or fund balances.\" }]}\n",
      "{\"messages\":[{\"role\":\"user\", \"content\":\"How does litigation affect the availability of funds in an expired account for “effect of litigation” purposes?\"},{\"role\":\"assistant\", \"content\": \"No, none of these accounts close at year-end because they represent ongoing assets related to cash holdings or fund balances.\" }]}\n",
      "{\"messages\":[{\"role\":\"user\", \"content\":\"How does litigation affect the availability of funds in an expired account for “effect of litigation” purposes?\"},{\"role\":\"assistant\", \"content\": \"No, none of these accounts close at year-end because they represent ongoing assets related to cash holdings or fund balances.\" }]}\n",
      "{\"messages\":[{\"role\":\"user\", \"content\":\"What exemptions exist for closing procedures of appropriation accounts?\"},{\"role\":\"assistant\", \"content\": \"No, none of these accounts close at year-end because they represent ongoing assets related to cash holdings or fund balances.\" }]}\n",
      "{\"messages\":[{\"role\":\"user\", \"content\":\"What exemptions exist for closing procedures of appropriation accounts?\"},{\"role\":\"assistant\", \"content\": \"No, none of these accounts close at year-end because they represent ongoing assets related to cash holdings or fund balances.\" }]}\n",
      "{\"messages\":[{\"role\":\"user\", \"content\":\"How are repayments and refunds to agencies treated during the deobligation process?\"},{\"role\":\"assistant\", \"content\": \"No, none of these accounts close at year-end because they represent ongoing assets related to cash holdings or fund balances.\" }]}\n",
      "{\"messages\":[{\"role\":\"user\", \"content\":\"How are repayments and refunds to agencies treated during the deobligation process?\"},{\"role\":\"assistant\", \"content\": \"No, none of these accounts close at year-end because they represent ongoing assets related to cash holdings or fund balances.\" }]}\n",
      "{\"messages\":[{\"role\":\"user\", \"content\":\"Under what situations may agencies retain “offsetting collections” rather than depositing them in Treasury?\"},{\"role\":\"assistant\", \"content\": \"No, none of these accounts close at year-end because they represent ongoing assets related to cash holdings or fund balances.\" }]}\n",
      "{\"messages\":[{\"role\":\"user\", \"content\":\"Under what situations may agencies retain “offsetting collections” rather than depositing them in Treasury?\"},{\"role\":\"assistant\", \"content\": \"No, none of these accounts close at year-end because they represent ongoing assets related to cash holdings or fund balances.\" }]}\n",
      "{\"messages\":[{\"role\":\"user\", \"content\":\"What is GAO’s stance on using expired appropriations to liquidate obligations that were unrecorded at expiration?\"},{\"role\":\"assistant\", \"content\": \"No, none of these accounts close at year-end because they represent ongoing assets related to cash holdings or fund balances.\" }]}\n",
      "{\"messages\":[{\"role\":\"user\", \"content\":\"What is GAO’s stance on using expired appropriations to liquidate obligations that were unrecorded at expiration?\"},{\"role\":\"assistant\", \"content\": \"No, none of these accounts close at year-end because they represent ongoing assets related to cash holdings or fund balances.\" }]}\n",
      "{\"messages\":[{\"role\":\"user\", \"content\":\"How does the effect of litigation on an account differ when an appropriation is “no‐year”?\"},{\"role\":\"assistant\", \"content\": \"No, none of these accounts close at year-end because they represent ongoing assets related to cash holdings or fund balances.\" }]}\n",
      "{\"messages\":[{\"role\":\"user\", \"content\":\"How does the effect of litigation on an account differ when an appropriation is “no‐year”?\"},{\"role\":\"assistant\", \"content\": \"No, none of these accounts close at year-end because they represent ongoing assets related to cash holdings or fund balances.\" }]}\n",
      "{\"messages\":[{\"role\":\"user\", \"content\":\"What procedures must agencies follow when closing an appropriation account after the fifth year?\"},{\"role\":\"assistant\", \"content\": \"No, none of these accounts close at year-end because they represent ongoing assets related to cash holdings or fund balances.\" }]}\n",
      "{\"messages\":[{\"role\":\"user\", \"content\":\"What procedures must agencies follow when closing an appropriation account after the fifth year?\"},{\"role\":\"assistant\", \"content\": \"No, none of these accounts close at year-end because they represent ongoing assets related to cash holdings or fund balances.\" }]}\n",
      "{\"messages\":[{\"role\":\"user\", \"content\":\"What role does the Treasury Financial Manual (TFM) play in deobligation and account closing?\"},{\"role\":\"assistant\", \"content\": \"No, none of these accounts close at year-end because they represent ongoing assets related to cash holdings or fund balances.\" }]}\n",
      "{\"messages\":[{\"role\":\"user\", \"content\":\"What role does the Treasury Financial Manual (TFM) play in deobligation and account closing?\"},{\"role\":\"assistant\", \"content\": \"No, none of these accounts close at year-end because they represent ongoing assets related to cash holdings or fund balances.\" }]}\n",
      "{\"messages\":[{\"role\":\"user\", \"content\":\"How does GAO treat obligations for employees’ separation pay if the appropriation has closed?\"},{\"role\":\"assistant\", \"content\": \"No, none of these accounts close at year-end because they represent ongoing assets related to cash holdings or fund balances.\" }]}\n",
      "{\"messages\":[{\"role\":\"user\", \"content\":\"How does GAO treat obligations for employees’ separation pay if the appropriation has closed?\"},{\"role\":\"assistant\", \"content\": \"No, none of these accounts close at year-end because they represent ongoing assets related to cash holdings or fund balances.\" }]}\n",
      "{\"messages\":[{\"role\":\"user\", \"content\":\"Under what circumstances can appropriations be used to pay administrative fines or reimbursements ordered by the Comptroller General?\"},{\"role\":\"assistant\", \"content\": \"No, none of these accounts close at year-end because they represent ongoing assets related to cash holdings or fund balances.\" }]}\n",
      "{\"messages\":[{\"role\":\"user\", \"content\":\"Under what circumstances can appropriations be used to pay administrative fines or reimbursements ordered by the Comptroller General?\"},{\"role\":\"assistant\", \"content\": \"No, none of these accounts close at year-end because they represent ongoing assets related to cash holdings or fund balances.\" }]}\n",
      "{\"messages\":[{\"role\":\"user\", \"content\":\"How do “continuing appropriations” (continuing resolutions) affect the life cycle of appropriations discussed in Volume I?\"},{\"role\":\"assistant\", \"content\": \"No, none of these accounts close at year-end because they represent ongoing assets related to cash holdings or fund balances.\" }]}\n",
      "{\"messages\":[{\"role\":\"user\", \"content\":\"How do “continuing appropriations” (continuing resolutions) affect the life cycle of appropriations discussed in Volume I?\"},{\"role\":\"assistant\", \"content\": \"No, none of these accounts close at year-end because they represent ongoing assets related to cash holdings or fund balances.\" }]}\n",
      "{\"messages\":[{\"role\":\"user\", \"content\":\"What mechanisms exist for agencies to request an “emergency designation” to circumvent obligations limitations when a CR is in place?\"},{\"role\":\"assistant\", \"content\": \"No, none of these accounts close at year-end because they represent ongoing assets related to cash holdings or fund balances.\" }]}\n",
      "{\"messages\":[{\"role\":\"user\", \"content\":\"What mechanisms exist for agencies to request an “emergency designation” to circumvent obligations limitations when a CR is in place?\"},{\"role\":\"assistant\", \"content\": \"No, none of these accounts close at year-end because they represent ongoing assets related to cash holdings or fund balances.\" }]}\n",
      "{\"messages\":[{\"role\":\"user\", \"content\":\"How does the “bona fide needs” rule apply differently under a continuing resolution versus a regular appropriations act?\"},{\"role\":\"assistant\", \"content\": \"No, none of these accounts close at year-end because they represent ongoing assets related to cash holdings or fund balances.\" }]}\n",
      "{\"messages\":[{\"role\":\"user\", \"content\":\"How does the “bona fide needs” rule apply differently under a continuing resolution versus a regular appropriations act?\"},{\"role\":\"assistant\", \"content\": \"No, none of these accounts close at year-end because they represent ongoing assets related to cash holdings or fund balances.\" }]}\n",
      "{\"messages\":[{\"role\":\"user\", \"content\":\"What documentation must agencies maintain to support deobligations and prevent improper use of lapsed funds?\"},{\"role\":\"assistant\", \"content\": \"No, none of these accounts close at year-end because they represent ongoing assets related to cash holdings or fund balances.\" }]}\n",
      "{\"messages\":[{\"role\":\"user\", \"content\":\"What documentation must agencies maintain to support deobligations and prevent improper use of lapsed funds?\"},{\"role\":\"assistant\", \"content\": \"No, none of these accounts close at year-end because they represent ongoing assets related to cash holdings or fund balances.\" }]}\n",
      "{\"messages\":[{\"role\":\"user\", \"content\":\"What distinguishes a lump-sum appropriation from a line-item appropriation?\"},{\"role\":\"assistant\", \"content\": \"No, none of these accounts close at year-end because they represent ongoing assets related to cash holdings or fund balances.\" }]}\n",
      "{\"messages\":[{\"role\":\"user\", \"content\":\"What distinguishes a lump-sum appropriation from a line-item appropriation?\"},{\"role\":\"assistant\", \"content\": \"No, none of these accounts close at year-end because they represent ongoing assets related to cash holdings or fund balances.\" }]}\n",
      "{\"messages\":[{\"role\":\"user\", \"content\":\"How can the effect of budget estimates influence the use of a lump-sum appropriation?\"},{\"role\":\"assistant\", \"content\": \"No, none of these accounts close at year-end because they represent ongoing assets related to cash holdings or fund balances.\" }]}\n",
      "{\"messages\":[{\"role\":\"user\", \"content\":\"How can the effect of budget estimates influence the use of a lump-sum appropriation?\"},{\"role\":\"assistant\", \"content\": \"No, none of these accounts close at year-end because they represent ongoing assets related to cash holdings or fund balances.\" }]}\n",
      "{\"messages\":[{\"role\":\"user\", \"content\":\"Under what circumstances may an apparent zero-funding line in a lump-sum appropriation be interpreted as authorizing no expenditures?\"},{\"role\":\"assistant\", \"content\": \"No, none of these accounts close at year-end because they represent ongoing assets related to cash holdings or fund balances.\" }]}\n",
      "{\"messages\":[{\"role\":\"user\", \"content\":\"Under what circumstances may an apparent zero-funding line in a lump-sum appropriation be interpreted as authorizing no expenditures?\"},{\"role\":\"assistant\", \"content\": \"No, none of these accounts close at year-end because they represent ongoing assets related to cash holdings or fund balances.\" }]}\n",
      "{\"messages\":[{\"role\":\"user\", \"content\":\"What are earmarks in the context of a line-item appropriation, and how do they affect agency discretion?\"},{\"role\":\"assistant\", \"content\": \"No, none of these accounts close at year-end because they represent ongoing assets related to cash holdings or fund balances.\" }]}\n",
      "{\"messages\":[{\"role\":\"user\", \"content\":\"What are earmarks in the context of a line-item appropriation, and how do they affect agency discretion?\"},{\"role\":\"assistant\", \"content\": \"No, none of these accounts close at year-end because they represent ongoing assets related to cash holdings or fund balances.\" }]}\n",
      "{\"messages\":[{\"role\":\"user\", \"content\":\"What statutory authority constitutes the foundation of the Antideficiency Act?\"},{\"role\":\"assistant\", \"content\": \"No, none of these accounts close at year-end because they represent ongoing assets related to cash holdings or fund balances.\" }]}\n",
      "{\"messages\":[{\"role\":\"user\", \"content\":\"What statutory authority constitutes the foundation of the Antideficiency Act?\"},{\"role\":\"assistant\", \"content\": \"No, none of these accounts close at year-end because they represent ongoing assets related to cash holdings or fund balances.\" }]}\n",
      "{\"messages\":[{\"role\":\"user\", \"content\":\"What are the two principal prohibitions imposed by the Antideficiency Act?\"},{\"role\":\"assistant\", \"content\": \"No, none of these accounts close at year-end because they represent ongoing assets related to cash holdings or fund balances.\" }]}\n",
      "{\"messages\":[{\"role\":\"user\", \"content\":\"What are the two principal prohibitions imposed by the Antideficiency Act?\"},{\"role\":\"assistant\", \"content\": \"No, none of these accounts close at year-end because they represent ongoing assets related to cash holdings or fund balances.\" }]}\n",
      "{\"messages\":[{\"role\":\"user\", \"content\":\"What administrative or criminal penalties can result from an Antideficiency Act violation?\"},{\"role\":\"assistant\", \"content\": \"No, none of these accounts close at year-end because they represent ongoing assets related to cash holdings or fund balances.\" }]}\n",
      "{\"messages\":[{\"role\":\"user\", \"content\":\"What administrative or criminal penalties can result from an Antideficiency Act violation?\"},{\"role\":\"assistant\", \"content\": \"No, none of these accounts close at year-end because they represent ongoing assets related to cash holdings or fund balances.\" }]}\n",
      "{\"messages\":[{\"role\":\"user\", \"content\":\"How does the Antideficiency Act treat advance payment situations?\"},{\"role\":\"assistant\", \"content\": \"No, none of these accounts close at year-end because they represent ongoing assets related to cash holdings or fund balances.\" }]}\n",
      "{\"messages\":[{\"role\":\"user\", \"content\":\"How does the Antideficiency Act treat advance payment situations?\"},{\"role\":\"assistant\", \"content\": \"No, none of these accounts close at year-end because they represent ongoing assets related to cash holdings or fund balances.\" }]}\n",
      "{\"messages\":[{\"role\":\"user\", \"content\":\"What conditions permit agencies to accept voluntary services without violating the Antideficiency Act?\"},{\"role\":\"assistant\", \"content\": \"No, none of these accounts close at year-end because they represent ongoing assets related to cash holdings or fund balances.\" }]}\n",
      "{\"messages\":[{\"role\":\"user\", \"content\":\"What conditions permit agencies to accept voluntary services without violating the Antideficiency Act?\"},{\"role\":\"assistant\", \"content\": \"No, none of these accounts close at year-end because they represent ongoing assets related to cash holdings or fund balances.\" }]}\n",
      "{\"messages\":[{\"role\":\"user\", \"content\":\"What narrow exceptions does GAO recognize for accepting voluntary services under exigent circumstances?\"},{\"role\":\"assistant\", \"content\": \"No, none of these accounts close at year-end because they represent ongoing assets related to cash holdings or fund balances.\" }]}\n",
      "{\"messages\":[{\"role\":\"user\", \"content\":\"What narrow exceptions does GAO recognize for accepting voluntary services under exigent circumstances?\"},{\"role\":\"assistant\", \"content\": \"No, none of these accounts close at year-end because they represent ongoing assets related to cash holdings or fund balances.\" }]}\n",
      "{\"messages\":[{\"role\":\"user\", \"content\":\"How does GAO treat emergency purchases made to protect safety of human life or property under the Antideficiency Act?\"},{\"role\":\"assistant\", \"content\": \"No, none of these accounts close at year-end because they represent ongoing assets related to cash holdings or fund balances.\" }]}\n",
      "{\"messages\":[{\"role\":\"user\", \"content\":\"How does GAO treat emergency purchases made to protect safety of human life or property under the Antideficiency Act?\"},{\"role\":\"assistant\", \"content\": \"No, none of these accounts close at year-end because they represent ongoing assets related to cash holdings or fund balances.\" }]}\n",
      "{\"messages\":[{\"role\":\"user\", \"content\":\"What is the statutory requirement for apportionment of appropriations?\"},{\"role\":\"assistant\", \"content\": \"No, none of these accounts close at year-end because they represent ongoing assets related to cash holdings or fund balances.\" }]}\n",
      "{\"messages\":[{\"role\":\"user\", \"content\":\"What is the statutory requirement for apportionment of appropriations?\"},{\"role\":\"assistant\", \"content\": \"No, none of these accounts close at year-end because they represent ongoing assets related to cash holdings or fund balances.\" }]}\n",
      "{\"messages\":[{\"role\":\"user\", \"content\":\"How may an agency establish a reserve during apportionment?\"},{\"role\":\"assistant\", \"content\": \"No, none of these accounts close at year-end because they represent ongoing assets related to cash holdings or fund balances.\" }]}\n",
      "{\"messages\":[{\"role\":\"user\", \"content\":\"How may an agency establish a reserve during apportionment?\"},{\"role\":\"assistant\", \"content\": \"No, none of these accounts close at year-end because they represent ongoing assets related to cash holdings or fund balances.\" }]}\n",
      "{\"messages\":[{\"role\":\"user\", \"content\":\"What methods may an agency use to apportion its appropriations within the limits of 31 U.S.C. § 1512?\"},{\"role\":\"assistant\", \"content\": \"No, none of these accounts close at year-end because they represent ongoing assets related to cash holdings or fund balances.\" }]}\n",
      "{\"messages\":[{\"role\":\"user\", \"content\":\"What methods may an agency use to apportion its appropriations within the limits of 31 U.S.C. § 1512?\"},{\"role\":\"assistant\", \"content\": \"No, none of these accounts close at year-end because they represent ongoing assets related to cash holdings or fund balances.\" }]}\n",
      "{\"messages\":[{\"role\":\"user\", \"content\":\"Under what circumstances must an apportionment be modified or reapportioned?\"},{\"role\":\"assistant\", \"content\": \"No, none of these accounts close at year-end because they represent ongoing assets related to cash holdings or fund balances.\" }]}\n",
      "{\"messages\":[{\"role\":\"user\", \"content\":\"Under what circumstances must an apportionment be modified or reapportioned?\"},{\"role\":\"assistant\", \"content\": \"No, none of these accounts close at year-end because they represent ongoing assets related to cash holdings or fund balances.\" }]}\n",
      "{\"messages\":[{\"role\":\"user\", \"content\":\"Which appropriations are exempt from apportionment requirements?\"},{\"role\":\"assistant\", \"content\": \"No, none of these accounts close at year-end because they represent ongoing assets related to cash holdings or fund balances.\" }]}\n",
      "{\"messages\":[{\"role\":\"user\", \"content\":\"Which appropriations are exempt from apportionment requirements?\"},{\"role\":\"assistant\", \"content\": \"No, none of these accounts close at year-end because they represent ongoing assets related to cash holdings or fund balances.\" }]}\n",
      "{\"messages\":[{\"role\":\"user\", \"content\":\"What administrative divisions exist within an apportionment once OMB allocates funds to an agency?\"},{\"role\":\"assistant\", \"content\": \"No, none of these accounts close at year-end because they represent ongoing assets related to cash holdings or fund balances.\" }]}\n",
      "{\"messages\":[{\"role\":\"user\", \"content\":\"What administrative divisions exist within an apportionment once OMB allocates funds to an agency?\"},{\"role\":\"assistant\", \"content\": \"No, none of these accounts close at year-end because they represent ongoing assets related to cash holdings or fund balances.\" }]}\n",
      "{\"messages\":[{\"role\":\"user\", \"content\":\"How does GAO define “miscellaneous receipts,” and what is their treatment under appropriations law?\"},{\"role\":\"assistant\", \"content\": \"No, none of these accounts close at year-end because they represent ongoing assets related to cash holdings or fund balances.\" }]}\n",
      "{\"messages\":[{\"role\":\"user\", \"content\":\"How does GAO define “miscellaneous receipts,” and what is their treatment under appropriations law?\"},{\"role\":\"assistant\", \"content\": \"No, none of these accounts close at year-end because they represent ongoing assets related to cash holdings or fund balances.\" }]}\n",
      "{\"messages\":[{\"role\":\"user\", \"content\":\"Under what conditions can an agency retain donations or gifts rather than remit them to Treasury?\"},{\"role\":\"assistant\", \"content\": \"No, none of these accounts close at year-end because they represent ongoing assets related to cash holdings or fund balances.\" }]}\n",
      "{\"messages\":[{\"role\":\"user\", \"content\":\"Under what conditions can an agency retain donations or gifts rather than remit them to Treasury?\"},{\"role\":\"assistant\", \"content\": \"No, none of these accounts close at year-end because they represent ongoing assets related to cash holdings or fund balances.\" }]}\n",
      "{\"messages\":[{\"role\":\"user\", \"content\":\"When may an agency use appropriated funds to pay for municipal services provided by local governments?\"},{\"role\":\"assistant\", \"content\": \"No, none of these accounts close at year-end because they represent ongoing assets related to cash holdings or fund balances.\" }]}\n",
      "{\"messages\":[{\"role\":\"user\", \"content\":\"When may an agency use appropriated funds to pay for municipal services provided by local governments?\"},{\"role\":\"assistant\", \"content\": \"No, none of these accounts close at year-end because they represent ongoing assets related to cash holdings or fund balances.\" }]}\n",
      "{\"messages\":[{\"role\":\"user\", \"content\":\"What restrictions apply to using appropriated funds for gifts and awards?\"},{\"role\":\"assistant\", \"content\": \"No, none of these accounts close at year-end because they represent ongoing assets related to cash holdings or fund balances.\" }]}\n",
      "{\"messages\":[{\"role\":\"user\", \"content\":\"What restrictions apply to using appropriated funds for gifts and awards?\"},{\"role\":\"assistant\", \"content\": \"No, none of these accounts close at year-end because they represent ongoing assets related to cash holdings or fund balances.\" }]}\n",
      "{\"messages\":[{\"role\":\"user\", \"content\":\"How does GAO’s guidance address fines and penalties that agencies incur?\"},{\"role\":\"assistant\", \"content\": \"No, none of these accounts close at year-end because they represent ongoing assets related to cash holdings or fund balances.\" }]}\n",
      "{\"messages\":[{\"role\":\"user\", \"content\":\"How does GAO’s guidance address fines and penalties that agencies incur?\"},{\"role\":\"assistant\", \"content\": \"No, none of these accounts close at year-end because they represent ongoing assets related to cash holdings or fund balances.\" }]}\n",
      "{\"messages\":[{\"role\":\"user\", \"content\":\"What are the criteria for recording a contract obligation under 31 U.S.C. § 1501(a)(1)?\"},{\"role\":\"assistant\", \"content\": \"No, none of these accounts close at year-end because they represent ongoing assets related to cash holdings or fund balances.\" }]}\n",
      "{\"messages\":[{\"role\":\"user\", \"content\":\"What are the criteria for recording a contract obligation under 31 U.S.C. § 1501(a)(1)?\"},{\"role\":\"assistant\", \"content\": \"No, none of these accounts close at year-end because they represent ongoing assets related to cash holdings or fund balances.\" }]}\n",
      "{\"messages\":[{\"role\":\"user\", \"content\":\"When does a purchase order create a binding obligation under 31 U.S.C. § 1501(a)(2)?\"},{\"role\":\"assistant\", \"content\": \"No, none of these accounts close at year-end because they represent ongoing assets related to cash holdings or fund balances.\" }]}\n",
      "{\"messages\":[{\"role\":\"user\", \"content\":\"When does a purchase order create a binding obligation under 31 U.S.C. § 1501(a)(2)?\"},{\"role\":\"assistant\", \"content\": \"No, none of these accounts close at year-end because they represent ongoing assets related to cash holdings or fund balances.\" }]}\n",
      "{\"messages\":[{\"role\":\"user\", \"content\":\"Under what circumstances may agencies record an obligation for rent, royalties, or utilities under 31 U.S.C. § 1501(a)(3)?\"},{\"role\":\"assistant\", \"content\": \"No, none of these accounts close at year-end because they represent ongoing assets related to cash holdings or fund balances.\" }]}\n",
      "{\"messages\":[{\"role\":\"user\", \"content\":\"Under what circumstances may agencies record an obligation for rent, royalties, or utilities under 31 U.S.C. § 1501(a)(3)?\"},{\"role\":\"assistant\", \"content\": \"No, none of these accounts close at year-end because they represent ongoing assets related to cash holdings or fund balances.\" }]}\n",
      "{\"messages\":[{\"role\":\"user\", \"content\":\"How do interagency Economy Act orders trigger obligations under 31 U.S.C. § 1501(a)(4)?\"},{\"role\":\"assistant\", \"content\": \"No, none of these accounts close at year-end because they represent ongoing assets related to cash holdings or fund balances.\" }]}\n",
      "{\"messages\":[{\"role\":\"user\", \"content\":\"How do interagency Economy Act orders trigger obligations under 31 U.S.C. § 1501(a)(4)?\"},{\"role\":\"assistant\", \"content\": \"No, none of these accounts close at year-end because they represent ongoing assets related to cash holdings or fund balances.\" }]}\n",
      "{\"messages\":[{\"role\":\"user\", \"content\":\"What defines a grant obligation under 31 U.S.C. § 1501(a)(5)?\"},{\"role\":\"assistant\", \"content\": \"No, none of these accounts close at year-end because they represent ongoing assets related to cash holdings or fund balances.\" }]}\n",
      "{\"messages\":[{\"role\":\"user\", \"content\":\"What defines a grant obligation under 31 U.S.C. § 1501(a)(5)?\"},{\"role\":\"assistant\", \"content\": \"No, none of these accounts close at year-end because they represent ongoing assets related to cash holdings or fund balances.\" }]}\n",
      "{\"messages\":[{\"role\":\"user\", \"content\":\"Under 31 U.S.C. § 1501(a)(6), when may agencies record an obligation for insurance, leases, and similar provisions?\"},{\"role\":\"assistant\", \"content\": \"No, none of these accounts close at year-end because they represent ongoing assets related to cash holdings or fund balances.\" }]}\n",
      "{\"messages\":[{\"role\":\"user\", \"content\":\"Under 31 U.S.C. § 1501(a)(6), when may agencies record an obligation for insurance, leases, and similar provisions?\"},{\"role\":\"assistant\", \"content\": \"No, none of these accounts close at year-end because they represent ongoing assets related to cash holdings or fund balances.\" }]}\n",
      "{\"messages\":[{\"role\":\"user\", \"content\":\"When does a payment under a judgment or settlement create an obligation under 31 U.S.C. § 1501(a)(7)?\"},{\"role\":\"assistant\", \"content\": \"No, none of these accounts close at year-end because they represent ongoing assets related to cash holdings or fund balances.\" }]}\n",
      "{\"messages\":[{\"role\":\"user\", \"content\":\"When does a payment under a judgment or settlement create an obligation under 31 U.S.C. § 1501(a)(7)?\"},{\"role\":\"assistant\", \"content\": \"No, none of these accounts close at year-end because they represent ongoing assets related to cash holdings or fund balances.\" }]}\n",
      "{\"messages\":[{\"role\":\"user\", \"content\":\"What criteria govern obligations for public utility services under 31 U.S.C. § 1501(a)(8)?\"},{\"role\":\"assistant\", \"content\": \"No, none of these accounts close at year-end because they represent ongoing assets related to cash holdings or fund balances.\" }]}\n",
      "{\"messages\":[{\"role\":\"user\", \"content\":\"What criteria govern obligations for public utility services under 31 U.S.C. § 1501(a)(8)?\"},{\"role\":\"assistant\", \"content\": \"No, none of these accounts close at year-end because they represent ongoing assets related to cash holdings or fund balances.\" }]}\n",
      "{\"messages\":[{\"role\":\"user\", \"content\":\"How do agencies handle contingent liabilities under the constraints of appropriation law?\"},{\"role\":\"assistant\", \"content\": \"No, none of these accounts close at year-end because they represent ongoing assets related to cash holdings or fund balances.\" }]}\n",
      "{\"messages\":[{\"role\":\"user\", \"content\":\"How do agencies handle contingent liabilities under the constraints of appropriation law?\"},{\"role\":\"assistant\", \"content\": \"No, none of these accounts close at year-end because they represent ongoing assets related to cash holdings or fund balances.\" }]}\n",
      "{\"messages\":[{\"role\":\"user\", \"content\":\"What reporting requirements accompany obligation of funds under the Antideficiency Act?\"},{\"role\":\"assistant\", \"content\": \"No, none of these accounts close at year-end because they represent ongoing assets related to cash holdings or fund balances.\" }]}\n",
      "{\"messages\":[{\"role\":\"user\", \"content\":\"What reporting requirements accompany obligation of funds under the Antideficiency Act?\"},{\"role\":\"assistant\", \"content\": \"No, none of these accounts close at year-end because they represent ongoing assets related to cash holdings or fund balances.\" }]}\n",
      "{\"messages\":[{\"role\":\"user\", \"content\":\"Under what conditions must an agency deobligate unneeded funds?\"},{\"role\":\"assistant\", \"content\": \"No, none of these accounts close at year-end because they represent ongoing assets related to cash holdings or fund balances.\" }]}\n",
      "{\"messages\":[{\"role\":\"user\", \"content\":\"Under what conditions must an agency deobligate unneeded funds?\"},{\"role\":\"assistant\", \"content\": \"No, none of these accounts close at year-end because they represent ongoing assets related to cash holdings or fund balances.\" }]}\n",
      "{\"messages\":[{\"role\":\"user\", \"content\":\"What is a continuing resolution (CR), and why is it used?\"},{\"role\":\"assistant\", \"content\": \"No, none of these accounts close at year-end because they represent ongoing assets related to cash holdings or fund balances.\" }]}\n",
      "{\"messages\":[{\"role\":\"user\", \"content\":\"What is a continuing resolution (CR), and why is it used?\"},{\"role\":\"assistant\", \"content\": \"No, none of these accounts close at year-end because they represent ongoing assets related to cash holdings or fund balances.\" }]}\n",
      "{\"messages\":[{\"role\":\"user\", \"content\":\"How does a CR determine the “current rate” of operations for agencies?\"},{\"role\":\"assistant\", \"content\": \"No, none of these accounts close at year-end because they represent ongoing assets related to cash holdings or fund balances.\" }]}\n",
      "{\"messages\":[{\"role\":\"user\", \"content\":\"How does a CR determine the “current rate” of operations for agencies?\"},{\"role\":\"assistant\", \"content\": \"No, none of these accounts close at year-end because they represent ongoing assets related to cash holdings or fund balances.\" }]}\n",
      "{\"messages\":[{\"role\":\"user\", \"content\":\"What restrictions exist when a CR authorizes spending at a rate “not to exceed the current rate”?\"},{\"role\":\"assistant\", \"content\": \"No, none of these accounts close at year-end because they represent ongoing assets related to cash holdings or fund balances.\" }]}\n",
      "{\"messages\":[{\"role\":\"user\", \"content\":\"What restrictions exist when a CR authorizes spending at a rate “not to exceed the current rate”?\"},{\"role\":\"assistant\", \"content\": \"No, none of these accounts close at year-end because they represent ongoing assets related to cash holdings or fund balances.\" }]}\n",
      "{\"messages\":[{\"role\":\"user\", \"content\":\"How does GAO interpret obligations incurred under a CR when new appropriations are enacted?\"},{\"role\":\"assistant\", \"content\": \"No, none of these accounts close at year-end because they represent ongoing assets related to cash holdings or fund balances.\" }]}\n",
      "{\"messages\":[{\"role\":\"user\", \"content\":\"How does GAO interpret obligations incurred under a CR when new appropriations are enacted?\"},{\"role\":\"assistant\", \"content\": \"No, none of these accounts close at year-end because they represent ongoing assets related to cash holdings or fund balances.\" }]}\n",
      "{\"messages\":[{\"role\":\"user\", \"content\":\"What constitutes a “program continuation” under a CR?\"},{\"role\":\"assistant\", \"content\": \"No, none of these accounts close at year-end because they represent ongoing assets related to cash holdings or fund balances.\" }]}\n",
      "{\"messages\":[{\"role\":\"user\", \"content\":\"What constitutes a “program continuation” under a CR?\"},{\"role\":\"assistant\", \"content\": \"No, none of these accounts close at year-end because they represent ongoing assets related to cash holdings or fund balances.\" }]}\n",
      "{\"messages\":[{\"role\":\"user\", \"content\":\"When can agencies incur emergency requirements expenses during a CR?\"},{\"role\":\"assistant\", \"content\": \"No, none of these accounts close at year-end because they represent ongoing assets related to cash holdings or fund balances.\" }]}\n",
      "{\"messages\":[{\"role\":\"user\", \"content\":\"When can agencies incur emergency requirements expenses during a CR?\"},{\"role\":\"assistant\", \"content\": \"No, none of these accounts close at year-end because they represent ongoing assets related to cash holdings or fund balances.\" }]}\n",
      "{\"messages\":[{\"role\":\"user\", \"content\":\"What statutory framework governs disbursement of federal funds under Title 31?\"},{\"role\":\"assistant\", \"content\": \"No, none of these accounts close at year-end because they represent ongoing assets related to cash holdings or fund balances.\" }]}\n",
      "{\"messages\":[{\"role\":\"user\", \"content\":\"What statutory framework governs disbursement of federal funds under Title 31?\"},{\"role\":\"assistant\", \"content\": \"No, none of these accounts close at year-end because they represent ongoing assets related to cash holdings or fund balances.\" }]}\n",
      "{\"messages\":[{\"role\":\"user\", \"content\":\"How do automated payment systems enhance federal disbursement processes?\"},{\"role\":\"assistant\", \"content\": \"No, none of these accounts close at year-end because they represent ongoing assets related to cash holdings or fund balances.\" }]}\n",
      "{\"messages\":[{\"role\":\"user\", \"content\":\"How do automated payment systems enhance federal disbursement processes?\"},{\"role\":\"assistant\", \"content\": \"No, none of these accounts close at year-end because they represent ongoing assets related to cash holdings or fund balances.\" }]}\n",
      "{\"messages\":[{\"role\":\"user\", \"content\":\"What role does statistical sampling play in GAO audit exceptions to disbursement validation?\"},{\"role\":\"assistant\", \"content\": \"No, none of these accounts close at year-end because they represent ongoing assets related to cash holdings or fund balances.\" }]}\n",
      "{\"messages\":[{\"role\":\"user\", \"content\":\"What role does statistical sampling play in GAO audit exceptions to disbursement validation?\"},{\"role\":\"assistant\", \"content\": \"No, none of these accounts close at year-end because they represent ongoing assets related to cash holdings or fund balances.\" }]}\n",
      "{\"messages\":[{\"role\":\"user\", \"content\":\"What are provisional vouchers, and when may they be used?\"},{\"role\":\"assistant\", \"content\": \"No, none of these accounts close at year-end because they represent ongoing assets related to cash holdings or fund balances.\" }]}\n",
      "{\"messages\":[{\"role\":\"user\", \"content\":\"What are provisional vouchers, and when may they be used?\"},{\"role\":\"assistant\", \"content\": \"No, none of these accounts close at year-end because they represent ongoing assets related to cash holdings or fund balances.\" }]}\n",
      "{\"messages\":[{\"role\":\"user\", \"content\":\"How do facsimile signatures and electronic certification affect the validity of disbursement vouchers?\"},{\"role\":\"assistant\", \"content\": \"No, none of these accounts close at year-end because they represent ongoing assets related to cash holdings or fund balances.\" }]}\n",
      "{\"messages\":[{\"role\":\"user\", \"content\":\"How do facsimile signatures and electronic certification affect the validity of disbursement vouchers?\"},{\"role\":\"assistant\", \"content\": \"No, none of these accounts close at year-end because they represent ongoing assets related to cash holdings or fund balances.\" }]}\n",
      "{\"messages\":[{\"role\":\"user\", \"content\":\"Under what conditions does GAO raise audit exceptions for disbursement errors?\"},{\"role\":\"assistant\", \"content\": \"No, none of these accounts close at year-end because they represent ongoing assets related to cash holdings or fund balances.\" }]}\n",
      "{\"messages\":[{\"role\":\"user\", \"content\":\"Under what conditions does GAO raise audit exceptions for disbursement errors?\"},{\"role\":\"assistant\", \"content\": \"No, none of these accounts close at year-end because they represent ongoing assets related to cash holdings or fund balances.\" }]}\n",
      "{\"messages\":[{\"role\":\"user\", \"content\":\"Who qualifies as a certifying officer, and what are their responsibilities?\"},{\"role\":\"assistant\", \"content\": \"No, none of these accounts close at year-end because they represent ongoing assets related to cash holdings or fund balances.\" }]}\n",
      "{\"messages\":[{\"role\":\"user\", \"content\":\"Who qualifies as a certifying officer, and what are their responsibilities?\"},{\"role\":\"assistant\", \"content\": \"No, none of these accounts close at year-end because they represent ongoing assets related to cash holdings or fund balances.\" }]}\n",
      "{\"messages\":[{\"role\":\"user\", \"content\":\"What liability attaches to certifying officers under 31 U.S.C. § 3528 for improper payments?\"},{\"role\":\"assistant\", \"content\": \"No, none of these accounts close at year-end because they represent ongoing assets related to cash holdings or fund balances.\" }]}\n",
      "{\"messages\":[{\"role\":\"user\", \"content\":\"What liability attaches to certifying officers under 31 U.S.C. § 3528 for improper payments?\"},{\"role\":\"assistant\", \"content\": \"No, none of these accounts close at year-end because they represent ongoing assets related to cash holdings or fund balances.\" }]}\n",
      "{\"messages\":[{\"role\":\"user\", \"content\":\"How can a certifying officer seek relief from liability for payment errors?\"},{\"role\":\"assistant\", \"content\": \"No, none of these accounts close at year-end because they represent ongoing assets related to cash holdings or fund balances.\" }]}\n",
      "{\"messages\":[{\"role\":\"user\", \"content\":\"How can a certifying officer seek relief from liability for payment errors?\"},{\"role\":\"assistant\", \"content\": \"No, none of these accounts close at year-end because they represent ongoing assets related to cash holdings or fund balances.\" }]}\n",
      "{\"messages\":[{\"role\":\"user\", \"content\":\"What defines a special fund account versus a general fund account?\"},{\"role\":\"assistant\", \"content\": \"No, none of these accounts close at year-end because they represent ongoing assets related to cash holdings or fund balances.\" }]}\n",
      "{\"messages\":[{\"role\":\"user\", \"content\":\"What defines a special fund account versus a general fund account?\"},{\"role\":\"assistant\", \"content\": \"No, none of these accounts close at year-end because they represent ongoing assets related to cash holdings or fund balances.\" }]}\n",
      "{\"messages\":[{\"role\":\"user\", \"content\":\"How do permanent appropriations in trust funds operate?\"},{\"role\":\"assistant\", \"content\": \"No, none of these accounts close at year-end because they represent ongoing assets related to cash holdings or fund balances.\" }]}\n",
      "{\"messages\":[{\"role\":\"user\", \"content\":\"How do permanent appropriations in trust funds operate?\"},{\"role\":\"assistant\", \"content\": \"No, none of these accounts close at year-end because they represent ongoing assets related to cash holdings or fund balances.\" }]}\n",
      "{\"messages\":[{\"role\":\"user\", \"content\":\"What criteria determine when a special fund account must close?\"},{\"role\":\"assistant\", \"content\": \"No, none of these accounts close at year-end because they represent ongoing assets related to cash holdings or fund balances.\" }]}\n",
      "{\"messages\":[{\"role\":\"user\", \"content\":\"What criteria determine when a special fund account must close?\"},{\"role\":\"assistant\", \"content\": \"No, none of these accounts close at year-end because they represent ongoing assets related to cash holdings or fund balances.\" }]}\n",
      "{\"messages\":[{\"role\":\"user\", \"content\":\"What is the difference between discretionary and mandatory spending in federal appropriations?\"},{\"role\":\"assistant\", \"content\": \"No, none of these accounts close at year-end because they represent ongoing assets related to cash holdings or fund balances.\" }]}\n",
      "{\"messages\":[{\"role\":\"user\", \"content\":\"What is the difference between discretionary and mandatory spending in federal appropriations?\"},{\"role\":\"assistant\", \"content\": \"No, none of these accounts close at year-end because they represent ongoing assets related to cash holdings or fund balances.\" }]}\n",
      "{\"messages\":[{\"role\":\"user\", \"content\":\"How do entitlement obligations affect an agency’s budget execution?\"},{\"role\":\"assistant\", \"content\": \"No, none of these accounts close at year-end because they represent ongoing assets related to cash holdings or fund balances.\" }]}\n",
      "{\"messages\":[{\"role\":\"user\", \"content\":\"How do entitlement obligations affect an agency’s budget execution?\"},{\"role\":\"assistant\", \"content\": \"No, none of these accounts close at year-end because they represent ongoing assets related to cash holdings or fund balances.\" }]}\n",
      "{\"messages\":[{\"role\":\"user\", \"content\":\"Under what conditions may an agency use trust fund receipts to liquidate prior year obligations?\"},{\"role\":\"assistant\", \"content\": \"No, none of these accounts close at year-end because they represent ongoing assets related to cash holdings or fund balances.\" }]}\n",
      "{\"messages\":[{\"role\":\"user\", \"content\":\"Under what conditions may an agency use trust fund receipts to liquidate prior year obligations?\"},{\"role\":\"assistant\", \"content\": \"No, none of these accounts close at year-end because they represent ongoing assets related to cash holdings or fund balances.\" }]}\n",
      "{\"messages\":[{\"role\":\"user\", \"content\":\"What is an “offsetting collection,” and how does it impact agency appropriations?\"},{\"role\":\"assistant\", \"content\": \"No, none of these accounts close at year-end because they represent ongoing assets related to cash holdings or fund balances.\" }]}\n",
      "{\"messages\":[{\"role\":\"user\", \"content\":\"What is an “offsetting collection,” and how does it impact agency appropriations?\"},{\"role\":\"assistant\", \"content\": \"No, none of these accounts close at year-end because they represent ongoing assets related to cash holdings or fund balances.\" }]}\n",
      "{\"messages\":[{\"role\":\"user\", \"content\":\"How do entitlement programs maintain funding continuity in the absence of annual appropriations?\"},{\"role\":\"assistant\", \"content\": \"No, none of these accounts close at year-end because they represent ongoing assets related to cash holdings or fund balances.\" }]}\n",
      "{\"messages\":[{\"role\":\"user\", \"content\":\"How do entitlement programs maintain funding continuity in the absence of annual appropriations?\"},{\"role\":\"assistant\", \"content\": \"No, none of these accounts close at year-end because they represent ongoing assets related to cash holdings or fund balances.\" }]}\n",
      "{\"messages\":[{\"role\":\"user\", \"content\":\"What obligations arise under mandatory spending statutes for agencies managing federal retirement systems?\"},{\"role\":\"assistant\", \"content\": \"No, none of these accounts close at year-end because they represent ongoing assets related to cash holdings or fund balances.\" }]}\n",
      "{\"messages\":[{\"role\":\"user\", \"content\":\"What obligations arise under mandatory spending statutes for agencies managing federal retirement systems?\"},{\"role\":\"assistant\", \"content\": \"No, none of these accounts close at year-end because they represent ongoing assets related to cash holdings or fund balances.\" }]}\n",
      "{\"messages\":[{\"role\":\"user\", \"content\":\"How are continuing obligations under multiyear mandatory programs recorded?\"},{\"role\":\"assistant\", \"content\": \"No, none of these accounts close at year-end because they represent ongoing assets related to cash holdings or fund balances.\" }]}\n",
      "{\"messages\":[{\"role\":\"user\", \"content\":\"How are continuing obligations under multiyear mandatory programs recorded?\"},{\"role\":\"assistant\", \"content\": \"No, none of these accounts close at year-end because they represent ongoing assets related to cash holdings or fund balances.\" }]}\n",
      "{\"messages\":[{\"role\":\"user\", \"content\":\"What are the reporting requirements for trust fund balances and transactions?\"},{\"role\":\"assistant\", \"content\": \"No, none of these accounts close at year-end because they represent ongoing assets related to cash holdings or fund balances.\" }]}\n",
      "{\"messages\":[{\"role\":\"user\", \"content\":\"What are the reporting requirements for trust fund balances and transactions?\"},{\"role\":\"assistant\", \"content\": \"No, none of these accounts close at year-end because they represent ongoing assets related to cash holdings or fund balances.\" }]}\n",
      "{\"messages\":[{\"role\":\"user\", \"content\":\"How does Congress control mandatory spending through authorizing legislation?\"},{\"role\":\"assistant\", \"content\": \"No, none of these accounts close at year-end because they represent ongoing assets related to cash holdings or fund balances.\" }]}\n",
      "{\"messages\":[{\"role\":\"user\", \"content\":\"How does Congress control mandatory spending through authorizing legislation?\"},{\"role\":\"assistant\", \"content\": \"No, none of these accounts close at year-end because they represent ongoing assets related to cash holdings or fund balances.\" }]}\n",
      "{\"messages\":[{\"role\":\"user\", \"content\":\"Under what circumstances may an agency reallocate unused trust fund balances to other purposes?\"},{\"role\":\"assistant\", \"content\": \"No, none of these accounts close at year-end because they represent ongoing assets related to cash holdings or fund balances.\" }]}\n",
      "{\"messages\":[{\"role\":\"user\", \"content\":\"Under what circumstances may an agency reallocate unused trust fund balances to other purposes?\"},{\"role\":\"assistant\", \"content\": \"No, none of these accounts close at year-end because they represent ongoing assets related to cash holdings or fund balances.\" }]}\n",
      "{\"messages\":[{\"role\":\"user\", \"content\":\"What is the process for closing a trust fund account after its statutory purpose is fulfilled?\"},{\"role\":\"assistant\", \"content\": \"No, none of these accounts close at year-end because they represent ongoing assets related to cash holdings or fund balances.\" }]}\n",
      "{\"messages\":[{\"role\":\"user\", \"content\":\"What is the process for closing a trust fund account after its statutory purpose is fulfilled?\"},{\"role\":\"assistant\", \"content\": \"No, none of these accounts close at year-end because they represent ongoing assets related to cash holdings or fund balances.\" }]}\n",
      "{\"messages\":[{\"role\":\"user\", \"content\":\"How does GAO evaluate agency compliance with special fund and trust fund statutes?\"},{\"role\":\"assistant\", \"content\": \"No, none of these accounts close at year-end because they represent ongoing assets related to cash holdings or fund balances.\" }]}\n",
      "{\"messages\":[{\"role\":\"user\", \"content\":\"How does GAO evaluate agency compliance with special fund and trust fund statutes?\"},{\"role\":\"assistant\", \"content\": \"No, none of these accounts close at year-end because they represent ongoing assets related to cash holdings or fund balances.\" }]}\n",
      "{\"messages\":[{\"role\":\"user\", \"content\":\"What defines a rebate or refund as a miscellaneous receipt rather than a credit to an appropriation?\"},{\"role\":\"assistant\", \"content\": \"No, none of these accounts close at year-end because they represent ongoing assets related to cash holdings or fund balances.\" }]}\n",
      "{\"messages\":[{\"role\":\"user\", \"content\":\"What defines a rebate or refund as a miscellaneous receipt rather than a credit to an appropriation?\"},{\"role\":\"assistant\", \"content\": \"No, none of these accounts close at year-end because they represent ongoing assets related to cash holdings or fund balances.\" }]}\n",
      "{\"messages\":[{\"role\":\"user\", \"content\":\"How do intergovernmental transfers interact with special fund account restrictions?\"},{\"role\":\"assistant\", \"content\": \"No, none of these accounts close at year-end because they represent ongoing assets related to cash holdings or fund balances.\" }]}\n",
      "{\"messages\":[{\"role\":\"user\", \"content\":\"How do intergovernmental transfers interact with special fund account restrictions?\"},{\"role\":\"assistant\", \"content\": \"No, none of these accounts close at year-end because they represent ongoing assets related to cash holdings or fund balances.\" }]}\n",
      "{\"messages\":[{\"role\":\"user\", \"content\":\"What defines an entitlement award under a mandatory spending program?\"},{\"role\":\"assistant\", \"content\": \"No, none of these accounts close at year-end because they represent ongoing assets related to cash holdings or fund balances.\" }]}\n",
      "{\"messages\":[{\"role\":\"user\", \"content\":\"What defines an entitlement award under a mandatory spending program?\"},{\"role\":\"assistant\", \"content\": \"No, none of these accounts close at year-end because they represent ongoing assets related to cash holdings or fund balances.\" }]}\n",
      "{\"messages\":[{\"role\":\"user\", \"content\":\"What is sequestration, and how can it affect mandatory programs?\"},{\"role\":\"assistant\", \"content\": \"No, none of these accounts close at year-end because they represent ongoing assets related to cash holdings or fund balances.\" }]}\n",
      "{\"messages\":[{\"role\":\"user\", \"content\":\"What is sequestration, and how can it affect mandatory programs?\"},{\"role\":\"assistant\", \"content\": \"No, none of these accounts close at year-end because they represent ongoing assets related to cash holdings or fund balances.\" }]}\n",
      "{\"messages\":[{\"role\":\"user\", \"content\":\"How do agencies account for program subsidies and offsetting collections in entitlement programs?\"},{\"role\":\"assistant\", \"content\": \"No, none of these accounts close at year-end because they represent ongoing assets related to cash holdings or fund balances.\" }]}\n",
      "{\"messages\":[{\"role\":\"user\", \"content\":\"How do agencies account for program subsidies and offsetting collections in entitlement programs?\"},{\"role\":\"assistant\", \"content\": \"No, none of these accounts close at year-end because they represent ongoing assets related to cash holdings or fund balances.\" }]}\n",
      "{\"messages\":[{\"role\":\"user\", \"content\":\"Under what conditions may mandatory spending be redirected through congressional action?\"},{\"role\":\"assistant\", \"content\": \"No, none of these accounts close at year-end because they represent ongoing assets related to cash holdings or fund balances.\" }]}\n",
      "{\"messages\":[{\"role\":\"user\", \"content\":\"Under what conditions may mandatory spending be redirected through congressional action?\"},{\"role\":\"assistant\", \"content\": \"No, none of these accounts close at year-end because they represent ongoing assets related to cash holdings or fund balances.\" }]}\n",
      "{\"messages\":[{\"role\":\"user\", \"content\":\"How does GAO treat retroactive eligibility determinations for entitlement programs?\"},{\"role\":\"assistant\", \"content\": \"No, none of these accounts close at year-end because they represent ongoing assets related to cash holdings or fund balances.\" }]}\n",
      "{\"messages\":[{\"role\":\"user\", \"content\":\"How does GAO treat retroactive eligibility determinations for entitlement programs?\"},{\"role\":\"assistant\", \"content\": \"No, none of these accounts close at year-end because they represent ongoing assets related to cash holdings or fund balances.\" }]}\n",
      "{\"messages\":[{\"role\":\"user\", \"content\":\"What obligations arise under multiemployer pension guarantee programs?\"},{\"role\":\"assistant\", \"content\": \"No, none of these accounts close at year-end because they represent ongoing assets related to cash holdings or fund balances.\" }]}\n",
      "{\"messages\":[{\"role\":\"user\", \"content\":\"What obligations arise under multiemployer pension guarantee programs?\"},{\"role\":\"assistant\", \"content\": \"No, none of these accounts close at year-end because they represent ongoing assets related to cash holdings or fund balances.\" }]}\n",
      "{\"messages\":[{\"role\":\"user\", \"content\":\"How do supplemental appropriations differ from continuing resolutions in funding mandatory programs?\"},{\"role\":\"assistant\", \"content\": \"No, none of these accounts close at year-end because they represent ongoing assets related to cash holdings or fund balances.\" }]}\n",
      "{\"messages\":[{\"role\":\"user\", \"content\":\"How do supplemental appropriations differ from continuing resolutions in funding mandatory programs?\"},{\"role\":\"assistant\", \"content\": \"No, none of these accounts close at year-end because they represent ongoing assets related to cash holdings or fund balances.\" }]}\n",
      "{\"messages\":[{\"role\":\"user\", \"content\":\"What reporting obligations do agencies have for mandatory program outlays in the “Financial Report of the United States Government”?\"},{\"role\":\"assistant\", \"content\": \"No, none of these accounts close at year-end because they represent ongoing assets related to cash holdings or fund balances.\" }]}\n",
      "{\"messages\":[{\"role\":\"user\", \"content\":\"What reporting obligations do agencies have for mandatory program outlays in the “Financial Report of the United States Government”?\"},{\"role\":\"assistant\", \"content\": \"No, none of these accounts close at year-end because they represent ongoing assets related to cash holdings or fund balances.\" }]}\n",
      "{\"messages\":[{\"role\":\"user\", \"content\":\"How are insolvent trust fund covers and payments managed under mandatory spending statutes?\"},{\"role\":\"assistant\", \"content\": \"No, none of these accounts close at year-end because they represent ongoing assets related to cash holdings or fund balances.\" }]}\n",
      "{\"messages\":[{\"role\":\"user\", \"content\":\"How are insolvent trust fund covers and payments managed under mandatory spending statutes?\"},{\"role\":\"assistant\", \"content\": \"No, none of these accounts close at year-end because they represent ongoing assets related to cash holdings or fund balances.\" }]}\n",
      "{\"messages\":[{\"role\":\"user\", \"content\":\"What are the consequences if Congress fails to reauthorize a mandatory program before its expiration date?\"},{\"role\":\"assistant\", \"content\": \"No, none of these accounts close at year-end because they represent ongoing assets related to cash holdings or fund balances.\" }]}\n",
      "{\"messages\":[{\"role\":\"user\", \"content\":\"What are the consequences if Congress fails to reauthorize a mandatory program before its expiration date?\"},{\"role\":\"assistant\", \"content\": \"No, none of these accounts close at year-end because they represent ongoing assets related to cash holdings or fund balances.\" }]}\n"
     ]
    }
   ],
   "execution_count": 69
  },
  {
   "metadata": {},
   "cell_type": "markdown",
   "source": "#### Ledger Data",
   "id": "ba25e74e31b22923"
  },
  {
   "metadata": {
    "ExecuteTime": {
     "end_time": "2025-06-12T12:49:53.472459Z",
     "start_time": "2025-06-12T12:49:53.357203Z"
    }
   },
   "cell_type": "code",
   "source": [
    "# Define Ledger Data\n",
    "xl_ledger = pd.read_excel( ledger, sheet_name='Training' )\n",
    "names = [ 'ID', 'Item', 'Role', 'Content' ]\n",
    "ldgr_inx = xl_ledger.index\n",
    "df_ledger = pd.DataFrame( data=xl_ledger, columns=names, index=ldgr_inx  )\n",
    "df_ledger = df_ledger.reset_index(  ).set_index( 'ID' )\n",
    "df_ledger = df_ledger.drop( columns=[ 'index' ] )\n",
    "ledger_rows = len( df_ledger )\n",
    "ledger_rows"
   ],
   "id": "46e83d4d44129c27",
   "outputs": [
    {
     "data": {
      "text/plain": [
       "240"
      ]
     },
     "execution_count": 51,
     "metadata": {},
     "output_type": "execute_result"
    }
   ],
   "execution_count": 51
  },
  {
   "metadata": {
    "ExecuteTime": {
     "end_time": "2025-06-12T12:49:55.814458Z",
     "start_time": "2025-06-12T12:49:55.798319Z"
    }
   },
   "cell_type": "code",
   "source": [
    "# View Dataframe\n",
    "df_ledger"
   ],
   "id": "249580b9e0ab02c8",
   "outputs": [
    {
     "data": {
      "text/plain": [
       "     Item       Role                                            Content\n",
       "ID                                                                     \n",
       "1      Q1       user  What is the purpose of USSGL account 101000, F...\n",
       "2      A1  assistant  The purpose of account 101000 is to record the...\n",
       "3      Q2       user  Under what conditions can account 109000, Fund...\n",
       "4      A2  assistant  Account 109000 may be used only when an agency...\n",
       "5      Q3       user  What is the normal accounting balance for acco...\n",
       "..    ...        ...                                                ...\n",
       "236  A118  assistant  This account captures liabilities that have a ...\n",
       "237  Q119       user  What does account 240000, Liability for Nonfid...\n",
       "238  A119  assistant  This account records liabilities associated wi...\n",
       "239  Q120       user  What is the purpose of account 241000, Liabili...\n",
       "240  A120  assistant  This account is used to record temporary liabi...\n",
       "\n",
       "[240 rows x 3 columns]"
      ],
      "text/html": [
       "<div>\n",
       "<style scoped>\n",
       "    .dataframe tbody tr th:only-of-type {\n",
       "        vertical-align: middle;\n",
       "    }\n",
       "\n",
       "    .dataframe tbody tr th {\n",
       "        vertical-align: top;\n",
       "    }\n",
       "\n",
       "    .dataframe thead th {\n",
       "        text-align: right;\n",
       "    }\n",
       "</style>\n",
       "<table border=\"1\" class=\"dataframe\">\n",
       "  <thead>\n",
       "    <tr style=\"text-align: right;\">\n",
       "      <th></th>\n",
       "      <th>Item</th>\n",
       "      <th>Role</th>\n",
       "      <th>Content</th>\n",
       "    </tr>\n",
       "    <tr>\n",
       "      <th>ID</th>\n",
       "      <th></th>\n",
       "      <th></th>\n",
       "      <th></th>\n",
       "    </tr>\n",
       "  </thead>\n",
       "  <tbody>\n",
       "    <tr>\n",
       "      <th>1</th>\n",
       "      <td>Q1</td>\n",
       "      <td>user</td>\n",
       "      <td>What is the purpose of USSGL account 101000, F...</td>\n",
       "    </tr>\n",
       "    <tr>\n",
       "      <th>2</th>\n",
       "      <td>A1</td>\n",
       "      <td>assistant</td>\n",
       "      <td>The purpose of account 101000 is to record the...</td>\n",
       "    </tr>\n",
       "    <tr>\n",
       "      <th>3</th>\n",
       "      <td>Q2</td>\n",
       "      <td>user</td>\n",
       "      <td>Under what conditions can account 109000, Fund...</td>\n",
       "    </tr>\n",
       "    <tr>\n",
       "      <th>4</th>\n",
       "      <td>A2</td>\n",
       "      <td>assistant</td>\n",
       "      <td>Account 109000 may be used only when an agency...</td>\n",
       "    </tr>\n",
       "    <tr>\n",
       "      <th>5</th>\n",
       "      <td>Q3</td>\n",
       "      <td>user</td>\n",
       "      <td>What is the normal accounting balance for acco...</td>\n",
       "    </tr>\n",
       "    <tr>\n",
       "      <th>...</th>\n",
       "      <td>...</td>\n",
       "      <td>...</td>\n",
       "      <td>...</td>\n",
       "    </tr>\n",
       "    <tr>\n",
       "      <th>236</th>\n",
       "      <td>A118</td>\n",
       "      <td>assistant</td>\n",
       "      <td>This account captures liabilities that have a ...</td>\n",
       "    </tr>\n",
       "    <tr>\n",
       "      <th>237</th>\n",
       "      <td>Q119</td>\n",
       "      <td>user</td>\n",
       "      <td>What does account 240000, Liability for Nonfid...</td>\n",
       "    </tr>\n",
       "    <tr>\n",
       "      <th>238</th>\n",
       "      <td>A119</td>\n",
       "      <td>assistant</td>\n",
       "      <td>This account records liabilities associated wi...</td>\n",
       "    </tr>\n",
       "    <tr>\n",
       "      <th>239</th>\n",
       "      <td>Q120</td>\n",
       "      <td>user</td>\n",
       "      <td>What is the purpose of account 241000, Liabili...</td>\n",
       "    </tr>\n",
       "    <tr>\n",
       "      <th>240</th>\n",
       "      <td>A120</td>\n",
       "      <td>assistant</td>\n",
       "      <td>This account is used to record temporary liabi...</td>\n",
       "    </tr>\n",
       "  </tbody>\n",
       "</table>\n",
       "<p>240 rows × 3 columns</p>\n",
       "</div>"
      ]
     },
     "execution_count": 52,
     "metadata": {},
     "output_type": "execute_result"
    }
   ],
   "execution_count": 52
  },
  {
   "metadata": {
    "ExecuteTime": {
     "end_time": "2025-06-12T12:50:07.293597Z",
     "start_time": "2025-06-12T12:50:07.273653Z"
    }
   },
   "cell_type": "code",
   "source": [
    "for i in df_ledger.columns:\n",
    "\tprint( i )"
   ],
   "id": "9da484b01968d9c9",
   "outputs": [
    {
     "name": "stdout",
     "output_type": "stream",
     "text": [
      "Item\n",
      "Role\n",
      "Content\n"
     ]
    }
   ],
   "execution_count": 53
  },
  {
   "metadata": {
    "ExecuteTime": {
     "end_time": "2025-06-12T13:00:15.141708Z",
     "start_time": "2025-06-12T13:00:14.351961Z"
    }
   },
   "cell_type": "code",
   "source": [
    "# Print JSON\n",
    "for r in range( len( df_ledger ) ):\n",
    "\tif df_ledger.iloc[ r, 1 ] == 'user':\n",
    "\t\tquestion = '{\"messages\":[{' + f'\"role\":\"{df_ledger.iloc[ r, 1 ]}\", \"content\":\"{df_ledger.iloc[ r, 2 ]}\"' + '},{'\n",
    "\telif df_ledger.iloc[ r, 1 ] == 'assistnant':\n",
    "\t\tanswer = f'\"role\":\"{df_ledger.iloc[ r, 1 ]}\", \"content\": \"{df_ledger.iloc[ r, 2 ]}\" ' + '}]}'\n",
    "\trecord = question + answer\n",
    "\tprint( record  )"
   ],
   "id": "f6483f7f77ed048e",
   "outputs": [
    {
     "name": "stdout",
     "output_type": "stream",
     "text": [
      "{\"messages\":[{\"role\":\"user\", \"content\":\"What is the purpose of USSGL account 101000, Fund Balance With Treasury?\"},{\"role\":\"assistant\", \"content\": \"No, none of these accounts close at year-end because they represent ongoing assets related to cash holdings or fund balances.\" }]}\n",
      "{\"messages\":[{\"role\":\"user\", \"content\":\"What is the purpose of USSGL account 101000, Fund Balance With Treasury?\"},{\"role\":\"assistant\", \"content\": \"No, none of these accounts close at year-end because they represent ongoing assets related to cash holdings or fund balances.\" }]}\n",
      "{\"messages\":[{\"role\":\"user\", \"content\":\"Under what conditions can account 109000, Fund Balance With Treasury Under a Continuing Resolution, be used?\"},{\"role\":\"assistant\", \"content\": \"No, none of these accounts close at year-end because they represent ongoing assets related to cash holdings or fund balances.\" }]}\n",
      "{\"messages\":[{\"role\":\"user\", \"content\":\"Under what conditions can account 109000, Fund Balance With Treasury Under a Continuing Resolution, be used?\"},{\"role\":\"assistant\", \"content\": \"No, none of these accounts close at year-end because they represent ongoing assets related to cash holdings or fund balances.\" }]}\n",
      "{\"messages\":[{\"role\":\"user\", \"content\":\"What is the normal accounting balance for accounts 101000 and 109000?\"},{\"role\":\"assistant\", \"content\": \"No, none of these accounts close at year-end because they represent ongoing assets related to cash holdings or fund balances.\" }]}\n",
      "{\"messages\":[{\"role\":\"user\", \"content\":\"What is the normal accounting balance for accounts 101000 and 109000?\"},{\"role\":\"assistant\", \"content\": \"No, none of these accounts close at year-end because they represent ongoing assets related to cash holdings or fund balances.\" }]}\n",
      "{\"messages\":[{\"role\":\"user\", \"content\":\"Does account 101000, Fund Balance With Treasury, close at the end of the fiscal year?\"},{\"role\":\"assistant\", \"content\": \"No, none of these accounts close at year-end because they represent ongoing assets related to cash holdings or fund balances.\" }]}\n",
      "{\"messages\":[{\"role\":\"user\", \"content\":\"Does account 101000, Fund Balance With Treasury, close at the end of the fiscal year?\"},{\"role\":\"assistant\", \"content\": \"No, none of these accounts close at year-end because they represent ongoing assets related to cash holdings or fund balances.\" }]}\n",
      "{\"messages\":[{\"role\":\"user\", \"content\":\"What does USSGL account 110100, Undisbursed Operating Cash, represent?\"},{\"role\":\"assistant\", \"content\": \"No, none of these accounts close at year-end because they represent ongoing assets related to cash holdings or fund balances.\" }]}\n",
      "{\"messages\":[{\"role\":\"user\", \"content\":\"What does USSGL account 110100, Undisbursed Operating Cash, represent?\"},{\"role\":\"assistant\", \"content\": \"No, none of these accounts close at year-end because they represent ongoing assets related to cash holdings or fund balances.\" }]}\n",
      "{\"messages\":[{\"role\":\"user\", \"content\":\"What distinguishes account 110300, Restricted Operating Cash, from other cash accounts?\"},{\"role\":\"assistant\", \"content\": \"No, none of these accounts close at year-end because they represent ongoing assets related to cash holdings or fund balances.\" }]}\n",
      "{\"messages\":[{\"role\":\"user\", \"content\":\"What distinguishes account 110300, Restricted Operating Cash, from other cash accounts?\"},{\"role\":\"assistant\", \"content\": \"No, none of these accounts close at year-end because they represent ongoing assets related to cash holdings or fund balances.\" }]}\n",
      "{\"messages\":[{\"role\":\"user\", \"content\":\"What type of financial activity is recorded in account 110900, Checks Outstanding?\"},{\"role\":\"assistant\", \"content\": \"No, none of these accounts close at year-end because they represent ongoing assets related to cash holdings or fund balances.\" }]}\n",
      "{\"messages\":[{\"role\":\"user\", \"content\":\"What type of financial activity is recorded in account 110900, Checks Outstanding?\"},{\"role\":\"assistant\", \"content\": \"No, none of these accounts close at year-end because they represent ongoing assets related to cash holdings or fund balances.\" }]}\n",
      "{\"messages\":[{\"role\":\"user\", \"content\":\"What is the normal balance of account 110900, Checks Outstanding?\"},{\"role\":\"assistant\", \"content\": \"No, none of these accounts close at year-end because they represent ongoing assets related to cash holdings or fund balances.\" }]}\n",
      "{\"messages\":[{\"role\":\"user\", \"content\":\"What is the normal balance of account 110900, Checks Outstanding?\"},{\"role\":\"assistant\", \"content\": \"No, none of these accounts close at year-end because they represent ongoing assets related to cash holdings or fund balances.\" }]}\n",
      "{\"messages\":[{\"role\":\"user\", \"content\":\"What type of cash is tracked using account 112000, Imprest Funds?\"},{\"role\":\"assistant\", \"content\": \"No, none of these accounts close at year-end because they represent ongoing assets related to cash holdings or fund balances.\" }]}\n",
      "{\"messages\":[{\"role\":\"user\", \"content\":\"What type of cash is tracked using account 112000, Imprest Funds?\"},{\"role\":\"assistant\", \"content\": \"No, none of these accounts close at year-end because they represent ongoing assets related to cash holdings or fund balances.\" }]}\n",
      "{\"messages\":[{\"role\":\"user\", \"content\":\"How do accounts 113000 and 113500 differ in the types of cash they track?\"},{\"role\":\"assistant\", \"content\": \"No, none of these accounts close at year-end because they represent ongoing assets related to cash holdings or fund balances.\" }]}\n",
      "{\"messages\":[{\"role\":\"user\", \"content\":\"How do accounts 113000 and 113500 differ in the types of cash they track?\"},{\"role\":\"assistant\", \"content\": \"No, none of these accounts close at year-end because they represent ongoing assets related to cash holdings or fund balances.\" }]}\n",
      "{\"messages\":[{\"role\":\"user\", \"content\":\"What is the function of account 113510, Restricted Non-Budgetary Fund Balance with Treasury?\"},{\"role\":\"assistant\", \"content\": \"No, none of these accounts close at year-end because they represent ongoing assets related to cash holdings or fund balances.\" }]}\n",
      "{\"messages\":[{\"role\":\"user\", \"content\":\"What is the function of account 113510, Restricted Non-Budgetary Fund Balance with Treasury?\"},{\"role\":\"assistant\", \"content\": \"No, none of these accounts close at year-end because they represent ongoing assets related to cash holdings or fund balances.\" }]}\n",
      "{\"messages\":[{\"role\":\"user\", \"content\":\"Do the accounts 112000, 113000, or 113510 close at the end of the fiscal year?\"},{\"role\":\"assistant\", \"content\": \"No, none of these accounts close at year-end because they represent ongoing assets related to cash holdings or fund balances.\" }]}\n",
      "{\"messages\":[{\"role\":\"user\", \"content\":\"Do the accounts 112000, 113000, or 113510 close at the end of the fiscal year?\"},{\"role\":\"assistant\", \"content\": \"No, none of these accounts close at year-end because they represent ongoing assets related to cash holdings or fund balances.\" }]}\n",
      "{\"messages\":[{\"role\":\"user\", \"content\":\"What is the function of account 114500, U.S. Dollar Equivalent of Foreign Currency Held Outside Treasury?\"},{\"role\":\"assistant\", \"content\": \"No, none of these accounts close at year-end because they represent ongoing assets related to cash holdings or fund balances.\" }]}\n",
      "{\"messages\":[{\"role\":\"user\", \"content\":\"What is the function of account 114500, U.S. Dollar Equivalent of Foreign Currency Held Outside Treasury?\"},{\"role\":\"assistant\", \"content\": \"No, none of these accounts close at year-end because they represent ongoing assets related to cash holdings or fund balances.\" }]}\n",
      "{\"messages\":[{\"role\":\"user\", \"content\":\"How is account 119000, Other Cash, defined in the USSGL?\"},{\"role\":\"assistant\", \"content\": \"No, none of these accounts close at year-end because they represent ongoing assets related to cash holdings or fund balances.\" }]}\n",
      "{\"messages\":[{\"role\":\"user\", \"content\":\"How is account 119000, Other Cash, defined in the USSGL?\"},{\"role\":\"assistant\", \"content\": \"No, none of these accounts close at year-end because they represent ongoing assets related to cash holdings or fund balances.\" }]}\n",
      "{\"messages\":[{\"role\":\"user\", \"content\":\"What is recorded in account 119090, Cash Held in Federal Reserve Bank of New York Accounts for IMF?\"},{\"role\":\"assistant\", \"content\": \"No, none of these accounts close at year-end because they represent ongoing assets related to cash holdings or fund balances.\" }]}\n",
      "{\"messages\":[{\"role\":\"user\", \"content\":\"What is recorded in account 119090, Cash Held in Federal Reserve Bank of New York Accounts for IMF?\"},{\"role\":\"assistant\", \"content\": \"No, none of these accounts close at year-end because they represent ongoing assets related to cash holdings or fund balances.\" }]}\n",
      "{\"messages\":[{\"role\":\"user\", \"content\":\"What is the normal balance for accounts 119000 and 119090?\"},{\"role\":\"assistant\", \"content\": \"No, none of these accounts close at year-end because they represent ongoing assets related to cash holdings or fund balances.\" }]}\n",
      "{\"messages\":[{\"role\":\"user\", \"content\":\"What is the normal balance for accounts 119000 and 119090?\"},{\"role\":\"assistant\", \"content\": \"No, none of these accounts close at year-end because they represent ongoing assets related to cash holdings or fund balances.\" }]}\n",
      "{\"messages\":[{\"role\":\"user\", \"content\":\"What type of activity is recorded in account 119306, IMF-Related Transactions – Valuation Adjustments?\"},{\"role\":\"assistant\", \"content\": \"No, none of these accounts close at year-end because they represent ongoing assets related to cash holdings or fund balances.\" }]}\n",
      "{\"messages\":[{\"role\":\"user\", \"content\":\"What type of activity is recorded in account 119306, IMF-Related Transactions – Valuation Adjustments?\"},{\"role\":\"assistant\", \"content\": \"No, none of these accounts close at year-end because they represent ongoing assets related to cash holdings or fund balances.\" }]}\n",
      "{\"messages\":[{\"role\":\"user\", \"content\":\"What does account 119333, IMF Reserve Position, represent?\"},{\"role\":\"assistant\", \"content\": \"No, none of these accounts close at year-end because they represent ongoing assets related to cash holdings or fund balances.\" }]}\n",
      "{\"messages\":[{\"role\":\"user\", \"content\":\"What does account 119333, IMF Reserve Position, represent?\"},{\"role\":\"assistant\", \"content\": \"No, none of these accounts close at year-end because they represent ongoing assets related to cash holdings or fund balances.\" }]}\n",
      "{\"messages\":[{\"role\":\"user\", \"content\":\"What type of holdings are recorded in account 119400, SDR Holdings – Exchange Stabilization Fund?\"},{\"role\":\"assistant\", \"content\": \"No, none of these accounts close at year-end because they represent ongoing assets related to cash holdings or fund balances.\" }]}\n",
      "{\"messages\":[{\"role\":\"user\", \"content\":\"What type of holdings are recorded in account 119400, SDR Holdings – Exchange Stabilization Fund?\"},{\"role\":\"assistant\", \"content\": \"No, none of these accounts close at year-end because they represent ongoing assets related to cash holdings or fund balances.\" }]}\n",
      "{\"messages\":[{\"role\":\"user\", \"content\":\"Can account 119306 have a credit balance, and if so, under what circumstances?\"},{\"role\":\"assistant\", \"content\": \"No, none of these accounts close at year-end because they represent ongoing assets related to cash holdings or fund balances.\" }]}\n",
      "{\"messages\":[{\"role\":\"user\", \"content\":\"Can account 119306 have a credit balance, and if so, under what circumstances?\"},{\"role\":\"assistant\", \"content\": \"No, none of these accounts close at year-end because they represent ongoing assets related to cash holdings or fund balances.\" }]}\n",
      "{\"messages\":[{\"role\":\"user\", \"content\":\"What does account 119500, Participation in IMF New Arrangements to Borrow (NAB), track?\"},{\"role\":\"assistant\", \"content\": \"No, none of these accounts close at year-end because they represent ongoing assets related to cash holdings or fund balances.\" }]}\n",
      "{\"messages\":[{\"role\":\"user\", \"content\":\"What does account 119500, Participation in IMF New Arrangements to Borrow (NAB), track?\"},{\"role\":\"assistant\", \"content\": \"No, none of these accounts close at year-end because they represent ongoing assets related to cash holdings or fund balances.\" }]}\n",
      "{\"messages\":[{\"role\":\"user\", \"content\":\"What is recorded in account 119600, SDR Allocations?\"},{\"role\":\"assistant\", \"content\": \"No, none of these accounts close at year-end because they represent ongoing assets related to cash holdings or fund balances.\" }]}\n",
      "{\"messages\":[{\"role\":\"user\", \"content\":\"What is recorded in account 119600, SDR Allocations?\"},{\"role\":\"assistant\", \"content\": \"No, none of these accounts close at year-end because they represent ongoing assets related to cash holdings or fund balances.\" }]}\n",
      "{\"messages\":[{\"role\":\"user\", \"content\":\"What types of assets are recorded in account 119900, Other Monetary Assets?\"},{\"role\":\"assistant\", \"content\": \"No, none of these accounts close at year-end because they represent ongoing assets related to cash holdings or fund balances.\" }]}\n",
      "{\"messages\":[{\"role\":\"user\", \"content\":\"What types of assets are recorded in account 119900, Other Monetary Assets?\"},{\"role\":\"assistant\", \"content\": \"No, none of these accounts close at year-end because they represent ongoing assets related to cash holdings or fund balances.\" }]}\n",
      "{\"messages\":[{\"role\":\"user\", \"content\":\"What is the normal balance of account 119600, SDR Allocations?\"},{\"role\":\"assistant\", \"content\": \"No, none of these accounts close at year-end because they represent ongoing assets related to cash holdings or fund balances.\" }]}\n",
      "{\"messages\":[{\"role\":\"user\", \"content\":\"What is the normal balance of account 119600, SDR Allocations?\"},{\"role\":\"assistant\", \"content\": \"No, none of these accounts close at year-end because they represent ongoing assets related to cash holdings or fund balances.\" }]}\n",
      "{\"messages\":[{\"role\":\"user\", \"content\":\"What is the purpose of account 131000, Accounts Receivable?\"},{\"role\":\"assistant\", \"content\": \"No, none of these accounts close at year-end because they represent ongoing assets related to cash holdings or fund balances.\" }]}\n",
      "{\"messages\":[{\"role\":\"user\", \"content\":\"What is the purpose of account 131000, Accounts Receivable?\"},{\"role\":\"assistant\", \"content\": \"No, none of these accounts close at year-end because they represent ongoing assets related to cash holdings or fund balances.\" }]}\n",
      "{\"messages\":[{\"role\":\"user\", \"content\":\"What is account 131900, Allowance for Loss on Accounts Receivable, used for?\"},{\"role\":\"assistant\", \"content\": \"No, none of these accounts close at year-end because they represent ongoing assets related to cash holdings or fund balances.\" }]}\n",
      "{\"messages\":[{\"role\":\"user\", \"content\":\"What is account 131900, Allowance for Loss on Accounts Receivable, used for?\"},{\"role\":\"assistant\", \"content\": \"No, none of these accounts close at year-end because they represent ongoing assets related to cash holdings or fund balances.\" }]}\n",
      "{\"messages\":[{\"role\":\"user\", \"content\":\"How does account 134000, Interest Receivable – Loans, differ from account 131000?\"},{\"role\":\"assistant\", \"content\": \"No, none of these accounts close at year-end because they represent ongoing assets related to cash holdings or fund balances.\" }]}\n",
      "{\"messages\":[{\"role\":\"user\", \"content\":\"How does account 134000, Interest Receivable – Loans, differ from account 131000?\"},{\"role\":\"assistant\", \"content\": \"No, none of these accounts close at year-end because they represent ongoing assets related to cash holdings or fund balances.\" }]}\n",
      "{\"messages\":[{\"role\":\"user\", \"content\":\"What is the normal balance of account 131900, Allowance for Loss on Accounts Receivable?\"},{\"role\":\"assistant\", \"content\": \"No, none of these accounts close at year-end because they represent ongoing assets related to cash holdings or fund balances.\" }]}\n",
      "{\"messages\":[{\"role\":\"user\", \"content\":\"What is the normal balance of account 131900, Allowance for Loss on Accounts Receivable?\"},{\"role\":\"assistant\", \"content\": \"No, none of these accounts close at year-end because they represent ongoing assets related to cash holdings or fund balances.\" }]}\n",
      "{\"messages\":[{\"role\":\"user\", \"content\":\"What does account 134900, Allowance for Loss on Interest Receivable, represent?\"},{\"role\":\"assistant\", \"content\": \"No, none of these accounts close at year-end because they represent ongoing assets related to cash holdings or fund balances.\" }]}\n",
      "{\"messages\":[{\"role\":\"user\", \"content\":\"What does account 134900, Allowance for Loss on Interest Receivable, represent?\"},{\"role\":\"assistant\", \"content\": \"No, none of these accounts close at year-end because they represent ongoing assets related to cash holdings or fund balances.\" }]}\n",
      "{\"messages\":[{\"role\":\"user\", \"content\":\"What is the purpose of account 135000, Loans Receivable?\"},{\"role\":\"assistant\", \"content\": \"No, none of these accounts close at year-end because they represent ongoing assets related to cash holdings or fund balances.\" }]}\n",
      "{\"messages\":[{\"role\":\"user\", \"content\":\"What is the purpose of account 135000, Loans Receivable?\"},{\"role\":\"assistant\", \"content\": \"No, none of these accounts close at year-end because they represent ongoing assets related to cash holdings or fund balances.\" }]}\n",
      "{\"messages\":[{\"role\":\"user\", \"content\":\"How does account 135900, Allowance for Subsidy Cost (Present Value) or Allowance for Loss, function?\"},{\"role\":\"assistant\", \"content\": \"No, none of these accounts close at year-end because they represent ongoing assets related to cash holdings or fund balances.\" }]}\n",
      "{\"messages\":[{\"role\":\"user\", \"content\":\"How does account 135900, Allowance for Subsidy Cost (Present Value) or Allowance for Loss, function?\"},{\"role\":\"assistant\", \"content\": \"No, none of these accounts close at year-end because they represent ongoing assets related to cash holdings or fund balances.\" }]}\n",
      "{\"messages\":[{\"role\":\"user\", \"content\":\"Do the accounts related to receivables, such as 134900 and 135000, close at the end of the fiscal year?\"},{\"role\":\"assistant\", \"content\": \"No, none of these accounts close at year-end because they represent ongoing assets related to cash holdings or fund balances.\" }]}\n",
      "{\"messages\":[{\"role\":\"user\", \"content\":\"Do the accounts related to receivables, such as 134900 and 135000, close at the end of the fiscal year?\"},{\"role\":\"assistant\", \"content\": \"No, none of these accounts close at year-end because they represent ongoing assets related to cash holdings or fund balances.\" }]}\n",
      "{\"messages\":[{\"role\":\"user\", \"content\":\"What is recorded in account 136000, Penalties, Fines and Administrative Fees Receivable?\"},{\"role\":\"assistant\", \"content\": \"No, none of these accounts close at year-end because they represent ongoing assets related to cash holdings or fund balances.\" }]}\n",
      "{\"messages\":[{\"role\":\"user\", \"content\":\"What is recorded in account 136000, Penalties, Fines and Administrative Fees Receivable?\"},{\"role\":\"assistant\", \"content\": \"No, none of these accounts close at year-end because they represent ongoing assets related to cash holdings or fund balances.\" }]}\n",
      "{\"messages\":[{\"role\":\"user\", \"content\":\"What is the purpose of account 136900, Allowance for Loss on Penalties, Fines and Administrative Fees Receivable?\"},{\"role\":\"assistant\", \"content\": \"No, none of these accounts close at year-end because they represent ongoing assets related to cash holdings or fund balances.\" }]}\n",
      "{\"messages\":[{\"role\":\"user\", \"content\":\"What is the purpose of account 136900, Allowance for Loss on Penalties, Fines and Administrative Fees Receivable?\"},{\"role\":\"assistant\", \"content\": \"No, none of these accounts close at year-end because they represent ongoing assets related to cash holdings or fund balances.\" }]}\n",
      "{\"messages\":[{\"role\":\"user\", \"content\":\"What types of amounts are tracked in account 139900, Other Receivables?\"},{\"role\":\"assistant\", \"content\": \"No, none of these accounts close at year-end because they represent ongoing assets related to cash holdings or fund balances.\" }]}\n",
      "{\"messages\":[{\"role\":\"user\", \"content\":\"What types of amounts are tracked in account 139900, Other Receivables?\"},{\"role\":\"assistant\", \"content\": \"No, none of these accounts close at year-end because they represent ongoing assets related to cash holdings or fund balances.\" }]}\n",
      "{\"messages\":[{\"role\":\"user\", \"content\":\"What is the normal balance of account 136900?\"},{\"role\":\"assistant\", \"content\": \"No, none of these accounts close at year-end because they represent ongoing assets related to cash holdings or fund balances.\" }]}\n",
      "{\"messages\":[{\"role\":\"user\", \"content\":\"What is the normal balance of account 136900?\"},{\"role\":\"assistant\", \"content\": \"No, none of these accounts close at year-end because they represent ongoing assets related to cash holdings or fund balances.\" }]}\n",
      "{\"messages\":[{\"role\":\"user\", \"content\":\"What does USSGL account 199010, Other Assets - General Fund of the U.S. Government, represent?\"},{\"role\":\"assistant\", \"content\": \"No, none of these accounts close at year-end because they represent ongoing assets related to cash holdings or fund balances.\" }]}\n",
      "{\"messages\":[{\"role\":\"user\", \"content\":\"What does USSGL account 199010, Other Assets - General Fund of the U.S. Government, represent?\"},{\"role\":\"assistant\", \"content\": \"No, none of these accounts close at year-end because they represent ongoing assets related to cash holdings or fund balances.\" }]}\n",
      "{\"messages\":[{\"role\":\"user\", \"content\":\"How is account 199500, General Property, Plant, and Equipment Permanently Removed but Not Yet Disposed, used?\"},{\"role\":\"assistant\", \"content\": \"No, none of these accounts close at year-end because they represent ongoing assets related to cash holdings or fund balances.\" }]}\n",
      "{\"messages\":[{\"role\":\"user\", \"content\":\"How is account 199500, General Property, Plant, and Equipment Permanently Removed but Not Yet Disposed, used?\"},{\"role\":\"assistant\", \"content\": \"No, none of these accounts close at year-end because they represent ongoing assets related to cash holdings or fund balances.\" }]}\n",
      "{\"messages\":[{\"role\":\"user\", \"content\":\"What is the function of account 199900, Central Accounting Control Account?\"},{\"role\":\"assistant\", \"content\": \"No, none of these accounts close at year-end because they represent ongoing assets related to cash holdings or fund balances.\" }]}\n",
      "{\"messages\":[{\"role\":\"user\", \"content\":\"What is the function of account 199900, Central Accounting Control Account?\"},{\"role\":\"assistant\", \"content\": \"No, none of these accounts close at year-end because they represent ongoing assets related to cash holdings or fund balances.\" }]}\n",
      "{\"messages\":[{\"role\":\"user\", \"content\":\"What does account 201000, Liability for Fund Balance With Treasury, record?\"},{\"role\":\"assistant\", \"content\": \"No, none of these accounts close at year-end because they represent ongoing assets related to cash holdings or fund balances.\" }]}\n",
      "{\"messages\":[{\"role\":\"user\", \"content\":\"What does account 201000, Liability for Fund Balance With Treasury, record?\"},{\"role\":\"assistant\", \"content\": \"No, none of these accounts close at year-end because they represent ongoing assets related to cash holdings or fund balances.\" }]}\n",
      "{\"messages\":[{\"role\":\"user\", \"content\":\"What is the purpose of account 209010, Liability for Fund Balance While Awaiting a Warrant?\"},{\"role\":\"assistant\", \"content\": \"No, none of these accounts close at year-end because they represent ongoing assets related to cash holdings or fund balances.\" }]}\n",
      "{\"messages\":[{\"role\":\"user\", \"content\":\"What is the purpose of account 209010, Liability for Fund Balance While Awaiting a Warrant?\"},{\"role\":\"assistant\", \"content\": \"No, none of these accounts close at year-end because they represent ongoing assets related to cash holdings or fund balances.\" }]}\n",
      "{\"messages\":[{\"role\":\"user\", \"content\":\"What types of obligations are recorded in account 211000, Accounts Payable?\"},{\"role\":\"assistant\", \"content\": \"No, none of these accounts close at year-end because they represent ongoing assets related to cash holdings or fund balances.\" }]}\n",
      "{\"messages\":[{\"role\":\"user\", \"content\":\"What types of obligations are recorded in account 211000, Accounts Payable?\"},{\"role\":\"assistant\", \"content\": \"No, none of these accounts close at year-end because they represent ongoing assets related to cash holdings or fund balances.\" }]}\n",
      "{\"messages\":[{\"role\":\"user\", \"content\":\"What does account 211200, Accounts Payable for Federal Government Sponsored Enterprise, track?\"},{\"role\":\"assistant\", \"content\": \"No, none of these accounts close at year-end because they represent ongoing assets related to cash holdings or fund balances.\" }]}\n",
      "{\"messages\":[{\"role\":\"user\", \"content\":\"What does account 211200, Accounts Payable for Federal Government Sponsored Enterprise, track?\"},{\"role\":\"assistant\", \"content\": \"No, none of these accounts close at year-end because they represent ongoing assets related to cash holdings or fund balances.\" }]}\n",
      "{\"messages\":[{\"role\":\"user\", \"content\":\"How does the use of accounts 209010 and 211000 contribute to federal financial accountability?\"},{\"role\":\"assistant\", \"content\": \"No, none of these accounts close at year-end because they represent ongoing assets related to cash holdings or fund balances.\" }]}\n",
      "{\"messages\":[{\"role\":\"user\", \"content\":\"How does the use of accounts 209010 and 211000 contribute to federal financial accountability?\"},{\"role\":\"assistant\", \"content\": \"No, none of these accounts close at year-end because they represent ongoing assets related to cash holdings or fund balances.\" }]}\n",
      "{\"messages\":[{\"role\":\"user\", \"content\":\"What is the purpose of USSGL account 310800, Unexpended Appropriations - Prior-Period Adjustments Due to Corrections of Errors?\"},{\"role\":\"assistant\", \"content\": \"No, none of these accounts close at year-end because they represent ongoing assets related to cash holdings or fund balances.\" }]}\n",
      "{\"messages\":[{\"role\":\"user\", \"content\":\"What is the purpose of USSGL account 310800, Unexpended Appropriations - Prior-Period Adjustments Due to Corrections of Errors?\"},{\"role\":\"assistant\", \"content\": \"No, none of these accounts close at year-end because they represent ongoing assets related to cash holdings or fund balances.\" }]}\n",
      "{\"messages\":[{\"role\":\"user\", \"content\":\"When should account 310900, Unexpended Appropriations - Prior-Period Adjustments Due to Changes in Accounting Principles, be used?\"},{\"role\":\"assistant\", \"content\": \"No, none of these accounts close at year-end because they represent ongoing assets related to cash holdings or fund balances.\" }]}\n",
      "{\"messages\":[{\"role\":\"user\", \"content\":\"When should account 310900, Unexpended Appropriations - Prior-Period Adjustments Due to Changes in Accounting Principles, be used?\"},{\"role\":\"assistant\", \"content\": \"No, none of these accounts close at year-end because they represent ongoing assets related to cash holdings or fund balances.\" }]}\n",
      "{\"messages\":[{\"role\":\"user\", \"content\":\"What is recorded in account 320000, Appropriations Outstanding - Cumulative?\"},{\"role\":\"assistant\", \"content\": \"No, none of these accounts close at year-end because they represent ongoing assets related to cash holdings or fund balances.\" }]}\n",
      "{\"messages\":[{\"role\":\"user\", \"content\":\"What is recorded in account 320000, Appropriations Outstanding - Cumulative?\"},{\"role\":\"assistant\", \"content\": \"No, none of these accounts close at year-end because they represent ongoing assets related to cash holdings or fund balances.\" }]}\n",
      "{\"messages\":[{\"role\":\"user\", \"content\":\"Why do accounts such as 310800 and 310900 sometimes show a credit balance, even though their normal balance is debit?\"},{\"role\":\"assistant\", \"content\": \"No, none of these accounts close at year-end because they represent ongoing assets related to cash holdings or fund balances.\" }]}\n",
      "{\"messages\":[{\"role\":\"user\", \"content\":\"Why do accounts such as 310800 and 310900 sometimes show a credit balance, even though their normal balance is debit?\"},{\"role\":\"assistant\", \"content\": \"No, none of these accounts close at year-end because they represent ongoing assets related to cash holdings or fund balances.\" }]}\n",
      "{\"messages\":[{\"role\":\"user\", \"content\":\"What does account 165100, Market Adjustment – Senior Preferred Stock in Federal Government Sponsored Enterprise, record?\"},{\"role\":\"assistant\", \"content\": \"No, none of these accounts close at year-end because they represent ongoing assets related to cash holdings or fund balances.\" }]}\n",
      "{\"messages\":[{\"role\":\"user\", \"content\":\"What does account 165100, Market Adjustment – Senior Preferred Stock in Federal Government Sponsored Enterprise, record?\"},{\"role\":\"assistant\", \"content\": \"No, none of these accounts close at year-end because they represent ongoing assets related to cash holdings or fund balances.\" }]}\n",
      "{\"messages\":[{\"role\":\"user\", \"content\":\"What is the purpose of account 165200, Common Stock Warrants in Federal Government Sponsored Enterprise?\"},{\"role\":\"assistant\", \"content\": \"No, none of these accounts close at year-end because they represent ongoing assets related to cash holdings or fund balances.\" }]}\n",
      "{\"messages\":[{\"role\":\"user\", \"content\":\"What is the purpose of account 165200, Common Stock Warrants in Federal Government Sponsored Enterprise?\"},{\"role\":\"assistant\", \"content\": \"No, none of these accounts close at year-end because they represent ongoing assets related to cash holdings or fund balances.\" }]}\n",
      "{\"messages\":[{\"role\":\"user\", \"content\":\"How does account 165300 differ from 165200 in its function?\"},{\"role\":\"assistant\", \"content\": \"No, none of these accounts close at year-end because they represent ongoing assets related to cash holdings or fund balances.\" }]}\n",
      "{\"messages\":[{\"role\":\"user\", \"content\":\"How does account 165300 differ from 165200 in its function?\"},{\"role\":\"assistant\", \"content\": \"No, none of these accounts close at year-end because they represent ongoing assets related to cash holdings or fund balances.\" }]}\n",
      "{\"messages\":[{\"role\":\"user\", \"content\":\"What does account 167000, Foreign Investments, track?\"},{\"role\":\"assistant\", \"content\": \"No, none of these accounts close at year-end because they represent ongoing assets related to cash holdings or fund balances.\" }]}\n",
      "{\"messages\":[{\"role\":\"user\", \"content\":\"What does account 167000, Foreign Investments, track?\"},{\"role\":\"assistant\", \"content\": \"No, none of these accounts close at year-end because they represent ongoing assets related to cash holdings or fund balances.\" }]}\n",
      "{\"messages\":[{\"role\":\"user\", \"content\":\"What is recorded in account 167100, Discount on Foreign Investments?\"},{\"role\":\"assistant\", \"content\": \"No, none of these accounts close at year-end because they represent ongoing assets related to cash holdings or fund balances.\" }]}\n",
      "{\"messages\":[{\"role\":\"user\", \"content\":\"What is recorded in account 167100, Discount on Foreign Investments?\"},{\"role\":\"assistant\", \"content\": \"No, none of these accounts close at year-end because they represent ongoing assets related to cash holdings or fund balances.\" }]}\n",
      "{\"messages\":[{\"role\":\"user\", \"content\":\"What is the function of account 167200, Premium on Foreign Investments?\"},{\"role\":\"assistant\", \"content\": \"No, none of these accounts close at year-end because they represent ongoing assets related to cash holdings or fund balances.\" }]}\n",
      "{\"messages\":[{\"role\":\"user\", \"content\":\"What is the function of account 167200, Premium on Foreign Investments?\"},{\"role\":\"assistant\", \"content\": \"No, none of these accounts close at year-end because they represent ongoing assets related to cash holdings or fund balances.\" }]}\n",
      "{\"messages\":[{\"role\":\"user\", \"content\":\"How is account 167900, Foreign Exchange Rate Revalue Adjustments – Investments, used?\"},{\"role\":\"assistant\", \"content\": \"No, none of these accounts close at year-end because they represent ongoing assets related to cash holdings or fund balances.\" }]}\n",
      "{\"messages\":[{\"role\":\"user\", \"content\":\"How is account 167900, Foreign Exchange Rate Revalue Adjustments – Investments, used?\"},{\"role\":\"assistant\", \"content\": \"No, none of these accounts close at year-end because they represent ongoing assets related to cash holdings or fund balances.\" }]}\n",
      "{\"messages\":[{\"role\":\"user\", \"content\":\"What types of holdings are captured in account 169000, Other Investments?\"},{\"role\":\"assistant\", \"content\": \"No, none of these accounts close at year-end because they represent ongoing assets related to cash holdings or fund balances.\" }]}\n",
      "{\"messages\":[{\"role\":\"user\", \"content\":\"What types of holdings are captured in account 169000, Other Investments?\"},{\"role\":\"assistant\", \"content\": \"No, none of these accounts close at year-end because they represent ongoing assets related to cash holdings or fund balances.\" }]}\n",
      "{\"messages\":[{\"role\":\"user\", \"content\":\"What is recorded in account 171100, Land and Land Rights?\"},{\"role\":\"assistant\", \"content\": \"No, none of these accounts close at year-end because they represent ongoing assets related to cash holdings or fund balances.\" }]}\n",
      "{\"messages\":[{\"role\":\"user\", \"content\":\"What is recorded in account 171100, Land and Land Rights?\"},{\"role\":\"assistant\", \"content\": \"No, none of these accounts close at year-end because they represent ongoing assets related to cash holdings or fund balances.\" }]}\n",
      "{\"messages\":[{\"role\":\"user\", \"content\":\"What is the purpose of account 171200, Improvements to Land?\"},{\"role\":\"assistant\", \"content\": \"No, none of these accounts close at year-end because they represent ongoing assets related to cash holdings or fund balances.\" }]}\n",
      "{\"messages\":[{\"role\":\"user\", \"content\":\"What is the purpose of account 171200, Improvements to Land?\"},{\"role\":\"assistant\", \"content\": \"No, none of these accounts close at year-end because they represent ongoing assets related to cash holdings or fund balances.\" }]}\n",
      "{\"messages\":[{\"role\":\"user\", \"content\":\"How does account 171900, Accumulated Depreciation on Improvements to Land, function?\"},{\"role\":\"assistant\", \"content\": \"No, none of these accounts close at year-end because they represent ongoing assets related to cash holdings or fund balances.\" }]}\n",
      "{\"messages\":[{\"role\":\"user\", \"content\":\"How does account 171900, Accumulated Depreciation on Improvements to Land, function?\"},{\"role\":\"assistant\", \"content\": \"No, none of these accounts close at year-end because they represent ongoing assets related to cash holdings or fund balances.\" }]}\n",
      "{\"messages\":[{\"role\":\"user\", \"content\":\"What is the purpose of account 172000, Construction-in-Progress?\"},{\"role\":\"assistant\", \"content\": \"No, none of these accounts close at year-end because they represent ongoing assets related to cash holdings or fund balances.\" }]}\n",
      "{\"messages\":[{\"role\":\"user\", \"content\":\"What is the purpose of account 172000, Construction-in-Progress?\"},{\"role\":\"assistant\", \"content\": \"No, none of these accounts close at year-end because they represent ongoing assets related to cash holdings or fund balances.\" }]}\n",
      "{\"messages\":[{\"role\":\"user\", \"content\":\"What is the purpose of account 173000, Buildings, Improvements, and Renovations?\"},{\"role\":\"assistant\", \"content\": \"No, none of these accounts close at year-end because they represent ongoing assets related to cash holdings or fund balances.\" }]}\n",
      "{\"messages\":[{\"role\":\"user\", \"content\":\"What is the purpose of account 173000, Buildings, Improvements, and Renovations?\"},{\"role\":\"assistant\", \"content\": \"No, none of these accounts close at year-end because they represent ongoing assets related to cash holdings or fund balances.\" }]}\n",
      "{\"messages\":[{\"role\":\"user\", \"content\":\"What does account 173900, Accumulated Depreciation on Buildings, Improvements, and Renovations, track?\"},{\"role\":\"assistant\", \"content\": \"No, none of these accounts close at year-end because they represent ongoing assets related to cash holdings or fund balances.\" }]}\n",
      "{\"messages\":[{\"role\":\"user\", \"content\":\"What does account 173900, Accumulated Depreciation on Buildings, Improvements, and Renovations, track?\"},{\"role\":\"assistant\", \"content\": \"No, none of these accounts close at year-end because they represent ongoing assets related to cash holdings or fund balances.\" }]}\n",
      "{\"messages\":[{\"role\":\"user\", \"content\":\"What type of assets are recorded in account 174000, Other Structures and Facilities?\"},{\"role\":\"assistant\", \"content\": \"No, none of these accounts close at year-end because they represent ongoing assets related to cash holdings or fund balances.\" }]}\n",
      "{\"messages\":[{\"role\":\"user\", \"content\":\"What type of assets are recorded in account 174000, Other Structures and Facilities?\"},{\"role\":\"assistant\", \"content\": \"No, none of these accounts close at year-end because they represent ongoing assets related to cash holdings or fund balances.\" }]}\n",
      "{\"messages\":[{\"role\":\"user\", \"content\":\"What is the function of account 174900, Accumulated Depreciation on Other Structures and Facilities?\"},{\"role\":\"assistant\", \"content\": \"No, none of these accounts close at year-end because they represent ongoing assets related to cash holdings or fund balances.\" }]}\n",
      "{\"messages\":[{\"role\":\"user\", \"content\":\"What is the function of account 174900, Accumulated Depreciation on Other Structures and Facilities?\"},{\"role\":\"assistant\", \"content\": \"No, none of these accounts close at year-end because they represent ongoing assets related to cash holdings or fund balances.\" }]}\n",
      "{\"messages\":[{\"role\":\"user\", \"content\":\"What does account 175000, Furniture and Fixtures, record?\"},{\"role\":\"assistant\", \"content\": \"No, none of these accounts close at year-end because they represent ongoing assets related to cash holdings or fund balances.\" }]}\n",
      "{\"messages\":[{\"role\":\"user\", \"content\":\"What does account 175000, Furniture and Fixtures, record?\"},{\"role\":\"assistant\", \"content\": \"No, none of these accounts close at year-end because they represent ongoing assets related to cash holdings or fund balances.\" }]}\n",
      "{\"messages\":[{\"role\":\"user\", \"content\":\"How is account 175900, Accumulated Depreciation on Furniture and Fixtures, used in federal accounting?\"},{\"role\":\"assistant\", \"content\": \"No, none of these accounts close at year-end because they represent ongoing assets related to cash holdings or fund balances.\" }]}\n",
      "{\"messages\":[{\"role\":\"user\", \"content\":\"How is account 175900, Accumulated Depreciation on Furniture and Fixtures, used in federal accounting?\"},{\"role\":\"assistant\", \"content\": \"No, none of these accounts close at year-end because they represent ongoing assets related to cash holdings or fund balances.\" }]}\n",
      "{\"messages\":[{\"role\":\"user\", \"content\":\"What is the purpose of account 176000, Equipment?\"},{\"role\":\"assistant\", \"content\": \"No, none of these accounts close at year-end because they represent ongoing assets related to cash holdings or fund balances.\" }]}\n",
      "{\"messages\":[{\"role\":\"user\", \"content\":\"What is the purpose of account 176000, Equipment?\"},{\"role\":\"assistant\", \"content\": \"No, none of these accounts close at year-end because they represent ongoing assets related to cash holdings or fund balances.\" }]}\n",
      "{\"messages\":[{\"role\":\"user\", \"content\":\"How is account 176900, Accumulated Depreciation on Equipment, applied?\"},{\"role\":\"assistant\", \"content\": \"No, none of these accounts close at year-end because they represent ongoing assets related to cash holdings or fund balances.\" }]}\n",
      "{\"messages\":[{\"role\":\"user\", \"content\":\"How is account 176900, Accumulated Depreciation on Equipment, applied?\"},{\"role\":\"assistant\", \"content\": \"No, none of these accounts close at year-end because they represent ongoing assets related to cash holdings or fund balances.\" }]}\n",
      "{\"messages\":[{\"role\":\"user\", \"content\":\"What does account 178000, Leasehold Improvements, track?\"},{\"role\":\"assistant\", \"content\": \"No, none of these accounts close at year-end because they represent ongoing assets related to cash holdings or fund balances.\" }]}\n",
      "{\"messages\":[{\"role\":\"user\", \"content\":\"What does account 178000, Leasehold Improvements, track?\"},{\"role\":\"assistant\", \"content\": \"No, none of these accounts close at year-end because they represent ongoing assets related to cash holdings or fund balances.\" }]}\n",
      "{\"messages\":[{\"role\":\"user\", \"content\":\"What is recorded in account 178900, Accumulated Amortization on Leasehold Improvements?\"},{\"role\":\"assistant\", \"content\": \"No, none of these accounts close at year-end because they represent ongoing assets related to cash holdings or fund balances.\" }]}\n",
      "{\"messages\":[{\"role\":\"user\", \"content\":\"What is recorded in account 178900, Accumulated Amortization on Leasehold Improvements?\"},{\"role\":\"assistant\", \"content\": \"No, none of these accounts close at year-end because they represent ongoing assets related to cash holdings or fund balances.\" }]}\n",
      "{\"messages\":[{\"role\":\"user\", \"content\":\"What is the function of account 179000, Assets Under Capital Lease – Equipment?\"},{\"role\":\"assistant\", \"content\": \"No, none of these accounts close at year-end because they represent ongoing assets related to cash holdings or fund balances.\" }]}\n",
      "{\"messages\":[{\"role\":\"user\", \"content\":\"What is the function of account 179000, Assets Under Capital Lease – Equipment?\"},{\"role\":\"assistant\", \"content\": \"No, none of these accounts close at year-end because they represent ongoing assets related to cash holdings or fund balances.\" }]}\n",
      "{\"messages\":[{\"role\":\"user\", \"content\":\"What does account 179900, Accumulated Amortization on Assets Under Capital Lease – Equipment, represent?\"},{\"role\":\"assistant\", \"content\": \"No, none of these accounts close at year-end because they represent ongoing assets related to cash holdings or fund balances.\" }]}\n",
      "{\"messages\":[{\"role\":\"user\", \"content\":\"What does account 179900, Accumulated Amortization on Assets Under Capital Lease – Equipment, represent?\"},{\"role\":\"assistant\", \"content\": \"No, none of these accounts close at year-end because they represent ongoing assets related to cash holdings or fund balances.\" }]}\n",
      "{\"messages\":[{\"role\":\"user\", \"content\":\"What is the purpose of account 180000, Assets Under Capital Lease – Land and Structures?\"},{\"role\":\"assistant\", \"content\": \"No, none of these accounts close at year-end because they represent ongoing assets related to cash holdings or fund balances.\" }]}\n",
      "{\"messages\":[{\"role\":\"user\", \"content\":\"What is the purpose of account 180000, Assets Under Capital Lease – Land and Structures?\"},{\"role\":\"assistant\", \"content\": \"No, none of these accounts close at year-end because they represent ongoing assets related to cash holdings or fund balances.\" }]}\n",
      "{\"messages\":[{\"role\":\"user\", \"content\":\"How is account 180900, Accumulated Amortization on Assets Under Capital Lease – Land and Structures, used?\"},{\"role\":\"assistant\", \"content\": \"No, none of these accounts close at year-end because they represent ongoing assets related to cash holdings or fund balances.\" }]}\n",
      "{\"messages\":[{\"role\":\"user\", \"content\":\"How is account 180900, Accumulated Amortization on Assets Under Capital Lease – Land and Structures, used?\"},{\"role\":\"assistant\", \"content\": \"No, none of these accounts close at year-end because they represent ongoing assets related to cash holdings or fund balances.\" }]}\n",
      "{\"messages\":[{\"role\":\"user\", \"content\":\"What is the function of account 181000, Assets Under Capital Lease – Buildings and Improvements?\"},{\"role\":\"assistant\", \"content\": \"No, none of these accounts close at year-end because they represent ongoing assets related to cash holdings or fund balances.\" }]}\n",
      "{\"messages\":[{\"role\":\"user\", \"content\":\"What is the function of account 181000, Assets Under Capital Lease – Buildings and Improvements?\"},{\"role\":\"assistant\", \"content\": \"No, none of these accounts close at year-end because they represent ongoing assets related to cash holdings or fund balances.\" }]}\n",
      "{\"messages\":[{\"role\":\"user\", \"content\":\"What does account 181900, Accumulated Amortization on Assets Under Capital Lease – Buildings and Improvements, record?\"},{\"role\":\"assistant\", \"content\": \"No, none of these accounts close at year-end because they represent ongoing assets related to cash holdings or fund balances.\" }]}\n",
      "{\"messages\":[{\"role\":\"user\", \"content\":\"What does account 181900, Accumulated Amortization on Assets Under Capital Lease – Buildings and Improvements, record?\"},{\"role\":\"assistant\", \"content\": \"No, none of these accounts close at year-end because they represent ongoing assets related to cash holdings or fund balances.\" }]}\n",
      "{\"messages\":[{\"role\":\"user\", \"content\":\"What is recorded in account 182000, Assets Under Capital Lease – Other Structures and Facilities?\"},{\"role\":\"assistant\", \"content\": \"No, none of these accounts close at year-end because they represent ongoing assets related to cash holdings or fund balances.\" }]}\n",
      "{\"messages\":[{\"role\":\"user\", \"content\":\"What is recorded in account 182000, Assets Under Capital Lease – Other Structures and Facilities?\"},{\"role\":\"assistant\", \"content\": \"No, none of these accounts close at year-end because they represent ongoing assets related to cash holdings or fund balances.\" }]}\n",
      "{\"messages\":[{\"role\":\"user\", \"content\":\"What is the purpose of account 182900, Accumulated Amortization on Assets Under Capital Lease – Other Structures and Facilities?\"},{\"role\":\"assistant\", \"content\": \"No, none of these accounts close at year-end because they represent ongoing assets related to cash holdings or fund balances.\" }]}\n",
      "{\"messages\":[{\"role\":\"user\", \"content\":\"What is the purpose of account 182900, Accumulated Amortization on Assets Under Capital Lease – Other Structures and Facilities?\"},{\"role\":\"assistant\", \"content\": \"No, none of these accounts close at year-end because they represent ongoing assets related to cash holdings or fund balances.\" }]}\n",
      "{\"messages\":[{\"role\":\"user\", \"content\":\"What does account 183000, Internal-Use Software, represent?\"},{\"role\":\"assistant\", \"content\": \"No, none of these accounts close at year-end because they represent ongoing assets related to cash holdings or fund balances.\" }]}\n",
      "{\"messages\":[{\"role\":\"user\", \"content\":\"What does account 183000, Internal-Use Software, represent?\"},{\"role\":\"assistant\", \"content\": \"No, none of these accounts close at year-end because they represent ongoing assets related to cash holdings or fund balances.\" }]}\n",
      "{\"messages\":[{\"role\":\"user\", \"content\":\"How is account 183200, Internal-Use Software in Development, used?\"},{\"role\":\"assistant\", \"content\": \"No, none of these accounts close at year-end because they represent ongoing assets related to cash holdings or fund balances.\" }]}\n",
      "{\"messages\":[{\"role\":\"user\", \"content\":\"How is account 183200, Internal-Use Software in Development, used?\"},{\"role\":\"assistant\", \"content\": \"No, none of these accounts close at year-end because they represent ongoing assets related to cash holdings or fund balances.\" }]}\n",
      "{\"messages\":[{\"role\":\"user\", \"content\":\"What does account 183900, Accumulated Amortization on Internal-Use Software, record?\"},{\"role\":\"assistant\", \"content\": \"No, none of these accounts close at year-end because they represent ongoing assets related to cash holdings or fund balances.\" }]}\n",
      "{\"messages\":[{\"role\":\"user\", \"content\":\"What does account 183900, Accumulated Amortization on Internal-Use Software, record?\"},{\"role\":\"assistant\", \"content\": \"No, none of these accounts close at year-end because they represent ongoing assets related to cash holdings or fund balances.\" }]}\n",
      "{\"messages\":[{\"role\":\"user\", \"content\":\"What is recorded in account 184000, Other Natural Resources?\"},{\"role\":\"assistant\", \"content\": \"No, none of these accounts close at year-end because they represent ongoing assets related to cash holdings or fund balances.\" }]}\n",
      "{\"messages\":[{\"role\":\"user\", \"content\":\"What is recorded in account 184000, Other Natural Resources?\"},{\"role\":\"assistant\", \"content\": \"No, none of these accounts close at year-end because they represent ongoing assets related to cash holdings or fund balances.\" }]}\n",
      "{\"messages\":[{\"role\":\"user\", \"content\":\"What is the function of account 184900, Allowance for Depletion?\"},{\"role\":\"assistant\", \"content\": \"No, none of these accounts close at year-end because they represent ongoing assets related to cash holdings or fund balances.\" }]}\n",
      "{\"messages\":[{\"role\":\"user\", \"content\":\"What is the function of account 184900, Allowance for Depletion?\"},{\"role\":\"assistant\", \"content\": \"No, none of these accounts close at year-end because they represent ongoing assets related to cash holdings or fund balances.\" }]}\n",
      "{\"messages\":[{\"role\":\"user\", \"content\":\"What is captured in account 189000, Other General Property, Plant, and Equipment?\"},{\"role\":\"assistant\", \"content\": \"No, none of these accounts close at year-end because they represent ongoing assets related to cash holdings or fund balances.\" }]}\n",
      "{\"messages\":[{\"role\":\"user\", \"content\":\"What is captured in account 189000, Other General Property, Plant, and Equipment?\"},{\"role\":\"assistant\", \"content\": \"No, none of these accounts close at year-end because they represent ongoing assets related to cash holdings or fund balances.\" }]}\n",
      "{\"messages\":[{\"role\":\"user\", \"content\":\"What does USSGL account 189900, Accumulated Depreciation on Other General Property, Plant, and Equipment, track?\"},{\"role\":\"assistant\", \"content\": \"No, none of these accounts close at year-end because they represent ongoing assets related to cash holdings or fund balances.\" }]}\n",
      "{\"messages\":[{\"role\":\"user\", \"content\":\"What does USSGL account 189900, Accumulated Depreciation on Other General Property, Plant, and Equipment, track?\"},{\"role\":\"assistant\", \"content\": \"No, none of these accounts close at year-end because they represent ongoing assets related to cash holdings or fund balances.\" }]}\n",
      "{\"messages\":[{\"role\":\"user\", \"content\":\"What is the purpose of account 192100, Receivable From Appropriations?\"},{\"role\":\"assistant\", \"content\": \"No, none of these accounts close at year-end because they represent ongoing assets related to cash holdings or fund balances.\" }]}\n",
      "{\"messages\":[{\"role\":\"user\", \"content\":\"What is the purpose of account 192100, Receivable From Appropriations?\"},{\"role\":\"assistant\", \"content\": \"No, none of these accounts close at year-end because they represent ongoing assets related to cash holdings or fund balances.\" }]}\n",
      "{\"messages\":[{\"role\":\"user\", \"content\":\"How is account 192300, Contingent Receivable for Capital Transfers, used?\"},{\"role\":\"assistant\", \"content\": \"No, none of these accounts close at year-end because they represent ongoing assets related to cash holdings or fund balances.\" }]}\n",
      "{\"messages\":[{\"role\":\"user\", \"content\":\"How is account 192300, Contingent Receivable for Capital Transfers, used?\"},{\"role\":\"assistant\", \"content\": \"No, none of these accounts close at year-end because they represent ongoing assets related to cash holdings or fund balances.\" }]}\n",
      "{\"messages\":[{\"role\":\"user\", \"content\":\"What type of transactions are recorded in account 192500, Capital Transfers Receivable?\"},{\"role\":\"assistant\", \"content\": \"No, none of these accounts close at year-end because they represent ongoing assets related to cash holdings or fund balances.\" }]}\n",
      "{\"messages\":[{\"role\":\"user\", \"content\":\"What type of transactions are recorded in account 192500, Capital Transfers Receivable?\"},{\"role\":\"assistant\", \"content\": \"No, none of these accounts close at year-end because they represent ongoing assets related to cash holdings or fund balances.\" }]}\n",
      "{\"messages\":[{\"role\":\"user\", \"content\":\"What does account 193000, Lessor Lease Receivable, represent?\"},{\"role\":\"assistant\", \"content\": \"No, none of these accounts close at year-end because they represent ongoing assets related to cash holdings or fund balances.\" }]}\n",
      "{\"messages\":[{\"role\":\"user\", \"content\":\"What does account 193000, Lessor Lease Receivable, represent?\"},{\"role\":\"assistant\", \"content\": \"No, none of these accounts close at year-end because they represent ongoing assets related to cash holdings or fund balances.\" }]}\n",
      "{\"messages\":[{\"role\":\"user\", \"content\":\"What is the role of account 193900, Allowance for Loss on Lease Receivable?\"},{\"role\":\"assistant\", \"content\": \"No, none of these accounts close at year-end because they represent ongoing assets related to cash holdings or fund balances.\" }]}\n",
      "{\"messages\":[{\"role\":\"user\", \"content\":\"What is the role of account 193900, Allowance for Loss on Lease Receivable?\"},{\"role\":\"assistant\", \"content\": \"No, none of these accounts close at year-end because they represent ongoing assets related to cash holdings or fund balances.\" }]}\n",
      "{\"messages\":[{\"role\":\"user\", \"content\":\"What type of asset is recorded in account 195000, Lessee Right-To-Use Lease Asset?\"},{\"role\":\"assistant\", \"content\": \"No, none of these accounts close at year-end because they represent ongoing assets related to cash holdings or fund balances.\" }]}\n",
      "{\"messages\":[{\"role\":\"user\", \"content\":\"What type of asset is recorded in account 195000, Lessee Right-To-Use Lease Asset?\"},{\"role\":\"assistant\", \"content\": \"No, none of these accounts close at year-end because they represent ongoing assets related to cash holdings or fund balances.\" }]}\n",
      "{\"messages\":[{\"role\":\"user\", \"content\":\"How does account 195900, Accumulated Amortization on Lessee Lease Assets, function?\"},{\"role\":\"assistant\", \"content\": \"No, none of these accounts close at year-end because they represent ongoing assets related to cash holdings or fund balances.\" }]}\n",
      "{\"messages\":[{\"role\":\"user\", \"content\":\"How does account 195900, Accumulated Amortization on Lessee Lease Assets, function?\"},{\"role\":\"assistant\", \"content\": \"No, none of these accounts close at year-end because they represent ongoing assets related to cash holdings or fund balances.\" }]}\n",
      "{\"messages\":[{\"role\":\"user\", \"content\":\"What is recorded in account 198000, Asset for Agency’s Custodial and Non-Entity Liabilities – General Fund of the U.S. Government?\"},{\"role\":\"assistant\", \"content\": \"No, none of these accounts close at year-end because they represent ongoing assets related to cash holdings or fund balances.\" }]}\n",
      "{\"messages\":[{\"role\":\"user\", \"content\":\"What is recorded in account 198000, Asset for Agency’s Custodial and Non-Entity Liabilities – General Fund of the U.S. Government?\"},{\"role\":\"assistant\", \"content\": \"No, none of these accounts close at year-end because they represent ongoing assets related to cash holdings or fund balances.\" }]}\n",
      "{\"messages\":[{\"role\":\"user\", \"content\":\"What does account 198100, Receivable from Custodian or Non-Entity Assets Receivable From a Federal Agency – Other Than the General Fund of the U.S. Government, represent?\"},{\"role\":\"assistant\", \"content\": \"No, none of these accounts close at year-end because they represent ongoing assets related to cash holdings or fund balances.\" }]}\n",
      "{\"messages\":[{\"role\":\"user\", \"content\":\"What does account 198100, Receivable from Custodian or Non-Entity Assets Receivable From a Federal Agency – Other Than the General Fund of the U.S. Government, represent?\"},{\"role\":\"assistant\", \"content\": \"No, none of these accounts close at year-end because they represent ongoing assets related to cash holdings or fund balances.\" }]}\n",
      "{\"messages\":[{\"role\":\"user\", \"content\":\"What is the function of account 199000, Other Assets?\"},{\"role\":\"assistant\", \"content\": \"No, none of these accounts close at year-end because they represent ongoing assets related to cash holdings or fund balances.\" }]}\n",
      "{\"messages\":[{\"role\":\"user\", \"content\":\"What is the function of account 199000, Other Assets?\"},{\"role\":\"assistant\", \"content\": \"No, none of these accounts close at year-end because they represent ongoing assets related to cash holdings or fund balances.\" }]}\n",
      "{\"messages\":[{\"role\":\"user\", \"content\":\"How is account 199010, Other Assets – General Fund of the U.S. Government, different from account 199000?\"},{\"role\":\"assistant\", \"content\": \"No, none of these accounts close at year-end because they represent ongoing assets related to cash holdings or fund balances.\" }]}\n",
      "{\"messages\":[{\"role\":\"user\", \"content\":\"How is account 199010, Other Assets – General Fund of the U.S. Government, different from account 199000?\"},{\"role\":\"assistant\", \"content\": \"No, none of these accounts close at year-end because they represent ongoing assets related to cash holdings or fund balances.\" }]}\n",
      "{\"messages\":[{\"role\":\"user\", \"content\":\"What is the purpose of USSGL account 199500, General Property, Plant, and Equipment Permanently Removed but Not Yet Disposed?\"},{\"role\":\"assistant\", \"content\": \"No, none of these accounts close at year-end because they represent ongoing assets related to cash holdings or fund balances.\" }]}\n",
      "{\"messages\":[{\"role\":\"user\", \"content\":\"What is the purpose of USSGL account 199500, General Property, Plant, and Equipment Permanently Removed but Not Yet Disposed?\"},{\"role\":\"assistant\", \"content\": \"No, none of these accounts close at year-end because they represent ongoing assets related to cash holdings or fund balances.\" }]}\n",
      "{\"messages\":[{\"role\":\"user\", \"content\":\"How is USSGL account 199900, Central Accounting Control Account, utilized?\"},{\"role\":\"assistant\", \"content\": \"No, none of these accounts close at year-end because they represent ongoing assets related to cash holdings or fund balances.\" }]}\n",
      "{\"messages\":[{\"role\":\"user\", \"content\":\"How is USSGL account 199900, Central Accounting Control Account, utilized?\"},{\"role\":\"assistant\", \"content\": \"No, none of these accounts close at year-end because they represent ongoing assets related to cash holdings or fund balances.\" }]}\n",
      "{\"messages\":[{\"role\":\"user\", \"content\":\"What does USSGL account 201000, Liability for Fund Balance With Treasury, represent?\"},{\"role\":\"assistant\", \"content\": \"No, none of these accounts close at year-end because they represent ongoing assets related to cash holdings or fund balances.\" }]}\n",
      "{\"messages\":[{\"role\":\"user\", \"content\":\"What does USSGL account 201000, Liability for Fund Balance With Treasury, represent?\"},{\"role\":\"assistant\", \"content\": \"No, none of these accounts close at year-end because they represent ongoing assets related to cash holdings or fund balances.\" }]}\n",
      "{\"messages\":[{\"role\":\"user\", \"content\":\"What is recorded in USSGL account 209010, Liability for Fund Balance While Awaiting a Warrant?\"},{\"role\":\"assistant\", \"content\": \"No, none of these accounts close at year-end because they represent ongoing assets related to cash holdings or fund balances.\" }]}\n",
      "{\"messages\":[{\"role\":\"user\", \"content\":\"What is recorded in USSGL account 209010, Liability for Fund Balance While Awaiting a Warrant?\"},{\"role\":\"assistant\", \"content\": \"No, none of these accounts close at year-end because they represent ongoing assets related to cash holdings or fund balances.\" }]}\n",
      "{\"messages\":[{\"role\":\"user\", \"content\":\"What is the function of USSGL account 211000, Accounts Payable?\"},{\"role\":\"assistant\", \"content\": \"No, none of these accounts close at year-end because they represent ongoing assets related to cash holdings or fund balances.\" }]}\n",
      "{\"messages\":[{\"role\":\"user\", \"content\":\"What is the function of USSGL account 211000, Accounts Payable?\"},{\"role\":\"assistant\", \"content\": \"No, none of these accounts close at year-end because they represent ongoing assets related to cash holdings or fund balances.\" }]}\n",
      "{\"messages\":[{\"role\":\"user\", \"content\":\"What is captured in USSGL account 211200, Accounts Payable for Federal Government Sponsored Enterprise?\"},{\"role\":\"assistant\", \"content\": \"No, none of these accounts close at year-end because they represent ongoing assets related to cash holdings or fund balances.\" }]}\n",
      "{\"messages\":[{\"role\":\"user\", \"content\":\"What is captured in USSGL account 211200, Accounts Payable for Federal Government Sponsored Enterprise?\"},{\"role\":\"assistant\", \"content\": \"No, none of these accounts close at year-end because they represent ongoing assets related to cash holdings or fund balances.\" }]}\n",
      "{\"messages\":[{\"role\":\"user\", \"content\":\"What is the role of USSGL account 212000, Disbursements in Transit?\"},{\"role\":\"assistant\", \"content\": \"No, none of these accounts close at year-end because they represent ongoing assets related to cash holdings or fund balances.\" }]}\n",
      "{\"messages\":[{\"role\":\"user\", \"content\":\"What is the role of USSGL account 212000, Disbursements in Transit?\"},{\"role\":\"assistant\", \"content\": \"No, none of these accounts close at year-end because they represent ongoing assets related to cash holdings or fund balances.\" }]}\n",
      "{\"messages\":[{\"role\":\"user\", \"content\":\"What does USSGL account 213000, Contract Holdbacks, record?\"},{\"role\":\"assistant\", \"content\": \"No, none of these accounts close at year-end because they represent ongoing assets related to cash holdings or fund balances.\" }]}\n",
      "{\"messages\":[{\"role\":\"user\", \"content\":\"What does USSGL account 213000, Contract Holdbacks, record?\"},{\"role\":\"assistant\", \"content\": \"No, none of these accounts close at year-end because they represent ongoing assets related to cash holdings or fund balances.\" }]}\n",
      "{\"messages\":[{\"role\":\"user\", \"content\":\"What is recorded in USSGL account 214000, Accrued Funded Payroll and Leave?\"},{\"role\":\"assistant\", \"content\": \"No, none of these accounts close at year-end because they represent ongoing assets related to cash holdings or fund balances.\" }]}\n",
      "{\"messages\":[{\"role\":\"user\", \"content\":\"What is recorded in USSGL account 214000, Accrued Funded Payroll and Leave?\"},{\"role\":\"assistant\", \"content\": \"No, none of these accounts close at year-end because they represent ongoing assets related to cash holdings or fund balances.\" }]}\n",
      "{\"messages\":[{\"role\":\"user\", \"content\":\"What is the function of USSGL account 215000, Employer Contributions and Payroll Taxes Payable?\"},{\"role\":\"assistant\", \"content\": \"No, none of these accounts close at year-end because they represent ongoing assets related to cash holdings or fund balances.\" }]}\n",
      "{\"messages\":[{\"role\":\"user\", \"content\":\"What is the function of USSGL account 215000, Employer Contributions and Payroll Taxes Payable?\"},{\"role\":\"assistant\", \"content\": \"No, none of these accounts close at year-end because they represent ongoing assets related to cash holdings or fund balances.\" }]}\n",
      "{\"messages\":[{\"role\":\"user\", \"content\":\"What does USSGL account 216000, Entitlement Benefits Due and Payable, represent?\"},{\"role\":\"assistant\", \"content\": \"No, none of these accounts close at year-end because they represent ongoing assets related to cash holdings or fund balances.\" }]}\n",
      "{\"messages\":[{\"role\":\"user\", \"content\":\"What does USSGL account 216000, Entitlement Benefits Due and Payable, represent?\"},{\"role\":\"assistant\", \"content\": \"No, none of these accounts close at year-end because they represent ongoing assets related to cash holdings or fund balances.\" }]}\n",
      "{\"messages\":[{\"role\":\"user\", \"content\":\"How is USSGL account 217000, Subsidy Payable to the Financing Account, used in credit reform accounting?\"},{\"role\":\"assistant\", \"content\": \"No, none of these accounts close at year-end because they represent ongoing assets related to cash holdings or fund balances.\" }]}\n",
      "{\"messages\":[{\"role\":\"user\", \"content\":\"How is USSGL account 217000, Subsidy Payable to the Financing Account, used in credit reform accounting?\"},{\"role\":\"assistant\", \"content\": \"No, none of these accounts close at year-end because they represent ongoing assets related to cash holdings or fund balances.\" }]}\n",
      "{\"messages\":[{\"role\":\"user\", \"content\":\"What does USSGL account 219000, Loan Guarantee Liability, record?\"},{\"role\":\"assistant\", \"content\": \"No, none of these accounts close at year-end because they represent ongoing assets related to cash holdings or fund balances.\" }]}\n",
      "{\"messages\":[{\"role\":\"user\", \"content\":\"What does USSGL account 219000, Loan Guarantee Liability, record?\"},{\"role\":\"assistant\", \"content\": \"No, none of these accounts close at year-end because they represent ongoing assets related to cash holdings or fund balances.\" }]}\n",
      "{\"messages\":[{\"role\":\"user\", \"content\":\"What is the purpose of account 219100, Loan Guarantee Liability for Cohort Year Defaults?\"},{\"role\":\"assistant\", \"content\": \"No, none of these accounts close at year-end because they represent ongoing assets related to cash holdings or fund balances.\" }]}\n",
      "{\"messages\":[{\"role\":\"user\", \"content\":\"What is the purpose of account 219100, Loan Guarantee Liability for Cohort Year Defaults?\"},{\"role\":\"assistant\", \"content\": \"No, none of these accounts close at year-end because they represent ongoing assets related to cash holdings or fund balances.\" }]}\n",
      "{\"messages\":[{\"role\":\"user\", \"content\":\"What is recorded in account 221000, Accrued Unfunded Retirement Benefits?\"},{\"role\":\"assistant\", \"content\": \"No, none of these accounts close at year-end because they represent ongoing assets related to cash holdings or fund balances.\" }]}\n",
      "{\"messages\":[{\"role\":\"user\", \"content\":\"What is recorded in account 221000, Accrued Unfunded Retirement Benefits?\"},{\"role\":\"assistant\", \"content\": \"No, none of these accounts close at year-end because they represent ongoing assets related to cash holdings or fund balances.\" }]}\n",
      "{\"messages\":[{\"role\":\"user\", \"content\":\"What does account 222000, Accrued Unfunded FECA Liability, represent?\"},{\"role\":\"assistant\", \"content\": \"No, none of these accounts close at year-end because they represent ongoing assets related to cash holdings or fund balances.\" }]}\n",
      "{\"messages\":[{\"role\":\"user\", \"content\":\"What does account 222000, Accrued Unfunded FECA Liability, represent?\"},{\"role\":\"assistant\", \"content\": \"No, none of these accounts close at year-end because they represent ongoing assets related to cash holdings or fund balances.\" }]}\n",
      "{\"messages\":[{\"role\":\"user\", \"content\":\"How is account 222500, Unfunded Leave, used in federal accounting?\"},{\"role\":\"assistant\", \"content\": \"No, none of these accounts close at year-end because they represent ongoing assets related to cash holdings or fund balances.\" }]}\n",
      "{\"messages\":[{\"role\":\"user\", \"content\":\"How is account 222500, Unfunded Leave, used in federal accounting?\"},{\"role\":\"assistant\", \"content\": \"No, none of these accounts close at year-end because they represent ongoing assets related to cash holdings or fund balances.\" }]}\n",
      "{\"messages\":[{\"role\":\"user\", \"content\":\"What is the function of account 222600, Other Unfunded Employment-Related Liability?\"},{\"role\":\"assistant\", \"content\": \"No, none of these accounts close at year-end because they represent ongoing assets related to cash holdings or fund balances.\" }]}\n",
      "{\"messages\":[{\"role\":\"user\", \"content\":\"What is the function of account 222600, Other Unfunded Employment-Related Liability?\"},{\"role\":\"assistant\", \"content\": \"No, none of these accounts close at year-end because they represent ongoing assets related to cash holdings or fund balances.\" }]}\n",
      "{\"messages\":[{\"role\":\"user\", \"content\":\"What is the purpose of account 229000, Other Unfunded Liabilities?\"},{\"role\":\"assistant\", \"content\": \"No, none of these accounts close at year-end because they represent ongoing assets related to cash holdings or fund balances.\" }]}\n",
      "{\"messages\":[{\"role\":\"user\", \"content\":\"What is the purpose of account 229000, Other Unfunded Liabilities?\"},{\"role\":\"assistant\", \"content\": \"No, none of these accounts close at year-end because they represent ongoing assets related to cash holdings or fund balances.\" }]}\n",
      "{\"messages\":[{\"role\":\"user\", \"content\":\"What does account 231000, Advances from Others, record?\"},{\"role\":\"assistant\", \"content\": \"No, none of these accounts close at year-end because they represent ongoing assets related to cash holdings or fund balances.\" }]}\n",
      "{\"messages\":[{\"role\":\"user\", \"content\":\"What does account 231000, Advances from Others, record?\"},{\"role\":\"assistant\", \"content\": \"No, none of these accounts close at year-end because they represent ongoing assets related to cash holdings or fund balances.\" }]}\n",
      "{\"messages\":[{\"role\":\"user\", \"content\":\"How does account 232000, Deferred Credits, function in federal financial statements?\"},{\"role\":\"assistant\", \"content\": \"No, none of these accounts close at year-end because they represent ongoing assets related to cash holdings or fund balances.\" }]}\n",
      "{\"messages\":[{\"role\":\"user\", \"content\":\"How does account 232000, Deferred Credits, function in federal financial statements?\"},{\"role\":\"assistant\", \"content\": \"No, none of these accounts close at year-end because they represent ongoing assets related to cash holdings or fund balances.\" }]}\n",
      "{\"messages\":[{\"role\":\"user\", \"content\":\"What is the function of account 239000, Other Liabilities With Related Budgetary Obligations?\"},{\"role\":\"assistant\", \"content\": \"No, none of these accounts close at year-end because they represent ongoing assets related to cash holdings or fund balances.\" }]}\n",
      "{\"messages\":[{\"role\":\"user\", \"content\":\"What is the function of account 239000, Other Liabilities With Related Budgetary Obligations?\"},{\"role\":\"assistant\", \"content\": \"No, none of these accounts close at year-end because they represent ongoing assets related to cash holdings or fund balances.\" }]}\n",
      "{\"messages\":[{\"role\":\"user\", \"content\":\"What does account 240000, Liability for Nonfiduciary Deposit Funds and Suspense Accounts, represent?\"},{\"role\":\"assistant\", \"content\": \"No, none of these accounts close at year-end because they represent ongoing assets related to cash holdings or fund balances.\" }]}\n",
      "{\"messages\":[{\"role\":\"user\", \"content\":\"What does account 240000, Liability for Nonfiduciary Deposit Funds and Suspense Accounts, represent?\"},{\"role\":\"assistant\", \"content\": \"No, none of these accounts close at year-end because they represent ongoing assets related to cash holdings or fund balances.\" }]}\n",
      "{\"messages\":[{\"role\":\"user\", \"content\":\"What is the purpose of account 241000, Liability for Clearing Accounts?\"},{\"role\":\"assistant\", \"content\": \"No, none of these accounts close at year-end because they represent ongoing assets related to cash holdings or fund balances.\" }]}\n",
      "{\"messages\":[{\"role\":\"user\", \"content\":\"What is the purpose of account 241000, Liability for Clearing Accounts?\"},{\"role\":\"assistant\", \"content\": \"No, none of these accounts close at year-end because they represent ongoing assets related to cash holdings or fund balances.\" }]}\n"
     ]
    }
   ],
   "execution_count": 59
  },
  {
   "metadata": {},
   "cell_type": "code",
   "outputs": [],
   "execution_count": null,
   "source": "",
   "id": "cbcae77914e300a9"
  }
 ],
 "metadata": {
  "kernelspec": {
   "display_name": "Python 3",
   "language": "python",
   "name": "python3"
  },
  "language_info": {
   "codemirror_mode": {
    "name": "ipython",
    "version": 2
   },
   "file_extension": ".py",
   "mimetype": "text/x-python",
   "name": "python",
   "nbconvert_exporter": "python",
   "pygments_lexer": "ipython2",
   "version": "2.7.6"
  }
 },
 "nbformat": 4,
 "nbformat_minor": 5
}
