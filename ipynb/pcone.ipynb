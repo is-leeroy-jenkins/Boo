{
 "cells": [
  {
   "metadata": {},
   "cell_type": "markdown",
   "source": "# Pinecone",
   "id": "429ddaaf2227c1cf"
  },
  {
   "metadata": {},
   "cell_type": "markdown",
   "source": "##### Load Dependencies",
   "id": "efc7bd00a9b5cb2"
  },
  {
   "cell_type": "code",
   "id": "initial_id",
   "metadata": {
    "collapsed": true
   },
   "source": [
    "import os\n",
    "from openai import OpenAI\n",
    "from typing_extensions import override\n",
    "from openai import AssistantEventHandler\n",
    "from pathlib import Path\n",
    "from playwright.sync_api import sync_playwright\n",
    "from agents import Agent, Runner\n",
    "import tiktoken\n",
    "import base64\n",
    "import requests\n",
    "from sklearn.model_selection import train_test_split\n",
    "from static import Requests, Roles, Languages\n",
    "from booger import Error, ErrorDialog, ChatWindow, FileDialog, FileBrowser\n",
    "from importlib import reload\n",
    "from pinecone import Pinecone\n",
    "from pinecone_plugins.assistant.models.chat import Message"
   ],
   "outputs": [],
   "execution_count": null
  },
  {
   "metadata": {},
   "cell_type": "markdown",
   "source": "##### Initialize Client",
   "id": "a8f83100a5c6cc7c"
  },
  {
   "metadata": {},
   "cell_type": "code",
   "source": [
    "# Initialize a Pinecone client with your API key\n",
    "pc_key = os.getenv( 'PINECONE_API_KEY' )\n",
    "pc = Pinecone(  api_key=pc_key )"
   ],
   "id": "b6450435c238cb6c",
   "outputs": [],
   "execution_count": null
  },
  {
   "metadata": {},
   "cell_type": "markdown",
   "source": "#### Upsert Data",
   "id": "3662e46fd852e3d3"
  },
  {
   "metadata": {},
   "cell_type": "markdown",
   "source": "##### Embed & Upsert",
   "id": "588932fd0bf9269a"
  },
  {
   "metadata": {},
   "cell_type": "code",
   "outputs": [],
   "execution_count": null,
   "source": [
    "index_name = 'quickstart'\n",
    "\n",
    "pc.create_index( name=index_name,\n",
    "    dimension=1024, # Replace with your small_model dimensions\n",
    "    metric='cosine', # Replace with your small_model metric\n",
    "    spec=ServerlessSpec(\n",
    "        cloud='aws',\n",
    "        region='us-east-1'\n",
    "    )\n",
    ")"
   ],
   "id": "a0465c88c3198bac"
  },
  {
   "metadata": {},
   "cell_type": "markdown",
   "source": "##### Query",
   "id": "f41259e17fcf0f99"
  },
  {
   "metadata": {},
   "cell_type": "code",
   "outputs": [],
   "execution_count": null,
   "source": [
    "query = 'Tell me about the tech company known as Apple'\n",
    "\n",
    "x = pc.inference.create_vector(\n",
    "    model='multilingual-e5-large',\n",
    "    inputs=[query],\n",
    "    parameters={\n",
    "        'input_type': 'query'\n",
    "    }\n",
    ")\n",
    "\n",
    "results = index.query(\n",
    "    namespace='ns1',\n",
    "    vector=x[0].values,\n",
    "    top_k=3,\n",
    "    include_values=False,\n",
    "    include_metadata=True\n",
    ")\n",
    "\n",
    "print(results)"
   ],
   "id": "6aca5fce4ca07b86"
  },
  {
   "metadata": {},
   "cell_type": "markdown",
   "source": "##### Create Vector Embeddings",
   "id": "35d8a71058e28ca9"
  },
  {
   "metadata": {},
   "cell_type": "code",
   "outputs": [],
   "execution_count": null,
   "source": [
    "##### Create Vector Embeddings\n",
    "data = [\n",
    "\t{ 'id': 'vec1', 'pages': 'Apple is a popular fruit known for its sweetness and crisp texture.' },\n",
    "\t{ 'id': 'vec2',\n",
    "\t  'pages': 'The tech company Apple is known for its innovative products like the iPhone.' },\n",
    "\t{ 'id': 'vec3', 'pages': 'Many people enjoy eating apples as a healthy snack.' },\n",
    "\t{ 'id': 'vec4',\n",
    "\t  'pages': 'Apple Inc. has revolutionized the tech industry with its sleek designs and user-friendly interfaces.' },\n",
    "\t{ 'id': 'vec5', 'pages': 'An apple a day keeps the doctor away, as the saying goes.' },\n",
    "\t{ 'id': 'vec6',\n",
    "\t  'pages': 'Apple Computer Company was founded on April 1, 1976, by Steve Jobs, Steve Wozniak, and Ronald Wayne as a partnership.' }\n",
    "]\n",
    "\n",
    "embeddings = pc.inference.create_vector(\n",
    "\tmodel='multilingual-e5-large',\n",
    "\tinputs=[ d[ 'pages' ] for d in data ],\n",
    "\tparameters={ 'input_type': 'passage', 'trunc': 'END' }\n",
    ")\n",
    "print( embeddings[ 0 ] )"
   ],
   "id": "87decab2d06abfc1"
  },
  {
   "metadata": {},
   "cell_type": "markdown",
   "source": "##### Upsert Data",
   "id": "df8192f59e858e0a"
  },
  {
   "metadata": {},
   "cell_type": "code",
   "outputs": [],
   "execution_count": null,
   "source": [
    "# Wait for the index to be ready\n",
    "while not pc.describe_index(index_name).status['ready']:\n",
    "    time.sleep(1)\n",
    "\n",
    "index = pc.Index(index_name)\n",
    "\n",
    "vectors = []\n",
    "for d, e in zip(data, embeddings):\n",
    "    vectors.append({\n",
    "        'id': d['id'],\n",
    "        'target_values': e['target_values'],\n",
    "        'metadata': {'pages': d['pages']}\n",
    "    })\n",
    "\n",
    "index.upsert(\n",
    "    vectors=vectors,\n",
    "    namespace='ns1'\n",
    ")"
   ],
   "id": "9a690d2498479cb4"
  },
  {
   "metadata": {},
   "cell_type": "markdown",
   "source": "##### Check Index",
   "id": "4807523bab04656c"
  },
  {
   "metadata": {},
   "cell_type": "code",
   "outputs": [],
   "execution_count": null,
   "source": "print(index.describe_index_stats())",
   "id": "f5b6bb678a7fd74c"
  },
  {
   "metadata": {},
   "cell_type": "markdown",
   "source": "##### Upload Files",
   "id": "2b940be1f7597692"
  },
  {
   "metadata": {},
   "cell_type": "code",
   "outputs": [],
   "execution_count": null,
   "source": [
    "pc = Pinecone( api_key=pc_key )\n",
    "assistant = pc.assistant.Assistant( assistant_name=\"bubba\", )\n",
    "response = assistant.upload_file( file_path='/Users/jdoe/Downloads/example_file.txt', timeout=None )"
   ],
   "id": "19af69d76a42d77a"
  },
  {
   "metadata": {},
   "cell_type": "markdown",
   "source": "##### Chat with Pinecone",
   "id": "5c708e0d650d7934"
  },
  {
   "metadata": {},
   "cell_type": "code",
   "outputs": [],
   "execution_count": null,
   "source": [
    "pc = Pinecone (api_key=pc_key )\n",
    "assistant = pc.assistant.Assistant( assistant_name='bubba' )\n",
    "msg = Message( content='How old is the earth?')\n",
    "resp = assistant.chat( messages=[ msg ] )\n",
    "print( resp[ '\"message\" '][ 'content' ] )\n",
    "\n",
    "# With streaming\n",
    "chunks = assistant.chat( messages=[ msg ], stream=True )\n",
    "for chunk in chunks:\n",
    "    if chunk:\n",
    "        print(chunk)"
   ],
   "id": "a0870af8b82f2278"
  }
 ],
 "metadata": {
  "kernelspec": {
   "display_name": "Python 3",
   "language": "python",
   "name": "python3"
  },
  "language_info": {
   "codemirror_mode": {
    "name": "ipython",
    "version": 2
   },
   "file_extension": ".py",
   "mimetype": "text/x-python",
   "name": "python",
   "nbconvert_exporter": "python",
   "pygments_lexer": "ipython2",
   "version": "2.7.6"
  }
 },
 "nbformat": 4,
 "nbformat_minor": 5
}
