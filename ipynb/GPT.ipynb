{
 "cells": [
  {
   "metadata": {},
   "cell_type": "markdown",
   "source": "##### Dependencies",
   "id": "6f5de4ab069df199"
  },
  {
   "metadata": {},
   "cell_type": "code",
   "outputs": [],
   "execution_count": null,
   "source": [
    "import numpy as np\n",
    "import pandas as pd\n",
    "import matplotlib.pyplot as plt\n",
    "import seaborn as sns\n",
    "from scipy import stats\n",
    "from openai import OpenAI\n",
    "import warnings\n"
   ],
   "id": "98ca47c4dd694371"
  },
  {
   "metadata": {},
   "cell_type": "markdown",
   "source": "",
   "id": "3bff5d97969c1c98"
  }
 ],
 "metadata": {
  "kernelspec": {
   "display_name": "Python 3",
   "language": "python",
   "name": "python3"
  },
  "language_info": {
   "codemirror_mode": {
    "name": "ipython",
    "version": 2
   },
   "file_extension": ".py",
   "mimetype": "text/x-python",
   "name": "python",
   "nbconvert_exporter": "python",
   "pygments_lexer": "ipython2",
   "version": "2.7.6"
  }
 },
 "nbformat": 4,
 "nbformat_minor": 5
}
