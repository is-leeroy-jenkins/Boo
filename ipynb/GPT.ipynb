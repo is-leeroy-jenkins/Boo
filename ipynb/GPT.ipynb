{
 "cells": [
  {
   "metadata": {},
   "cell_type": "markdown",
   "source": "##### Dependencies",
   "id": "6f5de4ab069df199"
  },
  {
   "metadata": {
    "ExecuteTime": {
     "end_time": "2025-03-20T12:40:10.535228Z",
     "start_time": "2025-03-20T12:40:10.524292Z"
    }
   },
   "cell_type": "code",
   "source": [
    "import os\n",
    "import pandas as pd\n",
    "import matplotlib.pyplot as plt\n",
    "from Static import GptRequests, GptRoles, GptLanguages\n",
    "from Booger import ErrorDialog, Error, FileDialog, SaveFileDialog, FolderDialog\n",
    "import FileSys as fs\n",
    "import Minion as mn\n",
    "import Boo as ai\n",
    "from openai import OpenAI\n",
    "from pathlib import Path\n",
    "import warnings"
   ],
   "id": "98ca47c4dd694371",
   "outputs": [],
   "execution_count": 22
  },
  {
   "metadata": {},
   "cell_type": "markdown",
   "source": "#### Create chat completion",
   "id": "a9f52a9d4000c649"
  },
  {
   "metadata": {
    "ExecuteTime": {
     "end_time": "2025-03-20T12:42:57.371079Z",
     "start_time": "2025-03-20T12:42:49.632741Z"
    }
   },
   "cell_type": "code",
   "source": [
    "# Create Client\n",
    "client = OpenAI( )\n",
    "client.api_key = os.getenv( 'OPENAI_API_KEY' )\n",
    "\n",
    "# Create Completion\n",
    "completion = client.chat.completions.create(\n",
    "  model=\"gpt-4o\",\n",
    "  messages=[\n",
    "    { \"role\": \"developer\", \"content\": \"You are a helpful assistant.\" },\n",
    "    { \"role\": \"user\", \"content\": \"What is an appropriation?\" }\n",
    "  ]\n",
    ")\n",
    "\n",
    "print( completion.choices[ 0 ].message )"
   ],
   "id": "42101fefd439757a",
   "outputs": [
    {
     "name": "stdout",
     "output_type": "stream",
     "text": [
      "ChatCompletionMessage(content='An appropriation is an authorization by a legislative body to allocate funds for specific purposes. This process is essential in government budgeting and finance. Here’s a more detailed breakdown:\\n\\n1. **Legislative Process**: Appropriations are typically part of a formal legislative process where a government body, such as a parliament or congress, passes a budget or a specific appropriations bill. This bill outlines how much money is designated for various government agencies, projects, and activities.\\n\\n2. **Purpose and Use**: The purpose of an appropriation is to ensure that government spending is conducted in a controlled and legally sanctioned manner. These funds might be allocated for anything from day-to-day government operations to infrastructure projects, defense, education, healthcare, and more.\\n\\n3. **Annual and Supplemental Appropriations**: Appropriations are often made annually, but there can also be supplemental appropriations. These are additional funds allocated outside the regular budget cycle, often in response to emergencies or unforeseen needs.\\n\\n4. **Control and Oversight**: By controlling appropriations, the legislative branch exercises oversight of government spending, ensuring that taxpayer funds are spent according to established priorities and legal guidelines.\\n\\n5. **Private Sector**: The term can also apply in the private sector to mean the allocation of resources or funds by a company or organization for specific projects or departments.\\n\\nAppropriations are a critical component of financial governance, ensuring accountability and transparency in how public and private funds are utilized.', refusal=None, role='assistant', audio=None, function_call=None, tool_calls=None, annotations=[])\n"
     ]
    }
   ],
   "execution_count": 27
  },
  {
   "metadata": {},
   "cell_type": "markdown",
   "source": "#### Get chat completion",
   "id": "aa8e8b3a885a7bab"
  },
  {
   "metadata": {
    "ExecuteTime": {
     "end_time": "2025-03-20T12:44:19.903854Z",
     "start_time": "2025-03-20T12:44:18.913851Z"
    }
   },
   "cell_type": "code",
   "source": [
    "# Create Completion\n",
    "completions = client.chat.completions.list( )\n",
    "first_id = completions[ 0 ].id\n",
    "first_completion = client.chat.completions.retrieve( completion_id=first_id )\n",
    "print( first_completion )"
   ],
   "id": "67ffaed532fe0dc1",
   "outputs": [
    {
     "ename": "TypeError",
     "evalue": "'SyncCursorPage[ChatCompletion]' object is not subscriptable",
     "output_type": "error",
     "traceback": [
      "\u001B[31m---------------------------------------------------------------------------\u001B[39m",
      "\u001B[31mTypeError\u001B[39m                                 Traceback (most recent call last)",
      "\u001B[36mCell\u001B[39m\u001B[36m \u001B[39m\u001B[32mIn[30]\u001B[39m\u001B[32m, line 3\u001B[39m\n\u001B[32m      1\u001B[39m \u001B[38;5;66;03m# Create Completion\u001B[39;00m\n\u001B[32m      2\u001B[39m completions = client.chat.completions.list( )\n\u001B[32m----> \u001B[39m\u001B[32m3\u001B[39m first_id = \u001B[43mcompletions\u001B[49m\u001B[43m[\u001B[49m\u001B[43m \u001B[49m\u001B[32;43m0\u001B[39;49m\u001B[43m \u001B[49m\u001B[43m]\u001B[49m.id\n\u001B[32m      4\u001B[39m first_completion = client.chat.completions.retrieve( completion_id=first_id )\n\u001B[32m      5\u001B[39m \u001B[38;5;28mprint\u001B[39m( first_completion )\n",
      "\u001B[31mTypeError\u001B[39m: 'SyncCursorPage[ChatCompletion]' object is not subscriptable"
     ]
    }
   ],
   "execution_count": 30
  },
  {
   "metadata": {},
   "cell_type": "markdown",
   "source": "#### Get chat messages",
   "id": "b530f9aee20cce11"
  },
  {
   "metadata": {
    "ExecuteTime": {
     "end_time": "2025-03-20T12:41:41.459968Z",
     "start_time": "2025-03-20T12:41:39.594149Z"
    }
   },
   "cell_type": "code",
   "source": [
    "# Create Completion\n",
    "completions = client.chat.completions.list( )\n",
    "first_id = completions[ 0 ].id\n",
    "first_completion = client.chat.completions.retrieve( completion_id=first_id )\n",
    "messages = client.chat.completions.messages.list( completion_id=first_id )\n",
    "print( messages )"
   ],
   "id": "f2784968574ff7c8",
   "outputs": [
    {
     "ename": "TypeError",
     "evalue": "'SyncCursorPage[ChatCompletion]' object is not subscriptable",
     "output_type": "error",
     "traceback": [
      "\u001B[31m---------------------------------------------------------------------------\u001B[39m",
      "\u001B[31mTypeError\u001B[39m                                 Traceback (most recent call last)",
      "\u001B[36mCell\u001B[39m\u001B[36m \u001B[39m\u001B[32mIn[25]\u001B[39m\u001B[32m, line 7\u001B[39m\n\u001B[32m      5\u001B[39m \u001B[38;5;66;03m# Create Completion\u001B[39;00m\n\u001B[32m      6\u001B[39m completions = client.chat.completions.list( )\n\u001B[32m----> \u001B[39m\u001B[32m7\u001B[39m first_id = \u001B[43mcompletions\u001B[49m\u001B[43m[\u001B[49m\u001B[43m \u001B[49m\u001B[32;43m0\u001B[39;49m\u001B[43m \u001B[49m\u001B[43m]\u001B[49m.id\n\u001B[32m      8\u001B[39m first_completion = client.chat.completions.retrieve( completion_id=first_id )\n\u001B[32m      9\u001B[39m messages = client.chat.completions.messages.list( completion_id=first_id )\n",
      "\u001B[31mTypeError\u001B[39m: 'SyncCursorPage[ChatCompletion]' object is not subscriptable"
     ]
    }
   ],
   "execution_count": 25
  },
  {
   "metadata": {},
   "cell_type": "markdown",
   "source": "#### List Chat Completions",
   "id": "9c62391ecc6da73f"
  },
  {
   "metadata": {},
   "cell_type": "code",
   "outputs": [],
   "execution_count": null,
   "source": [
    "# Create Compmletion\n",
    "completions = client.chat.completions.list()\n",
    "print(completions)\n"
   ],
   "id": "f5a72eef452bbc22"
  },
  {
   "metadata": {},
   "cell_type": "markdown",
   "source": "#### Update chat completion",
   "id": "4a5f4620e53bab63"
  },
  {
   "metadata": {},
   "cell_type": "code",
   "outputs": [],
   "execution_count": null,
   "source": [
    "# Create Client\n",
    "client = OpenAI()\n",
    "client.api_key = os.getenv( 'OPENAI_API_KEY' )\n",
    "\n",
    "# Create Completion\n",
    "completions = client.chat.completions.list( )\n",
    "first_id = completions[0].id\n",
    "updated_completion = client.chat.completions.update( completion_id=first_id, request_body={\"metadata\": {\"foo\": \"bar\"}})\n",
    "print(updated_completion)"
   ],
   "id": "ee0f4929c2fa200b"
  },
  {
   "metadata": {},
   "cell_type": "markdown",
   "source": "#### Delete chat completion",
   "id": "e01ecd500ae773a5"
  },
  {
   "metadata": {},
   "cell_type": "code",
   "outputs": [],
   "execution_count": null,
   "source": [
    "# Create Client\n",
    "client = OpenAI( )\n",
    "client.api_key = os.getenv( 'OPENAI_API_KEY' )\n",
    "\n",
    "# Build Completion\n",
    "completions = client.chat.completions.list( )\n",
    "first_id = completions[ 0 ].id\n",
    "delete_response = client.chat.completions.delete( completion_id=first_id )\n",
    "print( delete_response )"
   ],
   "id": "b69689f26fb50f5d"
  },
  {
   "metadata": {},
   "cell_type": "markdown",
   "source": "#### Create speech",
   "id": "f9aa6a88c6e6aae1"
  },
  {
   "metadata": {},
   "cell_type": "code",
   "outputs": [],
   "execution_count": null,
   "source": [
    "speech_file_path = Path(__file__).parent # \"speech.mp3\"\n",
    "response = openai.audio.speech.create(\n",
    "  model=\"tts-1\",\n",
    "  voice=\"alloy\",\n",
    "  input=\"The quick brown fox jumped over the lazy dog.\"\n",
    ")\n",
    "response.stream_to_file(speech_file_path)\n"
   ],
   "id": "69bfd864f5e56ea6"
  },
  {
   "metadata": {},
   "cell_type": "markdown",
   "source": "#### Create transcription",
   "id": "d30d80c36b8c36c0"
  },
  {
   "metadata": {},
   "cell_type": "code",
   "outputs": [],
   "execution_count": null,
   "source": [
    "# Create Client\n",
    "client = OpenAI( )\n",
    "client.api_key = os.getenv( 'OPENAI_API_KEY' )\n",
    "\n",
    "# Open Audio File 'speech.mp3'\n",
    "audio_file = open( \"speech.mp3\", \"rb\" )\n",
    "transcript = client.audio.transcriptions.create(\n",
    "  model=\"whisper-1\",\n",
    "  file=audio_file\n",
    ")\n"
   ],
   "id": "6d17f226244664f3"
  },
  {
   "metadata": {},
   "cell_type": "markdown",
   "source": "#### Create translation",
   "id": "4f50814639443330"
  },
  {
   "metadata": {},
   "cell_type": "code",
   "outputs": [],
   "execution_count": null,
   "source": [
    "client = OpenAI( )\n",
    "client.api_key = os.getenv( 'OPENAI_API_KEY' )\n",
    "\n",
    "audio_file = open(\"speech.mp3\", \"rb\")\n",
    "transcript = client.audio.translations.create(\n",
    "  model=\"whisper-1\",\n",
    "  file=audio_file\n",
    ")\n"
   ],
   "id": "e247d4cab1abede9"
  },
  {
   "metadata": {},
   "cell_type": "markdown",
   "source": "#### Create Embedding\n",
   "id": "6d39d0b28a5bcda2"
  },
  {
   "metadata": {},
   "cell_type": "code",
   "outputs": [],
   "execution_count": null,
   "source": [
    "# Create Client\n",
    "client = OpenAI()\n",
    "client.api_key = os.getenv( 'OPENAI_API_KEY' )\n",
    "\n",
    "client.embeddings.create(\n",
    "  model=\"text-embedding-ada-002\",\n",
    "  input=\"The food was delicious and the waiter...\",\n",
    "  encoding_format=\"float\"\n",
    ")\n"
   ],
   "id": "6dc14e033c7dc0de"
  },
  {
   "metadata": {},
   "cell_type": "markdown",
   "source": "",
   "id": "eb4b00ba2a080795"
  },
  {
   "metadata": {},
   "cell_type": "code",
   "outputs": [],
   "execution_count": null,
   "source": "",
   "id": "10463c4c5e3f95c6"
  },
  {
   "metadata": {},
   "cell_type": "markdown",
   "source": "",
   "id": "5aeca34847a76e36"
  },
  {
   "metadata": {},
   "cell_type": "code",
   "outputs": [],
   "execution_count": null,
   "source": "",
   "id": "e367685a79270de6"
  },
  {
   "metadata": {},
   "cell_type": "markdown",
   "source": "",
   "id": "2fea58c5aac941f0"
  }
 ],
 "metadata": {
  "kernelspec": {
   "display_name": "Python 3",
   "language": "python",
   "name": "python3"
  },
  "language_info": {
   "codemirror_mode": {
    "name": "ipython",
    "version": 2
   },
   "file_extension": ".py",
   "mimetype": "text/x-python",
   "name": "python",
   "nbconvert_exporter": "python",
   "pygments_lexer": "ipython2",
   "version": "2.7.6"
  }
 },
 "nbformat": 4,
 "nbformat_minor": 5
}
