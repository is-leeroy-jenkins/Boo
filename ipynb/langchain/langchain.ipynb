{
 "cells": [
  {
   "metadata": {},
   "cell_type": "markdown",
   "source": "# LangChain",
   "id": "5f900d513c2bab0a"
  },
  {
   "metadata": {},
   "cell_type": "markdown",
   "source": "##### Dependencies",
   "id": "5350f2727e98e7aa"
  },
  {
   "metadata": {
    "ExecuteTime": {
     "end_time": "2025-05-20T14:38:06.768386Z",
     "start_time": "2025-05-20T14:38:06.748405Z"
    }
   },
   "cell_type": "code",
   "source": [
    "import langchain\n",
    "from langchain.chat_models.openai import ChatOpenAI\n",
    "from langchain.prompts import ChatPromptTemplate\n",
    "from langchain.prompts import PromptTemplate\n",
    "from langchain.schema import BaseOutputParser\n",
    "from langchain.llms import OpenAI\n",
    "from langchain.schema.messages import HumanMessage, SystemMessage\n",
    "from langchain_core.prompts import ChatPromptTemplate, MessagesPlaceholder\n",
    "from langchain_core.messages import HumanMessage\n",
    "from langchain_core.tools import tool\n",
    "from langchain.embeddings import HuggingFaceEmbeddings\n",
    "from langchain.text_splitter import CharacterTextSplitter\n",
    "from langchain.indexes import VectorstoreIndexCreator\n",
    "from langchain.vectorstores import Chroma\n",
    "from langchain import HuggingFacePipeline\n",
    "from langchain.chains import RetrievalQA\n",
    "import sqlite3\n",
    "import os"
   ],
   "id": "8a1cdf86b31a81c0",
   "outputs": [],
   "execution_count": 4
  },
  {
   "metadata": {},
   "cell_type": "markdown",
   "source": "## LLM",
   "id": "93c727d481819c6"
  },
  {
   "metadata": {
    "ExecuteTime": {
     "end_time": "2025-05-20T14:39:11.562458Z",
     "start_time": "2025-05-20T14:39:08.371742Z"
    }
   },
   "cell_type": "code",
   "source": [
    "api_key = os.getenv( 'OPENAI_API_KEY' )\n",
    "llm = OpenAI(  )"
   ],
   "id": "562290776710c17",
   "outputs": [],
   "execution_count": 6
  },
  {
   "metadata": {},
   "cell_type": "markdown",
   "source": "- LLMs accept strings as inputs, or objects which can be coerced to string prompts",
   "id": "68904a821591dcd4"
  },
  {
   "metadata": {
    "ExecuteTime": {
     "end_time": "2025-05-20T14:39:23.123028Z",
     "start_time": "2025-05-20T14:39:21.533392Z"
    }
   },
   "cell_type": "code",
   "source": [
    "response = llm.invoke( 'List the 7 wonders of the ancient world'  )\n",
    "print( response )"
   ],
   "id": "106bb7850c089758",
   "outputs": [
    {
     "name": "stdout",
     "output_type": "stream",
     "text": [
      "\n",
      "1. The Great Pyramid of Giza\n",
      "2. The Hanging Gardens of Babylon\n",
      "3. The Temple of Artemis at Ephesus\n",
      "4. The Statue of Zeus at Olympia\n",
      "5. The Mausoleum at Halicarnassus\n",
      "6. The Colossus of Rhodes\n",
      "7. The Lighthouse of Alexandria\n"
     ]
    }
   ],
   "execution_count": 7
  },
  {
   "metadata": {},
   "cell_type": "markdown",
   "source": "- Alternatively call the stream method to stream the text response",
   "id": "a11713a759a5c9cd"
  },
  {
   "metadata": {
    "ExecuteTime": {
     "end_time": "2025-05-05T14:39:58.017530Z",
     "start_time": "2025-05-05T14:39:57.312401Z"
    }
   },
   "cell_type": "code",
   "source": [
    "for chunk in llm.stream( 'Where were the 2012 Olympics held?' ):\n",
    "    print( chunk, end=\"\", flush=True )"
   ],
   "id": "138a4e5d582a70ee",
   "outputs": [
    {
     "name": "stdout",
     "output_type": "stream",
     "text": [
      "\n",
      "\n",
      "The 2012 Olympics were held in London, England."
     ]
    }
   ],
   "execution_count": 13
  },
  {
   "metadata": {},
   "cell_type": "markdown",
   "source": [
    "## Chat Models\n",
    "- Utilize language models internally\n",
    "- A distinct interface centered around chat messages as inputs and outputs\n",
    "- Essential for creating interactive chat applications"
   ],
   "id": "f8e8e2a3e01161f1"
  },
  {
   "metadata": {
    "ExecuteTime": {
     "end_time": "2025-05-06T23:46:27.211972Z",
     "start_time": "2025-05-06T23:46:25.914615Z"
    }
   },
   "cell_type": "code",
   "source": "chat = ChatOpenAI( )",
   "id": "f820aa7f6eef0137",
   "outputs": [],
   "execution_count": 26
  },
  {
   "metadata": {},
   "cell_type": "markdown",
   "source": "- Chat models in LangChain work with different message types",
   "id": "e6e88982e6f4350c"
  },
  {
   "metadata": {
    "ExecuteTime": {
     "end_time": "2025-05-06T23:46:37.835456Z",
     "start_time": "2025-05-06T23:46:37.036884Z"
    }
   },
   "cell_type": "code",
   "source": [
    "messages = [\n",
    "    SystemMessage( content='You are Micheal Jordan.' ),\n",
    "    HumanMessage( content='Which shoe manufacturer are you associated with?' ),\n",
    "]\n",
    "\n",
    "response = chat.invoke( messages )\n",
    "print( response.content )"
   ],
   "id": "b4ca3b57cc1b40bc",
   "outputs": [
    {
     "name": "stdout",
     "output_type": "stream",
     "text": [
      "I am associated with the Nike brand, and my Air Jordan line of shoes is one of the most iconic and popular athletic shoe lines in the world.\n"
     ]
    }
   ],
   "execution_count": 27
  },
  {
   "metadata": {},
   "cell_type": "markdown",
   "source": [
    "## PromptTemplate\n",
    "- Used to format a single string\n",
    "- Generally are used for simpler inputs"
   ],
   "id": "1ff488b9fc38e2f6"
  },
  {
   "metadata": {
    "ExecuteTime": {
     "end_time": "2025-05-20T14:39:50.927502Z",
     "start_time": "2025-05-20T14:39:50.856351Z"
    }
   },
   "cell_type": "code",
   "source": [
    "# Simple prompt with placeholders\n",
    "prompt_template = PromptTemplate.from_template( 'Tell me a {adjective} joke about {content}.' )\n",
    "\n",
    "# Filling placeholders to generate_text a prompt\n",
    "filled_prompt = prompt_template.format( adjective='funny', content='robots' )\n",
    "print( filled_prompt )\n"
   ],
   "id": "bf348ae9ed7e4697",
   "outputs": [
    {
     "name": "stdout",
     "output_type": "stream",
     "text": [
      "Tell me a funny joke about robots.\n"
     ]
    }
   ],
   "execution_count": 8
  },
  {
   "metadata": {},
   "cell_type": "markdown",
   "source": [
    "## ChatPromptTemplates\n",
    "- Used to format a list of messages"
   ],
   "id": "65077406cf72deaf"
  },
  {
   "metadata": {},
   "cell_type": "code",
   "outputs": [],
   "execution_count": null,
   "source": [
    "prompt_template = ChatPromptTemplate( [ ( 'system', 'You are a helpful assistant' ),\n",
    "                                       ( 'user', 'Tell me a joke about {topic}' ) ] )\n",
    "\n",
    "prompt_template.invoke( {'topic': 'cats'} )"
   ],
   "id": "19874a4d08196af6"
  },
  {
   "metadata": {},
   "cell_type": "markdown",
   "source": "## MessagesPlaceholder",
   "id": "a0ab814bd965bf3a"
  },
  {
   "metadata": {},
   "cell_type": "code",
   "outputs": [],
   "execution_count": null,
   "source": [
    "prompt_template = ChatPromptTemplate( [ ( 'system', 'You are a helpful assistant' ),\n",
    "    MessagesPlaceholder( 'msgs' ) ] )\n",
    "\n",
    "prompt_template.invoke( { 'msgs': [ HumanMessage( content='hi!' ) ] } )"
   ],
   "id": "797034c2ae0b6ac9"
  },
  {
   "metadata": {},
   "cell_type": "markdown",
   "source": "- w/out MessagesPlaceholder",
   "id": "5babeee4369a3710"
  },
  {
   "metadata": {},
   "cell_type": "code",
   "outputs": [],
   "execution_count": null,
   "source": [
    "prompt_template = ChatPromptTemplate( [ ( 'system', 'You are a helpful assistant' ),\n",
    "    ( 'placeholder', '{msgs}' ) ] )"
   ],
   "id": "e0f0d2d57aba2ffb"
  },
  {
   "metadata": {},
   "cell_type": "markdown",
   "source": "## Tool creation",
   "id": "930013227c28d34"
  },
  {
   "metadata": {},
   "cell_type": "code",
   "outputs": [],
   "execution_count": null,
   "source": [
    "@tool\n",
    "def multiply( a: int, b: int ) -> int:\n",
    "    \"\"\"\n",
    "\n",
    "        Multiply a and b.\n",
    "\n",
    "        Args:\n",
    "            a: first int\n",
    "            b: second int\n",
    "\n",
    "    \"\"\"\n",
    "    return a * b\n",
    "\n",
    "llm_with_tools = tool_calling_model.bind_tools( [ multiply ] )\n",
    "result = llm_with_tools.invoke( 'What is 2 multiplied by 3?' )"
   ],
   "id": "2c072fa641d15901"
  },
  {
   "metadata": {},
   "cell_type": "markdown",
   "source": [
    "#### Prompt Templates\n",
    "- Reusable templates for structured prompting."
   ],
   "id": "8c46bf07e8381496"
  },
  {
   "metadata": {
    "ExecuteTime": {
     "end_time": "2025-05-06T23:44:19.549564Z",
     "start_time": "2025-05-06T23:44:19.540586Z"
    }
   },
   "cell_type": "code",
   "source": [
    "\n",
    "template = 'What is a good name for a company that makes {product}?'\n",
    "prompt = PromptTemplate.from_template( template )\n",
    "filled_prompt = prompt.format( product='smart shoes' )\n",
    "print( filled_prompt )"
   ],
   "id": "698f744b041ecf26",
   "outputs": [
    {
     "name": "stdout",
     "output_type": "stream",
     "text": [
      "What is a good name for a company that makes smart shoes?\n"
     ]
    }
   ],
   "execution_count": 24
  }
 ],
 "metadata": {
  "kernelspec": {
   "display_name": "Python 3",
   "language": "python",
   "name": "python3"
  },
  "language_info": {
   "codemirror_mode": {
    "name": "ipython",
    "version": 2
   },
   "file_extension": ".py",
   "mimetype": "text/x-python",
   "name": "python",
   "nbconvert_exporter": "python",
   "pygments_lexer": "ipython2",
   "version": "2.7.6"
  }
 },
 "nbformat": 4,
 "nbformat_minor": 5
}
