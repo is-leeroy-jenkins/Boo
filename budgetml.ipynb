{
 "cells": [
  {
   "cell_type": "code",
   "execution_count": null,
   "id": "initial_id",
   "metadata": {
    "collapsed": true
   },
   "outputs": [],
   "source": [
    ""
   ]
  },
  {
   "metadata": {},
   "cell_type": "markdown",
   "source": "",
   "id": "91232660dba1e017"
  },
  {
   "metadata": {},
   "cell_type": "markdown",
   "source": "##### Load Dependencies",
   "id": "3dfbe2f6892cfe1a"
  },
  {
   "metadata": {
    "ExecuteTime": {
     "end_time": "2025-04-30T23:51:22.733552Z",
     "start_time": "2025-04-30T23:51:22.714140Z"
    }
   },
   "cell_type": "code",
   "source": [
    "import os\n",
    "import numpy as np\n",
    "import pandas as pd\n",
    "import matplotlib.pyplot as plt\n",
    "from matplotlib.colors import ListedColormap\n",
    "from sklearn.model_selection import train_test_split\n",
    "import mglearn\n",
    "from sklearn.model_selection import train_test_split, learning_curve\n",
    "from sklearn.datasets import load_iris, make_classification, load_breast_cancer\n",
    "from sklearn.manifold import Isomap, TSNE\n",
    "from sklearn.impute import SimpleImputer, KNNImputer\n",
    "from sklearn.decomposition import PCA, IncrementalPCA, TruncatedSVD, FactorAnalysis\n",
    "from sklearn.linear_model import (LinearRegression, Ridge, RidgeClassifier, LogisticRegression,\n",
    "                                  BayesianRidge, SGDRegressor, SGDClassifier, Perceptron,\n",
    "                                  Lasso, ElasticNet, BayesianRidge, HuberRegressor)\n",
    "from sklearn.svm import SVR, SVC, OneClassSVM\n",
    "from sklearn.naive_bayes import GaussianNB, BernoulliNB\n",
    "from sklearn.neural_network import MLPRegressor, MLPClassifier\n",
    "from sklearn.tree import DecisionTreeClassifier, DecisionTreeRegressor\n",
    "from sklearn.preprocessing import StandardScaler, MinMaxScaler, Normalizer, RobustScaler, \\\n",
    "\tPolynomialFeatures, LabelEncoder, OneHotEncoder\n",
    "from sklearn.ensemble import (RandomForestRegressor, RandomForestClassifier, ExtraTreesClassifier,\n",
    "                              ExtraTreesRegressor,\n",
    "                              GradientBoostingClassifier, GradientBoostingRegressor,\n",
    "                              AdaBoostClassifier, AdaBoostRegressor,\n",
    "                              HistGradientBoostingClassifier, HistGradientBoostingRegressor,\n",
    "                              IsolationForest)\n",
    "from sklearn.neighbors import KNeighborsRegressor, KNeighborsClassifier, LocalOutlierFactor\n",
    "from sklearn.cluster import KMeans, DBSCAN\n",
    "from sklearn.covariance import EllipticEnvelope\n",
    "from sklearn.metrics import ( classification_report, r2_score, mean_squared_error, accuracy_score, precision_recall_curve,\n",
    "                              average_precision_score, precision_score, recall_score, f1_score, PrecisionRecallDisplay,\n",
    "\t                          RocCurveDisplay, ConfusionMatrixDisplay )\n",
    "from scipy import stats\n",
    "import statsmodels.api as sm\n",
    "from statsmodels.formula.api import ols\n",
    "from openai import OpenAI\n",
    "import seaborn as sns\n",
    "from booger import Error, ErrorDialog\n",
    "import warnings\n",
    "from importlib import reload"
   ],
   "id": "6a5d3afec549c767",
   "outputs": [],
   "execution_count": 41
  },
  {
   "metadata": {
    "ExecuteTime": {
     "end_time": "2025-04-30T23:51:27.063581Z",
     "start_time": "2025-04-30T23:51:27.057625Z"
    }
   },
   "cell_type": "code",
   "source": [
    "hdr = '\\r\\n' + '-' * 120 + '\\r\\n'\n",
    "nwln = '\\r\\n'\n",
    "warnings.filterwarnings( 'ignore' )"
   ],
   "id": "d2b4b4a912d783f2",
   "outputs": [],
   "execution_count": 42
  },
  {
   "metadata": {},
   "cell_type": "markdown",
   "source": [
    "### 🔬 Data Source\n",
    "- File A (Account Balances) published monthly by agencies on [USASpending](https://www.usaspending.gov/federal_account)\n",
    "- Required by the DATA Act.\n",
    "- Pulled automatically from data in the [Governmentwide Treasury Account Symbol Adjusted Trial Balance System (GTAS)](https://fiscal.treasury.gov/gtas/)\n",
    "- Contains Budgetary resources, obligation, and outlay data for all the relevant Treasury Account Symbols (TAS) in a reporting agency.\n",
    "- It includes both award and non-award spending (grouped together), and crosswalks with the [SF 133 report](https://portal.max.gov/portal/document/SF133/Budget/FACTS%20II%20-%20SF%20133%20Report%20on%20Budget%20Execution%20and%20Budgetary%20Resources.html)."
   ],
   "id": "4dc00766919d2532"
  },
  {
   "metadata": {},
   "cell_type": "markdown",
   "source": "#### Load Data",
   "id": "77cd18b37ad37052"
  },
  {
   "metadata": {
    "ExecuteTime": {
     "end_time": "2025-04-30T23:51:56.655339Z",
     "start_time": "2025-04-30T23:51:32.074266Z"
    }
   },
   "cell_type": "code",
   "source": [
    "# Load the Excel file\n",
    "file_path = r'C:\\Users\\terry\\source\\repos\\Boo\\data\\excel\\Account Balances.xlsx'\n",
    "df = pd.read_excel( file_path, sheet_name='Data' )\n",
    "\n",
    "# Drop rows with NaNs\n",
    "df.dropna( inplace=True )\n"
   ],
   "id": "5d937c78672c642f",
   "outputs": [],
   "execution_count": 43
  },
  {
   "metadata": {},
   "cell_type": "markdown",
   "source": "##### Clean and prepare data",
   "id": "b8000258f0ba59af"
  },
  {
   "metadata": {
    "ExecuteTime": {
     "end_time": "2025-04-30T23:52:06.749648Z",
     "start_time": "2025-04-30T23:52:06.729556Z"
    }
   },
   "cell_type": "code",
   "source": [
    "# Clean and prepare data\n",
    "df_clean = df.drop( columns=[\n",
    "    'AccountBalancesId', 'AgencyName', 'TreasuryAccountSymbol', 'TreasuryAccountName',\n",
    "    'LastModified', 'SubmissionPeriod'\n",
    "], errors='ignore' )"
   ],
   "id": "b29ebd89a801f822",
   "outputs": [],
   "execution_count": 44
  },
  {
   "metadata": {},
   "cell_type": "markdown",
   "source": "##### Encode categorical variables",
   "id": "cee7111f8994208c"
  },
  {
   "metadata": {
    "ExecuteTime": {
     "end_time": "2025-04-30T23:52:10.093530Z",
     "start_time": "2025-04-30T23:52:09.975015Z"
    }
   },
   "cell_type": "code",
   "source": [
    "# Encode categorical variables\n",
    "for col in df_clean.select_dtypes( include='object' ).columns:\n",
    "    df_clean[ col ] = df_clean[ col ].astype( 'category' ).cat.codes\n",
    "\n",
    "df_clean.dropna( inplace=True )"
   ],
   "id": "d29431f419e96c62",
   "outputs": [],
   "execution_count": 45
  },
  {
   "metadata": {},
   "cell_type": "markdown",
   "source": "##### Create derived Execution Rate and binary group",
   "id": "b43725623f3d5f12"
  },
  {
   "metadata": {
    "ExecuteTime": {
     "end_time": "2025-04-30T23:52:17.296442Z",
     "start_time": "2025-04-30T23:52:17.250916Z"
    }
   },
   "cell_type": "code",
   "source": [
    "# Create derived Execution Rate and binary group\n",
    "df_clean[ 'ExecutionRate' ] = df_clean[ 'Obligations' ] / df_clean[ 'TotalResources' ]\n",
    "df_clean = df_clean.replace( [ np.inf, -np.inf ], np.nan ).dropna( subset=[ 'ExecutionRate' ] )\n",
    "df_clean[ 'HighExecution' ] = ( df_clean[ 'ExecutionRate' ] > df_clean[ 'ExecutionRate' ].median( ) ).astype( int )\n",
    "results = [ ]\n",
    "correlation_vars = [ 'Outlays', 'Obligations', 'UnobligatedBalance', 'Recoveries', 'TotalResources' ]"
   ],
   "id": "95c50b6256eafdc8",
   "outputs": [],
   "execution_count": 46
  },
  {
   "metadata": {},
   "cell_type": "markdown",
   "source": "##### t-tests",
   "id": "19f244334ff75c95"
  },
  {
   "metadata": {
    "ExecuteTime": {
     "end_time": "2025-04-30T23:52:20.940175Z",
     "start_time": "2025-04-30T23:52:20.863587Z"
    }
   },
   "cell_type": "code",
   "source": [
    "# t-tests\n",
    "for col in correlation_vars:\n",
    "    group0 = df_clean[ df_clean[ 'HighExecution' ] == 0 ][ col ]\n",
    "    group1 = df_clean[ df_clean[ 'HighExecution' ] == 1 ][ col ]\n",
    "    t_stat, p_val = stats.ttest_ind( group0, group1, equal_var=False )\n",
    "    results.append(\n",
    "\t{\n",
    "        'Test': f't-test: {col}',\n",
    "        'Statistic': round( t_stat, 4 ),\n",
    "        'p-value': round( p_val, 4 )\n",
    "    } )"
   ],
   "id": "de60a9492fdc0101",
   "outputs": [],
   "execution_count": 47
  },
  {
   "metadata": {},
   "cell_type": "markdown",
   "source": "##### Mann-Whitney U tests",
   "id": "712426634d5250e6"
  },
  {
   "metadata": {
    "ExecuteTime": {
     "end_time": "2025-04-30T23:52:23.783028Z",
     "start_time": "2025-04-30T23:52:23.694606Z"
    }
   },
   "cell_type": "code",
   "source": [
    "# Mann-Whitney U tests\n",
    "for col in correlation_vars:\n",
    "    group0 = df_clean[ df_clean[ 'HighExecution' ] == 0 ][ col ]\n",
    "    group1 = df_clean[ df_clean[ 'HighExecution' ] == 1 ][ col ]\n",
    "    u_stat, u_p = stats.mannwhitneyu( group0, group1, alternative='two-sided' )\n",
    "    results.append(\n",
    "\t{\n",
    "        'Test': f'Mann-Whitney U: {col}',\n",
    "        'Statistic': round( u_stat, 4 ),\n",
    "        'p-value': round( u_p, 4 )\n",
    "    } )"
   ],
   "id": "e42f8e47453b2701",
   "outputs": [],
   "execution_count": 48
  },
  {
   "metadata": {},
   "cell_type": "markdown",
   "source": "##### Chi-square",
   "id": "2c342f5408150622"
  },
  {
   "metadata": {
    "ExecuteTime": {
     "end_time": "2025-04-30T23:52:28.551942Z",
     "start_time": "2025-04-30T23:52:28.518027Z"
    }
   },
   "cell_type": "code",
   "source": [
    "# Chi-square\n",
    "if 'Availability' in df.columns and df[ 'Availability' ].nunique( ) < 50:\n",
    "    contingency_table = pd.crosstab( df_clean[ 'Availability' ], df_clean[ 'HighExecution' ] )\n",
    "    chi2, chi2_p, _, _ = stats.chi2_contingency( contingency_table )\n",
    "    results.append(\n",
    "\t{\n",
    "        'Test': 'Chi-square: Availability vs Execution',\n",
    "        'Statistic': round( chi2, 4 ),\n",
    "        'p-value': round( chi2_p, 4 )\n",
    "    } )"
   ],
   "id": "595f676abe90a541",
   "outputs": [],
   "execution_count": 49
  },
  {
   "metadata": {},
   "cell_type": "markdown",
   "source": "##### Results",
   "id": "3be8671e520b0700"
  },
  {
   "metadata": {
    "ExecuteTime": {
     "end_time": "2025-04-30T23:52:30.774539Z",
     "start_time": "2025-04-30T23:52:30.755647Z"
    }
   },
   "cell_type": "code",
   "source": [
    "# Summary\n",
    "inference_summary = pd.DataFrame( results )\n",
    "inference_summary"
   ],
   "id": "5b061b8a946d274e",
   "outputs": [
    {
     "data": {
      "text/plain": [
       "                                     Test     Statistic  p-value\n",
       "0                         t-test: Outlays -1.215460e+01      0.0\n",
       "1                     t-test: Obligations -1.284900e+01      0.0\n",
       "2              t-test: UnobligatedBalance  4.319400e+00      0.0\n",
       "3                      t-test: Recoveries -5.763600e+00      0.0\n",
       "4                  t-test: TotalResources -1.128620e+01      0.0\n",
       "5                 Mann-Whitney U: Outlays  1.424106e+08      0.0\n",
       "6             Mann-Whitney U: Obligations  5.729083e+07      0.0\n",
       "7      Mann-Whitney U: UnobligatedBalance  3.498312e+08      0.0\n",
       "8              Mann-Whitney U: Recoveries  2.786816e+08      0.0\n",
       "9          Mann-Whitney U: TotalResources  1.835612e+08      0.0\n",
       "10  Chi-square: Availability vs Execution  3.130537e+02      0.0"
      ],
      "text/html": [
       "<div>\n",
       "<style scoped>\n",
       "    .dataframe tbody tr th:only-of-type {\n",
       "        vertical-align: middle;\n",
       "    }\n",
       "\n",
       "    .dataframe tbody tr th {\n",
       "        vertical-align: top;\n",
       "    }\n",
       "\n",
       "    .dataframe thead th {\n",
       "        text-align: right;\n",
       "    }\n",
       "</style>\n",
       "<table border=\"1\" class=\"dataframe\">\n",
       "  <thead>\n",
       "    <tr style=\"text-align: right;\">\n",
       "      <th></th>\n",
       "      <th>Test</th>\n",
       "      <th>Statistic</th>\n",
       "      <th>p-value</th>\n",
       "    </tr>\n",
       "  </thead>\n",
       "  <tbody>\n",
       "    <tr>\n",
       "      <th>0</th>\n",
       "      <td>t-test: Outlays</td>\n",
       "      <td>-1.215460e+01</td>\n",
       "      <td>0.0</td>\n",
       "    </tr>\n",
       "    <tr>\n",
       "      <th>1</th>\n",
       "      <td>t-test: Obligations</td>\n",
       "      <td>-1.284900e+01</td>\n",
       "      <td>0.0</td>\n",
       "    </tr>\n",
       "    <tr>\n",
       "      <th>2</th>\n",
       "      <td>t-test: UnobligatedBalance</td>\n",
       "      <td>4.319400e+00</td>\n",
       "      <td>0.0</td>\n",
       "    </tr>\n",
       "    <tr>\n",
       "      <th>3</th>\n",
       "      <td>t-test: Recoveries</td>\n",
       "      <td>-5.763600e+00</td>\n",
       "      <td>0.0</td>\n",
       "    </tr>\n",
       "    <tr>\n",
       "      <th>4</th>\n",
       "      <td>t-test: TotalResources</td>\n",
       "      <td>-1.128620e+01</td>\n",
       "      <td>0.0</td>\n",
       "    </tr>\n",
       "    <tr>\n",
       "      <th>5</th>\n",
       "      <td>Mann-Whitney U: Outlays</td>\n",
       "      <td>1.424106e+08</td>\n",
       "      <td>0.0</td>\n",
       "    </tr>\n",
       "    <tr>\n",
       "      <th>6</th>\n",
       "      <td>Mann-Whitney U: Obligations</td>\n",
       "      <td>5.729083e+07</td>\n",
       "      <td>0.0</td>\n",
       "    </tr>\n",
       "    <tr>\n",
       "      <th>7</th>\n",
       "      <td>Mann-Whitney U: UnobligatedBalance</td>\n",
       "      <td>3.498312e+08</td>\n",
       "      <td>0.0</td>\n",
       "    </tr>\n",
       "    <tr>\n",
       "      <th>8</th>\n",
       "      <td>Mann-Whitney U: Recoveries</td>\n",
       "      <td>2.786816e+08</td>\n",
       "      <td>0.0</td>\n",
       "    </tr>\n",
       "    <tr>\n",
       "      <th>9</th>\n",
       "      <td>Mann-Whitney U: TotalResources</td>\n",
       "      <td>1.835612e+08</td>\n",
       "      <td>0.0</td>\n",
       "    </tr>\n",
       "    <tr>\n",
       "      <th>10</th>\n",
       "      <td>Chi-square: Availability vs Execution</td>\n",
       "      <td>3.130537e+02</td>\n",
       "      <td>0.0</td>\n",
       "    </tr>\n",
       "  </tbody>\n",
       "</table>\n",
       "</div>"
      ]
     },
     "execution_count": 50,
     "metadata": {},
     "output_type": "execute_result"
    }
   ],
   "execution_count": 50
  },
  {
   "metadata": {},
   "cell_type": "markdown",
   "source": [
    "##### ✅  The results include t-tests and Mann-Whitney U tests for comparing high vs. low execution groups across key financial variables:\n",
    "##### Summary:\n",
    "- The t-tests for Outlays, Obligations, UnobligatedBalance, Recoveries, and TotalResources all remain highly significant (p < 0.001).\n",
    "- This indicates that even with the removed metadata columns, the distinction between high and low execution groups across financial metrics is still statistically robust.\n",
    "\n"
   ],
   "id": "aaf174232ca87f1a"
  },
  {
   "metadata": {},
   "cell_type": "markdown",
   "source": "## Feature engineering",
   "id": "60fcf0f0a1c8ec8c"
  },
  {
   "metadata": {
    "ExecuteTime": {
     "end_time": "2025-04-30T23:53:41.508766Z",
     "start_time": "2025-04-30T23:53:41.474127Z"
    }
   },
   "cell_type": "code",
   "source": [
    "# Feature engineering\n",
    "df = df_clean.copy( )\n",
    "df[ 'ExecutionRate' ] = df[ 'Obligations' ] / df[ 'TotalResources' ]\n",
    "df.replace( [ np.inf, -np.inf ], np.nan, inplace=True )\n",
    "df.dropna( subset=[ 'ExecutionRate' ], inplace=True )\n",
    "df[ 'HighExecution' ] = ( df[ 'ExecutionRate'] > df[ 'ExecutionRate' ].median( ) ).astype( int )"
   ],
   "id": "f0f84a279bef9745",
   "outputs": [],
   "execution_count": 53
  },
  {
   "metadata": {},
   "cell_type": "markdown",
   "source": "##### Define features and targets",
   "id": "8984b1aa706d2de7"
  },
  {
   "metadata": {
    "ExecuteTime": {
     "end_time": "2025-04-30T23:53:47.842884Z",
     "start_time": "2025-04-30T23:53:47.792507Z"
    }
   },
   "cell_type": "code",
   "source": [
    "# Define features and targets\n",
    "features = df.drop( columns=[ 'ExecutionRate', 'HighExecution', 'Outlays' ] )\n",
    "target_reg = df[ 'Outlays' ]\n",
    "target_clf = df[ 'HighExecution' ]\n",
    "features"
   ],
   "id": "63f98c14869b8aa1",
   "outputs": [
    {
     "data": {
      "text/plain": [
       "       AgencyIdentifier  BeginningPeriodOfAvailability  \\\n",
       "0                   435                             35   \n",
       "1                   306                             35   \n",
       "2                   306                             34   \n",
       "3                   306                             34   \n",
       "4                   306                             33   \n",
       "...                 ...                            ...   \n",
       "56982                12                             28   \n",
       "56983                11                             24   \n",
       "56984                91                             27   \n",
       "56985                75                             21   \n",
       "56986                36                             35   \n",
       "\n",
       "       EndingPeriodOfAvailablity  Availability  MainAccountCode  \\\n",
       "0                             44             1             1100   \n",
       "1                             44             1             8298   \n",
       "2                             34             0             2300   \n",
       "3                             33             0             2300   \n",
       "4                             33             0             2300   \n",
       "...                          ...           ...              ...   \n",
       "56982                         28             0             3539   \n",
       "56983                         24             0             1075   \n",
       "56984                         27             0              203   \n",
       "56985                         24             0              352   \n",
       "56986                         44             1             4010   \n",
       "\n",
       "       SubAccountCode  BudgetFunction  BudgetSubFunction  \\\n",
       "0                   0               6                 48   \n",
       "1                   0              14                 56   \n",
       "2                   0              14                 56   \n",
       "3                   0              14                 56   \n",
       "4                   0              14                 56   \n",
       "...               ...             ...                ...   \n",
       "56982               0              10                 26   \n",
       "56983               0              11                 43   \n",
       "56984               0               4                 15   \n",
       "56985               0               9                 34   \n",
       "56986               0              18                 39   \n",
       "\n",
       "       FederalAccountSymbol  FederalAccountName  CarryoverAuthority  \\\n",
       "0                      2134                1822          9375126.93   \n",
       "1                      2082                 445            10000.00   \n",
       "2                      2081                1734                0.00   \n",
       "3                      2081                1734                0.00   \n",
       "4                      2081                1734          1473398.99   \n",
       "...                     ...                 ...                 ...   \n",
       "56982                   185                 186                0.00   \n",
       "56983                    34                1194         20369364.56   \n",
       "56984                  1942                1725         72769058.38   \n",
       "56985                  1609                1514          3611656.08   \n",
       "56986                   993                2091         98211672.91   \n",
       "\n",
       "       CarryoverAdjustments  AnnualAppropriations  BorrowingAuthority  \\\n",
       "0                 391778.13          0.000000e+00                   0   \n",
       "1                      0.00          2.040750e+04                   0   \n",
       "2                      0.00          0.000000e+00                   0   \n",
       "3                      0.00          8.585000e+06                   0   \n",
       "4                    643.36          0.000000e+00                   0   \n",
       "...                     ...                   ...                 ...   \n",
       "56982                  0.00          2.422415e+10                   0   \n",
       "56983            4999963.09          0.000000e+00                   0   \n",
       "56984                  0.00          0.000000e+00                   0   \n",
       "56985              42135.04          0.000000e+00                   0   \n",
       "56986              22019.70          0.000000e+00                   0   \n",
       "\n",
       "       ContractAuthority  OffsettingReceipts   Obligations  Recoveries  \\\n",
       "0                      0                0.00  5.395160e+06   391778.13   \n",
       "1                      0                0.00  7.594410e+03        0.00   \n",
       "2                      0          3335315.06  1.023794e+06        0.00   \n",
       "3                      0            98377.54  8.671171e+06        0.00   \n",
       "4                      0          -205636.56  1.268380e+06      643.36   \n",
       "...                  ...                 ...           ...         ...   \n",
       "56982                  0                0.00  2.206119e+10        0.00   \n",
       "56983                  0                0.00  3.365290e+05  6320448.09   \n",
       "56984                  0                0.00  7.276894e+07        0.00   \n",
       "56985                  0                0.00  2.956034e+04    42135.04   \n",
       "56986                  0          6431804.33  2.542898e+07    22019.70   \n",
       "\n",
       "       UnobligatedBalance  TotalResources  \n",
       "0            4.371745e+06    9.766905e+06  \n",
       "1            2.281309e+04    3.040750e+04  \n",
       "2            2.311521e+06    3.335315e+06  \n",
       "3            1.220688e+04    8.683378e+06  \n",
       "4            2.559000e+01    1.268406e+06  \n",
       "...                   ...             ...  \n",
       "56982        2.162957e+09    2.422415e+10  \n",
       "56983        2.503280e+07    2.536933e+07  \n",
       "56984        1.148900e+02    7.276906e+07  \n",
       "56985        3.624231e+06    3.653791e+06  \n",
       "56986        7.923652e+07    1.046655e+08  \n",
       "\n",
       "[49589 rows x 20 columns]"
      ],
      "text/html": [
       "<div>\n",
       "<style scoped>\n",
       "    .dataframe tbody tr th:only-of-type {\n",
       "        vertical-align: middle;\n",
       "    }\n",
       "\n",
       "    .dataframe tbody tr th {\n",
       "        vertical-align: top;\n",
       "    }\n",
       "\n",
       "    .dataframe thead th {\n",
       "        text-align: right;\n",
       "    }\n",
       "</style>\n",
       "<table border=\"1\" class=\"dataframe\">\n",
       "  <thead>\n",
       "    <tr style=\"text-align: right;\">\n",
       "      <th></th>\n",
       "      <th>AgencyIdentifier</th>\n",
       "      <th>BeginningPeriodOfAvailability</th>\n",
       "      <th>EndingPeriodOfAvailablity</th>\n",
       "      <th>Availability</th>\n",
       "      <th>MainAccountCode</th>\n",
       "      <th>SubAccountCode</th>\n",
       "      <th>BudgetFunction</th>\n",
       "      <th>BudgetSubFunction</th>\n",
       "      <th>FederalAccountSymbol</th>\n",
       "      <th>FederalAccountName</th>\n",
       "      <th>CarryoverAuthority</th>\n",
       "      <th>CarryoverAdjustments</th>\n",
       "      <th>AnnualAppropriations</th>\n",
       "      <th>BorrowingAuthority</th>\n",
       "      <th>ContractAuthority</th>\n",
       "      <th>OffsettingReceipts</th>\n",
       "      <th>Obligations</th>\n",
       "      <th>Recoveries</th>\n",
       "      <th>UnobligatedBalance</th>\n",
       "      <th>TotalResources</th>\n",
       "    </tr>\n",
       "  </thead>\n",
       "  <tbody>\n",
       "    <tr>\n",
       "      <th>0</th>\n",
       "      <td>435</td>\n",
       "      <td>35</td>\n",
       "      <td>44</td>\n",
       "      <td>1</td>\n",
       "      <td>1100</td>\n",
       "      <td>0</td>\n",
       "      <td>6</td>\n",
       "      <td>48</td>\n",
       "      <td>2134</td>\n",
       "      <td>1822</td>\n",
       "      <td>9375126.93</td>\n",
       "      <td>391778.13</td>\n",
       "      <td>0.000000e+00</td>\n",
       "      <td>0</td>\n",
       "      <td>0</td>\n",
       "      <td>0.00</td>\n",
       "      <td>5.395160e+06</td>\n",
       "      <td>391778.13</td>\n",
       "      <td>4.371745e+06</td>\n",
       "      <td>9.766905e+06</td>\n",
       "    </tr>\n",
       "    <tr>\n",
       "      <th>1</th>\n",
       "      <td>306</td>\n",
       "      <td>35</td>\n",
       "      <td>44</td>\n",
       "      <td>1</td>\n",
       "      <td>8298</td>\n",
       "      <td>0</td>\n",
       "      <td>14</td>\n",
       "      <td>56</td>\n",
       "      <td>2082</td>\n",
       "      <td>445</td>\n",
       "      <td>10000.00</td>\n",
       "      <td>0.00</td>\n",
       "      <td>2.040750e+04</td>\n",
       "      <td>0</td>\n",
       "      <td>0</td>\n",
       "      <td>0.00</td>\n",
       "      <td>7.594410e+03</td>\n",
       "      <td>0.00</td>\n",
       "      <td>2.281309e+04</td>\n",
       "      <td>3.040750e+04</td>\n",
       "    </tr>\n",
       "    <tr>\n",
       "      <th>2</th>\n",
       "      <td>306</td>\n",
       "      <td>34</td>\n",
       "      <td>34</td>\n",
       "      <td>0</td>\n",
       "      <td>2300</td>\n",
       "      <td>0</td>\n",
       "      <td>14</td>\n",
       "      <td>56</td>\n",
       "      <td>2081</td>\n",
       "      <td>1734</td>\n",
       "      <td>0.00</td>\n",
       "      <td>0.00</td>\n",
       "      <td>0.000000e+00</td>\n",
       "      <td>0</td>\n",
       "      <td>0</td>\n",
       "      <td>3335315.06</td>\n",
       "      <td>1.023794e+06</td>\n",
       "      <td>0.00</td>\n",
       "      <td>2.311521e+06</td>\n",
       "      <td>3.335315e+06</td>\n",
       "    </tr>\n",
       "    <tr>\n",
       "      <th>3</th>\n",
       "      <td>306</td>\n",
       "      <td>34</td>\n",
       "      <td>33</td>\n",
       "      <td>0</td>\n",
       "      <td>2300</td>\n",
       "      <td>0</td>\n",
       "      <td>14</td>\n",
       "      <td>56</td>\n",
       "      <td>2081</td>\n",
       "      <td>1734</td>\n",
       "      <td>0.00</td>\n",
       "      <td>0.00</td>\n",
       "      <td>8.585000e+06</td>\n",
       "      <td>0</td>\n",
       "      <td>0</td>\n",
       "      <td>98377.54</td>\n",
       "      <td>8.671171e+06</td>\n",
       "      <td>0.00</td>\n",
       "      <td>1.220688e+04</td>\n",
       "      <td>8.683378e+06</td>\n",
       "    </tr>\n",
       "    <tr>\n",
       "      <th>4</th>\n",
       "      <td>306</td>\n",
       "      <td>33</td>\n",
       "      <td>33</td>\n",
       "      <td>0</td>\n",
       "      <td>2300</td>\n",
       "      <td>0</td>\n",
       "      <td>14</td>\n",
       "      <td>56</td>\n",
       "      <td>2081</td>\n",
       "      <td>1734</td>\n",
       "      <td>1473398.99</td>\n",
       "      <td>643.36</td>\n",
       "      <td>0.000000e+00</td>\n",
       "      <td>0</td>\n",
       "      <td>0</td>\n",
       "      <td>-205636.56</td>\n",
       "      <td>1.268380e+06</td>\n",
       "      <td>643.36</td>\n",
       "      <td>2.559000e+01</td>\n",
       "      <td>1.268406e+06</td>\n",
       "    </tr>\n",
       "    <tr>\n",
       "      <th>...</th>\n",
       "      <td>...</td>\n",
       "      <td>...</td>\n",
       "      <td>...</td>\n",
       "      <td>...</td>\n",
       "      <td>...</td>\n",
       "      <td>...</td>\n",
       "      <td>...</td>\n",
       "      <td>...</td>\n",
       "      <td>...</td>\n",
       "      <td>...</td>\n",
       "      <td>...</td>\n",
       "      <td>...</td>\n",
       "      <td>...</td>\n",
       "      <td>...</td>\n",
       "      <td>...</td>\n",
       "      <td>...</td>\n",
       "      <td>...</td>\n",
       "      <td>...</td>\n",
       "      <td>...</td>\n",
       "      <td>...</td>\n",
       "    </tr>\n",
       "    <tr>\n",
       "      <th>56982</th>\n",
       "      <td>12</td>\n",
       "      <td>28</td>\n",
       "      <td>28</td>\n",
       "      <td>0</td>\n",
       "      <td>3539</td>\n",
       "      <td>0</td>\n",
       "      <td>10</td>\n",
       "      <td>26</td>\n",
       "      <td>185</td>\n",
       "      <td>186</td>\n",
       "      <td>0.00</td>\n",
       "      <td>0.00</td>\n",
       "      <td>2.422415e+10</td>\n",
       "      <td>0</td>\n",
       "      <td>0</td>\n",
       "      <td>0.00</td>\n",
       "      <td>2.206119e+10</td>\n",
       "      <td>0.00</td>\n",
       "      <td>2.162957e+09</td>\n",
       "      <td>2.422415e+10</td>\n",
       "    </tr>\n",
       "    <tr>\n",
       "      <th>56983</th>\n",
       "      <td>11</td>\n",
       "      <td>24</td>\n",
       "      <td>24</td>\n",
       "      <td>0</td>\n",
       "      <td>1075</td>\n",
       "      <td>0</td>\n",
       "      <td>11</td>\n",
       "      <td>43</td>\n",
       "      <td>34</td>\n",
       "      <td>1194</td>\n",
       "      <td>20369364.56</td>\n",
       "      <td>4999963.09</td>\n",
       "      <td>0.000000e+00</td>\n",
       "      <td>0</td>\n",
       "      <td>0</td>\n",
       "      <td>0.00</td>\n",
       "      <td>3.365290e+05</td>\n",
       "      <td>6320448.09</td>\n",
       "      <td>2.503280e+07</td>\n",
       "      <td>2.536933e+07</td>\n",
       "    </tr>\n",
       "    <tr>\n",
       "      <th>56984</th>\n",
       "      <td>91</td>\n",
       "      <td>27</td>\n",
       "      <td>27</td>\n",
       "      <td>0</td>\n",
       "      <td>203</td>\n",
       "      <td>0</td>\n",
       "      <td>4</td>\n",
       "      <td>15</td>\n",
       "      <td>1942</td>\n",
       "      <td>1725</td>\n",
       "      <td>72769058.38</td>\n",
       "      <td>0.00</td>\n",
       "      <td>0.000000e+00</td>\n",
       "      <td>0</td>\n",
       "      <td>0</td>\n",
       "      <td>0.00</td>\n",
       "      <td>7.276894e+07</td>\n",
       "      <td>0.00</td>\n",
       "      <td>1.148900e+02</td>\n",
       "      <td>7.276906e+07</td>\n",
       "    </tr>\n",
       "    <tr>\n",
       "      <th>56985</th>\n",
       "      <td>75</td>\n",
       "      <td>21</td>\n",
       "      <td>24</td>\n",
       "      <td>0</td>\n",
       "      <td>352</td>\n",
       "      <td>0</td>\n",
       "      <td>9</td>\n",
       "      <td>34</td>\n",
       "      <td>1609</td>\n",
       "      <td>1514</td>\n",
       "      <td>3611656.08</td>\n",
       "      <td>42135.04</td>\n",
       "      <td>0.000000e+00</td>\n",
       "      <td>0</td>\n",
       "      <td>0</td>\n",
       "      <td>0.00</td>\n",
       "      <td>2.956034e+04</td>\n",
       "      <td>42135.04</td>\n",
       "      <td>3.624231e+06</td>\n",
       "      <td>3.653791e+06</td>\n",
       "    </tr>\n",
       "    <tr>\n",
       "      <th>56986</th>\n",
       "      <td>36</td>\n",
       "      <td>35</td>\n",
       "      <td>44</td>\n",
       "      <td>1</td>\n",
       "      <td>4010</td>\n",
       "      <td>0</td>\n",
       "      <td>18</td>\n",
       "      <td>39</td>\n",
       "      <td>993</td>\n",
       "      <td>2091</td>\n",
       "      <td>98211672.91</td>\n",
       "      <td>22019.70</td>\n",
       "      <td>0.000000e+00</td>\n",
       "      <td>0</td>\n",
       "      <td>0</td>\n",
       "      <td>6431804.33</td>\n",
       "      <td>2.542898e+07</td>\n",
       "      <td>22019.70</td>\n",
       "      <td>7.923652e+07</td>\n",
       "      <td>1.046655e+08</td>\n",
       "    </tr>\n",
       "  </tbody>\n",
       "</table>\n",
       "<p>49589 rows × 20 columns</p>\n",
       "</div>"
      ]
     },
     "execution_count": 54,
     "metadata": {},
     "output_type": "execute_result"
    }
   ],
   "execution_count": 54
  },
  {
   "metadata": {},
   "cell_type": "markdown",
   "source": "##### Standardize features",
   "id": "8d574eb4692bc259"
  },
  {
   "metadata": {
    "ExecuteTime": {
     "end_time": "2025-04-30T23:54:03.819269Z",
     "start_time": "2025-04-30T23:54:03.769912Z"
    }
   },
   "cell_type": "code",
   "source": [
    "# Standardize features\n",
    "scaler = StandardScaler( )\n",
    "X_scaled = scaler.fit_transform( features )"
   ],
   "id": "54d96a8aa3071ef6",
   "outputs": [],
   "execution_count": 55
  },
  {
   "metadata": {},
   "cell_type": "markdown",
   "source": "##### Split data",
   "id": "64f874cff6d07868"
  },
  {
   "metadata": {
    "ExecuteTime": {
     "end_time": "2025-04-30T23:54:06.535456Z",
     "start_time": "2025-04-30T23:54:06.469226Z"
    }
   },
   "cell_type": "code",
   "source": [
    "# Split data\n",
    "X_train_reg, X_test_reg, y_train_reg, y_test_reg = train_test_split( X_scaled, target_reg, test_size=0.2, random_state=42 )\n",
    "X_train_clf, X_test_clf, y_train_clf, y_test_clf = train_test_split( X_scaled, target_clf, test_size=0.2, random_state=42 )"
   ],
   "id": "ebfcc2f2896804ec",
   "outputs": [],
   "execution_count": 56
  },
  {
   "metadata": {},
   "cell_type": "markdown",
   "source": "##### Train Ridge Regressor",
   "id": "58333e193e2ada16"
  },
  {
   "metadata": {
    "ExecuteTime": {
     "end_time": "2025-04-30T23:54:09.113414Z",
     "start_time": "2025-04-30T23:54:09.062441Z"
    }
   },
   "cell_type": "code",
   "source": [
    "# Train Ridge Regressor\n",
    "ridge_reg = Ridge( alpha=1.0 )\n",
    "ridge_reg.fit( X_train_reg, y_train_reg )\n",
    "y_pred_reg = ridge_reg.predict( X_test_reg )"
   ],
   "id": "4c2d0401fe3f00cb",
   "outputs": [],
   "execution_count": 57
  },
  {
   "metadata": {},
   "cell_type": "markdown",
   "source": "##### Train Ridge Classifier",
   "id": "fa1e0d41e8ba032a"
  },
  {
   "metadata": {},
   "cell_type": "markdown",
   "source": [
    "##### 🔢 Ridge Regressor (Target: Outlays)\n",
    "- R² Score: 0.9952 (Very high, indicating excellent fit)\n",
    "- Mean Squared Error (MSE): 1.44e+18"
   ],
   "id": "311f8a31ca03aa29"
  },
  {
   "metadata": {
    "ExecuteTime": {
     "end_time": "2025-04-30T23:54:11.669444Z",
     "start_time": "2025-04-30T23:54:11.622204Z"
    }
   },
   "cell_type": "code",
   "source": [
    "# Train Ridge Classifier\n",
    "ridge_clf = RidgeClassifier( alpha=1.0 )\n",
    "ridge_clf.fit( X_train_clf, y_train_clf )\n",
    "y_pred_clf = ridge_clf.predict( X_test_clf )"
   ],
   "id": "f095b26dc35e085f",
   "outputs": [],
   "execution_count": 58
  },
  {
   "metadata": {},
   "cell_type": "markdown",
   "source": "##### Metrics for regression",
   "id": "bf523a25bebaa97a"
  },
  {
   "metadata": {
    "ExecuteTime": {
     "end_time": "2025-05-01T00:20:00.857769Z",
     "start_time": "2025-05-01T00:20:00.845066Z"
    }
   },
   "cell_type": "code",
   "source": [
    "# Metrics for regression\n",
    "reg_r2 = r2_score( y_test_reg, y_pred_reg )\n",
    "reg_mse = mean_squared_error( y_test_reg, y_pred_reg )"
   ],
   "id": "23348d8668bc761f",
   "outputs": [],
   "execution_count": 79
  },
  {
   "metadata": {},
   "cell_type": "markdown",
   "source": "##### Metrics for classification",
   "id": "d32411d4d90ba2cd"
  },
  {
   "metadata": {
    "ExecuteTime": {
     "end_time": "2025-05-01T00:19:59.570790Z",
     "start_time": "2025-05-01T00:19:59.537372Z"
    }
   },
   "cell_type": "code",
   "source": [
    "# Metrics for classification\n",
    "clf_report = classification_report( y_test_clf, y_pred_clf, output_dict=True )\n",
    "clf_report_df = pd.DataFrame( clf_report ).transpose( ).round( 4 )"
   ],
   "id": "4dbc2950b4c932fe",
   "outputs": [],
   "execution_count": 78
  },
  {
   "metadata": {
    "ExecuteTime": {
     "end_time": "2025-04-30T23:54:19.369146Z",
     "start_time": "2025-04-30T23:54:19.361513Z"
    }
   },
   "cell_type": "code",
   "source": [
    "# Display results\n",
    "regression_metrics = pd.DataFrame( [\n",
    "{\n",
    "    'Model': 'Ridge Regressor',\n",
    "    'R² Score': round( reg_r2, 4 ),\n",
    "    'MSE': round( reg_mse, 2 )\n",
    "} ] )"
   ],
   "id": "69b7fcfa63f48576",
   "outputs": [],
   "execution_count": 61
  },
  {
   "metadata": {
    "ExecuteTime": {
     "end_time": "2025-04-30T23:54:48.732698Z",
     "start_time": "2025-04-30T23:54:48.713973Z"
    }
   },
   "cell_type": "code",
   "source": [
    "regression_metrics.round( 2 )\n",
    "regression_metrics"
   ],
   "id": "a318de29cfaa50ad",
   "outputs": [
    {
     "data": {
      "text/plain": [
       "             Model  R² Score           MSE\n",
       "0  Ridge Regressor    0.9952  1.442171e+18"
      ],
      "text/html": [
       "<div>\n",
       "<style scoped>\n",
       "    .dataframe tbody tr th:only-of-type {\n",
       "        vertical-align: middle;\n",
       "    }\n",
       "\n",
       "    .dataframe tbody tr th {\n",
       "        vertical-align: top;\n",
       "    }\n",
       "\n",
       "    .dataframe thead th {\n",
       "        text-align: right;\n",
       "    }\n",
       "</style>\n",
       "<table border=\"1\" class=\"dataframe\">\n",
       "  <thead>\n",
       "    <tr style=\"text-align: right;\">\n",
       "      <th></th>\n",
       "      <th>Model</th>\n",
       "      <th>R² Score</th>\n",
       "      <th>MSE</th>\n",
       "    </tr>\n",
       "  </thead>\n",
       "  <tbody>\n",
       "    <tr>\n",
       "      <th>0</th>\n",
       "      <td>Ridge Regressor</td>\n",
       "      <td>0.9952</td>\n",
       "      <td>1.442171e+18</td>\n",
       "    </tr>\n",
       "  </tbody>\n",
       "</table>\n",
       "</div>"
      ]
     },
     "execution_count": 64,
     "metadata": {},
     "output_type": "execute_result"
    }
   ],
   "execution_count": 64
  },
  {
   "metadata": {},
   "cell_type": "code",
   "outputs": [],
   "execution_count": null,
   "source": "",
   "id": "842b14e452bdcd"
  },
  {
   "metadata": {},
   "cell_type": "markdown",
   "source": [
    "___\n",
    "\n",
    "## 🔍 Confusion Matrix\n",
    "- Shows counts of true positives, true negatives, false positives, and false negatives.\n",
    "\n",
    "##### ✅ Uses:\n",
    "- See whether the model favors one class\n",
    "- Quickly inspect types of errors (e.g., false negatives)\n",
    "\n",
    "##### A breakdown of prediction outcomes:\n",
    "- True Positives (TP): Accounts correctly identified as High Execution\n",
    "- True Negatives (TN): Accounts correctly identified as Low Execution\n",
    "- False Positives (FP): Accounts incorrectly flagged as High Execution\n",
    "- False Negatives (FN): Accounts that were High Execution but missed\n",
    "\n",
    "##### 📌 Inference:\n",
    "- If FN is high, the model is conservative — it misses aggressive spenders.\n",
    "- If FP is high, it overestimates execution — risky if used for audit triggers.\n",
    "- Ideally, balance between precision (few FPs) and recall (few FNs).\n",
    "\n",
    "##### 🧠 Budget Insight:\n",
    "- This matrix helps assess whether the classifier favors identifying efficient accounts (e.g., those obligating and spending at expected rates)\n",
    "- Or it is biased toward status quo patterns (e.g., always predicting low execution)."
   ],
   "id": "b9fbd6c07a184a10"
  },
  {
   "metadata": {
    "ExecuteTime": {
     "end_time": "2025-05-01T00:24:44.418106Z",
     "start_time": "2025-05-01T00:24:44.175557Z"
    }
   },
   "cell_type": "code",
   "source": [
    "from sklearn.metrics import confusion_matrix\n",
    "import seaborn as sns\n",
    "import matplotlib.pyplot as plt\n",
    "\n",
    "cm = confusion_matrix(y_test_clf, y_pred_clf)\n",
    "plt.figure( figsize=( 9, 6 ) )\n",
    "sns.heatmap(cm, annot=True, fmt='d', cmap='Greens', cbar=False,\n",
    "            xticklabels=['Pred 0', 'Pred 1'], yticklabels=['Actual 0', 'Actual 1'])\n",
    "plt.title(\"Confusion Matrix\")\n",
    "plt.xlabel(\"Predicted\")\n",
    "plt.ylabel(\"Actual\")\n",
    "plt.tight_layout()\n",
    "plt.show()\n"
   ],
   "id": "d0b0715898eb1f49",
   "outputs": [
    {
     "data": {
      "text/plain": [
       "<Figure size 900x600 with 1 Axes>"
      ],
      "image/png": "[encoded data removed]"
     },
     "metadata": {},
     "output_type": "display_data"
    }
   ],
   "execution_count": 83
  },
  {
   "metadata": {},
   "cell_type": "markdown",
   "source": [
    "___\n",
    "\n",
    "## 📈 ROC Curve (Receiver Operating Characteristic)\n",
    "- Plots True Positive Rate (Recall) vs. False Positive Rate across thresholds.\n",
    "\n",
    "##### ✅ Use:\n",
    "- Evaluate overall performance across thresholds\n",
    "- Compute AUC (Area Under the Curve)\n",
    "\n",
    "##### ✅ Results:\n",
    "- TPR (Recall) vs. FPR across all thresholds\n",
    "- AUC (Area Under Curve) quantifies overall discriminative ability\n",
    "\n",
    "##### 📌 Inference:\n",
    "- AUC close to 1.0 → strong classifier\n",
    "- AUC around 0.5 → random guess\n",
    "\n",
    "##### 🧠 Budget Impact:\n",
    "- High AUC implies that the financial features ( Obligations, TotalResources, Recoveries, etc.) are very predictive of execution behavior.\n",
    "- Especially useful when triaging accounts for oversight, reviews, or funding shifts."
   ],
   "id": "58a78b57be61e5c1"
  },
  {
   "metadata": {
    "ExecuteTime": {
     "end_time": "2025-05-01T00:27:08.466044Z",
     "start_time": "2025-05-01T00:27:07.969021Z"
    }
   },
   "cell_type": "code",
   "source": [
    "from sklearn.metrics import roc_curve, auc\n",
    "\n",
    "y_score = ridge_clf.decision_function(X_test_clf)\n",
    "fpr, tpr, _ = roc_curve(y_test_clf, y_score)\n",
    "roc_auc = auc(fpr, tpr)\n",
    "\n",
    "plt.figure( figsize=( 9, 6 ) )\n",
    "plt.plot(fpr, tpr, color='blue', lw=2, label=f\"AUC = {roc_auc:.2f}\")\n",
    "plt.plot([0, 1], [0, 1], 'k--', lw=1)\n",
    "plt.xlabel(\"False Positive Rate\")\n",
    "plt.ylabel(\"True Positive Rate\")\n",
    "plt.title(\"ROC Curve\")\n",
    "plt.legend(loc=\"lower right\")\n",
    "plt.tight_layout()\n",
    "plt.show()\n"
   ],
   "id": "558286713da1ae11",
   "outputs": [
    {
     "data": {
      "text/plain": [
       "<Figure size 900x600 with 1 Axes>"
      ],
      "image/png": "[encoded data removed]"
     },
     "metadata": {},
     "output_type": "display_data"
    }
   ],
   "execution_count": 84
  },
  {
   "metadata": {},
   "cell_type": "markdown",
   "source": [
    "___\n",
    "\n",
    "## 🔄  Precision-Recall Curve\n",
    "- Plots Precision vs. Recall — especially useful for imbalanced classes.\n",
    "\n",
    "##### ✅ Use:\n",
    "- Understand how precision and recall trade off\n",
    "- Choose optimal threshold\n",
    "\n",
    "##### ✅ Results:\n",
    "- Trade-off between Precision (purity of High Execution predictions) and Recall (completeness of High Execution predictions)\n",
    "\n",
    "##### 📌 Inference:\n",
    "- When recall is high but precision is low → the model finds most efficient accounts, but also mislabels many inefficients.\n",
    "- A \"bump\" in the curve can suggest score thresholds that yield better balance.\n",
    "\n",
    "##### 🧠 Budget Impact:\n",
    "- If precision drops sharply after a threshold, agencies may want to set alert thresholds at higher confidence levels to reduce false flags."
   ],
   "id": "222a772744761b2f"
  },
  {
   "metadata": {
    "ExecuteTime": {
     "end_time": "2025-05-01T00:28:09.146411Z",
     "start_time": "2025-05-01T00:28:08.653588Z"
    }
   },
   "cell_type": "code",
   "source": [
    "from sklearn.metrics import precision_recall_curve, average_precision_score\n",
    "\n",
    "precision, recall, _ = precision_recall_curve(y_test_clf, y_score)\n",
    "avg_precision = average_precision_score(y_test_clf, y_score)\n",
    "\n",
    "plt.figure( figsize=( 9, 6 ) )\n",
    "plt.plot(recall, precision, color='green', lw=2, label=f\"AP = {avg_precision:.2f}\")\n",
    "plt.xlabel('Recall')\n",
    "plt.ylabel('Precision')\n",
    "plt.title('Precision-Recall Curve')\n",
    "plt.legend( )\n",
    "plt.tight_layout( )\n",
    "plt.show( )\n"
   ],
   "id": "9b528dc8675b9ca0",
   "outputs": [
    {
     "data": {
      "text/plain": [
       "<Figure size 900x600 with 1 Axes>"
      ],
      "image/png": "[encoded data removed]"
     },
     "metadata": {},
     "output_type": "display_data"
    }
   ],
   "execution_count": 85
  },
  {
   "metadata": {},
   "cell_type": "markdown",
   "source": [
    "___\n",
    "\n",
    "## 📊 Classification Report Heatmap\n",
    "- Displays Precision, Recall, F1-score, and Support as a heatmap.\n",
    "\n",
    "##### ✅ Use:\n",
    "- Visually compare performance across classes\n",
    "\n",
    "##### ✅ Results:\n",
    "- Tabular + visual view of precision, recall, and F1-score for each class\n",
    "- Highlights class imbalance issues (e.g., high execution accounts may be rare)\n",
    "\n",
    "##### 📌 Inference:\n",
    "- High precision and recall for both classes → strong balanced model\n",
    "- Low recall for Class 1 (High Execution) → model is too conservative\n",
    "\n",
    "##### 🧠 Budget Impact:\n",
    "- Can help uncover whether the classifier is treating large, high-performing accounts uniformly.\n",
    "- Can help reveal if high-execution accounts are being consistently under-identified."
   ],
   "id": "2f10681301ecd82c"
  },
  {
   "metadata": {
    "ExecuteTime": {
     "end_time": "2025-05-01T00:30:43.262418Z",
     "start_time": "2025-05-01T00:30:42.719184Z"
    }
   },
   "cell_type": "code",
   "source": [
    "import pandas as pd\n",
    "from sklearn.metrics import classification_report\n",
    "\n",
    "report = classification_report(y_test_clf, y_pred_clf, output_dict=True)\n",
    "report_df = pd.DataFrame(report).transpose().iloc[:-1, :-1]\n",
    "\n",
    "plt.figure( figsize=( 9, 6 ) )\n",
    "sns.heatmap(report_df, annot=True, fmt=\".2f\", cmap=\"YlGnBu\")\n",
    "plt.title(\"Classification Report\")\n",
    "plt.tight_layout()\n",
    "plt.show()\n"
   ],
   "id": "9b185df3ba76a4d0",
   "outputs": [
    {
     "data": {
      "text/plain": [
       "<Figure size 900x600 with 2 Axes>"
      ],
      "image/png": "[encoded data removed]"
     },
     "metadata": {},
     "output_type": "display_data"
    }
   ],
   "execution_count": 86
  },
  {
   "metadata": {},
   "cell_type": "markdown",
   "source": [
    "____\n",
    "\n",
    "## 📚 Learning Curve\n",
    "- Plots model performance vs. training set size.\n",
    "\n",
    "##### ✅ Use:\n",
    "- Diagnose underfitting/overfitting\n",
    "- Understand model generalization\n",
    "\n",
    "##### ✅ Results:\n",
    "- Model accuracy vs. training set size\n",
    "- Helps diagnose bias vs. variance\n",
    "\n",
    "##### 📌 Inference:\n",
    "- If training and validation scores converge at low accuracy → underfitting\n",
    "- If wide gap → overfitting\n",
    "- Plateau at high accuracy → enough data for generalization\n",
    "\n",
    "##### 🧠 Budget Impact:\n",
    "- Confirms whether current budget dataset size (e.g., number of accounts or agencies) is adequate to model execution behavior.\n",
    "- Can reveal if more fiscal years, program types, or fund categories are needed."
   ],
   "id": "13d5323c34a0c599"
  },
  {
   "metadata": {
    "ExecuteTime": {
     "end_time": "2025-05-01T00:12:20.320482Z",
     "start_time": "2025-05-01T00:12:19.110901Z"
    }
   },
   "cell_type": "code",
   "source": [
    "from sklearn.model_selection import learning_curve\n",
    "import numpy as np\n",
    "\n",
    "train_sizes, train_scores, test_scores = learning_curve(\n",
    "    ridge_clf, X_scaled, target_clf, cv=5, scoring='accuracy'\n",
    ")\n",
    "\n",
    "train_scores_mean = np.mean(train_scores, axis=1)\n",
    "test_scores_mean = np.mean(test_scores, axis=1)\n",
    "\n",
    "plt.figure( figsize=( 9, 6 ) )\n",
    "plt.plot(train_sizes, train_scores_mean, label=\"Training Score\", marker='o')\n",
    "plt.plot(train_sizes, test_scores_mean, label=\"Cross-Validation Score\", marker='s')\n",
    "plt.title(\"Learning Curve\")\n",
    "plt.xlabel(\"Training Set Size\")\n",
    "plt.ylabel(\"Accuracy\")\n",
    "plt.legend( )\n",
    "plt.grid( True )\n",
    "plt.tight_layout( )\n",
    "plt.show( )"
   ],
   "id": "827be466d59b8abe",
   "outputs": [
    {
     "data": {
      "text/plain": [
       "<Figure size 900x600 with 1 Axes>"
      ],
      "image/png": "[encoded data removed]"
     },
     "metadata": {},
     "output_type": "display_data"
    }
   ],
   "execution_count": 73
  },
  {
   "metadata": {},
   "cell_type": "markdown",
   "source": [
    "___\n",
    "\n",
    "## 🔁 Feature Importance (using Coefficients)\n",
    "- Although Ridge Classifier doesn't have .feature_importances_, you can still inspect the model coefficients."
   ],
   "id": "dafac90dbb5c6811"
  },
  {
   "metadata": {
    "ExecuteTime": {
     "end_time": "2025-05-01T00:12:25.345317Z",
     "start_time": "2025-05-01T00:12:24.737181Z"
    }
   },
   "cell_type": "code",
   "source": [
    "coef_df = pd.DataFrame({\n",
    "    'Feature': df.drop( columns=[ 'ExecutionRate', 'HighExecution', 'Outlays' ] ).columns,\n",
    "    'Coefficient': ridge_clf.coef_[ 0 ]\n",
    "}).sort_values( 'Coefficient', key=abs, ascending=False )\n",
    "\n",
    "plt.figure( figsize=( 9, 6 ) )\n",
    "sns.barplot( data=coef_df.head( 10 ), x='Coefficient', y='Feature', palette='coolwarm' )\n",
    "plt.title( 'Top 10 Influential Features (Ridge Classifier)' )\n",
    "plt.tight_layout( )\n",
    "plt.show( )\n"
   ],
   "id": "55c2300009744b99",
   "outputs": [
    {
     "data": {
      "text/plain": [
       "<Figure size 900x600 with 1 Axes>"
      ],
      "image/png": "[encoded data removed]"
     },
     "metadata": {},
     "output_type": "display_data"
    }
   ],
   "execution_count": 74
  },
  {
   "metadata": {},
   "cell_type": "markdown",
   "source": "",
   "id": "ae8e5680728553d9"
  },
  {
   "metadata": {},
   "cell_type": "code",
   "outputs": [],
   "execution_count": null,
   "source": "",
   "id": "93eebf6837f3381a"
  },
  {
   "metadata": {},
   "cell_type": "markdown",
   "source": "",
   "id": "857a985be1f0db00"
  },
  {
   "metadata": {},
   "cell_type": "code",
   "outputs": [],
   "execution_count": null,
   "source": "",
   "id": "cb207f6bf1d4d6e2"
  },
  {
   "metadata": {},
   "cell_type": "markdown",
   "source": "",
   "id": "540953c94a1dda0a"
  },
  {
   "metadata": {},
   "cell_type": "code",
   "outputs": [],
   "execution_count": null,
   "source": "",
   "id": "db9cb8972ed42956"
  },
  {
   "metadata": {},
   "cell_type": "markdown",
   "source": "",
   "id": "12e5ba36a0c234e5"
  },
  {
   "metadata": {},
   "cell_type": "code",
   "outputs": [],
   "execution_count": null,
   "source": "",
   "id": "93beaf01b988314f"
  },
  {
   "metadata": {},
   "cell_type": "markdown",
   "source": "",
   "id": "4573fd55df662756"
  },
  {
   "metadata": {},
   "cell_type": "code",
   "outputs": [],
   "execution_count": null,
   "source": "",
   "id": "b82e3912673611e9"
  },
  {
   "metadata": {},
   "cell_type": "markdown",
   "source": "",
   "id": "af1a5589c16ec537"
  },
  {
   "metadata": {},
   "cell_type": "code",
   "outputs": [],
   "execution_count": null,
   "source": "",
   "id": "a0f2d630adc4963e"
  },
  {
   "metadata": {},
   "cell_type": "markdown",
   "source": "",
   "id": "828a9208e558c4a9"
  },
  {
   "metadata": {},
   "cell_type": "code",
   "outputs": [],
   "execution_count": null,
   "source": "",
   "id": "3c0235f521d7302c"
  },
  {
   "metadata": {},
   "cell_type": "markdown",
   "source": "",
   "id": "3f20431bcb9dda15"
  },
  {
   "metadata": {},
   "cell_type": "code",
   "outputs": [],
   "execution_count": null,
   "source": "",
   "id": "c128660d6c56aaba"
  },
  {
   "metadata": {},
   "cell_type": "markdown",
   "source": "",
   "id": "6cb357fe67116a54"
  },
  {
   "metadata": {},
   "cell_type": "code",
   "outputs": [],
   "execution_count": null,
   "source": "",
   "id": "70cd74396be52d80"
  }
 ],
 "metadata": {
  "kernelspec": {
   "display_name": "Python 3",
   "language": "python",
   "name": "python3"
  },
  "language_info": {
   "codemirror_mode": {
    "name": "ipython",
    "version": 2
   },
   "file_extension": ".py",
   "mimetype": "text/x-python",
   "name": "python",
   "nbconvert_exporter": "python",
   "pygments_lexer": "ipython2",
   "version": "2.7.6"
  }
 },
 "nbformat": 4,
 "nbformat_minor": 5
}
